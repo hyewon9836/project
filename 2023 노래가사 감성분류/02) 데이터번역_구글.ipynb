{
 "cells": [
  {
   "cell_type": "code",
   "execution_count": 6,
   "metadata": {},
   "outputs": [],
   "source": [
    "import pandas as pd\n",
    "import numpy as np\n",
    "import re\n",
    "import seaborn as sns\n",
    "import os\n",
    "import sys\n",
    "import urllib.request\n",
    "import requests\n",
    "import time\n",
    "import nltk\n",
    "\n",
    "import googletrans\n",
    "from sklearn.model_selection import train_test_split"
   ]
  },
  {
   "attachments": {},
   "cell_type": "markdown",
   "metadata": {},
   "source": [
    "## 데이터 불러오기"
   ]
  },
  {
   "cell_type": "code",
   "execution_count": 7,
   "metadata": {},
   "outputs": [
    {
     "data": {
      "text/html": [
       "<div>\n",
       "<style scoped>\n",
       "    .dataframe tbody tr th:only-of-type {\n",
       "        vertical-align: middle;\n",
       "    }\n",
       "\n",
       "    .dataframe tbody tr th {\n",
       "        vertical-align: top;\n",
       "    }\n",
       "\n",
       "    .dataframe thead th {\n",
       "        text-align: right;\n",
       "    }\n",
       "</style>\n",
       "<table border=\"1\" class=\"dataframe\">\n",
       "  <thead>\n",
       "    <tr style=\"text-align: right;\">\n",
       "      <th></th>\n",
       "      <th>Lyrics</th>\n",
       "      <th>label</th>\n",
       "    </tr>\n",
       "  </thead>\n",
       "  <tbody>\n",
       "    <tr>\n",
       "      <th>0</th>\n",
       "      <td>아침에 일어나 너에게 짧은 인사를 보낸다 아무리 멀리 떨어져 있어도 나는 널 생각하...</td>\n",
       "      <td>0</td>\n",
       "    </tr>\n",
       "    <tr>\n",
       "      <th>1</th>\n",
       "      <td>라라랄라 라라랄라 워어 워어  너가 맛있었다고 했던  살구빛 샐러드  맛있어서 또 ...</td>\n",
       "      <td>0</td>\n",
       "    </tr>\n",
       "    <tr>\n",
       "      <th>2</th>\n",
       "      <td>자꾸 마주치는 네 눈빛에 Baby baby왠지 어색해 대체 왜 이래고개를 숙여봐도너...</td>\n",
       "      <td>0</td>\n",
       "    </tr>\n",
       "    <tr>\n",
       "      <th>3</th>\n",
       "      <td>어깨동무까진 괜찮아그치만 손 잡는 건 조금 위험해잘 자란 메세진 괜찮아그래도 자냐는...</td>\n",
       "      <td>0</td>\n",
       "    </tr>\n",
       "    <tr>\n",
       "      <th>4</th>\n",
       "      <td>햇살이 가득그댈 향한 가벼운 발걸음콧노래 부르며쇼윈도에 비친내 모습을 한번 점검해시...</td>\n",
       "      <td>0</td>\n",
       "    </tr>\n",
       "    <tr>\n",
       "      <th>...</th>\n",
       "      <td>...</td>\n",
       "      <td>...</td>\n",
       "    </tr>\n",
       "    <tr>\n",
       "      <th>741</th>\n",
       "      <td>\\r\\n\\t\\t\\t\\t\\t\\t\\t반쯤 미쳐가는 나망가져 나의 삶넌 내게서 나를 지워...</td>\n",
       "      <td>3</td>\n",
       "    </tr>\n",
       "    <tr>\n",
       "      <th>742</th>\n",
       "      <td>\\r\\n\\t\\t\\t\\t\\t\\t\\t무궁화 꽃이 피었습니다우리 빼고 모두 다 멈춰지담이...</td>\n",
       "      <td>3</td>\n",
       "    </tr>\n",
       "    <tr>\n",
       "      <th>743</th>\n",
       "      <td>\\r\\n\\t\\t\\t\\t\\t\\t\\t아예 아예 아예 아예 아예 아예 아예 아예 아예 아...</td>\n",
       "      <td>3</td>\n",
       "    </tr>\n",
       "    <tr>\n",
       "      <th>744</th>\n",
       "      <td>\\r\\n\\t\\t\\t\\t\\t\\t\\t난 나쁜 기집애 나난 나쁜 기집애  난 나쁜 기집애...</td>\n",
       "      <td>3</td>\n",
       "    </tr>\n",
       "    <tr>\n",
       "      <th>745</th>\n",
       "      <td>\\r\\n\\t\\t\\t\\t\\t\\t\\t궁금해서 잠이 안 와그때 왜 그랬어구차해도 묻고 싶...</td>\n",
       "      <td>3</td>\n",
       "    </tr>\n",
       "  </tbody>\n",
       "</table>\n",
       "<p>746 rows × 2 columns</p>\n",
       "</div>"
      ],
      "text/plain": [
       "                                                Lyrics  label\n",
       "0    아침에 일어나 너에게 짧은 인사를 보낸다 아무리 멀리 떨어져 있어도 나는 널 생각하...      0\n",
       "1    라라랄라 라라랄라 워어 워어  너가 맛있었다고 했던  살구빛 샐러드  맛있어서 또 ...      0\n",
       "2    자꾸 마주치는 네 눈빛에 Baby baby왠지 어색해 대체 왜 이래고개를 숙여봐도너...      0\n",
       "3    어깨동무까진 괜찮아그치만 손 잡는 건 조금 위험해잘 자란 메세진 괜찮아그래도 자냐는...      0\n",
       "4    햇살이 가득그댈 향한 가벼운 발걸음콧노래 부르며쇼윈도에 비친내 모습을 한번 점검해시...      0\n",
       "..                                                 ...    ...\n",
       "741  \\r\\n\\t\\t\\t\\t\\t\\t\\t반쯤 미쳐가는 나망가져 나의 삶넌 내게서 나를 지워...      3\n",
       "742  \\r\\n\\t\\t\\t\\t\\t\\t\\t무궁화 꽃이 피었습니다우리 빼고 모두 다 멈춰지담이...      3\n",
       "743  \\r\\n\\t\\t\\t\\t\\t\\t\\t아예 아예 아예 아예 아예 아예 아예 아예 아예 아...      3\n",
       "744  \\r\\n\\t\\t\\t\\t\\t\\t\\t난 나쁜 기집애 나난 나쁜 기집애  난 나쁜 기집애...      3\n",
       "745  \\r\\n\\t\\t\\t\\t\\t\\t\\t궁금해서 잠이 안 와그때 왜 그랬어구차해도 묻고 싶...      3\n",
       "\n",
       "[746 rows x 2 columns]"
      ]
     },
     "execution_count": 7,
     "metadata": {},
     "output_type": "execute_result"
    }
   ],
   "source": [
    "data=pd.read_csv('./data/Lyrics.csv')\n",
    "data"
   ]
  },
  {
   "attachments": {},
   "cell_type": "markdown",
   "metadata": {},
   "source": [
    "## 구글번역"
   ]
  },
  {
   "cell_type": "code",
   "execution_count": 8,
   "metadata": {},
   "outputs": [],
   "source": [
    "def checkKorean(str):\n",
    "    pattern = '[ㄱ-ㅎ가-힣\\s]+'\n",
    "    if re.match(pattern, str):\n",
    "        return True\n",
    "    else:\n",
    "        return False"
   ]
  },
  {
   "cell_type": "code",
   "execution_count": 9,
   "metadata": {},
   "outputs": [
    {
     "data": {
      "text/plain": [
       "746"
      ]
     },
     "execution_count": 9,
     "metadata": {},
     "output_type": "execute_result"
    }
   ],
   "source": [
    "translator=googletrans.Translator()\n",
    "trans=[]\n",
    "for i,lyric in enumerate(data['Lyrics']):\n",
    "    split_sentences = re.compile(\"[ㄱ-ㅎ가-힣\\s]+|[a-zA-Z\\s']+\").findall(lyric)\n",
    "    sen=''\n",
    "    for sentence in split_sentences:\n",
    "        check=checkKorean(sentence)\n",
    "        if not check:\n",
    "            try:\n",
    "                en2ko=translator.translate(sentence,dest='ko',src='en')\n",
    "                sen+=en2ko.text\n",
    "            except:\n",
    "                sen+=sentence\n",
    "        else:\n",
    "            sen+=sentence\n",
    "    trans.append(sen)\n",
    "len(trans)"
   ]
  },
  {
   "cell_type": "code",
   "execution_count": 10,
   "metadata": {},
   "outputs": [
    {
     "data": {
      "text/plain": [
       "['아침에 일어나 너에게 짧은 인사를 보낸다 아무리 멀리 떨어져 있어도 나는 널 생각하고 있어 늦은 밤 졸린 눈 비비며 너에게 편지를 쓸게 반가운 사진 속 그 표정만큼 아름다운 나날들이기를 찬 바람이 불어와 어깨가 움추러들 때에도 너를 떠올린다면 씩씩한 표정 할수있어 알고있니 넌 나의 숫자 두근대는 맘은 아직까지 여기에 언제까지나 나의 하나 뿐인좋아한단 말은 나를 웃음짓게 해 내 번호 나의 하나 뿐인때로는 지쳐 울어도 내 번호 나는 당신과 함께 있고 싶습니다우 우 우 우내 번호 눈을 감으니 꼭 곁에 있는것 같아쨘 하고 나타날게생각치 못한 어느 날우연히 문득 뒤돌아 봤을 때그때 꼭 내가 서 있을게꼭 하고 껴안을게 가장 반가운 얼굴로눈물이 왈칵 쏟아진다해도나는 환하게 웃을거야혹시 오늘 너에게서러운 일이 생긴다면오래 전 그 날처럼 달려가꼭 안아주고파아름답게 빛나길알고있니 넌 나의 숫자두근대는 맘은 아직까지 여기에언제까지나 나의 하나 뿐인좋아한단 말은 나를 웃음짓게 해내 번호 나의 하나 뿐인때로는 지쳐 울어도내 번호난 난 여전히 당신과 사랑에 빠지고 싶어 내 번호눈을 감으니 꼭 곁에 있는것 같아 기억해줘 넌 나의 숫자보고싶은 사람 이만 줄일게 안녕',\n",
       " '라라랄라 라라랄라 워어 워어 너가 맛있었다고 했던 살구빛 샐러드 맛있어서 또 먹고 싶어 너가 좋아했던 것들을 나에게 자그마한 행복들 달력 안 기념일들로 채워지네 채워지네 응나나나나나나 너가 좋아했던 살구빛 샐러드 그 날은 샐러드 기념일 우후나나나나나 너가 좋아하던 멜로디언 소리 그 날은 멜로디 기념일 우 라라라나나나 너가 예뻤었다고 했던 조그만 고양이 귀여워서 또 보고 싶어 너가 좋아했던 것들을 나에게 자그마한 고양이들 방에 한가득하게 채워지네 채워지네 응나나나나나나 너가 좋아했던 살구빛 샐러드 그 날은 샐러드 기념일 우후 나나나나 너가 좋아하던 멜로디언 소리 그 날은 멜로디 기념일 우우 라라라나나나 너가 좋아했던 살구빛 샐러드 그 날은 샐러드 기념일 우후 나나나나 너가 좋아하던 멜로디언 소리 그 날은 멜로디 기념일 우우 라라라나나나']"
      ]
     },
     "execution_count": 10,
     "metadata": {},
     "output_type": "execute_result"
    }
   ],
   "source": [
    "lyrics=[]\n",
    "for lyric in trans:\n",
    "    sub=re.sub(\"[0-9a-zA-Z'.?!()&^%$#,\\t\\r\\n]+\",' ',lyric)\n",
    "    sub=sub.strip()\n",
    "    lyrics.append(re.sub(' +', ' ', sub))\n",
    "lyrics[:2]"
   ]
  },
  {
   "cell_type": "code",
   "execution_count": 11,
   "metadata": {},
   "outputs": [
    {
     "data": {
      "text/plain": [
       "746"
      ]
     },
     "execution_count": 11,
     "metadata": {},
     "output_type": "execute_result"
    }
   ],
   "source": [
    "len(lyrics)"
   ]
  },
  {
   "cell_type": "code",
   "execution_count": 12,
   "metadata": {},
   "outputs": [
    {
     "data": {
      "text/html": [
       "<div>\n",
       "<style scoped>\n",
       "    .dataframe tbody tr th:only-of-type {\n",
       "        vertical-align: middle;\n",
       "    }\n",
       "\n",
       "    .dataframe tbody tr th {\n",
       "        vertical-align: top;\n",
       "    }\n",
       "\n",
       "    .dataframe thead th {\n",
       "        text-align: right;\n",
       "    }\n",
       "</style>\n",
       "<table border=\"1\" class=\"dataframe\">\n",
       "  <thead>\n",
       "    <tr style=\"text-align: right;\">\n",
       "      <th></th>\n",
       "      <th>Lyrics</th>\n",
       "      <th>label</th>\n",
       "    </tr>\n",
       "  </thead>\n",
       "  <tbody>\n",
       "    <tr>\n",
       "      <th>0</th>\n",
       "      <td>아침에 일어나 너에게 짧은 인사를 보낸다 아무리 멀리 떨어져 있어도 나는 널 생각하...</td>\n",
       "      <td>0</td>\n",
       "    </tr>\n",
       "    <tr>\n",
       "      <th>1</th>\n",
       "      <td>라라랄라 라라랄라 워어 워어 너가 맛있었다고 했던 살구빛 샐러드 맛있어서 또 먹고 ...</td>\n",
       "      <td>0</td>\n",
       "    </tr>\n",
       "    <tr>\n",
       "      <th>2</th>\n",
       "      <td>자꾸 마주치는 네 눈빛에 아기 아기왠지 어색해 대체 왜 이래고개를 숙여봐도너의 발끝...</td>\n",
       "      <td>0</td>\n",
       "    </tr>\n",
       "    <tr>\n",
       "      <th>3</th>\n",
       "      <td>어깨동무까진 괜찮아그치만 손 잡는 건 조금 위험해잘 자란 메세진 괜찮아그래도 자냐는...</td>\n",
       "      <td>0</td>\n",
       "    </tr>\n",
       "    <tr>\n",
       "      <th>4</th>\n",
       "      <td>햇살이 가득그댈 향한 가벼운 발걸음콧노래 부르며쇼윈도에 비친내 모습을 한번 점검해시...</td>\n",
       "      <td>0</td>\n",
       "    </tr>\n",
       "    <tr>\n",
       "      <th>...</th>\n",
       "      <td>...</td>\n",
       "      <td>...</td>\n",
       "    </tr>\n",
       "    <tr>\n",
       "      <th>741</th>\n",
       "      <td>반쯤 미쳐가는 나망가져 나의 삶넌 내게서 나를 지워가고또 나를 부셔버려라추락한 나를...</td>\n",
       "      <td>3</td>\n",
       "    </tr>\n",
       "    <tr>\n",
       "      <th>742</th>\n",
       "      <td>무궁화 꽃이 피었습니다우리 빼고 모두 다 멈춰지담이 꽃이 피었습니다현아 빼고 모두 ...</td>\n",
       "      <td>3</td>\n",
       "    </tr>\n",
       "    <tr>\n",
       "      <th>743</th>\n",
       "      <td>아예 아예 아예 아예 아예 아예 아예 아예 아예 아예 왜 이렇게 감을 못 잡는거야 ...</td>\n",
       "      <td>3</td>\n",
       "    </tr>\n",
       "    <tr>\n",
       "      <th>744</th>\n",
       "      <td>난 나쁜 기집애 나난 나쁜 기집애 난 나쁜 기집애 내 모든 나쁜 여자가있는 곳난 나...</td>\n",
       "      <td>3</td>\n",
       "    </tr>\n",
       "    <tr>\n",
       "      <th>745</th>\n",
       "      <td>궁금해서 잠이 안 와그때 왜 그랬어구차해도 묻고 싶어그때 난 뭐였어나나나나 나나 나...</td>\n",
       "      <td>3</td>\n",
       "    </tr>\n",
       "  </tbody>\n",
       "</table>\n",
       "<p>746 rows × 2 columns</p>\n",
       "</div>"
      ],
      "text/plain": [
       "                                                Lyrics  label\n",
       "0    아침에 일어나 너에게 짧은 인사를 보낸다 아무리 멀리 떨어져 있어도 나는 널 생각하...      0\n",
       "1    라라랄라 라라랄라 워어 워어 너가 맛있었다고 했던 살구빛 샐러드 맛있어서 또 먹고 ...      0\n",
       "2    자꾸 마주치는 네 눈빛에 아기 아기왠지 어색해 대체 왜 이래고개를 숙여봐도너의 발끝...      0\n",
       "3    어깨동무까진 괜찮아그치만 손 잡는 건 조금 위험해잘 자란 메세진 괜찮아그래도 자냐는...      0\n",
       "4    햇살이 가득그댈 향한 가벼운 발걸음콧노래 부르며쇼윈도에 비친내 모습을 한번 점검해시...      0\n",
       "..                                                 ...    ...\n",
       "741  반쯤 미쳐가는 나망가져 나의 삶넌 내게서 나를 지워가고또 나를 부셔버려라추락한 나를...      3\n",
       "742  무궁화 꽃이 피었습니다우리 빼고 모두 다 멈춰지담이 꽃이 피었습니다현아 빼고 모두 ...      3\n",
       "743  아예 아예 아예 아예 아예 아예 아예 아예 아예 아예 왜 이렇게 감을 못 잡는거야 ...      3\n",
       "744  난 나쁜 기집애 나난 나쁜 기집애 난 나쁜 기집애 내 모든 나쁜 여자가있는 곳난 나...      3\n",
       "745  궁금해서 잠이 안 와그때 왜 그랬어구차해도 묻고 싶어그때 난 뭐였어나나나나 나나 나...      3\n",
       "\n",
       "[746 rows x 2 columns]"
      ]
     },
     "execution_count": 12,
     "metadata": {},
     "output_type": "execute_result"
    }
   ],
   "source": [
    "data['Lyrics']=lyrics\n",
    "data"
   ]
  },
  {
   "cell_type": "code",
   "execution_count": 14,
   "metadata": {},
   "outputs": [
    {
     "data": {
      "text/html": [
       "<div>\n",
       "<style scoped>\n",
       "    .dataframe tbody tr th:only-of-type {\n",
       "        vertical-align: middle;\n",
       "    }\n",
       "\n",
       "    .dataframe tbody tr th {\n",
       "        vertical-align: top;\n",
       "    }\n",
       "\n",
       "    .dataframe thead th {\n",
       "        text-align: right;\n",
       "    }\n",
       "</style>\n",
       "<table border=\"1\" class=\"dataframe\">\n",
       "  <thead>\n",
       "    <tr style=\"text-align: right;\">\n",
       "      <th></th>\n",
       "      <th>Lyrics</th>\n",
       "      <th>label</th>\n",
       "    </tr>\n",
       "  </thead>\n",
       "  <tbody>\n",
       "  </tbody>\n",
       "</table>\n",
       "</div>"
      ],
      "text/plain": [
       "Empty DataFrame\n",
       "Columns: [Lyrics, label]\n",
       "Index: []"
      ]
     },
     "execution_count": 14,
     "metadata": {},
     "output_type": "execute_result"
    }
   ],
   "source": [
    "data[data['Lyrics']=='']"
   ]
  },
  {
   "cell_type": "code",
   "execution_count": 15,
   "metadata": {},
   "outputs": [],
   "source": [
    "data.to_csv('./data/Lyrics_trans.csv',encoding='utf-8-sig',index=False)"
   ]
  },
  {
   "cell_type": "code",
   "execution_count": null,
   "metadata": {},
   "outputs": [],
   "source": []
  }
 ],
 "metadata": {
  "kernelspec": {
   "display_name": "base",
   "language": "python",
   "name": "python3"
  },
  "language_info": {
   "codemirror_mode": {
    "name": "ipython",
    "version": 3
   },
   "file_extension": ".py",
   "mimetype": "text/x-python",
   "name": "python",
   "nbconvert_exporter": "python",
   "pygments_lexer": "ipython3",
   "version": "3.9.7"
  },
  "orig_nbformat": 4,
  "vscode": {
   "interpreter": {
    "hash": "03489fc23179efc092fdc79729fb3c8c54ada39686063f54d233cd67036aabb7"
   }
  }
 },
 "nbformat": 4,
 "nbformat_minor": 2
}
