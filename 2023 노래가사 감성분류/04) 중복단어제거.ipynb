{
 "cells": [
  {
   "cell_type": "code",
   "execution_count": 1,
   "metadata": {},
   "outputs": [],
   "source": [
    "import pandas as pd\n",
    "import re"
   ]
  },
  {
   "cell_type": "code",
   "execution_count": 2,
   "metadata": {},
   "outputs": [
    {
     "data": {
      "text/html": [
       "<div>\n",
       "<style scoped>\n",
       "    .dataframe tbody tr th:only-of-type {\n",
       "        vertical-align: middle;\n",
       "    }\n",
       "\n",
       "    .dataframe tbody tr th {\n",
       "        vertical-align: top;\n",
       "    }\n",
       "\n",
       "    .dataframe thead th {\n",
       "        text-align: right;\n",
       "    }\n",
       "</style>\n",
       "<table border=\"1\" class=\"dataframe\">\n",
       "  <thead>\n",
       "    <tr style=\"text-align: right;\">\n",
       "      <th></th>\n",
       "      <th>Lyrics</th>\n",
       "      <th>label</th>\n",
       "    </tr>\n",
       "  </thead>\n",
       "  <tbody>\n",
       "    <tr>\n",
       "      <th>0</th>\n",
       "      <td>아침에 일어나 너에게 짧은 인사를 보낸다 아무리 멀리 떨어져 있어도 나는 널 생각하...</td>\n",
       "      <td>0</td>\n",
       "    </tr>\n",
       "    <tr>\n",
       "      <th>1</th>\n",
       "      <td>라라랄라 라라랄라 이어 이어 네가 맛있었다 고 했던 살구빛 샐러드 맛있어서 또 먹고...</td>\n",
       "      <td>0</td>\n",
       "    </tr>\n",
       "    <tr>\n",
       "      <th>2</th>\n",
       "      <td>자꾸 마주치는 네 눈빛에 아기 아기 왠지 어색해 대체 왜 이래 고개를 숙여봐도 너의...</td>\n",
       "      <td>0</td>\n",
       "    </tr>\n",
       "    <tr>\n",
       "      <th>3</th>\n",
       "      <td>어깨동무까진 괜찮아 그 치마 손잡는 건 조금 위험해 잘 자란 메세 진 괜찮아그래도 ...</td>\n",
       "      <td>0</td>\n",
       "    </tr>\n",
       "    <tr>\n",
       "      <th>4</th>\n",
       "      <td>햇살이 가득 그댈 향한 가벼운 발걸음 콧노래 부르며 쇼윈도에 비친 내 모습을 한번 ...</td>\n",
       "      <td>0</td>\n",
       "    </tr>\n",
       "    <tr>\n",
       "      <th>...</th>\n",
       "      <td>...</td>\n",
       "      <td>...</td>\n",
       "    </tr>\n",
       "    <tr>\n",
       "      <th>741</th>\n",
       "      <td>반쯤 미쳐가는 다 망가져 나의 삶넌 내게서 나를 지워가고 또 나를 부숴버려라 추락한...</td>\n",
       "      <td>3</td>\n",
       "    </tr>\n",
       "    <tr>\n",
       "      <th>742</th>\n",
       "      <td>무궁화 꽃이 피었습니다 우리 빼고 모두 다 멈춰지담 이 꽃이 피었습니다 현아 빼고 ...</td>\n",
       "      <td>3</td>\n",
       "    </tr>\n",
       "    <tr>\n",
       "      <th>743</th>\n",
       "      <td>아예 아예 아예 아예 아예 아예 아예 아예 아예 아예 왜 이렇게 감을 못 잡는 거야...</td>\n",
       "      <td>3</td>\n",
       "    </tr>\n",
       "    <tr>\n",
       "      <th>744</th>\n",
       "      <td>난 나쁜 계집애 나난 나쁜 계집애 난 나쁜 계집애 내 모든 나쁜 여자가 있는 고난 ...</td>\n",
       "      <td>3</td>\n",
       "    </tr>\n",
       "    <tr>\n",
       "      <th>745</th>\n",
       "      <td>궁금해서 잠이 안 와 그때 왜 그랬어 구차해도 묻고 싶어 그때 난 뭐였어나 나나 나...</td>\n",
       "      <td>3</td>\n",
       "    </tr>\n",
       "  </tbody>\n",
       "</table>\n",
       "<p>746 rows × 2 columns</p>\n",
       "</div>"
      ],
      "text/plain": [
       "                                                Lyrics  label\n",
       "0    아침에 일어나 너에게 짧은 인사를 보낸다 아무리 멀리 떨어져 있어도 나는 널 생각하...      0\n",
       "1    라라랄라 라라랄라 이어 이어 네가 맛있었다 고 했던 살구빛 샐러드 맛있어서 또 먹고...      0\n",
       "2    자꾸 마주치는 네 눈빛에 아기 아기 왠지 어색해 대체 왜 이래 고개를 숙여봐도 너의...      0\n",
       "3    어깨동무까진 괜찮아 그 치마 손잡는 건 조금 위험해 잘 자란 메세 진 괜찮아그래도 ...      0\n",
       "4    햇살이 가득 그댈 향한 가벼운 발걸음 콧노래 부르며 쇼윈도에 비친 내 모습을 한번 ...      0\n",
       "..                                                 ...    ...\n",
       "741  반쯤 미쳐가는 다 망가져 나의 삶넌 내게서 나를 지워가고 또 나를 부숴버려라 추락한...      3\n",
       "742  무궁화 꽃이 피었습니다 우리 빼고 모두 다 멈춰지담 이 꽃이 피었습니다 현아 빼고 ...      3\n",
       "743  아예 아예 아예 아예 아예 아예 아예 아예 아예 아예 왜 이렇게 감을 못 잡는 거야...      3\n",
       "744  난 나쁜 계집애 나난 나쁜 계집애 난 나쁜 계집애 내 모든 나쁜 여자가 있는 고난 ...      3\n",
       "745  궁금해서 잠이 안 와 그때 왜 그랬어 구차해도 묻고 싶어 그때 난 뭐였어나 나나 나...      3\n",
       "\n",
       "[746 rows x 2 columns]"
      ]
     },
     "execution_count": 2,
     "metadata": {},
     "output_type": "execute_result"
    }
   ],
   "source": [
    "data=pd.read_csv('./data/Lyrics_check.csv',encoding='utf-8')\n",
    "data"
   ]
  },
  {
   "cell_type": "code",
   "execution_count": 5,
   "metadata": {},
   "outputs": [
    {
     "data": {
      "text/plain": [
       "'아예 아예 아예 아예 아예 아예 아예 아예 아예 아예 왜 이렇게 감을 못 잡는 거야 왜 이 말을 하는지 모르겠어 뭐야 싱긋싱긋 웃으며 치근 치근대날 그저 그렇고 그런 애 취급해 남자는 그렇게 하지 않습니다 답할 맘 없어 그런 질문에 안 돼요 오늘만 몇 번을 물어본 거야 아기 정지 대체 뭐라 뭐라 하는데 당최 못 알아듣겠어 도번번히 좌절되는 시도 정신 좀 차리고 보는 게 어때 딱 너만 빼고 모두가 보이는 신호 오늘 내일 하지 말고 서둘러서 다가와 어서 다가와 어서 너 아예 아예 아예 아예 이런 시간 뻔해 이대론 불편해 자꾸 그런 것만 물어보지 마연하는 대로 해 나는 그게 편해요 이 시간이 가버리기 전에 너 아예 아예 아예 아예 아예 아예 아예 아예 아예 아예 왜 말 더듬는 거야 무슨 말을 하는지 모르겠어 뭐야 순진한 척 말을 더듬더듬 새어 나오는 나쁜 버릇 버릇 내 머리 어깨 무릎 발 무릎 발에 상이 가능하지 백 프로 다 뭐 이렇게 질문이 많은 거야 네가 어린애야 뭐야 대체 네가 아는 게 뭐 야당 최 아는 게 없어 더 필요함이 절실한 개인 지도이 정도 해도 못 알아듣어 너 혼 좀 나야 돼 나와 뒤로 오늘 내일 하지 말고 서둘러서 다가와서 다가와서 너 아예 아예 아예 아예 이런 식은 뻔해 이대론 불편해 자꾸 그런 것만 물어보지 마연하는 대로 해나는 그게 편해요 이 시간이 가버리기 전에 아 직까지도 나에겐 얘기하지 못한 말들 아 아쉬워지기 전에 예 얘기 해 나 지치기 전에 이젠 넌 내 옆으로 와이런 시간 뻔해 이대론 불편해 자꾸 그런 거만 물어보지 마연하는 대로 해 나는 그게 편해요 이 시간이 가버리기 전에 너 아예 아예 아예 아예 아예 아예 아예 아예 아예 아예 아예 아예 아예 아예 아예 아예 아예 아예 아예 아예'"
      ]
     },
     "execution_count": 5,
     "metadata": {},
     "output_type": "execute_result"
    }
   ],
   "source": [
    "data['Lyrics'][743]"
   ]
  },
  {
   "cell_type": "code",
   "execution_count": 6,
   "metadata": {},
   "outputs": [
    {
     "name": "stdout",
     "output_type": "stream",
     "text": [
      "746\n"
     ]
    }
   ],
   "source": [
    "lst=[]\n",
    "for lyrics in data['Lyrics']:\n",
    "    lyric=lyrics.split(' ')\n",
    "    sub=[]\n",
    "    for word in lyric:\n",
    "        if word not in sub or sub.count(word)<3:\n",
    "            sub.append(word)\n",
    "    lst.append(sub)\n",
    "print(len(lst))"
   ]
  },
  {
   "cell_type": "code",
   "execution_count": 7,
   "metadata": {},
   "outputs": [
    {
     "name": "stdout",
     "output_type": "stream",
     "text": [
      "746\n"
     ]
    }
   ],
   "source": [
    "lyrics=[]\n",
    "for word_lst in lst:\n",
    "    sen=''\n",
    "    sen=' '.join(word_lst)\n",
    "    lyrics.append(sen)\n",
    "print(len(lyrics))"
   ]
  },
  {
   "cell_type": "code",
   "execution_count": 8,
   "metadata": {},
   "outputs": [
    {
     "data": {
      "text/plain": [
       "'아예 아예 아예 왜 이렇게 감을 못 잡는 거야 왜 이 말을 하는지 모르겠어 뭐야 싱긋싱긋 웃으며 치근 치근대날 그저 그렇고 그런 애 취급해 남자는 그렇게 하지 않습니다 답할 맘 없어 그런 질문에 안 돼요 오늘만 몇 번을 물어본 거야 아기 정지 대체 뭐라 뭐라 하는데 당최 못 알아듣겠어 도번번히 좌절되는 시도 정신 좀 차리고 보는 게 어때 딱 너만 빼고 모두가 보이는 신호 오늘 내일 하지 말고 서둘러서 다가와 어서 다가와 어서 너 이런 시간 뻔해 이대론 불편해 자꾸 그런 것만 물어보지 마연하는 대로 해 나는 그게 편해요 이 시간이 가버리기 전에 너 왜 말 더듬는 거야 무슨 말을 하는지 모르겠어 뭐야 순진한 척 말을 더듬더듬 새어 나오는 나쁜 버릇 버릇 내 머리 어깨 무릎 발 무릎 발에 상이 가능하지 백 프로 다 뭐 이렇게 질문이 많은 네가 어린애야 뭐야 대체 네가 아는 게 뭐 야당 최 아는 게 없어 더 필요함이 절실한 개인 지도이 정도 해도 못 알아듣어 너 혼 좀 나야 돼 나와 뒤로 오늘 내일 하지 말고 서둘러서 다가와서 다가와서 이런 식은 뻔해 이대론 불편해 자꾸 것만 물어보지 마연하는 대로 해나는 그게 편해요 이 시간이 가버리기 전에 아 직까지도 나에겐 얘기하지 못한 말들 아 아쉬워지기 전에 예 얘기 해 나 지치기 이젠 넌 내 옆으로 와이런 시간 뻔해 이대론 불편해 자꾸 거만 물어보지 마연하는 대로 해 나는 그게 편해요 시간이 가버리기'"
      ]
     },
     "execution_count": 8,
     "metadata": {},
     "output_type": "execute_result"
    }
   ],
   "source": [
    "lyrics[743]"
   ]
  },
  {
   "cell_type": "code",
   "execution_count": 9,
   "metadata": {},
   "outputs": [
    {
     "data": {
      "text/html": [
       "<div>\n",
       "<style scoped>\n",
       "    .dataframe tbody tr th:only-of-type {\n",
       "        vertical-align: middle;\n",
       "    }\n",
       "\n",
       "    .dataframe tbody tr th {\n",
       "        vertical-align: top;\n",
       "    }\n",
       "\n",
       "    .dataframe thead th {\n",
       "        text-align: right;\n",
       "    }\n",
       "</style>\n",
       "<table border=\"1\" class=\"dataframe\">\n",
       "  <thead>\n",
       "    <tr style=\"text-align: right;\">\n",
       "      <th></th>\n",
       "      <th>Lyrics</th>\n",
       "      <th>label</th>\n",
       "    </tr>\n",
       "  </thead>\n",
       "  <tbody>\n",
       "    <tr>\n",
       "      <th>0</th>\n",
       "      <td>아침에 일어나 너에게 짧은 인사를 보낸다 아무리 멀리 떨어져 있어도 나는 널 생각하...</td>\n",
       "      <td>0</td>\n",
       "    </tr>\n",
       "    <tr>\n",
       "      <th>1</th>\n",
       "      <td>라라랄라 라라랄라 이어 이어 네가 맛있었다 고 했던 살구빛 샐러드 맛있어서 또 먹고...</td>\n",
       "      <td>0</td>\n",
       "    </tr>\n",
       "    <tr>\n",
       "      <th>2</th>\n",
       "      <td>자꾸 마주치는 네 눈빛에 아기 아기 왠지 어색해 대체 왜 이래 고개를 숙여봐도 너의...</td>\n",
       "      <td>0</td>\n",
       "    </tr>\n",
       "    <tr>\n",
       "      <th>3</th>\n",
       "      <td>어깨동무까진 괜찮아 그 치마 손잡는 건 조금 위험해 잘 자란 메세 진 괜찮아그래도 ...</td>\n",
       "      <td>0</td>\n",
       "    </tr>\n",
       "    <tr>\n",
       "      <th>4</th>\n",
       "      <td>햇살이 가득 그댈 향한 가벼운 발걸음 콧노래 부르며 쇼윈도에 비친 내 모습을 한번 ...</td>\n",
       "      <td>0</td>\n",
       "    </tr>\n",
       "    <tr>\n",
       "      <th>...</th>\n",
       "      <td>...</td>\n",
       "      <td>...</td>\n",
       "    </tr>\n",
       "    <tr>\n",
       "      <th>741</th>\n",
       "      <td>반쯤 미쳐가는 다 망가져 나의 삶넌 내게서 나를 지워가고 또 나를 부숴버려라 추락한...</td>\n",
       "      <td>3</td>\n",
       "    </tr>\n",
       "    <tr>\n",
       "      <th>742</th>\n",
       "      <td>무궁화 꽃이 피었습니다 우리 빼고 모두 다 멈춰지담 이 꽃이 피었습니다 현아 빼고 ...</td>\n",
       "      <td>3</td>\n",
       "    </tr>\n",
       "    <tr>\n",
       "      <th>743</th>\n",
       "      <td>아예 아예 아예 왜 이렇게 감을 못 잡는 거야 왜 이 말을 하는지 모르겠어 뭐야 싱...</td>\n",
       "      <td>3</td>\n",
       "    </tr>\n",
       "    <tr>\n",
       "      <th>744</th>\n",
       "      <td>난 나쁜 계집애 나난 나쁜 계집애 난 나쁜 계집애 내 모든 여자가 있는 고난 나난 ...</td>\n",
       "      <td>3</td>\n",
       "    </tr>\n",
       "    <tr>\n",
       "      <th>745</th>\n",
       "      <td>궁금해서 잠이 안 와 그때 왜 그랬어 구차해도 묻고 싶어 그때 난 뭐였어나 나나 나...</td>\n",
       "      <td>3</td>\n",
       "    </tr>\n",
       "  </tbody>\n",
       "</table>\n",
       "<p>746 rows × 2 columns</p>\n",
       "</div>"
      ],
      "text/plain": [
       "                                                Lyrics  label\n",
       "0    아침에 일어나 너에게 짧은 인사를 보낸다 아무리 멀리 떨어져 있어도 나는 널 생각하...      0\n",
       "1    라라랄라 라라랄라 이어 이어 네가 맛있었다 고 했던 살구빛 샐러드 맛있어서 또 먹고...      0\n",
       "2    자꾸 마주치는 네 눈빛에 아기 아기 왠지 어색해 대체 왜 이래 고개를 숙여봐도 너의...      0\n",
       "3    어깨동무까진 괜찮아 그 치마 손잡는 건 조금 위험해 잘 자란 메세 진 괜찮아그래도 ...      0\n",
       "4    햇살이 가득 그댈 향한 가벼운 발걸음 콧노래 부르며 쇼윈도에 비친 내 모습을 한번 ...      0\n",
       "..                                                 ...    ...\n",
       "741  반쯤 미쳐가는 다 망가져 나의 삶넌 내게서 나를 지워가고 또 나를 부숴버려라 추락한...      3\n",
       "742  무궁화 꽃이 피었습니다 우리 빼고 모두 다 멈춰지담 이 꽃이 피었습니다 현아 빼고 ...      3\n",
       "743  아예 아예 아예 왜 이렇게 감을 못 잡는 거야 왜 이 말을 하는지 모르겠어 뭐야 싱...      3\n",
       "744  난 나쁜 계집애 나난 나쁜 계집애 난 나쁜 계집애 내 모든 여자가 있는 고난 나난 ...      3\n",
       "745  궁금해서 잠이 안 와 그때 왜 그랬어 구차해도 묻고 싶어 그때 난 뭐였어나 나나 나...      3\n",
       "\n",
       "[746 rows x 2 columns]"
      ]
     },
     "execution_count": 9,
     "metadata": {},
     "output_type": "execute_result"
    }
   ],
   "source": [
    "data['Lyrics']=lyrics\n",
    "data"
   ]
  },
  {
   "cell_type": "code",
   "execution_count": 10,
   "metadata": {},
   "outputs": [],
   "source": [
    "data.to_csv('./data/Lyrics_remove.csv',encoding='utf-8-sig',index=False)"
   ]
  },
  {
   "cell_type": "code",
   "execution_count": null,
   "metadata": {},
   "outputs": [],
   "source": []
  }
 ],
 "metadata": {
  "kernelspec": {
   "display_name": "Python 3",
   "language": "python",
   "name": "python3"
  },
  "language_info": {
   "codemirror_mode": {
    "name": "ipython",
    "version": 3
   },
   "file_extension": ".py",
   "mimetype": "text/x-python",
   "name": "python",
   "nbconvert_exporter": "python",
   "pygments_lexer": "ipython3",
   "version": "3.10.4"
  },
  "orig_nbformat": 4,
  "vscode": {
   "interpreter": {
    "hash": "097867e5e50fe1a7758ca609f166138c2851852137cbc188deaa6728b0b12c19"
   }
  }
 },
 "nbformat": 4,
 "nbformat_minor": 2
}
