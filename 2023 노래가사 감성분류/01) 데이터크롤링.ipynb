{
 "cells": [
  {
   "cell_type": "code",
   "execution_count": 1,
   "metadata": {},
   "outputs": [],
   "source": [
    "from bs4 import BeautifulSoup\n",
    "from selenium import webdriver\n",
    "from selenium.webdriver.common.by import By\n",
    "\n",
    "import re\n",
    "import pandas as pd\n",
    "import time\n",
    "import requests"
   ]
  },
  {
   "attachments": {},
   "cell_type": "markdown",
   "metadata": {},
   "source": [
    "희망"
   ]
  },
  {
   "cell_type": "code",
   "execution_count": 363,
   "metadata": {},
   "outputs": [],
   "source": [
    "driver=webdriver.Chrome()\n",
    "url='https://www.melon.com/mymusic/dj/mymusicdjplaylistview_inform.htm?plylstSeq=473795728'\n",
    "driver.get(url)\n",
    "\n",
    "html=driver.page_source\n",
    "soup=BeautifulSoup(html,'html.parser')"
   ]
  },
  {
   "cell_type": "code",
   "execution_count": 364,
   "metadata": {},
   "outputs": [
    {
     "data": {
      "text/plain": [
       "403"
      ]
     },
     "execution_count": 364,
     "metadata": {},
     "output_type": "execute_result"
    }
   ],
   "source": [
    "total_num=soup.select('h5 > span')[0].text\n",
    "total_num=int(re.sub('[^0-9]','',total_num))\n",
    "total_num"
   ]
  },
  {
   "cell_type": "code",
   "execution_count": 366,
   "metadata": {},
   "outputs": [
    {
     "name": "stdout",
     "output_type": "stream",
     "text": [
      "1\n",
      "50 50\n",
      "51\n",
      "100 100\n",
      "101\n",
      "150 150\n",
      "151\n",
      "200 200\n",
      "201\n",
      "250 250\n",
      "251\n",
      "300 300\n",
      "301\n",
      "350 350\n",
      "351\n",
      "400 400\n",
      "401\n",
      "403 403\n"
     ]
    }
   ],
   "source": [
    "song_number=[]\n",
    "\n",
    "for idx in range(1,total_num+1,50):\n",
    "    idx=str(idx)\n",
    "    print(idx)\n",
    "    \n",
    "    driver=webdriver.Chrome()\n",
    "    url='https://www.melon.com/mymusic/dj/mymusicdjplaylistview_inform.htm?plylstSeq=473795728#params%5BplylstSeq%5D=473795728&po=pageObj&startIndex='+idx\n",
    "    driver.get(url)\n",
    "\n",
    "    html=driver.page_source\n",
    "    soup=BeautifulSoup(html,'html.parser')\n",
    "    songs=soup.select('div.wrap > a.btn.button_icons.type03.song_info')\n",
    "\n",
    "    for i in range(len(songs)):\n",
    "        href=songs[i].attrs['href']\n",
    "        song_number.append(re.sub('[^0-9]','',href))\n",
    "    driver.close()\n",
    "\n",
    "    print(len(song_number),len(set(song_number)))"
   ]
  },
  {
   "cell_type": "code",
   "execution_count": 369,
   "metadata": {},
   "outputs": [
    {
     "data": {
      "text/plain": [
       "403"
      ]
     },
     "execution_count": 369,
     "metadata": {},
     "output_type": "execute_result"
    }
   ],
   "source": [
    "len(set(song_number))"
   ]
  },
  {
   "cell_type": "code",
   "execution_count": 371,
   "metadata": {},
   "outputs": [],
   "source": [
    "driver=webdriver.Chrome()\n",
    "lyric_lst=[]\n",
    "for i in song_number:\n",
    "    driver.get(\"https://www.melon.com/song/detail.htm?songId=\" + i)\n",
    "    lyric_lst.append(driver.find_element(By.CLASS_NAME,'lyric').text)"
   ]
  },
  {
   "cell_type": "code",
   "execution_count": 372,
   "metadata": {},
   "outputs": [
    {
     "name": "stdout",
     "output_type": "stream",
     "text": [
      "403\n",
      "[\"시작해볼까\\n이 시간만을 기다려 왔네\\n웃음이 번져\\n드디어 우리 마주한 거야\\n한동안 널 휘휘 저었던\\n졸이고 애태웠던 걱정들\\n후후 불어 꿀꺽 삼켰던\\n뜨거운 눈물도 모두 던져봐\\n오늘은 너의 날이야\\n축제는 지금부터야 woo\\n잔을 더 높여봐\\nhigh up 더 뛰어봐\\nfly up 더 날아봐\\n오직 널 위해서\\n부딪혀볼까\\n단숨에 맘이 가벼워지네\\n음악에 취해 흐르는 대로\\n너를 맡겨봐\\n한동안 널 살살 녹였던\\n뜸 들여 살 찌웠던 걱정들\\n얼음처럼 꽁꽁 얼렸던\\n그날의 기억도 모두 던져봐\\n오늘은 너의 날이야\\n축제는 지금부터야 woo\\n잔을 더 높여봐\\nhigh up 더 뛰어봐\\nfly up 더 날아봐\\n오직 널 위해서\\nCan't let you go\\n오늘뿐이라 해도\\n망설이지 말고\\nOh Yes let me know\\n니가 그리는 대로\\n오늘은 너의 날이야\\n축제는 지금부터야 woo\\n잔을 더 높여봐\\nhigh up 더 뛰어봐\\nfly up 더 날아봐\\n오직 널 위해서\\n잊지마 너의 날이야\\n축제는 계속될 거야 woo\\n소릴 더 높여봐\\nfly up 더 날아봐\\ndream up 포기 말아\\n오직 널 위해서\\nUh uh uh\\n오직 널 위해서 Your day\", '문득 달라진 게 느껴져\\n정말 어른이 되고 있어\\n내 부족함이 보여도\\n더는 내가 별로 안 미워\\n오늘 나의 마음보다도\\n몇 년 뒤를 떠올리면서\\n나는 자주 불안해 했어\\n그땐 모든 게 다 그랬어\\n난 가끔 그리울 것 같아 어리석었던\\n그래서 더 달리고 달렸던 날들\\n푸르고 또 푸르던 모습이\\n새빨갛게 춤추고 뛰던 가슴도\\n난 요즘엔 하늘이 아름다워\\n잘 알던 서울이 새삼스러워\\n비가오면 그대로 다 맞고 싶어\\n애쓰지 않더라도 행복하고 싶어\\n문득 떠나고 싶은 날엔\\n훌쩍 떠나고 싶은데\\n할 일이 먼저 생각나\\n꽉 찬 캘린더를 바라봐\\n나의 이름으로 쓰여지는 약속들이\\n두근거리던 내 주말들을 채우지만\\n난 어디로 가는지를 잘 알고 있어\\n그래서 더 생각이나\\n많이 무모하고 어리석었던\\n그래서 더 달리고 달렸던 날들\\n푸르고 또 푸르던 모습이\\n새빨갛게 춤추고 뛰던 가슴도\\n난 요즘엔 하늘이 아름다워\\n잘 알던 서울이 새삼스러워\\n비가오면 그대로 다 맞고 싶어\\n애쓰지 않더라도 행복하고 싶어\\n사랑한단 말을 더 쉽게 하고 싶어\\n기억해 불안했던 나의 어린 마음을\\n겁먹은 채 새우던 어두운 밤을\\n그때 내게 말할 수 있다면\\n넌 지금도 충분히 잘 하고 있다고', '너의 두 눈은\\n저 하늘의 별처럼 반짝이고\\n저기 가득 찬 저 달처럼\\n찬란하게 비추네\\n오 아무것도 보이지 않는\\n어두운 이곳에\\n곧 사라질 듯 멀어져 가는\\n내일의 빛이 되어줘\\n저물어가는 오늘의 나와\\n밝게 빛나는 내일의 네가\\n너의 몸짓은 저 대지의\\n드넓은 세상이 되고\\n저기 날아가는 새처럼\\n자유로이 춤추네\\n오 아무것도 보이지 않는\\n어두운 이곳에\\n곧 사라질 듯 멀어져 가는\\n내일의 빛이 되어줘\\n저물어가는 오늘의 나와\\n밝게 빛나는 내일의 네가\\n손을 잡고 춤을 추네\\n손을 잡고 춤을 추네\\n저물어가는 오늘의 나와\\n밝게 빛나는 내일의 네가\\n손을 잡고 춤을 추네\\n손을 잡고 춤을 추네\\n손을 잡고 춤을 추네\\n손을 잡고 춤을 추네', '고요한 어둠 속에서\\n움츠러든 채로\\n멍하니 바라본 별은\\n유난히 빛나 보여\\n손을 뻗으면 잡힐 듯이 선명해서\\n저 멀리 닿을 것만 같던\\n그 모든 순간이\\nWhen every time I dream\\n멀게만 느껴졌던 날들\\n날 향해 소리쳐\\n잊었던 목소릴\\n숨을 내쉬고 높이 높이\\n바람 따라 날아오를 때\\n간직해왔던 꿈이 꿈이\\n더 가까울 내일로\\n어렴풋 불어온 바람\\n그 온기를 느끼고\\n스치는 별들의 소린\\n나를 깨웠어\\n날 가둔 시선에\\n난 계속 헤매이고\\n나조차 모르게 또 나를\\n떠밀었던 그 밤\\nWhen every time I dream\\n멀리서 바래 왔던 날들\\n날 향해 소리쳐\\n잊었던 목소릴\\n숨을 내쉬고 높이 높이\\n바람따라 날아오를 때\\n간직해왔던 꿈이 꿈이\\n가까워 온 지금\\nshine a light\\n새장에 갇힌 듯한 시선에\\n부서진 날개를 펼쳐\\n더 높이 날아가\\n날 주저앉혔던\\n날들을 지우고\\n날 집어삼켰던\\n두려움을 벗어나\\n누군가 날 짓밟아도\\n난 흔들리지 않아 uh\\n소리 없이 커지던\\n저 편견을 벗어나\\n숨을 내쉬고 높이 높이\\n바람 따라 날아오를 때\\n간직해왔던 꿈이 꿈이\\n가까워 온 지금\\nshine a light\\nwoo-woo-woo~\\nwoo-woo-woo~\\nNow the weak girl is gone\\n난 다시 피어나\\n한계를 넘어\\n난 다시 피어나', '빛을 잃어가는 마음과는 달리\\n채워지는 도시의 별은\\n하나둘씩 늘어가고\\n자리를 찾아가는 퍼즐처럼\\n맞춰지는 세상 속을 벗어나고만 싶어\\n날 향한 시선에 감추기만 했던\\n마음의 목소리를 소리 내 외치면\\n스치는 바람을 따라\\n더없이 가벼워진 마음은\\n내 안의 나를 깨우게 해\\n잿빛 세상을 등지고 이 도시를 달려봐\\n내 맘 가는 대로 가로질러 가볼래 날 위해\\n그곳이 어디든 날개를 펼치고 I’m flying\\n저 쏟아지듯 펼쳐진 길 위로\\n내 모든 걸 던져\\nRun run run higher fly fly fly higher\\nI I find myself 다시 빛나는 나를 봐\\nRun run run higher fly fly fly fly higher\\n이 어둠 속 눈을 감고\\n다시 꿈을 꿔\\n길을 잃어버린 두 눈과는 달리\\n선명해진 내 안의 꿈은\\n조금씩 더 커져가고\\n앞이 보이지 않던 까맣게 번진 어둠도\\n더는 두렵지 않은걸\\n날 향한 시선에 감추기만 했던\\n마음의 목소리를 소리 내 외치면\\n스치는 바람을 따라\\n더없이 가벼워진 마음은\\n더 힘껏 발을 밟게 해\\n잿빛 세상을 등지고 이 도시를 달려봐\\n내 맘 가는 대로 가로질러 가볼래 날 위해\\n그곳이 어디든 날개를 펼치고 I’m flying\\n저 쏟아지듯 펼쳐진 길 위로\\n내 모든 걸 던져\\n두려움은 잊고 이 바람을 느껴\\n뒤돌아보지 말고 나의 길을 믿어봐\\n목적지는 없어 이 핸들을 잡은 건 나니까\\n잿빛 세상을 등지고 이 도시를 달려봐\\n내 맘 가는 대로 가로질러 가볼래 날 위해\\n그곳이 어디든 날개를 펼치고 I’m flying\\n저 쏟아지듯 펼쳐진 길 위로\\n내 모든 걸 던져\\nRun run run higher fly fly fly higher\\nI I find myself 다시 빛나는 나를 봐\\nRun run run higher fly fly fly fly higher\\n이 어둠 속 눈을 감고\\n다시 꿈을 꿔']\n"
     ]
    }
   ],
   "source": [
    "print(len(lyric_lst))\n",
    "print(lyric_lst[:5])"
   ]
  },
  {
   "cell_type": "code",
   "execution_count": 375,
   "metadata": {},
   "outputs": [
    {
     "data": {
      "text/html": [
       "<div>\n",
       "<style scoped>\n",
       "    .dataframe tbody tr th:only-of-type {\n",
       "        vertical-align: middle;\n",
       "    }\n",
       "\n",
       "    .dataframe tbody tr th {\n",
       "        vertical-align: top;\n",
       "    }\n",
       "\n",
       "    .dataframe thead th {\n",
       "        text-align: right;\n",
       "    }\n",
       "</style>\n",
       "<table border=\"1\" class=\"dataframe\">\n",
       "  <thead>\n",
       "    <tr style=\"text-align: right;\">\n",
       "      <th></th>\n",
       "      <th>Lyric</th>\n",
       "      <th>label</th>\n",
       "    </tr>\n",
       "  </thead>\n",
       "  <tbody>\n",
       "    <tr>\n",
       "      <th>0</th>\n",
       "      <td>시작해볼까\\n이 시간만을 기다려 왔네\\n웃음이 번져\\n드디어 우리 마주한 거야\\n한...</td>\n",
       "      <td>2</td>\n",
       "    </tr>\n",
       "    <tr>\n",
       "      <th>1</th>\n",
       "      <td>문득 달라진 게 느껴져\\n정말 어른이 되고 있어\\n내 부족함이 보여도\\n더는 내가 ...</td>\n",
       "      <td>2</td>\n",
       "    </tr>\n",
       "    <tr>\n",
       "      <th>2</th>\n",
       "      <td>너의 두 눈은\\n저 하늘의 별처럼 반짝이고\\n저기 가득 찬 저 달처럼\\n찬란하게 비...</td>\n",
       "      <td>2</td>\n",
       "    </tr>\n",
       "    <tr>\n",
       "      <th>3</th>\n",
       "      <td>고요한 어둠 속에서\\n움츠러든 채로\\n멍하니 바라본 별은\\n유난히 빛나 보여\\n손을...</td>\n",
       "      <td>2</td>\n",
       "    </tr>\n",
       "    <tr>\n",
       "      <th>4</th>\n",
       "      <td>빛을 잃어가는 마음과는 달리\\n채워지는 도시의 별은\\n하나둘씩 늘어가고\\n자리를 찾...</td>\n",
       "      <td>2</td>\n",
       "    </tr>\n",
       "    <tr>\n",
       "      <th>...</th>\n",
       "      <td>...</td>\n",
       "      <td>...</td>\n",
       "    </tr>\n",
       "    <tr>\n",
       "      <th>398</th>\n",
       "      <td>Invisible 안갯 속에\\n나를 찾아야만 해 Yeah\\n작은 불빛 그 희망은\\n...</td>\n",
       "      <td>2</td>\n",
       "    </tr>\n",
       "    <tr>\n",
       "      <th>399</th>\n",
       "      <td>Mama 걱정하지마\\nI'm better now\\nI'm better now\\nMa...</td>\n",
       "      <td>2</td>\n",
       "    </tr>\n",
       "    <tr>\n",
       "      <th>400</th>\n",
       "      <td>왜 한숨이 나는지\\n왜 고갤 못 드는 건지\\nHmm Hmm 나만 이런 건지\\n무거운...</td>\n",
       "      <td>2</td>\n",
       "    </tr>\n",
       "    <tr>\n",
       "      <th>401</th>\n",
       "      <td>당신손에 들려있는 반짝거리는\\n그것으로 무얼 할 수 있나요\\n그게 당신을 행복하게 ...</td>\n",
       "      <td>2</td>\n",
       "    </tr>\n",
       "    <tr>\n",
       "      <th>402</th>\n",
       "      <td>밤새워 울었지\\n멀어지기만 하는 꿈이\\n한심하고 서러워\\n모두 나를 잊은것 같아\\n...</td>\n",
       "      <td>2</td>\n",
       "    </tr>\n",
       "  </tbody>\n",
       "</table>\n",
       "<p>403 rows × 2 columns</p>\n",
       "</div>"
      ],
      "text/plain": [
       "                                                 Lyric  label\n",
       "0    시작해볼까\\n이 시간만을 기다려 왔네\\n웃음이 번져\\n드디어 우리 마주한 거야\\n한...      2\n",
       "1    문득 달라진 게 느껴져\\n정말 어른이 되고 있어\\n내 부족함이 보여도\\n더는 내가 ...      2\n",
       "2    너의 두 눈은\\n저 하늘의 별처럼 반짝이고\\n저기 가득 찬 저 달처럼\\n찬란하게 비...      2\n",
       "3    고요한 어둠 속에서\\n움츠러든 채로\\n멍하니 바라본 별은\\n유난히 빛나 보여\\n손을...      2\n",
       "4    빛을 잃어가는 마음과는 달리\\n채워지는 도시의 별은\\n하나둘씩 늘어가고\\n자리를 찾...      2\n",
       "..                                                 ...    ...\n",
       "398  Invisible 안갯 속에\\n나를 찾아야만 해 Yeah\\n작은 불빛 그 희망은\\n...      2\n",
       "399  Mama 걱정하지마\\nI'm better now\\nI'm better now\\nMa...      2\n",
       "400  왜 한숨이 나는지\\n왜 고갤 못 드는 건지\\nHmm Hmm 나만 이런 건지\\n무거운...      2\n",
       "401  당신손에 들려있는 반짝거리는\\n그것으로 무얼 할 수 있나요\\n그게 당신을 행복하게 ...      2\n",
       "402  밤새워 울었지\\n멀어지기만 하는 꿈이\\n한심하고 서러워\\n모두 나를 잊은것 같아\\n...      2\n",
       "\n",
       "[403 rows x 2 columns]"
      ]
     },
     "execution_count": 375,
     "metadata": {},
     "output_type": "execute_result"
    }
   ],
   "source": [
    "hope_Lyric_dataset=pd.DataFrame({'Lyric':lyric_lst,'label':2})\n",
    "hope_Lyric_dataset"
   ]
  },
  {
   "cell_type": "code",
   "execution_count": 379,
   "metadata": {},
   "outputs": [],
   "source": [
    "hope_Lyric_dataset.to_csv('./data/hope_Lyric_dataset.csv',encoding='utf-8-sig',index=False)"
   ]
  },
  {
   "attachments": {},
   "cell_type": "markdown",
   "metadata": {},
   "source": [
    "분노"
   ]
  },
  {
   "cell_type": "code",
   "execution_count": 2,
   "metadata": {},
   "outputs": [
    {
     "name": "stdout",
     "output_type": "stream",
     "text": [
      "20 20\n",
      "40 40\n",
      "90 90\n",
      "94 94\n",
      "107 106\n",
      "157 151\n",
      "159 152\n"
     ]
    }
   ],
   "source": [
    "song_number=[]\n",
    "\n",
    "url_lst=['https://www.melon.com/mymusic/dj/mymusicdjplaylistview_inform.htm?plylstSeq=457823884',\n",
    "         'https://www.melon.com/mymusic/dj/mymusicdjplaylistview_inform.htm?plylstSeq=457914982',\n",
    "         'https://www.melon.com/mymusic/dj/mymusicdjplaylistview_inform.htm?plylstSeq=486222735#params%5BplylstSeq%5D=486222735&po=pageObj&startIndex=1',\n",
    "         'https://www.melon.com/mymusic/dj/mymusicdjplaylistview_inform.htm?plylstSeq=486222735#params%5BplylstSeq%5D=486222735&po=pageObj&startIndex=51',\n",
    "         'https://www.melon.com/mymusic/dj/mymusicdjplaylistview_inform.htm?plylstSeq=505608994',\n",
    "         'https://www.melon.com/mymusic/dj/mymusicdjplaylistview_inform.htm?plylstSeq=490101618',\n",
    "         'https://www.melon.com/mymusic/dj/mymusicdjplaylistview_inform.htm?plylstSeq=490101618#params%5BplylstSeq%5D=490101618&po=pageObj&startIndex=51',\n",
    "         'https://www.melon.com/mymusic/dj/mymusicdjplaylistview_inform.htm?plylstSeq=423432783']\n",
    "\n",
    "for url in url_lst:\n",
    "    driver=webdriver.Chrome()\n",
    "    driver.get(url)\n",
    "\n",
    "    html=driver.page_source\n",
    "    soup=BeautifulSoup(html,'html.parser')\n",
    "    songs=soup.select('div.wrap > a.btn.button_icons.type03.song_info')\n",
    "\n",
    "    for i in range(len(songs)):\n",
    "        href=songs[i].attrs['href']\n",
    "        song_number.append(re.sub('[^0-9]','',href))\n",
    "    driver.close()\n",
    "\n",
    "    print(len(song_number),len(set(song_number)))"
   ]
  },
  {
   "cell_type": "code",
   "execution_count": 7,
   "metadata": {},
   "outputs": [],
   "source": [
    "song_number=set(song_number)"
   ]
  },
  {
   "cell_type": "code",
   "execution_count": 11,
   "metadata": {},
   "outputs": [],
   "source": [
    "driver=webdriver.Chrome()\n",
    "lyric_lst=[]\n",
    "cnt=0\n",
    "for i in song_number:\n",
    "    url=\"https://www.melon.com/song/detail.htm?songId=\"+i\n",
    "    headers={'user-agent':'Mozilla/5.0 (Windows NT 10.0; Win64; x64) AppleWebKit/537.36 (KHTML, like Gecko) Chrome/109.0.0.0 Safari/537.36'}\n",
    "    r=requests.get(url,headers=headers)\n",
    "    soup=BeautifulSoup(r.text,'html.parser')\n",
    "    try:\n",
    "        lyric_lst.append(soup.select('div.lyric')[0].text)\n",
    "    except:\n",
    "        cnt+=1\n",
    "    time.sleep(2)"
   ]
  },
  {
   "cell_type": "code",
   "execution_count": 12,
   "metadata": {},
   "outputs": [
    {
     "data": {
      "text/plain": [
       "24"
      ]
     },
     "execution_count": 12,
     "metadata": {},
     "output_type": "execute_result"
    }
   ],
   "source": [
    "cnt"
   ]
  },
  {
   "cell_type": "code",
   "execution_count": 13,
   "metadata": {},
   "outputs": [
    {
     "data": {
      "text/plain": [
       "150"
      ]
     },
     "execution_count": 13,
     "metadata": {},
     "output_type": "execute_result"
    }
   ],
   "source": [
    "len(lyric_lst)"
   ]
  },
  {
   "cell_type": "code",
   "execution_count": 15,
   "metadata": {},
   "outputs": [
    {
     "data": {
      "text/html": [
       "<div>\n",
       "<style scoped>\n",
       "    .dataframe tbody tr th:only-of-type {\n",
       "        vertical-align: middle;\n",
       "    }\n",
       "\n",
       "    .dataframe tbody tr th {\n",
       "        vertical-align: top;\n",
       "    }\n",
       "\n",
       "    .dataframe thead th {\n",
       "        text-align: right;\n",
       "    }\n",
       "</style>\n",
       "<table border=\"1\" class=\"dataframe\">\n",
       "  <thead>\n",
       "    <tr style=\"text-align: right;\">\n",
       "      <th></th>\n",
       "      <th>Lyrics</th>\n",
       "      <th>label</th>\n",
       "    </tr>\n",
       "  </thead>\n",
       "  <tbody>\n",
       "    <tr>\n",
       "      <th>0</th>\n",
       "      <td>\\r\\n\\t\\t\\t\\t\\t\\t\\t폭염에 복면 쓰고불구덩이에 처박힌내 기분을 니들이 ...</td>\n",
       "      <td>3</td>\n",
       "    </tr>\n",
       "    <tr>\n",
       "      <th>1</th>\n",
       "      <td>\\r\\n\\t\\t\\t\\t\\t\\t\\tI Pop it off in this game.Ok...</td>\n",
       "      <td>3</td>\n",
       "    </tr>\n",
       "    <tr>\n",
       "      <th>2</th>\n",
       "      <td>\\r\\n\\t\\t\\t\\t\\t\\t\\tLet’s burn(No)It’s done (Ars...</td>\n",
       "      <td>3</td>\n",
       "    </tr>\n",
       "    <tr>\n",
       "      <th>3</th>\n",
       "      <td>\\r\\n\\t\\t\\t\\t\\t\\t\\t내가 제일 잘 나가내가 제일 잘 나가내가 제일 잘 ...</td>\n",
       "      <td>3</td>\n",
       "    </tr>\n",
       "    <tr>\n",
       "      <th>4</th>\n",
       "      <td>\\r\\n\\t\\t\\t\\t\\t\\t\\tWho dat이제야 벗겨지는 veilThanks f...</td>\n",
       "      <td>3</td>\n",
       "    </tr>\n",
       "    <tr>\n",
       "      <th>...</th>\n",
       "      <td>...</td>\n",
       "      <td>...</td>\n",
       "    </tr>\n",
       "    <tr>\n",
       "      <th>145</th>\n",
       "      <td>\\r\\n\\t\\t\\t\\t\\t\\t\\t반쯤 미쳐가는 나망가져 나의 삶넌 내게서 나를 지워...</td>\n",
       "      <td>3</td>\n",
       "    </tr>\n",
       "    <tr>\n",
       "      <th>146</th>\n",
       "      <td>\\r\\n\\t\\t\\t\\t\\t\\t\\t무궁화 꽃이 피었습니다우리 빼고 모두 다 멈춰지담이...</td>\n",
       "      <td>3</td>\n",
       "    </tr>\n",
       "    <tr>\n",
       "      <th>147</th>\n",
       "      <td>\\r\\n\\t\\t\\t\\t\\t\\t\\t아예 아예 아예 아예 아예 아예 아예 아예 아예 아...</td>\n",
       "      <td>3</td>\n",
       "    </tr>\n",
       "    <tr>\n",
       "      <th>148</th>\n",
       "      <td>\\r\\n\\t\\t\\t\\t\\t\\t\\t난 나쁜 기집애 나난 나쁜 기집애  난 나쁜 기집애...</td>\n",
       "      <td>3</td>\n",
       "    </tr>\n",
       "    <tr>\n",
       "      <th>149</th>\n",
       "      <td>\\r\\n\\t\\t\\t\\t\\t\\t\\t궁금해서 잠이 안 와그때 왜 그랬어구차해도 묻고 싶...</td>\n",
       "      <td>3</td>\n",
       "    </tr>\n",
       "  </tbody>\n",
       "</table>\n",
       "<p>150 rows × 2 columns</p>\n",
       "</div>"
      ],
      "text/plain": [
       "                                                Lyrics  label\n",
       "0    \\r\\n\\t\\t\\t\\t\\t\\t\\t폭염에 복면 쓰고불구덩이에 처박힌내 기분을 니들이 ...      3\n",
       "1    \\r\\n\\t\\t\\t\\t\\t\\t\\tI Pop it off in this game.Ok...      3\n",
       "2    \\r\\n\\t\\t\\t\\t\\t\\t\\tLet’s burn(No)It’s done (Ars...      3\n",
       "3    \\r\\n\\t\\t\\t\\t\\t\\t\\t내가 제일 잘 나가내가 제일 잘 나가내가 제일 잘 ...      3\n",
       "4    \\r\\n\\t\\t\\t\\t\\t\\t\\tWho dat이제야 벗겨지는 veilThanks f...      3\n",
       "..                                                 ...    ...\n",
       "145  \\r\\n\\t\\t\\t\\t\\t\\t\\t반쯤 미쳐가는 나망가져 나의 삶넌 내게서 나를 지워...      3\n",
       "146  \\r\\n\\t\\t\\t\\t\\t\\t\\t무궁화 꽃이 피었습니다우리 빼고 모두 다 멈춰지담이...      3\n",
       "147  \\r\\n\\t\\t\\t\\t\\t\\t\\t아예 아예 아예 아예 아예 아예 아예 아예 아예 아...      3\n",
       "148  \\r\\n\\t\\t\\t\\t\\t\\t\\t난 나쁜 기집애 나난 나쁜 기집애  난 나쁜 기집애...      3\n",
       "149  \\r\\n\\t\\t\\t\\t\\t\\t\\t궁금해서 잠이 안 와그때 왜 그랬어구차해도 묻고 싶...      3\n",
       "\n",
       "[150 rows x 2 columns]"
      ]
     },
     "execution_count": 15,
     "metadata": {},
     "output_type": "execute_result"
    }
   ],
   "source": [
    "anger_Lyric_dataset=pd.DataFrame({'Lyrics':lyric_lst,'label':3})\n",
    "anger_Lyric_dataset"
   ]
  },
  {
   "cell_type": "code",
   "execution_count": 16,
   "metadata": {},
   "outputs": [],
   "source": [
    "anger_Lyric_dataset.to_csv('./data/anger_Lyric_dataset.csv',encoding='utf-8-sig',index=False)"
   ]
  },
  {
   "attachments": {},
   "cell_type": "markdown",
   "metadata": {},
   "source": [
    "행복"
   ]
  },
  {
   "cell_type": "code",
   "execution_count": 20,
   "metadata": {},
   "outputs": [
    {
     "name": "stdout",
     "output_type": "stream",
     "text": [
      "(50, 2)\n"
     ]
    },
    {
     "data": {
      "text/html": [
       "<div>\n",
       "<style scoped>\n",
       "    .dataframe tbody tr th:only-of-type {\n",
       "        vertical-align: middle;\n",
       "    }\n",
       "\n",
       "    .dataframe tbody tr th {\n",
       "        vertical-align: top;\n",
       "    }\n",
       "\n",
       "    .dataframe thead th {\n",
       "        text-align: right;\n",
       "    }\n",
       "</style>\n",
       "<table border=\"1\" class=\"dataframe\">\n",
       "  <thead>\n",
       "    <tr style=\"text-align: right;\">\n",
       "      <th></th>\n",
       "      <th>Lyrics</th>\n",
       "      <th>label</th>\n",
       "    </tr>\n",
       "  </thead>\n",
       "  <tbody>\n",
       "    <tr>\n",
       "      <th>0</th>\n",
       "      <td>아침에 일어나 너에게 짧은 인사를 보낸다 아무리 멀리 떨어져 있어도 나는 널 생각하...</td>\n",
       "      <td>0</td>\n",
       "    </tr>\n",
       "    <tr>\n",
       "      <th>1</th>\n",
       "      <td>라라랄라 라라랄라 워어 워어  너가 맛있었다고 했던  살구빛 샐러드  맛있어서 또 ...</td>\n",
       "      <td>0</td>\n",
       "    </tr>\n",
       "    <tr>\n",
       "      <th>2</th>\n",
       "      <td>자꾸 마주치는 네 눈빛에 Baby baby왠지 어색해 대체 왜 이래고개를 숙여봐도너...</td>\n",
       "      <td>0</td>\n",
       "    </tr>\n",
       "    <tr>\n",
       "      <th>3</th>\n",
       "      <td>어깨동무까진 괜찮아그치만 손 잡는 건 조금 위험해잘 자란 메세진 괜찮아그래도 자냐는...</td>\n",
       "      <td>0</td>\n",
       "    </tr>\n",
       "    <tr>\n",
       "      <th>4</th>\n",
       "      <td>햇살이 가득그댈 향한 가벼운 발걸음콧노래 부르며쇼윈도에 비친내 모습을 한번 점검해시...</td>\n",
       "      <td>0</td>\n",
       "    </tr>\n",
       "  </tbody>\n",
       "</table>\n",
       "</div>"
      ],
      "text/plain": [
       "                                              Lyrics  label\n",
       "0  아침에 일어나 너에게 짧은 인사를 보낸다 아무리 멀리 떨어져 있어도 나는 널 생각하...      0\n",
       "1  라라랄라 라라랄라 워어 워어  너가 맛있었다고 했던  살구빛 샐러드  맛있어서 또 ...      0\n",
       "2  자꾸 마주치는 네 눈빛에 Baby baby왠지 어색해 대체 왜 이래고개를 숙여봐도너...      0\n",
       "3  어깨동무까진 괜찮아그치만 손 잡는 건 조금 위험해잘 자란 메세진 괜찮아그래도 자냐는...      0\n",
       "4  햇살이 가득그댈 향한 가벼운 발걸음콧노래 부르며쇼윈도에 비친내 모습을 한번 점검해시...      0"
      ]
     },
     "execution_count": 20,
     "metadata": {},
     "output_type": "execute_result"
    }
   ],
   "source": [
    "happy=pd.read_csv('./data/happy_Lyrics_dataset.csv')\n",
    "print(happy.shape)\n",
    "happy.head()"
   ]
  },
  {
   "cell_type": "code",
   "execution_count": 21,
   "metadata": {},
   "outputs": [
    {
     "name": "stdout",
     "output_type": "stream",
     "text": [
      "50 50\n",
      "100 100\n"
     ]
    }
   ],
   "source": [
    "song_number=[]\n",
    "\n",
    "url_lst=['https://www.melon.com/mymusic/dj/mymusicdjplaylistview_inform.htm?plylstSeq=429411613#params%5BplylstSeq%5D=429411613&po=pageObj&startIndex=51',\n",
    "         'https://www.melon.com/mymusic/dj/mymusicdjplaylistview_inform.htm?plylstSeq=429411613#params%5BplylstSeq%5D=429411613&po=pageObj&startIndex=101']\n",
    "\n",
    "for url in url_lst:\n",
    "    driver=webdriver.Chrome()\n",
    "    driver.get(url)\n",
    "\n",
    "    html=driver.page_source\n",
    "    soup=BeautifulSoup(html,'html.parser')\n",
    "    songs=soup.select('div.wrap > a.btn.button_icons.type03.song_info')\n",
    "\n",
    "    for i in range(len(songs)):\n",
    "        href=songs[i].attrs['href']\n",
    "        song_number.append(re.sub('[^0-9]','',href))\n",
    "    driver.close()\n",
    "\n",
    "    print(len(song_number),len(set(song_number)))"
   ]
  },
  {
   "cell_type": "code",
   "execution_count": 22,
   "metadata": {},
   "outputs": [],
   "source": [
    "driver=webdriver.Chrome()\n",
    "lyric_lst=[]\n",
    "cnt=0\n",
    "for i in song_number:\n",
    "    url=\"https://www.melon.com/song/detail.htm?songId=\"+i\n",
    "    headers={'user-agent':'Mozilla/5.0 (Windows NT 10.0; Win64; x64) AppleWebKit/537.36 (KHTML, like Gecko) Chrome/109.0.0.0 Safari/537.36'}\n",
    "    r=requests.get(url,headers=headers)\n",
    "    soup=BeautifulSoup(r.text,'html.parser')\n",
    "    try:\n",
    "        lyric_lst.append(soup.select('div.lyric')[0].text)\n",
    "    except:\n",
    "        cnt+=1\n",
    "    time.sleep(2)"
   ]
  },
  {
   "cell_type": "code",
   "execution_count": 24,
   "metadata": {},
   "outputs": [
    {
     "data": {
      "text/html": [
       "<div>\n",
       "<style scoped>\n",
       "    .dataframe tbody tr th:only-of-type {\n",
       "        vertical-align: middle;\n",
       "    }\n",
       "\n",
       "    .dataframe tbody tr th {\n",
       "        vertical-align: top;\n",
       "    }\n",
       "\n",
       "    .dataframe thead th {\n",
       "        text-align: right;\n",
       "    }\n",
       "</style>\n",
       "<table border=\"1\" class=\"dataframe\">\n",
       "  <thead>\n",
       "    <tr style=\"text-align: right;\">\n",
       "      <th></th>\n",
       "      <th>Lyrics</th>\n",
       "      <th>label</th>\n",
       "    </tr>\n",
       "  </thead>\n",
       "  <tbody>\n",
       "    <tr>\n",
       "      <th>0</th>\n",
       "      <td>\\r\\n\\t\\t\\t\\t\\t\\t\\t두근거린 느낌 가슴 설렌 마음이렇게 난 또 멍하게 ...</td>\n",
       "      <td>0</td>\n",
       "    </tr>\n",
       "    <tr>\n",
       "      <th>1</th>\n",
       "      <td>\\r\\n\\t\\t\\t\\t\\t\\t\\t1 2 Come On R U Ready3 4 Do ...</td>\n",
       "      <td>0</td>\n",
       "    </tr>\n",
       "    <tr>\n",
       "      <th>2</th>\n",
       "      <td>\\r\\n\\t\\t\\t\\t\\t\\t\\t딱 걸렸어 널 보는 내 눈빛이 무심한 척 잘 숨겨왔...</td>\n",
       "      <td>0</td>\n",
       "    </tr>\n",
       "    <tr>\n",
       "      <th>3</th>\n",
       "      <td>\\r\\n\\t\\t\\t\\t\\t\\t\\tYes I’m so sick Because of y...</td>\n",
       "      <td>0</td>\n",
       "    </tr>\n",
       "    <tr>\n",
       "      <th>4</th>\n",
       "      <td>\\r\\n\\t\\t\\t\\t\\t\\t\\t옛날 옛적언니들과 계모에게몹시 구박 받던그녀 이름맘...</td>\n",
       "      <td>0</td>\n",
       "    </tr>\n",
       "    <tr>\n",
       "      <th>...</th>\n",
       "      <td>...</td>\n",
       "      <td>...</td>\n",
       "    </tr>\n",
       "    <tr>\n",
       "      <th>91</th>\n",
       "      <td>\\r\\n\\t\\t\\t\\t\\t\\t\\t니가 날 싫어해 하는 걸 알아나는 서운해 그런 날 ...</td>\n",
       "      <td>0</td>\n",
       "    </tr>\n",
       "    <tr>\n",
       "      <th>92</th>\n",
       "      <td>\\r\\n\\t\\t\\t\\t\\t\\t\\t그럴 수 있겠지 it's alright 참아 줄 수...</td>\n",
       "      <td>0</td>\n",
       "    </tr>\n",
       "    <tr>\n",
       "      <th>93</th>\n",
       "      <td>\\r\\n\\t\\t\\t\\t\\t\\t\\tWa Wa Yeh! 가식적인 체면 다 모두 다 버리...</td>\n",
       "      <td>0</td>\n",
       "    </tr>\n",
       "    <tr>\n",
       "      <th>94</th>\n",
       "      <td>\\r\\n\\t\\t\\t\\t\\t\\t\\t늘 바라만 보네요하루가 지나가고 또 하루가 지나도그...</td>\n",
       "      <td>0</td>\n",
       "    </tr>\n",
       "    <tr>\n",
       "      <th>95</th>\n",
       "      <td>\\r\\n\\t\\t\\t\\t\\t\\t\\t배드민턴 치자고 꼬셔커피 한 잔 하자고 불러동네 한...</td>\n",
       "      <td>0</td>\n",
       "    </tr>\n",
       "  </tbody>\n",
       "</table>\n",
       "<p>96 rows × 2 columns</p>\n",
       "</div>"
      ],
      "text/plain": [
       "                                               Lyrics  label\n",
       "0   \\r\\n\\t\\t\\t\\t\\t\\t\\t두근거린 느낌 가슴 설렌 마음이렇게 난 또 멍하게 ...      0\n",
       "1   \\r\\n\\t\\t\\t\\t\\t\\t\\t1 2 Come On R U Ready3 4 Do ...      0\n",
       "2   \\r\\n\\t\\t\\t\\t\\t\\t\\t딱 걸렸어 널 보는 내 눈빛이 무심한 척 잘 숨겨왔...      0\n",
       "3   \\r\\n\\t\\t\\t\\t\\t\\t\\tYes I’m so sick Because of y...      0\n",
       "4   \\r\\n\\t\\t\\t\\t\\t\\t\\t옛날 옛적언니들과 계모에게몹시 구박 받던그녀 이름맘...      0\n",
       "..                                                ...    ...\n",
       "91  \\r\\n\\t\\t\\t\\t\\t\\t\\t니가 날 싫어해 하는 걸 알아나는 서운해 그런 날 ...      0\n",
       "92  \\r\\n\\t\\t\\t\\t\\t\\t\\t그럴 수 있겠지 it's alright 참아 줄 수...      0\n",
       "93  \\r\\n\\t\\t\\t\\t\\t\\t\\tWa Wa Yeh! 가식적인 체면 다 모두 다 버리...      0\n",
       "94  \\r\\n\\t\\t\\t\\t\\t\\t\\t늘 바라만 보네요하루가 지나가고 또 하루가 지나도그...      0\n",
       "95  \\r\\n\\t\\t\\t\\t\\t\\t\\t배드민턴 치자고 꼬셔커피 한 잔 하자고 불러동네 한...      0\n",
       "\n",
       "[96 rows x 2 columns]"
      ]
     },
     "execution_count": 24,
     "metadata": {},
     "output_type": "execute_result"
    }
   ],
   "source": [
    "happy_plus=pd.DataFrame({'Lyrics':lyric_lst,'label':0})\n",
    "happy_plus"
   ]
  },
  {
   "cell_type": "code",
   "execution_count": 27,
   "metadata": {},
   "outputs": [
    {
     "name": "stdout",
     "output_type": "stream",
     "text": [
      "50 50\n"
     ]
    }
   ],
   "source": [
    "song_number=[]\n",
    "driver=webdriver.Chrome()\n",
    "driver.get('https://www.melon.com/mymusic/dj/mymusicdjplaylistview_inform.htm?plylstSeq=429411613#params%5BplylstSeq%5D=429411613&po=pageObj&startIndex=151')\n",
    "\n",
    "html=driver.page_source\n",
    "soup=BeautifulSoup(html,'html.parser')\n",
    "songs=soup.select('div.wrap > a.btn.button_icons.type03.song_info')\n",
    "\n",
    "for i in range(len(songs)):\n",
    "    href=songs[i].attrs['href']\n",
    "    song_number.append(re.sub('[^0-9]','',href))\n",
    "driver.close()\n",
    "\n",
    "print(len(song_number),len(set(song_number)))"
   ]
  },
  {
   "cell_type": "code",
   "execution_count": 28,
   "metadata": {},
   "outputs": [],
   "source": [
    "driver=webdriver.Chrome()\n",
    "lyric_lst=[]\n",
    "cnt=0\n",
    "for i in song_number:\n",
    "    url=\"https://www.melon.com/song/detail.htm?songId=\"+i\n",
    "    headers={'user-agent':'Mozilla/5.0 (Windows NT 10.0; Win64; x64) AppleWebKit/537.36 (KHTML, like Gecko) Chrome/109.0.0.0 Safari/537.36'}\n",
    "    r=requests.get(url,headers=headers)\n",
    "    soup=BeautifulSoup(r.text,'html.parser')\n",
    "    try:\n",
    "        lyric_lst.append(soup.select('div.lyric')[0].text)\n",
    "    except:\n",
    "        cnt+=1\n",
    "    time.sleep(2)"
   ]
  },
  {
   "cell_type": "code",
   "execution_count": 30,
   "metadata": {},
   "outputs": [
    {
     "data": {
      "text/html": [
       "<div>\n",
       "<style scoped>\n",
       "    .dataframe tbody tr th:only-of-type {\n",
       "        vertical-align: middle;\n",
       "    }\n",
       "\n",
       "    .dataframe tbody tr th {\n",
       "        vertical-align: top;\n",
       "    }\n",
       "\n",
       "    .dataframe thead th {\n",
       "        text-align: right;\n",
       "    }\n",
       "</style>\n",
       "<table border=\"1\" class=\"dataframe\">\n",
       "  <thead>\n",
       "    <tr style=\"text-align: right;\">\n",
       "      <th></th>\n",
       "      <th>Lyrics</th>\n",
       "      <th>label</th>\n",
       "    </tr>\n",
       "  </thead>\n",
       "  <tbody>\n",
       "    <tr>\n",
       "      <th>0</th>\n",
       "      <td>\\r\\n\\t\\t\\t\\t\\t\\t\\t두 눈에 나의 사랑을 담으러 가요내 맘에 행복이 오...</td>\n",
       "      <td>0</td>\n",
       "    </tr>\n",
       "    <tr>\n",
       "      <th>1</th>\n",
       "      <td>\\r\\n\\t\\t\\t\\t\\t\\t\\t달이 차고 내 마음도 차고이대로 담아 두기엔 너무 ...</td>\n",
       "      <td>0</td>\n",
       "    </tr>\n",
       "    <tr>\n",
       "      <th>2</th>\n",
       "      <td>\\r\\n\\t\\t\\t\\t\\t\\t\\t사랑을 할거야-우리 이제는 좋아하게 될꺼야지나버린 ...</td>\n",
       "      <td>0</td>\n",
       "    </tr>\n",
       "    <tr>\n",
       "      <th>3</th>\n",
       "      <td>\\r\\n\\t\\t\\t\\t\\t\\t\\t아주 아주 오래 전부터내가 널 만나던 그 순간부터너...</td>\n",
       "      <td>0</td>\n",
       "    </tr>\n",
       "    <tr>\n",
       "      <th>4</th>\n",
       "      <td>\\r\\n\\t\\t\\t\\t\\t\\t\\t커피 우유 빛 얼굴웃을 때 마다 날 녹이는하트 모양...</td>\n",
       "      <td>0</td>\n",
       "    </tr>\n",
       "  </tbody>\n",
       "</table>\n",
       "</div>"
      ],
      "text/plain": [
       "                                              Lyrics  label\n",
       "0  \\r\\n\\t\\t\\t\\t\\t\\t\\t두 눈에 나의 사랑을 담으러 가요내 맘에 행복이 오...      0\n",
       "1  \\r\\n\\t\\t\\t\\t\\t\\t\\t달이 차고 내 마음도 차고이대로 담아 두기엔 너무 ...      0\n",
       "2  \\r\\n\\t\\t\\t\\t\\t\\t\\t사랑을 할거야-우리 이제는 좋아하게 될꺼야지나버린 ...      0\n",
       "3  \\r\\n\\t\\t\\t\\t\\t\\t\\t아주 아주 오래 전부터내가 널 만나던 그 순간부터너...      0\n",
       "4  \\r\\n\\t\\t\\t\\t\\t\\t\\t커피 우유 빛 얼굴웃을 때 마다 날 녹이는하트 모양...      0"
      ]
     },
     "execution_count": 30,
     "metadata": {},
     "output_type": "execute_result"
    }
   ],
   "source": [
    "happy_plus2=pd.DataFrame({'Lyrics':lyric_lst,'label':0})\n",
    "happy_plus2.head()"
   ]
  },
  {
   "cell_type": "code",
   "execution_count": 31,
   "metadata": {},
   "outputs": [
    {
     "data": {
      "text/html": [
       "<div>\n",
       "<style scoped>\n",
       "    .dataframe tbody tr th:only-of-type {\n",
       "        vertical-align: middle;\n",
       "    }\n",
       "\n",
       "    .dataframe tbody tr th {\n",
       "        vertical-align: top;\n",
       "    }\n",
       "\n",
       "    .dataframe thead th {\n",
       "        text-align: right;\n",
       "    }\n",
       "</style>\n",
       "<table border=\"1\" class=\"dataframe\">\n",
       "  <thead>\n",
       "    <tr style=\"text-align: right;\">\n",
       "      <th></th>\n",
       "      <th>Lyrics</th>\n",
       "      <th>label</th>\n",
       "    </tr>\n",
       "  </thead>\n",
       "  <tbody>\n",
       "    <tr>\n",
       "      <th>0</th>\n",
       "      <td>아침에 일어나 너에게 짧은 인사를 보낸다 아무리 멀리 떨어져 있어도 나는 널 생각하...</td>\n",
       "      <td>0</td>\n",
       "    </tr>\n",
       "    <tr>\n",
       "      <th>1</th>\n",
       "      <td>라라랄라 라라랄라 워어 워어  너가 맛있었다고 했던  살구빛 샐러드  맛있어서 또 ...</td>\n",
       "      <td>0</td>\n",
       "    </tr>\n",
       "    <tr>\n",
       "      <th>2</th>\n",
       "      <td>자꾸 마주치는 네 눈빛에 Baby baby왠지 어색해 대체 왜 이래고개를 숙여봐도너...</td>\n",
       "      <td>0</td>\n",
       "    </tr>\n",
       "    <tr>\n",
       "      <th>3</th>\n",
       "      <td>어깨동무까진 괜찮아그치만 손 잡는 건 조금 위험해잘 자란 메세진 괜찮아그래도 자냐는...</td>\n",
       "      <td>0</td>\n",
       "    </tr>\n",
       "    <tr>\n",
       "      <th>4</th>\n",
       "      <td>햇살이 가득그댈 향한 가벼운 발걸음콧노래 부르며쇼윈도에 비친내 모습을 한번 점검해시...</td>\n",
       "      <td>0</td>\n",
       "    </tr>\n",
       "    <tr>\n",
       "      <th>...</th>\n",
       "      <td>...</td>\n",
       "      <td>...</td>\n",
       "    </tr>\n",
       "    <tr>\n",
       "      <th>191</th>\n",
       "      <td>\\r\\n\\t\\t\\t\\t\\t\\t\\t반짝 눈부신 날쨘하고 나타날 것 같아방금 짖궂은 그...</td>\n",
       "      <td>0</td>\n",
       "    </tr>\n",
       "    <tr>\n",
       "      <th>192</th>\n",
       "      <td>\\r\\n\\t\\t\\t\\t\\t\\t\\t두근거렸지 누군가 나의 뒤를 쫓고있었고 검은 절벽 ...</td>\n",
       "      <td>0</td>\n",
       "    </tr>\n",
       "    <tr>\n",
       "      <th>193</th>\n",
       "      <td>\\r\\n\\t\\t\\t\\t\\t\\t\\t한번도 난 너를 잊어본적 없어오직그대만을 생각했는걸...</td>\n",
       "      <td>0</td>\n",
       "    </tr>\n",
       "    <tr>\n",
       "      <th>194</th>\n",
       "      <td>\\r\\n\\t\\t\\t\\t\\t\\t\\tThink about it I UCheck it c...</td>\n",
       "      <td>0</td>\n",
       "    </tr>\n",
       "    <tr>\n",
       "      <th>195</th>\n",
       "      <td>\\r\\n\\t\\t\\t\\t\\t\\t\\t난 숨길 수 없죠그대 눈 속에 난 많이도 웃네요내 ...</td>\n",
       "      <td>0</td>\n",
       "    </tr>\n",
       "  </tbody>\n",
       "</table>\n",
       "<p>196 rows × 2 columns</p>\n",
       "</div>"
      ],
      "text/plain": [
       "                                                Lyrics  label\n",
       "0    아침에 일어나 너에게 짧은 인사를 보낸다 아무리 멀리 떨어져 있어도 나는 널 생각하...      0\n",
       "1    라라랄라 라라랄라 워어 워어  너가 맛있었다고 했던  살구빛 샐러드  맛있어서 또 ...      0\n",
       "2    자꾸 마주치는 네 눈빛에 Baby baby왠지 어색해 대체 왜 이래고개를 숙여봐도너...      0\n",
       "3    어깨동무까진 괜찮아그치만 손 잡는 건 조금 위험해잘 자란 메세진 괜찮아그래도 자냐는...      0\n",
       "4    햇살이 가득그댈 향한 가벼운 발걸음콧노래 부르며쇼윈도에 비친내 모습을 한번 점검해시...      0\n",
       "..                                                 ...    ...\n",
       "191  \\r\\n\\t\\t\\t\\t\\t\\t\\t반짝 눈부신 날쨘하고 나타날 것 같아방금 짖궂은 그...      0\n",
       "192  \\r\\n\\t\\t\\t\\t\\t\\t\\t두근거렸지 누군가 나의 뒤를 쫓고있었고 검은 절벽 ...      0\n",
       "193  \\r\\n\\t\\t\\t\\t\\t\\t\\t한번도 난 너를 잊어본적 없어오직그대만을 생각했는걸...      0\n",
       "194  \\r\\n\\t\\t\\t\\t\\t\\t\\tThink about it I UCheck it c...      0\n",
       "195  \\r\\n\\t\\t\\t\\t\\t\\t\\t난 숨길 수 없죠그대 눈 속에 난 많이도 웃네요내 ...      0\n",
       "\n",
       "[196 rows x 2 columns]"
      ]
     },
     "execution_count": 31,
     "metadata": {},
     "output_type": "execute_result"
    }
   ],
   "source": [
    "happy_lyrics=pd.concat([happy,happy_plus,happy_plus2])\n",
    "happy_lyrics.reset_index(drop=True,inplace=True)\n",
    "happy_lyrics"
   ]
  },
  {
   "cell_type": "code",
   "execution_count": 32,
   "metadata": {},
   "outputs": [],
   "source": [
    "happy_lyrics.to_csv('./data/happy_Lyric_dataset.csv',encoding='utf-8-sig',index=False)"
   ]
  },
  {
   "attachments": {},
   "cell_type": "markdown",
   "metadata": {},
   "source": [
    "슬픔"
   ]
  },
  {
   "cell_type": "code",
   "execution_count": 2,
   "metadata": {},
   "outputs": [
    {
     "name": "stdout",
     "output_type": "stream",
     "text": [
      "50 50\n",
      "100 100\n",
      "150 150\n",
      "200 200\n",
      "250 242\n"
     ]
    }
   ],
   "source": [
    "song_number=[]\n",
    "url_lst=['https://www.melon.com/mymusic/dj/mymusicdjplaylistview_inform.htm?plylstSeq=507927254',\n",
    "         'https://www.melon.com/mymusic/dj/mymusicdjplaylistview_inform.htm?plylstSeq=507927254#params%5BplylstSeq%5D=507927254&po=pageObj&startIndex=51',\n",
    "         'https://www.melon.com/mymusic/dj/mymusicdjplaylistview_inform.htm?plylstSeq=507927254#params%5BplylstSeq%5D=507927254&po=pageObj&startIndex=101',\n",
    "         'https://www.melon.com/mymusic/dj/mymusicdjplaylistview_inform.htm?plylstSeq=480011338',\n",
    "         'https://www.melon.com/mymusic/dj/mymusicdjplaylistview_inform.htm?plylstSeq=480011338#params%5BplylstSeq%5D=480011338&po=pageObj&startIndex=51']\n",
    "\n",
    "for url in url_lst:\n",
    "    driver=webdriver.Chrome()\n",
    "    driver.get(url)\n",
    "\n",
    "    html=driver.page_source\n",
    "    soup=BeautifulSoup(html,'html.parser')\n",
    "    songs=soup.select('div.wrap > a.btn.button_icons.type03.song_info')\n",
    "\n",
    "    for i in range(len(songs)):\n",
    "        href=songs[i].attrs['href']\n",
    "        song_number.append(re.sub('[^0-9]','',href))\n",
    "    driver.close()\n",
    "\n",
    "    print(len(song_number),len(set(song_number)))"
   ]
  },
  {
   "cell_type": "code",
   "execution_count": 3,
   "metadata": {},
   "outputs": [],
   "source": [
    "song_number=set(song_number)"
   ]
  },
  {
   "cell_type": "code",
   "execution_count": 4,
   "metadata": {},
   "outputs": [
    {
     "name": "stdout",
     "output_type": "stream",
     "text": [
      "0\n"
     ]
    }
   ],
   "source": [
    "driver=webdriver.Chrome()\n",
    "lyric_lst=[]\n",
    "cnt=0\n",
    "for i in song_number:\n",
    "    url=\"https://www.melon.com/song/detail.htm?songId=\"+i\n",
    "    headers={'user-agent':'Mozilla/5.0 (Windows NT 10.0; Win64; x64) AppleWebKit/537.36 (KHTML, like Gecko) Chrome/109.0.0.0 Safari/537.36'}\n",
    "    r=requests.get(url,headers=headers)\n",
    "    soup=BeautifulSoup(r.text,'html.parser')\n",
    "    try:\n",
    "        lyric_lst.append(soup.select('div.lyric')[0].text)\n",
    "    except:\n",
    "        cnt+=1\n",
    "    time.sleep(2)\n",
    "print(cnt)"
   ]
  },
  {
   "cell_type": "code",
   "execution_count": 6,
   "metadata": {},
   "outputs": [
    {
     "data": {
      "text/plain": [
       "242"
      ]
     },
     "execution_count": 6,
     "metadata": {},
     "output_type": "execute_result"
    }
   ],
   "source": [
    "len(lyric_lst)"
   ]
  },
  {
   "cell_type": "code",
   "execution_count": 7,
   "metadata": {},
   "outputs": [
    {
     "name": "stdout",
     "output_type": "stream",
     "text": [
      "(242, 2)\n"
     ]
    },
    {
     "data": {
      "text/html": [
       "<div>\n",
       "<style scoped>\n",
       "    .dataframe tbody tr th:only-of-type {\n",
       "        vertical-align: middle;\n",
       "    }\n",
       "\n",
       "    .dataframe tbody tr th {\n",
       "        vertical-align: top;\n",
       "    }\n",
       "\n",
       "    .dataframe thead th {\n",
       "        text-align: right;\n",
       "    }\n",
       "</style>\n",
       "<table border=\"1\" class=\"dataframe\">\n",
       "  <thead>\n",
       "    <tr style=\"text-align: right;\">\n",
       "      <th></th>\n",
       "      <th>Lyrics</th>\n",
       "      <th>label</th>\n",
       "    </tr>\n",
       "  </thead>\n",
       "  <tbody>\n",
       "    <tr>\n",
       "      <th>0</th>\n",
       "      <td>\\r\\n\\t\\t\\t\\t\\t\\t\\t이제는 아무렇지 않겠지우리 함께했던 날들이 찾아와도...</td>\n",
       "      <td>1</td>\n",
       "    </tr>\n",
       "    <tr>\n",
       "      <th>1</th>\n",
       "      <td>\\r\\n\\t\\t\\t\\t\\t\\t\\t오랜시간 함께라서 내 친구로 난 너무도 편했었어 이...</td>\n",
       "      <td>1</td>\n",
       "    </tr>\n",
       "    <tr>\n",
       "      <th>2</th>\n",
       "      <td>\\r\\n\\t\\t\\t\\t\\t\\t\\t무슨 말을 할까 어디서부터 어떻게고개만 떨구는 나 ...</td>\n",
       "      <td>1</td>\n",
       "    </tr>\n",
       "    <tr>\n",
       "      <th>3</th>\n",
       "      <td>\\r\\n\\t\\t\\t\\t\\t\\t\\t지친 하루를 마치고집에 돌아왔을때이상하게 낯선 기분...</td>\n",
       "      <td>1</td>\n",
       "    </tr>\n",
       "    <tr>\n",
       "      <th>4</th>\n",
       "      <td>\\r\\n\\t\\t\\t\\t\\t\\t\\t또 늦은 건 나야 널 기다리게 한 건네가 웃는 순간...</td>\n",
       "      <td>1</td>\n",
       "    </tr>\n",
       "  </tbody>\n",
       "</table>\n",
       "</div>"
      ],
      "text/plain": [
       "                                              Lyrics  label\n",
       "0  \\r\\n\\t\\t\\t\\t\\t\\t\\t이제는 아무렇지 않겠지우리 함께했던 날들이 찾아와도...      1\n",
       "1  \\r\\n\\t\\t\\t\\t\\t\\t\\t오랜시간 함께라서 내 친구로 난 너무도 편했었어 이...      1\n",
       "2  \\r\\n\\t\\t\\t\\t\\t\\t\\t무슨 말을 할까 어디서부터 어떻게고개만 떨구는 나 ...      1\n",
       "3  \\r\\n\\t\\t\\t\\t\\t\\t\\t지친 하루를 마치고집에 돌아왔을때이상하게 낯선 기분...      1\n",
       "4  \\r\\n\\t\\t\\t\\t\\t\\t\\t또 늦은 건 나야 널 기다리게 한 건네가 웃는 순간...      1"
      ]
     },
     "execution_count": 7,
     "metadata": {},
     "output_type": "execute_result"
    }
   ],
   "source": [
    "sad_lyrics=pd.DataFrame({'Lyrics':lyric_lst,'label':1})\n",
    "print(sad_lyrics.shape)\n",
    "sad_lyrics.head()"
   ]
  },
  {
   "cell_type": "code",
   "execution_count": 8,
   "metadata": {},
   "outputs": [],
   "source": [
    "sad_lyrics.to_csv('./data/sad_Lyric_dataset.csv',encoding='utf-8-sig',index=False)"
   ]
  },
  {
   "attachments": {},
   "cell_type": "markdown",
   "metadata": {},
   "source": [
    "최종데이터셋"
   ]
  },
  {
   "cell_type": "code",
   "execution_count": 9,
   "metadata": {},
   "outputs": [
    {
     "data": {
      "text/html": [
       "<div>\n",
       "<style scoped>\n",
       "    .dataframe tbody tr th:only-of-type {\n",
       "        vertical-align: middle;\n",
       "    }\n",
       "\n",
       "    .dataframe tbody tr th {\n",
       "        vertical-align: top;\n",
       "    }\n",
       "\n",
       "    .dataframe thead th {\n",
       "        text-align: right;\n",
       "    }\n",
       "</style>\n",
       "<table border=\"1\" class=\"dataframe\">\n",
       "  <thead>\n",
       "    <tr style=\"text-align: right;\">\n",
       "      <th></th>\n",
       "      <th>Lyrics</th>\n",
       "      <th>label</th>\n",
       "    </tr>\n",
       "  </thead>\n",
       "  <tbody>\n",
       "    <tr>\n",
       "      <th>0</th>\n",
       "      <td>아침에 일어나 너에게 짧은 인사를 보낸다 아무리 멀리 떨어져 있어도 나는 널 생각하...</td>\n",
       "      <td>0</td>\n",
       "    </tr>\n",
       "    <tr>\n",
       "      <th>1</th>\n",
       "      <td>라라랄라 라라랄라 워어 워어  너가 맛있었다고 했던  살구빛 샐러드  맛있어서 또 ...</td>\n",
       "      <td>0</td>\n",
       "    </tr>\n",
       "    <tr>\n",
       "      <th>2</th>\n",
       "      <td>자꾸 마주치는 네 눈빛에 Baby baby왠지 어색해 대체 왜 이래고개를 숙여봐도너...</td>\n",
       "      <td>0</td>\n",
       "    </tr>\n",
       "    <tr>\n",
       "      <th>3</th>\n",
       "      <td>어깨동무까진 괜찮아그치만 손 잡는 건 조금 위험해잘 자란 메세진 괜찮아그래도 자냐는...</td>\n",
       "      <td>0</td>\n",
       "    </tr>\n",
       "    <tr>\n",
       "      <th>4</th>\n",
       "      <td>햇살이 가득그댈 향한 가벼운 발걸음콧노래 부르며쇼윈도에 비친내 모습을 한번 점검해시...</td>\n",
       "      <td>0</td>\n",
       "    </tr>\n",
       "    <tr>\n",
       "      <th>...</th>\n",
       "      <td>...</td>\n",
       "      <td>...</td>\n",
       "    </tr>\n",
       "    <tr>\n",
       "      <th>191</th>\n",
       "      <td>\\r\\n\\t\\t\\t\\t\\t\\t\\t반짝 눈부신 날쨘하고 나타날 것 같아방금 짖궂은 그...</td>\n",
       "      <td>0</td>\n",
       "    </tr>\n",
       "    <tr>\n",
       "      <th>192</th>\n",
       "      <td>\\r\\n\\t\\t\\t\\t\\t\\t\\t두근거렸지 누군가 나의 뒤를 쫓고있었고 검은 절벽 ...</td>\n",
       "      <td>0</td>\n",
       "    </tr>\n",
       "    <tr>\n",
       "      <th>193</th>\n",
       "      <td>\\r\\n\\t\\t\\t\\t\\t\\t\\t한번도 난 너를 잊어본적 없어오직그대만을 생각했는걸...</td>\n",
       "      <td>0</td>\n",
       "    </tr>\n",
       "    <tr>\n",
       "      <th>194</th>\n",
       "      <td>\\r\\n\\t\\t\\t\\t\\t\\t\\tThink about it I UCheck it c...</td>\n",
       "      <td>0</td>\n",
       "    </tr>\n",
       "    <tr>\n",
       "      <th>195</th>\n",
       "      <td>\\r\\n\\t\\t\\t\\t\\t\\t\\t난 숨길 수 없죠그대 눈 속에 난 많이도 웃네요내 ...</td>\n",
       "      <td>0</td>\n",
       "    </tr>\n",
       "  </tbody>\n",
       "</table>\n",
       "<p>196 rows × 2 columns</p>\n",
       "</div>"
      ],
      "text/plain": [
       "                                                Lyrics  label\n",
       "0    아침에 일어나 너에게 짧은 인사를 보낸다 아무리 멀리 떨어져 있어도 나는 널 생각하...      0\n",
       "1    라라랄라 라라랄라 워어 워어  너가 맛있었다고 했던  살구빛 샐러드  맛있어서 또 ...      0\n",
       "2    자꾸 마주치는 네 눈빛에 Baby baby왠지 어색해 대체 왜 이래고개를 숙여봐도너...      0\n",
       "3    어깨동무까진 괜찮아그치만 손 잡는 건 조금 위험해잘 자란 메세진 괜찮아그래도 자냐는...      0\n",
       "4    햇살이 가득그댈 향한 가벼운 발걸음콧노래 부르며쇼윈도에 비친내 모습을 한번 점검해시...      0\n",
       "..                                                 ...    ...\n",
       "191  \\r\\n\\t\\t\\t\\t\\t\\t\\t반짝 눈부신 날쨘하고 나타날 것 같아방금 짖궂은 그...      0\n",
       "192  \\r\\n\\t\\t\\t\\t\\t\\t\\t두근거렸지 누군가 나의 뒤를 쫓고있었고 검은 절벽 ...      0\n",
       "193  \\r\\n\\t\\t\\t\\t\\t\\t\\t한번도 난 너를 잊어본적 없어오직그대만을 생각했는걸...      0\n",
       "194  \\r\\n\\t\\t\\t\\t\\t\\t\\tThink about it I UCheck it c...      0\n",
       "195  \\r\\n\\t\\t\\t\\t\\t\\t\\t난 숨길 수 없죠그대 눈 속에 난 많이도 웃네요내 ...      0\n",
       "\n",
       "[196 rows x 2 columns]"
      ]
     },
     "execution_count": 9,
     "metadata": {},
     "output_type": "execute_result"
    }
   ],
   "source": [
    "happy=pd.read_csv('./data/happy_Lyric_dataset.csv')\n",
    "happy"
   ]
  },
  {
   "cell_type": "code",
   "execution_count": 10,
   "metadata": {},
   "outputs": [
    {
     "data": {
      "text/html": [
       "<div>\n",
       "<style scoped>\n",
       "    .dataframe tbody tr th:only-of-type {\n",
       "        vertical-align: middle;\n",
       "    }\n",
       "\n",
       "    .dataframe tbody tr th {\n",
       "        vertical-align: top;\n",
       "    }\n",
       "\n",
       "    .dataframe thead th {\n",
       "        text-align: right;\n",
       "    }\n",
       "</style>\n",
       "<table border=\"1\" class=\"dataframe\">\n",
       "  <thead>\n",
       "    <tr style=\"text-align: right;\">\n",
       "      <th></th>\n",
       "      <th>Lyrics</th>\n",
       "      <th>label</th>\n",
       "    </tr>\n",
       "  </thead>\n",
       "  <tbody>\n",
       "    <tr>\n",
       "      <th>0</th>\n",
       "      <td>\\r\\n\\t\\t\\t\\t\\t\\t\\t이제는 아무렇지 않겠지우리 함께했던 날들이 찾아와도...</td>\n",
       "      <td>1</td>\n",
       "    </tr>\n",
       "    <tr>\n",
       "      <th>1</th>\n",
       "      <td>\\r\\n\\t\\t\\t\\t\\t\\t\\t오랜시간 함께라서 내 친구로 난 너무도 편했었어 이...</td>\n",
       "      <td>1</td>\n",
       "    </tr>\n",
       "    <tr>\n",
       "      <th>2</th>\n",
       "      <td>\\r\\n\\t\\t\\t\\t\\t\\t\\t무슨 말을 할까 어디서부터 어떻게고개만 떨구는 나 ...</td>\n",
       "      <td>1</td>\n",
       "    </tr>\n",
       "    <tr>\n",
       "      <th>3</th>\n",
       "      <td>\\r\\n\\t\\t\\t\\t\\t\\t\\t지친 하루를 마치고집에 돌아왔을때이상하게 낯선 기분...</td>\n",
       "      <td>1</td>\n",
       "    </tr>\n",
       "    <tr>\n",
       "      <th>4</th>\n",
       "      <td>\\r\\n\\t\\t\\t\\t\\t\\t\\t또 늦은 건 나야 널 기다리게 한 건네가 웃는 순간...</td>\n",
       "      <td>1</td>\n",
       "    </tr>\n",
       "    <tr>\n",
       "      <th>...</th>\n",
       "      <td>...</td>\n",
       "      <td>...</td>\n",
       "    </tr>\n",
       "    <tr>\n",
       "      <th>237</th>\n",
       "      <td>\\r\\n\\t\\t\\t\\t\\t\\t\\t사랑한다 말하고 보고 싶다 말하고많은 걸 약속하고 ...</td>\n",
       "      <td>1</td>\n",
       "    </tr>\n",
       "    <tr>\n",
       "      <th>238</th>\n",
       "      <td>\\r\\n\\t\\t\\t\\t\\t\\t\\t때 이른 봄 몇 송이 꺾어다너의 방 문 앞에 두었어...</td>\n",
       "      <td>1</td>\n",
       "    </tr>\n",
       "    <tr>\n",
       "      <th>239</th>\n",
       "      <td>\\r\\n\\t\\t\\t\\t\\t\\t\\t당신이란 사람 정말 몸서리처질정도로 끔찍하네요언제까...</td>\n",
       "      <td>1</td>\n",
       "    </tr>\n",
       "    <tr>\n",
       "      <th>240</th>\n",
       "      <td>\\r\\n\\t\\t\\t\\t\\t\\t\\t이별하는 가을의 밤은 무릇 아파 정말 많이 사랑했단...</td>\n",
       "      <td>1</td>\n",
       "    </tr>\n",
       "    <tr>\n",
       "      <th>241</th>\n",
       "      <td>\\r\\n\\t\\t\\t\\t\\t\\t\\t별빛이 내린 밤그 풍경 속 너와 나날 새롭게 하는따...</td>\n",
       "      <td>1</td>\n",
       "    </tr>\n",
       "  </tbody>\n",
       "</table>\n",
       "<p>242 rows × 2 columns</p>\n",
       "</div>"
      ],
      "text/plain": [
       "                                                Lyrics  label\n",
       "0    \\r\\n\\t\\t\\t\\t\\t\\t\\t이제는 아무렇지 않겠지우리 함께했던 날들이 찾아와도...      1\n",
       "1    \\r\\n\\t\\t\\t\\t\\t\\t\\t오랜시간 함께라서 내 친구로 난 너무도 편했었어 이...      1\n",
       "2    \\r\\n\\t\\t\\t\\t\\t\\t\\t무슨 말을 할까 어디서부터 어떻게고개만 떨구는 나 ...      1\n",
       "3    \\r\\n\\t\\t\\t\\t\\t\\t\\t지친 하루를 마치고집에 돌아왔을때이상하게 낯선 기분...      1\n",
       "4    \\r\\n\\t\\t\\t\\t\\t\\t\\t또 늦은 건 나야 널 기다리게 한 건네가 웃는 순간...      1\n",
       "..                                                 ...    ...\n",
       "237  \\r\\n\\t\\t\\t\\t\\t\\t\\t사랑한다 말하고 보고 싶다 말하고많은 걸 약속하고 ...      1\n",
       "238  \\r\\n\\t\\t\\t\\t\\t\\t\\t때 이른 봄 몇 송이 꺾어다너의 방 문 앞에 두었어...      1\n",
       "239  \\r\\n\\t\\t\\t\\t\\t\\t\\t당신이란 사람 정말 몸서리처질정도로 끔찍하네요언제까...      1\n",
       "240  \\r\\n\\t\\t\\t\\t\\t\\t\\t이별하는 가을의 밤은 무릇 아파 정말 많이 사랑했단...      1\n",
       "241  \\r\\n\\t\\t\\t\\t\\t\\t\\t별빛이 내린 밤그 풍경 속 너와 나날 새롭게 하는따...      1\n",
       "\n",
       "[242 rows x 2 columns]"
      ]
     },
     "execution_count": 10,
     "metadata": {},
     "output_type": "execute_result"
    }
   ],
   "source": [
    "sad=pd.read_csv('./data/sad_Lyric_dataset.csv')\n",
    "sad"
   ]
  },
  {
   "cell_type": "code",
   "execution_count": 11,
   "metadata": {},
   "outputs": [
    {
     "data": {
      "text/html": [
       "<div>\n",
       "<style scoped>\n",
       "    .dataframe tbody tr th:only-of-type {\n",
       "        vertical-align: middle;\n",
       "    }\n",
       "\n",
       "    .dataframe tbody tr th {\n",
       "        vertical-align: top;\n",
       "    }\n",
       "\n",
       "    .dataframe thead th {\n",
       "        text-align: right;\n",
       "    }\n",
       "</style>\n",
       "<table border=\"1\" class=\"dataframe\">\n",
       "  <thead>\n",
       "    <tr style=\"text-align: right;\">\n",
       "      <th></th>\n",
       "      <th>Lyrics</th>\n",
       "      <th>label</th>\n",
       "    </tr>\n",
       "  </thead>\n",
       "  <tbody>\n",
       "    <tr>\n",
       "      <th>0</th>\n",
       "      <td>시작해볼까\\n이 시간만을 기다려 왔네\\n웃음이 번져\\n드디어 우리 마주한 거야\\n한...</td>\n",
       "      <td>2</td>\n",
       "    </tr>\n",
       "    <tr>\n",
       "      <th>1</th>\n",
       "      <td>문득 달라진 게 느껴져\\n정말 어른이 되고 있어\\n내 부족함이 보여도\\n더는 내가 ...</td>\n",
       "      <td>2</td>\n",
       "    </tr>\n",
       "    <tr>\n",
       "      <th>2</th>\n",
       "      <td>너의 두 눈은\\n저 하늘의 별처럼 반짝이고\\n저기 가득 찬 저 달처럼\\n찬란하게 비...</td>\n",
       "      <td>2</td>\n",
       "    </tr>\n",
       "    <tr>\n",
       "      <th>3</th>\n",
       "      <td>고요한 어둠 속에서\\n움츠러든 채로\\n멍하니 바라본 별은\\n유난히 빛나 보여\\n손을...</td>\n",
       "      <td>2</td>\n",
       "    </tr>\n",
       "    <tr>\n",
       "      <th>4</th>\n",
       "      <td>빛을 잃어가는 마음과는 달리\\n채워지는 도시의 별은\\n하나둘씩 늘어가고\\n자리를 찾...</td>\n",
       "      <td>2</td>\n",
       "    </tr>\n",
       "    <tr>\n",
       "      <th>...</th>\n",
       "      <td>...</td>\n",
       "      <td>...</td>\n",
       "    </tr>\n",
       "    <tr>\n",
       "      <th>398</th>\n",
       "      <td>Invisible 안갯 속에\\n나를 찾아야만 해 Yeah\\n작은 불빛 그 희망은\\n...</td>\n",
       "      <td>2</td>\n",
       "    </tr>\n",
       "    <tr>\n",
       "      <th>399</th>\n",
       "      <td>Mama 걱정하지마\\nI'm better now\\nI'm better now\\nMa...</td>\n",
       "      <td>2</td>\n",
       "    </tr>\n",
       "    <tr>\n",
       "      <th>400</th>\n",
       "      <td>왜 한숨이 나는지\\n왜 고갤 못 드는 건지\\nHmm Hmm 나만 이런 건지\\n무거운...</td>\n",
       "      <td>2</td>\n",
       "    </tr>\n",
       "    <tr>\n",
       "      <th>401</th>\n",
       "      <td>당신손에 들려있는 반짝거리는\\n그것으로 무얼 할 수 있나요\\n그게 당신을 행복하게 ...</td>\n",
       "      <td>2</td>\n",
       "    </tr>\n",
       "    <tr>\n",
       "      <th>402</th>\n",
       "      <td>밤새워 울었지\\n멀어지기만 하는 꿈이\\n한심하고 서러워\\n모두 나를 잊은것 같아\\n...</td>\n",
       "      <td>2</td>\n",
       "    </tr>\n",
       "  </tbody>\n",
       "</table>\n",
       "<p>403 rows × 2 columns</p>\n",
       "</div>"
      ],
      "text/plain": [
       "                                                Lyrics  label\n",
       "0    시작해볼까\\n이 시간만을 기다려 왔네\\n웃음이 번져\\n드디어 우리 마주한 거야\\n한...      2\n",
       "1    문득 달라진 게 느껴져\\n정말 어른이 되고 있어\\n내 부족함이 보여도\\n더는 내가 ...      2\n",
       "2    너의 두 눈은\\n저 하늘의 별처럼 반짝이고\\n저기 가득 찬 저 달처럼\\n찬란하게 비...      2\n",
       "3    고요한 어둠 속에서\\n움츠러든 채로\\n멍하니 바라본 별은\\n유난히 빛나 보여\\n손을...      2\n",
       "4    빛을 잃어가는 마음과는 달리\\n채워지는 도시의 별은\\n하나둘씩 늘어가고\\n자리를 찾...      2\n",
       "..                                                 ...    ...\n",
       "398  Invisible 안갯 속에\\n나를 찾아야만 해 Yeah\\n작은 불빛 그 희망은\\n...      2\n",
       "399  Mama 걱정하지마\\nI'm better now\\nI'm better now\\nMa...      2\n",
       "400  왜 한숨이 나는지\\n왜 고갤 못 드는 건지\\nHmm Hmm 나만 이런 건지\\n무거운...      2\n",
       "401  당신손에 들려있는 반짝거리는\\n그것으로 무얼 할 수 있나요\\n그게 당신을 행복하게 ...      2\n",
       "402  밤새워 울었지\\n멀어지기만 하는 꿈이\\n한심하고 서러워\\n모두 나를 잊은것 같아\\n...      2\n",
       "\n",
       "[403 rows x 2 columns]"
      ]
     },
     "execution_count": 11,
     "metadata": {},
     "output_type": "execute_result"
    }
   ],
   "source": [
    "hope=pd.read_csv('./data/hope_Lyric_dataset.csv')\n",
    "hope.rename(columns={'Lyric':'Lyrics'},inplace=True)\n",
    "hope"
   ]
  },
  {
   "cell_type": "code",
   "execution_count": 12,
   "metadata": {},
   "outputs": [
    {
     "data": {
      "text/html": [
       "<div>\n",
       "<style scoped>\n",
       "    .dataframe tbody tr th:only-of-type {\n",
       "        vertical-align: middle;\n",
       "    }\n",
       "\n",
       "    .dataframe tbody tr th {\n",
       "        vertical-align: top;\n",
       "    }\n",
       "\n",
       "    .dataframe thead th {\n",
       "        text-align: right;\n",
       "    }\n",
       "</style>\n",
       "<table border=\"1\" class=\"dataframe\">\n",
       "  <thead>\n",
       "    <tr style=\"text-align: right;\">\n",
       "      <th></th>\n",
       "      <th>Lyrics</th>\n",
       "      <th>label</th>\n",
       "    </tr>\n",
       "  </thead>\n",
       "  <tbody>\n",
       "    <tr>\n",
       "      <th>0</th>\n",
       "      <td>\\r\\n\\t\\t\\t\\t\\t\\t\\t폭염에 복면 쓰고불구덩이에 처박힌내 기분을 니들이 ...</td>\n",
       "      <td>3</td>\n",
       "    </tr>\n",
       "    <tr>\n",
       "      <th>1</th>\n",
       "      <td>\\r\\n\\t\\t\\t\\t\\t\\t\\tI Pop it off in this game.Ok...</td>\n",
       "      <td>3</td>\n",
       "    </tr>\n",
       "    <tr>\n",
       "      <th>2</th>\n",
       "      <td>\\r\\n\\t\\t\\t\\t\\t\\t\\tLet’s burn(No)It’s done (Ars...</td>\n",
       "      <td>3</td>\n",
       "    </tr>\n",
       "    <tr>\n",
       "      <th>3</th>\n",
       "      <td>\\r\\n\\t\\t\\t\\t\\t\\t\\t내가 제일 잘 나가내가 제일 잘 나가내가 제일 잘 ...</td>\n",
       "      <td>3</td>\n",
       "    </tr>\n",
       "    <tr>\n",
       "      <th>4</th>\n",
       "      <td>\\r\\n\\t\\t\\t\\t\\t\\t\\tWho dat이제야 벗겨지는 veilThanks f...</td>\n",
       "      <td>3</td>\n",
       "    </tr>\n",
       "    <tr>\n",
       "      <th>...</th>\n",
       "      <td>...</td>\n",
       "      <td>...</td>\n",
       "    </tr>\n",
       "    <tr>\n",
       "      <th>145</th>\n",
       "      <td>\\r\\n\\t\\t\\t\\t\\t\\t\\t반쯤 미쳐가는 나망가져 나의 삶넌 내게서 나를 지워...</td>\n",
       "      <td>3</td>\n",
       "    </tr>\n",
       "    <tr>\n",
       "      <th>146</th>\n",
       "      <td>\\r\\n\\t\\t\\t\\t\\t\\t\\t무궁화 꽃이 피었습니다우리 빼고 모두 다 멈춰지담이...</td>\n",
       "      <td>3</td>\n",
       "    </tr>\n",
       "    <tr>\n",
       "      <th>147</th>\n",
       "      <td>\\r\\n\\t\\t\\t\\t\\t\\t\\t아예 아예 아예 아예 아예 아예 아예 아예 아예 아...</td>\n",
       "      <td>3</td>\n",
       "    </tr>\n",
       "    <tr>\n",
       "      <th>148</th>\n",
       "      <td>\\r\\n\\t\\t\\t\\t\\t\\t\\t난 나쁜 기집애 나난 나쁜 기집애  난 나쁜 기집애...</td>\n",
       "      <td>3</td>\n",
       "    </tr>\n",
       "    <tr>\n",
       "      <th>149</th>\n",
       "      <td>\\r\\n\\t\\t\\t\\t\\t\\t\\t궁금해서 잠이 안 와그때 왜 그랬어구차해도 묻고 싶...</td>\n",
       "      <td>3</td>\n",
       "    </tr>\n",
       "  </tbody>\n",
       "</table>\n",
       "<p>150 rows × 2 columns</p>\n",
       "</div>"
      ],
      "text/plain": [
       "                                                Lyrics  label\n",
       "0    \\r\\n\\t\\t\\t\\t\\t\\t\\t폭염에 복면 쓰고불구덩이에 처박힌내 기분을 니들이 ...      3\n",
       "1    \\r\\n\\t\\t\\t\\t\\t\\t\\tI Pop it off in this game.Ok...      3\n",
       "2    \\r\\n\\t\\t\\t\\t\\t\\t\\tLet’s burn(No)It’s done (Ars...      3\n",
       "3    \\r\\n\\t\\t\\t\\t\\t\\t\\t내가 제일 잘 나가내가 제일 잘 나가내가 제일 잘 ...      3\n",
       "4    \\r\\n\\t\\t\\t\\t\\t\\t\\tWho dat이제야 벗겨지는 veilThanks f...      3\n",
       "..                                                 ...    ...\n",
       "145  \\r\\n\\t\\t\\t\\t\\t\\t\\t반쯤 미쳐가는 나망가져 나의 삶넌 내게서 나를 지워...      3\n",
       "146  \\r\\n\\t\\t\\t\\t\\t\\t\\t무궁화 꽃이 피었습니다우리 빼고 모두 다 멈춰지담이...      3\n",
       "147  \\r\\n\\t\\t\\t\\t\\t\\t\\t아예 아예 아예 아예 아예 아예 아예 아예 아예 아...      3\n",
       "148  \\r\\n\\t\\t\\t\\t\\t\\t\\t난 나쁜 기집애 나난 나쁜 기집애  난 나쁜 기집애...      3\n",
       "149  \\r\\n\\t\\t\\t\\t\\t\\t\\t궁금해서 잠이 안 와그때 왜 그랬어구차해도 묻고 싶...      3\n",
       "\n",
       "[150 rows x 2 columns]"
      ]
     },
     "execution_count": 12,
     "metadata": {},
     "output_type": "execute_result"
    }
   ],
   "source": [
    "anger=pd.read_csv('./data/anger_Lyric_dataset.csv')\n",
    "anger"
   ]
  },
  {
   "cell_type": "code",
   "execution_count": 13,
   "metadata": {},
   "outputs": [
    {
     "data": {
      "text/html": [
       "<div>\n",
       "<style scoped>\n",
       "    .dataframe tbody tr th:only-of-type {\n",
       "        vertical-align: middle;\n",
       "    }\n",
       "\n",
       "    .dataframe tbody tr th {\n",
       "        vertical-align: top;\n",
       "    }\n",
       "\n",
       "    .dataframe thead th {\n",
       "        text-align: right;\n",
       "    }\n",
       "</style>\n",
       "<table border=\"1\" class=\"dataframe\">\n",
       "  <thead>\n",
       "    <tr style=\"text-align: right;\">\n",
       "      <th></th>\n",
       "      <th>Lyrics</th>\n",
       "      <th>label</th>\n",
       "    </tr>\n",
       "  </thead>\n",
       "  <tbody>\n",
       "    <tr>\n",
       "      <th>0</th>\n",
       "      <td>아침에 일어나 너에게 짧은 인사를 보낸다 아무리 멀리 떨어져 있어도 나는 널 생각하...</td>\n",
       "      <td>0</td>\n",
       "    </tr>\n",
       "    <tr>\n",
       "      <th>1</th>\n",
       "      <td>라라랄라 라라랄라 워어 워어  너가 맛있었다고 했던  살구빛 샐러드  맛있어서 또 ...</td>\n",
       "      <td>0</td>\n",
       "    </tr>\n",
       "    <tr>\n",
       "      <th>2</th>\n",
       "      <td>자꾸 마주치는 네 눈빛에 Baby baby왠지 어색해 대체 왜 이래고개를 숙여봐도너...</td>\n",
       "      <td>0</td>\n",
       "    </tr>\n",
       "    <tr>\n",
       "      <th>3</th>\n",
       "      <td>어깨동무까진 괜찮아그치만 손 잡는 건 조금 위험해잘 자란 메세진 괜찮아그래도 자냐는...</td>\n",
       "      <td>0</td>\n",
       "    </tr>\n",
       "    <tr>\n",
       "      <th>4</th>\n",
       "      <td>햇살이 가득그댈 향한 가벼운 발걸음콧노래 부르며쇼윈도에 비친내 모습을 한번 점검해시...</td>\n",
       "      <td>0</td>\n",
       "    </tr>\n",
       "    <tr>\n",
       "      <th>...</th>\n",
       "      <td>...</td>\n",
       "      <td>...</td>\n",
       "    </tr>\n",
       "    <tr>\n",
       "      <th>741</th>\n",
       "      <td>\\r\\n\\t\\t\\t\\t\\t\\t\\t반쯤 미쳐가는 나망가져 나의 삶넌 내게서 나를 지워...</td>\n",
       "      <td>3</td>\n",
       "    </tr>\n",
       "    <tr>\n",
       "      <th>742</th>\n",
       "      <td>\\r\\n\\t\\t\\t\\t\\t\\t\\t무궁화 꽃이 피었습니다우리 빼고 모두 다 멈춰지담이...</td>\n",
       "      <td>3</td>\n",
       "    </tr>\n",
       "    <tr>\n",
       "      <th>743</th>\n",
       "      <td>\\r\\n\\t\\t\\t\\t\\t\\t\\t아예 아예 아예 아예 아예 아예 아예 아예 아예 아...</td>\n",
       "      <td>3</td>\n",
       "    </tr>\n",
       "    <tr>\n",
       "      <th>744</th>\n",
       "      <td>\\r\\n\\t\\t\\t\\t\\t\\t\\t난 나쁜 기집애 나난 나쁜 기집애  난 나쁜 기집애...</td>\n",
       "      <td>3</td>\n",
       "    </tr>\n",
       "    <tr>\n",
       "      <th>745</th>\n",
       "      <td>\\r\\n\\t\\t\\t\\t\\t\\t\\t궁금해서 잠이 안 와그때 왜 그랬어구차해도 묻고 싶...</td>\n",
       "      <td>3</td>\n",
       "    </tr>\n",
       "  </tbody>\n",
       "</table>\n",
       "<p>746 rows × 2 columns</p>\n",
       "</div>"
      ],
      "text/plain": [
       "                                                Lyrics  label\n",
       "0    아침에 일어나 너에게 짧은 인사를 보낸다 아무리 멀리 떨어져 있어도 나는 널 생각하...      0\n",
       "1    라라랄라 라라랄라 워어 워어  너가 맛있었다고 했던  살구빛 샐러드  맛있어서 또 ...      0\n",
       "2    자꾸 마주치는 네 눈빛에 Baby baby왠지 어색해 대체 왜 이래고개를 숙여봐도너...      0\n",
       "3    어깨동무까진 괜찮아그치만 손 잡는 건 조금 위험해잘 자란 메세진 괜찮아그래도 자냐는...      0\n",
       "4    햇살이 가득그댈 향한 가벼운 발걸음콧노래 부르며쇼윈도에 비친내 모습을 한번 점검해시...      0\n",
       "..                                                 ...    ...\n",
       "741  \\r\\n\\t\\t\\t\\t\\t\\t\\t반쯤 미쳐가는 나망가져 나의 삶넌 내게서 나를 지워...      3\n",
       "742  \\r\\n\\t\\t\\t\\t\\t\\t\\t무궁화 꽃이 피었습니다우리 빼고 모두 다 멈춰지담이...      3\n",
       "743  \\r\\n\\t\\t\\t\\t\\t\\t\\t아예 아예 아예 아예 아예 아예 아예 아예 아예 아...      3\n",
       "744  \\r\\n\\t\\t\\t\\t\\t\\t\\t난 나쁜 기집애 나난 나쁜 기집애  난 나쁜 기집애...      3\n",
       "745  \\r\\n\\t\\t\\t\\t\\t\\t\\t궁금해서 잠이 안 와그때 왜 그랬어구차해도 묻고 싶...      3\n",
       "\n",
       "[746 rows x 2 columns]"
      ]
     },
     "execution_count": 13,
     "metadata": {},
     "output_type": "execute_result"
    }
   ],
   "source": [
    "hope=hope.sample(200,replace=False,random_state=111)\n",
    "sad=sad.sample(200,replace=False,random_state=111)\n",
    "df=pd.concat([happy,sad,hope,anger])\n",
    "df.reset_index(drop=True,inplace=True)\n",
    "df"
   ]
  },
  {
   "cell_type": "code",
   "execution_count": 14,
   "metadata": {},
   "outputs": [],
   "source": [
    "df.to_csv('./data/Lyrics.csv',encoding='utf-8-sig',index=False)"
   ]
  },
  {
   "cell_type": "code",
   "execution_count": 15,
   "metadata": {},
   "outputs": [],
   "source": [
    "import seaborn as sns\n",
    "import matplotlib.pyplot as plt"
   ]
  },
  {
   "cell_type": "code",
   "execution_count": 16,
   "metadata": {},
   "outputs": [
    {
     "data": {
      "text/plain": [
       "<AxesSubplot:xlabel='label', ylabel='count'>"
      ]
     },
     "execution_count": 16,
     "metadata": {},
     "output_type": "execute_result"
    },
    {
     "data": {
      "image/png": "[encoded data removed]",
      "text/plain": [
       "<Figure size 432x288 with 1 Axes>"
      ]
     },
     "metadata": {
      "needs_background": "light"
     },
     "output_type": "display_data"
    }
   ],
   "source": [
    "sns.countplot(x='label',data=df)"
   ]
  },
  {
   "cell_type": "code",
   "execution_count": 17,
   "metadata": {},
   "outputs": [
    {
     "data": {
      "text/plain": [
       "<matplotlib.legend.Legend at 0x2459cd73df0>"
      ]
     },
     "execution_count": 17,
     "metadata": {},
     "output_type": "execute_result"
    },
    {
     "data": {
      "image/png": "[encoded data removed]",
      "text/plain": [
       "<Figure size 432x288 with 1 Axes>"
      ]
     },
     "metadata": {},
     "output_type": "display_data"
    }
   ],
   "source": [
    "ratio=df['label'].value_counts()/df.shape[0]\n",
    "ratio=ratio.sort_index()\n",
    "labels=range(0,4)\n",
    "plt.pie(ratio,labels=labels,autopct='%.1f%%')\n",
    "plt.legend()"
   ]
  }
 ],
 "metadata": {
  "kernelspec": {
   "display_name": "base",
   "language": "python",
   "name": "python3"
  },
  "language_info": {
   "codemirror_mode": {
    "name": "ipython",
    "version": 3
   },
   "file_extension": ".py",
   "mimetype": "text/x-python",
   "name": "python",
   "nbconvert_exporter": "python",
   "pygments_lexer": "ipython3",
   "version": "3.9.7"
  },
  "orig_nbformat": 4,
  "vscode": {
   "interpreter": {
    "hash": "03489fc23179efc092fdc79729fb3c8c54ada39686063f54d233cd67036aabb7"
   }
  }
 },
 "nbformat": 4,
 "nbformat_minor": 2
}
