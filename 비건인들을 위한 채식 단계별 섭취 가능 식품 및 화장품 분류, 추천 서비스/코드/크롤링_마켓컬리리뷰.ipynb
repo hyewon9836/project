{
 "cells": [
  {
   "cell_type": "code",
   "execution_count": 1,
   "metadata": {},
   "outputs": [],
   "source": [
    "from bs4 import BeautifulSoup\n",
    "from selenium import webdriver\n",
    "from selenium.webdriver import ActionChains\n",
    "from selenium.webdriver.common.by import By\n",
    "\n",
    "import re\n",
    "import pandas as pd\n",
    "import time\n",
    "import requests"
   ]
  },
  {
   "cell_type": "code",
   "execution_count": 43,
   "metadata": {},
   "outputs": [],
   "source": [
    "url='https://www.kurly.com/collections/market-best'\n",
    "driver=webdriver.Chrome()\n",
    "driver.get(url)\n",
    "act=ActionChains(driver)"
   ]
  },
  {
   "cell_type": "code",
   "execution_count": 44,
   "metadata": {},
   "outputs": [
    {
     "name": "stdout",
     "output_type": "stream",
     "text": [
      "10\n",
      "20\n",
      "30\n",
      "40\n",
      "50\n",
      "60\n",
      "70\n",
      "80\n",
      "90\n"
     ]
    }
   ],
   "source": [
    "product=[]\n",
    "review_lst=[]\n",
    "for i in range(1,97):\n",
    "    driver.find_elements(By.CSS_SELECTOR,'#container > div > div.css-1d3w5wq.ef36txc6 > div.css-11kh0cw.ef36txc5 > a:nth-child('+str(i)+')')[0].click()\n",
    "    time.sleep(1)\n",
    "\n",
    "    # 상품 이름\n",
    "    html=driver.page_source\n",
    "    soup=BeautifulSoup(html,'html.parser')\n",
    "    product.append(soup.select('div>h1.css-1f2zq3n.ezpe9l11')[0].text)\n",
    "    review=[]\n",
    "\n",
    "    # 리뷰\n",
    "    try:\n",
    "        driver.find_elements(By.CSS_SELECTOR,'#top > div.css-n48rgu.ex9g73v0 > div.css-16c0d8l.e1brqtzw0 > nav > ul > li:nth-child(3)')[0].click()\n",
    "        while(1):\n",
    "            for idx in range(10):\n",
    "                html=driver.page_source\n",
    "                soup=BeautifulSoup(html,'html.parser')\n",
    "                review.append(soup.select('p.css-i69j0n.e36z05c5')[idx].text)\n",
    "            # 다음페이지\n",
    "            driver.find_elements(By.CSS_SELECTOR,'#review > section > div.css-1nrf0nk.e1kog1is13 > div.css-jz9m4p.e1kog1is5 > button.css-1orps7k.e1kog1is1')[0].click()\n",
    "            time.sleep(1)\n",
    "            if len(review)>100:\n",
    "                break\n",
    "    except:\n",
    "        review.append('')\n",
    "    review_lst.append(review)\n",
    "\n",
    "    # 메인 화면으로\n",
    "    driver.back()\n",
    "\n",
    "    # 진행상황 체크\n",
    "    if i%10==0:\n",
    "        print(i)"
   ]
  },
  {
   "cell_type": "code",
   "execution_count": 47,
   "metadata": {},
   "outputs": [
    {
     "name": "stdout",
     "output_type": "stream",
     "text": [
      "96\n",
      "96\n"
     ]
    }
   ],
   "source": [
    "print(len(product))\n",
    "print(len(review_lst))"
   ]
  },
  {
   "cell_type": "code",
   "execution_count": 48,
   "metadata": {},
   "outputs": [
    {
     "data": {
      "text/html": [
       "<div>\n",
       "<style scoped>\n",
       "    .dataframe tbody tr th:only-of-type {\n",
       "        vertical-align: middle;\n",
       "    }\n",
       "\n",
       "    .dataframe tbody tr th {\n",
       "        vertical-align: top;\n",
       "    }\n",
       "\n",
       "    .dataframe thead th {\n",
       "        text-align: right;\n",
       "    }\n",
       "</style>\n",
       "<table border=\"1\" class=\"dataframe\">\n",
       "  <thead>\n",
       "    <tr style=\"text-align: right;\">\n",
       "      <th></th>\n",
       "      <th>product</th>\n",
       "      <th>review</th>\n",
       "    </tr>\n",
       "  </thead>\n",
       "  <tbody>\n",
       "    <tr>\n",
       "      <th>0</th>\n",
       "      <td>[사미헌] 갈비탕</td>\n",
       "      <td>[사미헌 갈비탕 추천이용!!\\n첨 먹어봤는데.. 재구매각 바로 섰습니다.!ㅋㅋ\\n사...</td>\n",
       "    </tr>\n",
       "    <tr>\n",
       "      <th>1</th>\n",
       "      <td>[KF365] 양념 소불고기 1kg (냉장)</td>\n",
       "      <td>[처음 배송 받았을 땐 1키로가 생각보다 적네? 했는데.. 웬걸.. 팬에 다 붓고 ...</td>\n",
       "    </tr>\n",
       "    <tr>\n",
       "      <th>2</th>\n",
       "      <td>[이연복의 목란] 짬뽕 2인분 (맵기선택)</td>\n",
       "      <td>[마켓컬리에서 제일 자주 주문한 냉동식품 중 1위가 목란 짬뽕일 정도로 정말 좋아해...</td>\n",
       "    </tr>\n",
       "    <tr>\n",
       "      <th>3</th>\n",
       "      <td>[태우한우] 1+ 한우 안심 구이용 200g (냉장)</td>\n",
       "      <td>[안심 스테이크는 늘 태우한우에서 사먹어요 일단 투뿔은 지방함량이 높아 건강면에서도...</td>\n",
       "    </tr>\n",
       "    <tr>\n",
       "      <th>4</th>\n",
       "      <td>[Kurly's] 동물복지 유정란 20구</td>\n",
       "      <td>[ \\r\\n 샛별배송이 아닌 택배배송 지역인데다가 인터넷으로 계란을 주문해 본 적이...</td>\n",
       "    </tr>\n",
       "    <tr>\n",
       "      <th>...</th>\n",
       "      <td>...</td>\n",
       "      <td>...</td>\n",
       "    </tr>\n",
       "    <tr>\n",
       "      <th>91</th>\n",
       "      <td>[빙그레] 모짜렐라 피자치즈 240g</td>\n",
       "      <td>[매일 생채소만 먹다가 입이 심심해서 컬리에서 주문한 재료로 간단하게 만들어봤습니다...</td>\n",
       "    </tr>\n",
       "    <tr>\n",
       "      <th>92</th>\n",
       "      <td>[켄트] 콤팩트 초극세모 칫솔 4개입 세트</td>\n",
       "      <td>[저는 구강케어에 진짜 진심인 사람인데요,\\r\\n제가 너무너무 잘 사용하고 있는 \"...</td>\n",
       "    </tr>\n",
       "    <tr>\n",
       "      <th>93</th>\n",
       "      <td>[Kim's Butcher] 미국산 우삼겹 돌돌말이 1kg (냉동)</td>\n",
       "      <td>[필수 식량. 항상 재구매, 평소 믿고 구매했는데 이번 우삼겹은 수돗물 소독약 냄새...</td>\n",
       "    </tr>\n",
       "    <tr>\n",
       "      <th>94</th>\n",
       "      <td>[최현석의 쵸이닷] 새우 봉골레 파스타</td>\n",
       "      <td>[늦잠 실컷 자고 일어 나서 아침에 냉장고로 옮겨 둔 쵸이닷 봉골레 파스타를 꺼내봤...</td>\n",
       "    </tr>\n",
       "    <tr>\n",
       "      <th>95</th>\n",
       "      <td>[그릭데이] 그릭요거트 시그니처 450g</td>\n",
       "      <td>[꾸덕꾸덕한 그릭요거트 너무 좋아해서 몇번째 사먹는지 몰라요. 마켓컬리가 신선한 상...</td>\n",
       "    </tr>\n",
       "  </tbody>\n",
       "</table>\n",
       "<p>96 rows × 2 columns</p>\n",
       "</div>"
      ],
      "text/plain": [
       "                                  product  \\\n",
       "0                               [사미헌] 갈비탕   \n",
       "1                [KF365] 양념 소불고기 1kg (냉장)   \n",
       "2                 [이연복의 목란] 짬뽕 2인분 (맵기선택)   \n",
       "3           [태우한우] 1+ 한우 안심 구이용 200g (냉장)   \n",
       "4                  [Kurly's] 동물복지 유정란 20구   \n",
       "..                                    ...   \n",
       "91                   [빙그레] 모짜렐라 피자치즈 240g   \n",
       "92                [켄트] 콤팩트 초극세모 칫솔 4개입 세트   \n",
       "93  [Kim's Butcher] 미국산 우삼겹 돌돌말이 1kg (냉동)   \n",
       "94                  [최현석의 쵸이닷] 새우 봉골레 파스타   \n",
       "95                 [그릭데이] 그릭요거트 시그니처 450g   \n",
       "\n",
       "                                               review  \n",
       "0   [사미헌 갈비탕 추천이용!!\\n첨 먹어봤는데.. 재구매각 바로 섰습니다.!ㅋㅋ\\n사...  \n",
       "1   [처음 배송 받았을 땐 1키로가 생각보다 적네? 했는데.. 웬걸.. 팬에 다 붓고 ...  \n",
       "2   [마켓컬리에서 제일 자주 주문한 냉동식품 중 1위가 목란 짬뽕일 정도로 정말 좋아해...  \n",
       "3   [안심 스테이크는 늘 태우한우에서 사먹어요 일단 투뿔은 지방함량이 높아 건강면에서도...  \n",
       "4   [ \\r\\n 샛별배송이 아닌 택배배송 지역인데다가 인터넷으로 계란을 주문해 본 적이...  \n",
       "..                                                ...  \n",
       "91  [매일 생채소만 먹다가 입이 심심해서 컬리에서 주문한 재료로 간단하게 만들어봤습니다...  \n",
       "92  [저는 구강케어에 진짜 진심인 사람인데요,\\r\\n제가 너무너무 잘 사용하고 있는 \"...  \n",
       "93  [필수 식량. 항상 재구매, 평소 믿고 구매했는데 이번 우삼겹은 수돗물 소독약 냄새...  \n",
       "94  [늦잠 실컷 자고 일어 나서 아침에 냉장고로 옮겨 둔 쵸이닷 봉골레 파스타를 꺼내봤...  \n",
       "95  [꾸덕꾸덕한 그릭요거트 너무 좋아해서 몇번째 사먹는지 몰라요. 마켓컬리가 신선한 상...  \n",
       "\n",
       "[96 rows x 2 columns]"
      ]
     },
     "execution_count": 48,
     "metadata": {},
     "output_type": "execute_result"
    }
   ],
   "source": [
    "df=pd.DataFrame({'product':product,'review':review_lst})\n",
    "df"
   ]
  },
  {
   "cell_type": "code",
   "execution_count": 49,
   "metadata": {},
   "outputs": [],
   "source": [
    "df.to_csv('./data/kurly_review.csv',encoding='utf-8-sig',index=False)"
   ]
  }
 ],
 "metadata": {
  "kernelspec": {
   "display_name": "Python 3",
   "language": "python",
   "name": "python3"
  },
  "language_info": {
   "codemirror_mode": {
    "name": "ipython",
    "version": 3
   },
   "file_extension": ".py",
   "mimetype": "text/x-python",
   "name": "python",
   "nbconvert_exporter": "python",
   "pygments_lexer": "ipython3",
   "version": "3.9.7"
  },
  "orig_nbformat": 4
 },
 "nbformat": 4,
 "nbformat_minor": 2
}
