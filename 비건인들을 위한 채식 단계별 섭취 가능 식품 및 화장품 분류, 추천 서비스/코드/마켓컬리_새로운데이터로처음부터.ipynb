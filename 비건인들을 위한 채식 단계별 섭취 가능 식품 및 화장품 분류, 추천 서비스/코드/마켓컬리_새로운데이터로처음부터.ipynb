{
 "cells": [
  {
   "cell_type": "code",
   "execution_count": 189,
   "metadata": {},
   "outputs": [],
   "source": [
    "import pytesseract\n",
    "from PIL import Image\n",
    "from PIL import ImageFile\n",
    "import pandas as pd\n",
    "import re\n",
    "import numpy as np\n",
    "import warnings\n",
    "from sklearn.feature_extraction.text import CountVectorizer\n",
    "from sklearn.metrics.pairwise import cosine_similarity\n",
    "from hanspell import spell_checker\n",
    "\n",
    "ImageFile.LOAD_TRUNCATED_IMAGES = True\n",
    "pytesseract.pytesseract.tesseract_cmd = R'C:\\Program Files\\Tesseract-OCR\\tesseract'\n",
    "warnings.filterwarnings('ignore')"
   ]
  },
  {
   "attachments": {},
   "cell_type": "markdown",
   "metadata": {},
   "source": [
    "## 기존 정보 및 사전 작업"
   ]
  },
  {
   "attachments": {},
   "cell_type": "markdown",
   "metadata": {},
   "source": [
    "### 기존 데이터"
   ]
  },
  {
   "cell_type": "code",
   "execution_count": 2,
   "metadata": {},
   "outputs": [
    {
     "data": {
      "text/html": [
       "<div>\n",
       "<style scoped>\n",
       "    .dataframe tbody tr th:only-of-type {\n",
       "        vertical-align: middle;\n",
       "    }\n",
       "\n",
       "    .dataframe tbody tr th {\n",
       "        vertical-align: top;\n",
       "    }\n",
       "\n",
       "    .dataframe thead th {\n",
       "        text-align: right;\n",
       "    }\n",
       "</style>\n",
       "<table border=\"1\" class=\"dataframe\">\n",
       "  <thead>\n",
       "    <tr style=\"text-align: right;\">\n",
       "      <th></th>\n",
       "      <th>category</th>\n",
       "      <th>brand</th>\n",
       "      <th>item</th>\n",
       "      <th>allergy</th>\n",
       "      <th>ingredient</th>\n",
       "      <th>classify</th>\n",
       "      <th>gluten</th>\n",
       "    </tr>\n",
       "  </thead>\n",
       "  <tbody>\n",
       "    <tr>\n",
       "      <th>0</th>\n",
       "      <td>국/반찬/메인 요리</td>\n",
       "      <td>풀무원</td>\n",
       "      <td>국산콩 나또 3종</td>\n",
       "      <td>국산콩생나또,대두,밀,쇠고기,검은콩생나또,대두,밀,쇠고기,국산콩와사비나또,대두,밀,...</td>\n",
       "      <td>고등어,아황산류,메밀,옥수수유옥수수,복숭아,오징어,홍합포함,설탕,조개류,전복,대두,...</td>\n",
       "      <td>general</td>\n",
       "      <td>발견사항 없음</td>\n",
       "    </tr>\n",
       "    <tr>\n",
       "      <th>1</th>\n",
       "      <td>국/반찬/메인 요리</td>\n",
       "      <td>kurly</td>\n",
       "      <td>전통 시장 물떡 (2팩)</td>\n",
       "      <td>밀,대두,우유,계란,우유,메밀,땅콩,고등어,게,새우,돼지고기,복숭아,토마토,아황산류...</td>\n",
       "      <td>조개류,정제소금,주정,떡류,조기,소스소스,참치,비타민,가공소금,오징어,구연산,복합조...</td>\n",
       "      <td>pesco</td>\n",
       "      <td>발견사항 없음</td>\n",
       "    </tr>\n",
       "    <tr>\n",
       "      <th>2</th>\n",
       "      <td>국/반찬/메인 요리</td>\n",
       "      <td>모두의맛집</td>\n",
       "      <td>소문난 원조 조방낙지 낙곱새</td>\n",
       "      <td>대두,밀,새우,쇠고기,조개류(굴),난류,우유,메밀,땅콩,고등어,게,돼지고기,복숭아,...</td>\n",
       "      <td>마늘,조개류,전복,내두유,콩기름,홍합포함</td>\n",
       "      <td>pesco</td>\n",
       "      <td>발견사항 없음</td>\n",
       "    </tr>\n",
       "    <tr>\n",
       "      <th>3</th>\n",
       "      <td>국/반찬/메인 요리</td>\n",
       "      <td>치즈룸x테이스팅룸</td>\n",
       "      <td>전복 솥밥 리조또</td>\n",
       "      <td>전복미역밥,우유,조개류(전복),전복내장크림소스,대두,밀,우유,계란,닭고기,조개류(굴...</td>\n",
       "      <td>마늘,고등어,호두,유청,소고기,껏일,포도당,구연산,가공이크림,토코페롤,변성전분,주정...</td>\n",
       "      <td>general</td>\n",
       "      <td>발견사항 없음</td>\n",
       "    </tr>\n",
       "    <tr>\n",
       "      <th>4</th>\n",
       "      <td>국/반찬/메인 요리</td>\n",
       "      <td>피코크</td>\n",
       "      <td>금돼지식당 통삽겹김치찌개</td>\n",
       "      <td>대두,밀,돼지고기,쇠고기,알류,우유,메밀,땅콩,고등어,게,새우,복숭아,토마토,아황산...</td>\n",
       "      <td>마늘,고등어,향미증진제,콜산,호두,복숭아,홍합포함,인산이전분,닭고기,고춧가루,진한양...</td>\n",
       "      <td>general</td>\n",
       "      <td>발견사항 없음</td>\n",
       "    </tr>\n",
       "    <tr>\n",
       "      <th>...</th>\n",
       "      <td>...</td>\n",
       "      <td>...</td>\n",
       "      <td>...</td>\n",
       "      <td>...</td>\n",
       "      <td>...</td>\n",
       "      <td>...</td>\n",
       "      <td>...</td>\n",
       "    </tr>\n",
       "    <tr>\n",
       "      <th>2925</th>\n",
       "      <td>간식/과자/떡</td>\n",
       "      <td>라라스윗</td>\n",
       "      <td>발렌타인 기프트 세트</td>\n",
       "      <td>우유,밀,계란,대두,땅콩,호두,메밀,복숭아,토마토,돼지고기혼입가능</td>\n",
       "      <td>알룰로스,당류</td>\n",
       "      <td>vegan</td>\n",
       "      <td>발견사항 없음</td>\n",
       "    </tr>\n",
       "    <tr>\n",
       "      <th>2926</th>\n",
       "      <td>간식/과자/떡</td>\n",
       "      <td>발스낵</td>\n",
       "      <td>그랜드 감자칩 2묶음 6종 (택1)</td>\n",
       "      <td>씨솔트,와사비,칠리앤드라임,사우어크림앤드어니언,밀,우유,샐러리,겨자,사워크림앤허브,...</td>\n",
       "      <td>글루,정제소금,오일,고추냉이,정제수정제소금,감자플레이크,리브뉴클레오티드이나트롬,감자...</td>\n",
       "      <td>vegan</td>\n",
       "      <td>발견사항 없음</td>\n",
       "    </tr>\n",
       "    <tr>\n",
       "      <th>2927</th>\n",
       "      <td>간식/과자/떡</td>\n",
       "      <td>리터 스포트</td>\n",
       "      <td>미니 초콜릿믹스 9P</td>\n",
       "      <td>없음</td>\n",
       "      <td>준초콜릿,옥수수</td>\n",
       "      <td>vegan</td>\n",
       "      <td>발견사항 없음</td>\n",
       "    </tr>\n",
       "    <tr>\n",
       "      <th>2928</th>\n",
       "      <td>간식/과자/떡</td>\n",
       "      <td>청우</td>\n",
       "      <td>아홉 번 구워만든 죽염캔디 38g</td>\n",
       "      <td>땅콩,대두,우유,복숭아</td>\n",
       "      <td>무엇,자일리톨,박하유</td>\n",
       "      <td>vegan</td>\n",
       "      <td>발견사항 없음</td>\n",
       "    </tr>\n",
       "    <tr>\n",
       "      <th>2929</th>\n",
       "      <td>간식/과자/떡</td>\n",
       "      <td>kurly</td>\n",
       "      <td>맛다시마 젤리 100g (냉장)</td>\n",
       "      <td>없음</td>\n",
       "      <td>설탕,소금,대두,매실과육,다시매,간장</td>\n",
       "      <td>vegan</td>\n",
       "      <td>발견사항 없음</td>\n",
       "    </tr>\n",
       "  </tbody>\n",
       "</table>\n",
       "<p>2930 rows × 7 columns</p>\n",
       "</div>"
      ],
      "text/plain": [
       "        category       brand                  item  \\\n",
       "0     국/반찬/메인 요리         풀무원             국산콩 나또 3종   \n",
       "1     국/반찬/메인 요리       kurly         전통 시장 물떡 (2팩)   \n",
       "2     국/반찬/메인 요리       모두의맛집       소문난 원조 조방낙지 낙곱새   \n",
       "3     국/반찬/메인 요리   치즈룸x테이스팅룸             전복 솥밥 리조또   \n",
       "4     국/반찬/메인 요리         피코크         금돼지식당 통삽겹김치찌개   \n",
       "...          ...         ...                   ...   \n",
       "2925     간식/과자/떡        라라스윗           발렌타인 기프트 세트   \n",
       "2926     간식/과자/떡         발스낵   그랜드 감자칩 2묶음 6종 (택1)   \n",
       "2927     간식/과자/떡      리터 스포트           미니 초콜릿믹스 9P   \n",
       "2928     간식/과자/떡          청우    아홉 번 구워만든 죽염캔디 38g   \n",
       "2929     간식/과자/떡       kurly     맛다시마 젤리 100g (냉장)   \n",
       "\n",
       "                                                allergy  \\\n",
       "0     국산콩생나또,대두,밀,쇠고기,검은콩생나또,대두,밀,쇠고기,국산콩와사비나또,대두,밀,...   \n",
       "1     밀,대두,우유,계란,우유,메밀,땅콩,고등어,게,새우,돼지고기,복숭아,토마토,아황산류...   \n",
       "2     대두,밀,새우,쇠고기,조개류(굴),난류,우유,메밀,땅콩,고등어,게,돼지고기,복숭아,...   \n",
       "3     전복미역밥,우유,조개류(전복),전복내장크림소스,대두,밀,우유,계란,닭고기,조개류(굴...   \n",
       "4     대두,밀,돼지고기,쇠고기,알류,우유,메밀,땅콩,고등어,게,새우,복숭아,토마토,아황산...   \n",
       "...                                                 ...   \n",
       "2925               우유,밀,계란,대두,땅콩,호두,메밀,복숭아,토마토,돼지고기혼입가능   \n",
       "2926  씨솔트,와사비,칠리앤드라임,사우어크림앤드어니언,밀,우유,샐러리,겨자,사워크림앤허브,...   \n",
       "2927                                                 없음   \n",
       "2928                                       땅콩,대두,우유,복숭아   \n",
       "2929                                                 없음   \n",
       "\n",
       "                                             ingredient classify   gluten  \n",
       "0     고등어,아황산류,메밀,옥수수유옥수수,복숭아,오징어,홍합포함,설탕,조개류,전복,대두,...  general  발견사항 없음  \n",
       "1     조개류,정제소금,주정,떡류,조기,소스소스,참치,비타민,가공소금,오징어,구연산,복합조...    pesco  발견사항 없음  \n",
       "2                                마늘,조개류,전복,내두유,콩기름,홍합포함    pesco  발견사항 없음  \n",
       "3     마늘,고등어,호두,유청,소고기,껏일,포도당,구연산,가공이크림,토코페롤,변성전분,주정...  general  발견사항 없음  \n",
       "4     마늘,고등어,향미증진제,콜산,호두,복숭아,홍합포함,인산이전분,닭고기,고춧가루,진한양...  general  발견사항 없음  \n",
       "...                                                 ...      ...      ...  \n",
       "2925                                            알룰로스,당류    vegan  발견사항 없음  \n",
       "2926  글루,정제소금,오일,고추냉이,정제수정제소금,감자플레이크,리브뉴클레오티드이나트롬,감자...    vegan  발견사항 없음  \n",
       "2927                                           준초콜릿,옥수수    vegan  발견사항 없음  \n",
       "2928                                        무엇,자일리톨,박하유    vegan  발견사항 없음  \n",
       "2929                               설탕,소금,대두,매실과육,다시매,간장    vegan  발견사항 없음  \n",
       "\n",
       "[2930 rows x 7 columns]"
      ]
     },
     "execution_count": 2,
     "metadata": {},
     "output_type": "execute_result"
    }
   ],
   "source": [
    "df=pd.read_csv('./data/kurly_classify_allergy_gluten.csv',encoding='utf-8')\n",
    "df"
   ]
  },
  {
   "attachments": {},
   "cell_type": "markdown",
   "metadata": {},
   "source": [
    "### 분류 기준표"
   ]
  },
  {
   "cell_type": "code",
   "execution_count": 3,
   "metadata": {},
   "outputs": [],
   "source": [
    "with open('./list/meat_f.txt','r') as file:\n",
    "    lst=file.readlines()\n",
    "\n",
    "meat_lst=[]\n",
    "for word in lst:\n",
    "    word=word.replace('\\n','')\n",
    "    word=word.replace(' ','')\n",
    "    if len(word)>0:\n",
    "        meat_lst.append(word)"
   ]
  },
  {
   "cell_type": "code",
   "execution_count": 5,
   "metadata": {},
   "outputs": [],
   "source": [
    "with open('./list/sea_f.txt','r') as file:\n",
    "    lst=file.readlines()\n",
    "\n",
    "sea_lst=[]\n",
    "for word in lst:\n",
    "    word=word.replace('\\n','')\n",
    "    word=word.replace(' ','')\n",
    "    if len(word)>0:\n",
    "        sea_lst.append(word)"
   ]
  },
  {
   "cell_type": "code",
   "execution_count": 6,
   "metadata": {},
   "outputs": [],
   "source": [
    "with open('./list/milk_f.txt','r') as file:\n",
    "    lst=file.readlines()\n",
    "\n",
    "milk_lst=[]\n",
    "for word in lst:\n",
    "    word=word.replace('\\n','')\n",
    "    word=word.replace(' ','')\n",
    "    if len(word)>0:\n",
    "        milk_lst.append(word)"
   ]
  },
  {
   "cell_type": "code",
   "execution_count": 7,
   "metadata": {},
   "outputs": [],
   "source": [
    "with open('./list/egg_f.txt','r') as file:\n",
    "    lst=file.readlines()\n",
    "\n",
    "egg_lst=[]\n",
    "for word in lst:\n",
    "    word=word.replace('\\n','')\n",
    "    word=word.replace(' ','')\n",
    "    if len(word)>0:\n",
    "        egg_lst.append(word)"
   ]
  },
  {
   "cell_type": "code",
   "execution_count": 8,
   "metadata": {},
   "outputs": [],
   "source": [
    "with open('./list/honey_f.txt','r') as file:\n",
    "    lst=file.readlines()\n",
    "\n",
    "honey_lst=[]\n",
    "for word in lst:\n",
    "    word=word.replace('\\n','')\n",
    "    word=word.replace(' ','')\n",
    "    if len(word)>0:\n",
    "        honey_lst.append(word)"
   ]
  },
  {
   "attachments": {},
   "cell_type": "markdown",
   "metadata": {},
   "source": [
    "### 추천시스템 함수"
   ]
  },
  {
   "cell_type": "code",
   "execution_count": 176,
   "metadata": {},
   "outputs": [],
   "source": [
    "def find_sim_ingredient(df,sorted_ind,product_name,top_n=10,cate=0,vegan=0):\n",
    "    \n",
    "    title_product=df[df['item']==product_name]\n",
    "    title_index=title_product.index.values\n",
    "\n",
    "    similar_indexes=sorted_ind[title_index]\n",
    "    similar_indexes=similar_indexes[similar_indexes!=title_index]\n",
    "\n",
    "    similar_indexes=similar_indexes.reshape(-1)\n",
    "    option_lst=similar_indexes\n",
    "\n",
    "    # 카테고리 옵션\n",
    "    if cate==1:\n",
    "        option_lst=[]\n",
    "        category=df.loc[df['item']==product_name,'category'].values\n",
    "        cate_indexes=df.loc[df['category']==category[0]].index.values\n",
    "    \n",
    "    # 비건단계 옵션1 -같은 종류의 단계만 추천\n",
    "    if vegan==1:\n",
    "        option_lst=[]\n",
    "        vegan_level=df.loc[df['item']==product_name,'classify'].values\n",
    "        same_vegan_indexes=df.loc[df['classify']==vegan_level[0]].index.values\n",
    "\n",
    "    # 비건단계 옵션2 -비건단계당 2개씩 추천\n",
    "    elif vegan==2:\n",
    "        option_lst=[]\n",
    "        vegan_check={'pesco':0,'lacto_ovo':0,'lacto':0,'ovo':0,'vegan':0,'honey':0}\n",
    "        cnt=0\n",
    "            \n",
    "    # 비건단계 옵션3 - 비건 제품만 추천\n",
    "    elif vegan==3:\n",
    "        option_lst=[]\n",
    "        vegan_indexes=df.loc[df['classify']=='vegan'].index.values\n",
    "\n",
    "    # 옵션 적용\n",
    "    if cate==1 and vegan==0: # 카테고리\n",
    "        for idx in similar_indexes:\n",
    "            if idx in cate_indexes:\n",
    "                option_lst.append(idx)\n",
    "    \n",
    "    elif cate==0 and vegan==1: # 같은비건단계\n",
    "        for idx in similar_indexes:\n",
    "            if idx in same_vegan_indexes:\n",
    "                option_lst.append(idx)\n",
    "\n",
    "    elif cate==0 and vegan==2: # 비건단계별\n",
    "        for idx in similar_indexes:\n",
    "            vegan_level=df.iloc[idx,-3]\n",
    "            if vegan_level!='general' and vegan_check[vegan_level]<2:\n",
    "                vegan_check[vegan_level]+=1\n",
    "                option_lst.append(idx)\n",
    "                cnt+=1\n",
    "            elif cnt==12:\n",
    "                break\n",
    "            else:\n",
    "                continue\n",
    "    \n",
    "    elif cate==0 and vegan==3: # 비건제품만\n",
    "        for idx in similar_indexes:\n",
    "            if idx in vegan_indexes:\n",
    "                option_lst.append(idx)\n",
    "\n",
    "    elif cate==1 and vegan==1: # 카테고리, 같은비건단계\n",
    "        for idx in similar_indexes:\n",
    "            if idx in cate_indexes and idx in same_vegan_indexes:\n",
    "                option_lst.append(idx)\n",
    "\n",
    "    elif cate==1 and vegan==2: # 카테고리, 비건단계별\n",
    "        for idx in similar_indexes:\n",
    "            if idx in cate_indexes:\n",
    "                vegan_level=df.iloc[idx,-3]\n",
    "                if vegan_level!='general' and vegan_check[vegan_level]<2:\n",
    "                    vegan_check[vegan_level]+=1\n",
    "                    option_lst.append(idx)\n",
    "                    cnt+=1\n",
    "                elif cnt==12:\n",
    "                    break\n",
    "                else:\n",
    "                    continue\n",
    "\n",
    "    elif cate==1 and vegan==3:  # 카테고리, 비건제품만\n",
    "        for idx in similar_indexes:\n",
    "            if idx in cate_indexes and idx in vegan_indexes:\n",
    "                option_lst.append(idx)\n",
    "\n",
    "    return df.iloc[option_lst][:top_n]"
   ]
  },
  {
   "cell_type": "code",
   "execution_count": 12,
   "metadata": {},
   "outputs": [],
   "source": [
    "df['ingredient']=df['ingredient'].apply(lambda x:x.replace(',',' '))"
   ]
  },
  {
   "attachments": {},
   "cell_type": "markdown",
   "metadata": {},
   "source": [
    "### 글루텐 정보"
   ]
  },
  {
   "cell_type": "code",
   "execution_count": 13,
   "metadata": {},
   "outputs": [],
   "source": [
    "glu=['글루테닌','글리아딘','보리','귀리','밀','강력분','중력분','박력분','밀가루']"
   ]
  },
  {
   "attachments": {},
   "cell_type": "markdown",
   "metadata": {},
   "source": [
    "### 불용어"
   ]
  },
  {
   "cell_type": "code",
   "execution_count": 49,
   "metadata": {},
   "outputs": [],
   "source": [
    "stopwords=['미국산','외국산','인도','호주','브라질','말레이시아산','함유','함유로']"
   ]
  },
  {
   "attachments": {},
   "cell_type": "markdown",
   "metadata": {},
   "source": [
    "## 새로운 데이터 입력"
   ]
  },
  {
   "attachments": {},
   "cell_type": "markdown",
   "metadata": {},
   "source": [
    "### 1) 식품 정보 입력 및 성분 사진 인식"
   ]
  },
  {
   "cell_type": "code",
   "execution_count": 57,
   "metadata": {},
   "outputs": [
    {
     "name": "stdout",
     "output_type": "stream",
     "text": [
      "식품 정보를 입력하세요\n",
      "1) 식품 브랜드:\n",
      "=> 오리온\n",
      "2) 식품 이름:\n",
      "=> 고래밥\n",
      "3) 식품 카테고리:(국·반찬·메인요리/샐러드·간편식/면·양념·오일/생수·음료·우유·커피/간식·과자·떡/베이커리·치즈·델리)\n",
      "=> 간식·과자·떡\n"
     ]
    }
   ],
   "source": [
    "print('식품 정보를 입력하세요')\n",
    "brand=[] ; item=[]; category=[]\n",
    "\n",
    "brand.append(input(print('1) 식품 브랜드:')))\n",
    "print('=>',brand[0])\n",
    "\n",
    "item.append(input(print('2) 식품 이름:')))\n",
    "print('=>',item[0])\n",
    "\n",
    "category.append(input(print('3) 식품 카테고리:(국·반찬·메인요리/샐러드·간편식/면·양념·오일/생수·음료·우유·커피/간식·과자·떡/베이커리·치즈·델리)')))\n",
    "\n",
    "print('=>',category[0])\n",
    "\n",
    "category[0]=category[0].replace('·','/')"
   ]
  },
  {
   "cell_type": "code",
   "execution_count": 37,
   "metadata": {},
   "outputs": [
    {
     "name": "stdout",
     "output_type": "stream",
     "text": [
      "식품 성분 사진을 불러옵니다.\n"
     ]
    }
   ],
   "source": [
    "print('식품 성분 사진을 불러옵니다.')\n",
    "img=Image.open('./img/image1_ingre.jpg')\n",
    "result=pytesseract.image_to_string(img,lang='kor')"
   ]
  },
  {
   "cell_type": "code",
   "execution_count": 38,
   "metadata": {},
   "outputs": [
    {
     "data": {
      "text/plain": [
       "'밀가루(밀 미국산), 알파옥수수분말[옥수수 외국산(인도, 호주, 브라질)], 변성전\\n분 , 식물성유지1(팔유 말레이시아산, 폴레인유 말레이시아산), 볶음양넘맛씨즈닝 4.3 %\\n[감미료 아스파탐(페닐알라닌 함유)], 식물성유지2, 갈색설탕, 백설탕, 유단백혼합분말, 전\\n분 4\\n\\n, 바베큐양념페이스트, 혼합치스분말, 패각칼슴, 식염, 산도조절제, 유화제\\n밀, 달갈, 우유, 대두, 토마토, 돼지고기, 쇠고기, 오징어, 조개류(굴) 함유\\n\\n로 2 7 19919\\n\\n'"
      ]
     },
     "execution_count": 38,
     "metadata": {},
     "output_type": "execute_result"
    }
   ],
   "source": [
    "result"
   ]
  },
  {
   "cell_type": "code",
   "execution_count": 190,
   "metadata": {},
   "outputs": [
    {
     "data": {
      "text/plain": [
       "'밀가루,밀,미국산,알파옥수수분말,옥수수,외국산,인도,호주,브라질,변성전분,식물성유지,팔유,말레이시아산,폴레인유,말레이시아산,볶음양넘맛씨즈닝,감미료,아스파탐,페닐알라닌,함유,식물성유지,갈색설탕,백설탕,유단백혼합분말,전분,바베큐양념페이스트,혼합치스분말,패각칼슴,식염,산도조절제,유화제밀,달갈,우유,대두,토마토,돼지고기,쇠고기,오징어,조개류,굴,함유로,'"
      ]
     },
     "execution_count": 190,
     "metadata": {},
     "output_type": "execute_result"
    }
   ],
   "source": [
    "result=re.sub('[()\\[\\]]',',',result)\n",
    "result=result.replace('\\n','')\n",
    "result=re.sub('[^가-힣,]',',',result)\n",
    "result=re.sub(',+',',',result)\n",
    "result"
   ]
  },
  {
   "cell_type": "code",
   "execution_count": 200,
   "metadata": {},
   "outputs": [],
   "source": [
    "ingredient=''\n",
    "for word in result.split(','):\n",
    "    if word in stopwords:\n",
    "        continue\n",
    "    else:\n",
    "        ingredient=ingredient+','+word"
   ]
  },
  {
   "cell_type": "code",
   "execution_count": 150,
   "metadata": {},
   "outputs": [
    {
     "data": {
      "text/html": [
       "<div>\n",
       "<style scoped>\n",
       "    .dataframe tbody tr th:only-of-type {\n",
       "        vertical-align: middle;\n",
       "    }\n",
       "\n",
       "    .dataframe tbody tr th {\n",
       "        vertical-align: top;\n",
       "    }\n",
       "\n",
       "    .dataframe thead th {\n",
       "        text-align: right;\n",
       "    }\n",
       "</style>\n",
       "<table border=\"1\" class=\"dataframe\">\n",
       "  <thead>\n",
       "    <tr style=\"text-align: right;\">\n",
       "      <th></th>\n",
       "      <th>brand</th>\n",
       "      <th>item</th>\n",
       "      <th>ingredient</th>\n",
       "      <th>category</th>\n",
       "    </tr>\n",
       "  </thead>\n",
       "  <tbody>\n",
       "    <tr>\n",
       "      <th>0</th>\n",
       "      <td>오리온</td>\n",
       "      <td>고래밥</td>\n",
       "      <td>,밀가루,밀,알파옥수수분말,옥수수,변성전분,식물성유지,팔유,폴레인유,볶음양넘맛씨즈닝...</td>\n",
       "      <td>간식/과자/떡</td>\n",
       "    </tr>\n",
       "  </tbody>\n",
       "</table>\n",
       "</div>"
      ],
      "text/plain": [
       "  brand item                                         ingredient category\n",
       "0   오리온  고래밥  ,밀가루,밀,알파옥수수분말,옥수수,변성전분,식물성유지,팔유,폴레인유,볶음양넘맛씨즈닝...  간식/과자/떡"
      ]
     },
     "execution_count": 150,
     "metadata": {},
     "output_type": "execute_result"
    }
   ],
   "source": [
    "input_data=pd.DataFrame({'brand':brand,'item':item,'ingredient':ingredient,'category':category})\n",
    "input_data"
   ]
  },
  {
   "attachments": {},
   "cell_type": "markdown",
   "metadata": {},
   "source": [
    "### 2) 비건단계 식품 분류"
   ]
  },
  {
   "cell_type": "code",
   "execution_count": 151,
   "metadata": {},
   "outputs": [
    {
     "name": "stdout",
     "output_type": "stream",
     "text": [
      "[고래밥]은 general식품입니다.\n"
     ]
    }
   ],
   "source": [
    "input_data['classify']='0'\n",
    "flag=0\n",
    "milk=0\n",
    "egg=0\n",
    "for word in input_data['ingredient'][0].split(','):\n",
    "    if word in meat_lst:\n",
    "        flag=1\n",
    "        break\n",
    "if flag==0:\n",
    "    for word in input_data['ingredient'][0].split(','):\n",
    "        if word in sea_lst:\n",
    "            flag=2\n",
    "            break\n",
    "if flag==0:\n",
    "    for word in input_data['ingredient'][0].split(','):\n",
    "        if word in milk_lst:\n",
    "            flag=3\n",
    "            milk+=1\n",
    "            break\n",
    "    for word in input_data['ingredient'][0].split(','):\n",
    "        if word in egg_lst:\n",
    "            flag=3\n",
    "            egg+=1\n",
    "            break\n",
    "if flag==0:\n",
    "    for word in input_data['ingredient'][0].split(','):\n",
    "        if word in honey_lst:\n",
    "            flag==4\n",
    "            break\n",
    "            \n",
    "if flag==1:\n",
    "    classify='general'\n",
    "elif flag==2:\n",
    "    classify='pesco'\n",
    "elif flag==3:\n",
    "    if milk>0 and egg==0:\n",
    "        classify='lacto'\n",
    "    elif milk==0 and egg>0:\n",
    "        classify='ovo'\n",
    "    else:\n",
    "        classify='lacto ovo'\n",
    "elif flag==4:\n",
    "    classify='honey'\n",
    "else:\n",
    "    classify='vegan'\n",
    "input_data['classify'][0]=classify\n",
    "print('['+input_data['item'][0]+']은 '+input_data['classify'][0]+'식품입니다.')"
   ]
  },
  {
   "attachments": {},
   "cell_type": "markdown",
   "metadata": {},
   "source": [
    "### 3) 알레르기 확인"
   ]
  },
  {
   "cell_type": "code",
   "execution_count": 75,
   "metadata": {},
   "outputs": [
    {
     "name": "stdout",
     "output_type": "stream",
     "text": [
      "알레르기 정보를 입력하세요.\n",
      "다 입력하신 후 \"끝\"을 입력해주세요.\n",
      "땅콩\n",
      "복숭아\n",
      "끝\n"
     ]
    }
   ],
   "source": [
    "user_allergy=[]\n",
    "user_input=''\n",
    "print('알레르기 정보를 입력하세요.\\n다 입력하신 후 \\\"끝\\\"을 입력해주세요.')\n",
    "while user_input!='끝':\n",
    "    user_input=input()\n",
    "    print(user_input)\n",
    "    user_allergy.append(user_input)\n",
    "user_allergy=user_allergy[:-1]"
   ]
  },
  {
   "cell_type": "code",
   "execution_count": 183,
   "metadata": {},
   "outputs": [
    {
     "name": "stdout",
     "output_type": "stream",
     "text": [
      "[고래밥]에는 고객님이 입력하신 알레르기가 없어요. 안심하세요!\n"
     ]
    }
   ],
   "source": [
    "allergy_lst=[]\n",
    "for word in input_data['ingredient'][0].split(','):\n",
    "    if word in user_allergy:\n",
    "        allergy_lst.append(word)\n",
    "if len(allergy_lst)>0:\n",
    "    print('['+input_data['item'][0]+']에는 고객님이 입력하신 알레르기 중 '+str(allergy_lst)+'가 존재합니다. 조심하세요!')\n",
    "    input_data['allergy']=','.join(allergy_lst)\n",
    "else:\n",
    "    print('['+input_data['item'][0]+']에는 고객님이 입력하신 알레르기가 없어요. 안심하세요!')\n",
    "    input_data['allergy']='발견사항 없음'"
   ]
  },
  {
   "attachments": {},
   "cell_type": "markdown",
   "metadata": {},
   "source": [
    "### 4) 글루텐 확인"
   ]
  },
  {
   "cell_type": "code",
   "execution_count": 185,
   "metadata": {},
   "outputs": [
    {
     "name": "stdout",
     "output_type": "stream",
     "text": [
      "[고래밥]에는 글루텐이 포함되어 있습니다.\n"
     ]
    }
   ],
   "source": [
    "glu_lst=[]\n",
    "for word in input_data['ingredient'][0].split(' '):\n",
    "    if word in glu:\n",
    "        glu_lst.append(word)\n",
    "if len(glu_lst)>0:\n",
    "    print('['+input_data['item'][0]+']에는 글루텐이 포함되어 있습니다.')\n",
    "    input_data['gluten']=','.join(glu_lst)\n",
    "else:\n",
    "    print('['+input_data['item'][0]+']에는 글루텐이 포함되어 있지 않습니다.')\n",
    "    input_data['gluten']='발견사항 없음'"
   ]
  },
  {
   "attachments": {},
   "cell_type": "markdown",
   "metadata": {},
   "source": [
    "### 5) 추천시스템"
   ]
  },
  {
   "cell_type": "code",
   "execution_count": 152,
   "metadata": {},
   "outputs": [],
   "source": [
    "input_data['ingredient']=input_data['ingredient'].apply(lambda x:x.replace(',',' '))"
   ]
  },
  {
   "cell_type": "code",
   "execution_count": 83,
   "metadata": {},
   "outputs": [
    {
     "name": "stdout",
     "output_type": "stream",
     "text": [
      "카테고리 옵션을 선택하세요\n",
      "1) 같은 카테고리 식품만 궁금해요\n",
      "2) 다른 카테고리 식품도 궁금해요\n",
      "=> 1번 옵션 선택\n",
      "\n",
      "비건 옵션을 선택하세요\n",
      "1) 비건 단계 상관없이 모두 궁금해요\n",
      "2) 같은 비건 단계 식품만 궁금해요\n",
      "3) 다른 비건단계 식품들도 궁금해요\n",
      "4) 비건인 식품만 궁금해요\n",
      "=> 3번 옵션 선택\n"
     ]
    }
   ],
   "source": [
    "# 옵션 입력\n",
    "print('카테고리 옵션을 선택하세요')\n",
    "print('1) 같은 카테고리 식품만 궁금해요')\n",
    "print('2) 다른 카테고리 식품도 궁금해요')\n",
    "cate_option=input('1 / 2')\n",
    "\n",
    "print('=> '+cate_option+'번 옵션 선택')\n",
    "\n",
    "if cate_option=='1':\n",
    "    cate_option=1\n",
    "else:\n",
    "    cate_option=0\n",
    "\n",
    "print('\\n비건 옵션을 선택하세요')\n",
    "print('1) 비건 단계 상관없이 모두 궁금해요')\n",
    "print('2) 같은 비건 단계 식품만 궁금해요')\n",
    "print('3) 다른 비건단계 식품들도 궁금해요')\n",
    "print('4) 비건인 식품만 궁금해요')\n",
    "vegan_option=input('1 / 2 / 3 / 4')\n",
    "\n",
    "print('=> '+vegan_option+'번 옵션 선택')\n",
    "\n",
    "if vegan_option=='1':\n",
    "    vegan_option=0\n",
    "elif vegan_option=='2':\n",
    "    vegan_option=1\n",
    "elif vegan_option=='3':\n",
    "    vegan_option=2\n",
    "else:\n",
    "    vegan_option=3"
   ]
  },
  {
   "cell_type": "code",
   "execution_count": 187,
   "metadata": {},
   "outputs": [
    {
     "name": "stdout",
     "output_type": "stream",
     "text": [
      "입력한 상품과 비슷한 제품을 보여드려요\n"
     ]
    },
    {
     "data": {
      "text/html": [
       "<div>\n",
       "<style scoped>\n",
       "    .dataframe tbody tr th:only-of-type {\n",
       "        vertical-align: middle;\n",
       "    }\n",
       "\n",
       "    .dataframe tbody tr th {\n",
       "        vertical-align: top;\n",
       "    }\n",
       "\n",
       "    .dataframe thead th {\n",
       "        text-align: right;\n",
       "    }\n",
       "</style>\n",
       "<table border=\"1\" class=\"dataframe\">\n",
       "  <thead>\n",
       "    <tr style=\"text-align: right;\">\n",
       "      <th></th>\n",
       "      <th>brand</th>\n",
       "      <th>item</th>\n",
       "      <th>ingredient</th>\n",
       "      <th>category</th>\n",
       "      <th>classify</th>\n",
       "      <th>allergy</th>\n",
       "      <th>gluten</th>\n",
       "    </tr>\n",
       "  </thead>\n",
       "  <tbody>\n",
       "    <tr>\n",
       "      <th>1875</th>\n",
       "      <td>오리온</td>\n",
       "      <td>예감 치즈 그라탕 204g</td>\n",
       "      <td>폴란드산 산도조절제 식물성유지</td>\n",
       "      <td>간식/과자/떡</td>\n",
       "      <td>lacto</td>\n",
       "      <td>밀,우유,대두,쇠고기,오징어,새우</td>\n",
       "      <td>발견사항 없음</td>\n",
       "    </tr>\n",
       "    <tr>\n",
       "      <th>1570</th>\n",
       "      <td>칠갑농산</td>\n",
       "      <td>우리쌀 떡국떡 800g</td>\n",
       "      <td>우유 대두 계란</td>\n",
       "      <td>간식/과자/떡</td>\n",
       "      <td>lacto_ovo</td>\n",
       "      <td>난류(계란),우유,대두,밀</td>\n",
       "      <td>발견사항 없음</td>\n",
       "    </tr>\n",
       "    <tr>\n",
       "      <th>1593</th>\n",
       "      <td>오리온</td>\n",
       "      <td>고래밥 20g x 10입</td>\n",
       "      <td>백설탕 치즈분말 산도조절제 유화제 전분 갈색설탕 아스파탐 분말</td>\n",
       "      <td>간식/과자/떡</td>\n",
       "      <td>lacto</td>\n",
       "      <td>밀,달걀,우유,대두,토마토,돼지고기,쇠고기,오징어,조개류(굴)</td>\n",
       "      <td>발견사항 없음</td>\n",
       "    </tr>\n",
       "    <tr>\n",
       "      <th>2901</th>\n",
       "      <td>Gnaw</td>\n",
       "      <td>드라큐바 100g</td>\n",
       "      <td>전분</td>\n",
       "      <td>간식/과자/떡</td>\n",
       "      <td>vegan</td>\n",
       "      <td>우유,대두,밀,땅콩,혼입가능성있음</td>\n",
       "      <td>발견사항 없음</td>\n",
       "    </tr>\n",
       "    <tr>\n",
       "      <th>2915</th>\n",
       "      <td>푸드도슨트</td>\n",
       "      <td>페스츄리 한입약과 160g</td>\n",
       "      <td>대두</td>\n",
       "      <td>간식/과자/떡</td>\n",
       "      <td>vegan</td>\n",
       "      <td>밀,대두</td>\n",
       "      <td>발견사항 없음</td>\n",
       "    </tr>\n",
       "    <tr>\n",
       "      <th>933</th>\n",
       "      <td>서울마님</td>\n",
       "      <td>찹쌀옹심이</td>\n",
       "      <td>우유 대두 아황산류 새우 메밀땅콩</td>\n",
       "      <td>간식/과자/떡</td>\n",
       "      <td>pesco</td>\n",
       "      <td>알류,우유,메밀,땅콩,대두,밀,고등어,게,새우,돼지고기,복숭아,토마토,아황산류,호두...</td>\n",
       "      <td>발견사항 없음</td>\n",
       "    </tr>\n",
       "    <tr>\n",
       "      <th>1034</th>\n",
       "      <td>농심</td>\n",
       "      <td>자갈치 300g (지퍼백)</td>\n",
       "      <td>우유 산도조절제 전복 과자 대두 땅콩 토마토 새우 미쇠고기 소맥분 당류 홍합포함</td>\n",
       "      <td>간식/과자/떡</td>\n",
       "      <td>pesco</td>\n",
       "      <td>새우,대두,우유,밀,쇠고기,게,토마토,돼지고기,오징어,닭고기,계란,땅콩,잣,조개류(...</td>\n",
       "      <td>발견사항 없음</td>\n",
       "    </tr>\n",
       "    <tr>\n",
       "      <th>1677</th>\n",
       "      <td>해마루</td>\n",
       "      <td>파주 장단콩 팥소빵 (5개입)</td>\n",
       "      <td>설탕 밀가루 산도조절제 산도조절제전분 변성전분 앗술 베이킹파우더 대두 양조간장 방류...</td>\n",
       "      <td>간식/과자/떡</td>\n",
       "      <td>ovo</td>\n",
       "      <td>계란,밀,대두</td>\n",
       "      <td>밀가루</td>\n",
       "    </tr>\n",
       "    <tr>\n",
       "      <th>1730</th>\n",
       "      <td>마요라</td>\n",
       "      <td>로마 마리에 골드 초코 비스킷 2개입 번들</td>\n",
       "      <td>밀가루 설탕 정제소금 시럽 버터 코코아 식물성유지 탄산수소나트롬 팽창제 탄산수소암모...</td>\n",
       "      <td>간식/과자/떡</td>\n",
       "      <td>lacto_ovo</td>\n",
       "      <td>밀,우유,계란,대두,견과류</td>\n",
       "      <td>밀가루</td>\n",
       "    </tr>\n",
       "    <tr>\n",
       "      <th>1523</th>\n",
       "      <td>오리온</td>\n",
       "      <td>초코파이 바나나맛 12입</td>\n",
       "      <td>변성전분 때지 전란액 식물성크림 전분 혼합제제 합성향료 당류</td>\n",
       "      <td>간식/과자/떡</td>\n",
       "      <td>ovo</td>\n",
       "      <td>밀,달걀,우유,대두,돼지고기,쇠고기,땅콩,복숭아,게,조개류</td>\n",
       "      <td>발견사항 없음</td>\n",
       "    </tr>\n",
       "  </tbody>\n",
       "</table>\n",
       "</div>"
      ],
      "text/plain": [
       "      brand                      item  \\\n",
       "1875    오리온            예감 치즈 그라탕 204g   \n",
       "1570   칠갑농산              우리쌀 떡국떡 800g   \n",
       "1593    오리온             고래밥 20g x 10입   \n",
       "2901   Gnaw                 드라큐바 100g   \n",
       "2915  푸드도슨트            페스츄리 한입약과 160g   \n",
       "933    서울마님                     찹쌀옹심이   \n",
       "1034     농심            자갈치 300g (지퍼백)   \n",
       "1677    해마루          파주 장단콩 팥소빵 (5개입)   \n",
       "1730    마요라   로마 마리에 골드 초코 비스킷 2개입 번들   \n",
       "1523    오리온             초코파이 바나나맛 12입   \n",
       "\n",
       "                                             ingredient category   classify  \\\n",
       "1875                                   폴란드산 산도조절제 식물성유지  간식/과자/떡      lacto   \n",
       "1570                                           우유 대두 계란  간식/과자/떡  lacto_ovo   \n",
       "1593                 백설탕 치즈분말 산도조절제 유화제 전분 갈색설탕 아스파탐 분말  간식/과자/떡      lacto   \n",
       "2901                                                 전분  간식/과자/떡      vegan   \n",
       "2915                                                 대두  간식/과자/떡      vegan   \n",
       "933                                  우유 대두 아황산류 새우 메밀땅콩  간식/과자/떡      pesco   \n",
       "1034       우유 산도조절제 전복 과자 대두 땅콩 토마토 새우 미쇠고기 소맥분 당류 홍합포함  간식/과자/떡      pesco   \n",
       "1677  설탕 밀가루 산도조절제 산도조절제전분 변성전분 앗술 베이킹파우더 대두 양조간장 방류...  간식/과자/떡        ovo   \n",
       "1730  밀가루 설탕 정제소금 시럽 버터 코코아 식물성유지 탄산수소나트롬 팽창제 탄산수소암모...  간식/과자/떡  lacto_ovo   \n",
       "1523                  변성전분 때지 전란액 식물성크림 전분 혼합제제 합성향료 당류  간식/과자/떡        ovo   \n",
       "\n",
       "                                                allergy   gluten  \n",
       "1875                                 밀,우유,대두,쇠고기,오징어,새우  발견사항 없음  \n",
       "1570                                     난류(계란),우유,대두,밀  발견사항 없음  \n",
       "1593                 밀,달걀,우유,대두,토마토,돼지고기,쇠고기,오징어,조개류(굴)  발견사항 없음  \n",
       "2901                                 우유,대두,밀,땅콩,혼입가능성있음  발견사항 없음  \n",
       "2915                                               밀,대두  발견사항 없음  \n",
       "933   알류,우유,메밀,땅콩,대두,밀,고등어,게,새우,돼지고기,복숭아,토마토,아황산류,호두...  발견사항 없음  \n",
       "1034  새우,대두,우유,밀,쇠고기,게,토마토,돼지고기,오징어,닭고기,계란,땅콩,잣,조개류(...  발견사항 없음  \n",
       "1677                                            계란,밀,대두      밀가루  \n",
       "1730                                     밀,우유,계란,대두,견과류      밀가루  \n",
       "1523                   밀,달걀,우유,대두,돼지고기,쇠고기,땅콩,복숭아,게,조개류  발견사항 없음  "
      ]
     },
     "execution_count": 187,
     "metadata": {},
     "output_type": "execute_result"
    }
   ],
   "source": [
    "recom_df=pd.concat([input_data,df]).reset_index(drop=True)\n",
    "count_vect=CountVectorizer(min_df=0,ngram_range=(1,2))\n",
    "text_mat=count_vect.fit_transform(recom_df['ingredient'])\n",
    "text_sim=cosine_similarity(text_mat,text_mat)\n",
    "text_sim_sorted_ind=text_sim.argsort()[:,::-1]\n",
    "\n",
    "print('입력한 상품과 비슷한 제품을 보여드려요')\n",
    "find_sim_ingredient(recom_df,text_sim_sorted_ind,input_data['item'].values[0],10,cate_option,vegan_option)"
   ]
  }
 ],
 "metadata": {
  "kernelspec": {
   "display_name": "base",
   "language": "python",
   "name": "python3"
  },
  "language_info": {
   "codemirror_mode": {
    "name": "ipython",
    "version": 3
   },
   "file_extension": ".py",
   "mimetype": "text/x-python",
   "name": "python",
   "nbconvert_exporter": "python",
   "pygments_lexer": "ipython3",
   "version": "3.9.7"
  },
  "orig_nbformat": 4
 },
 "nbformat": 4,
 "nbformat_minor": 2
}
