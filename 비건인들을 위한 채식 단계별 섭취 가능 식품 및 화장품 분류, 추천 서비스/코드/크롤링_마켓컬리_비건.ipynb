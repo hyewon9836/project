{
 "cells": [
  {
   "cell_type": "code",
   "execution_count": 1,
   "metadata": {},
   "outputs": [],
   "source": [
    "from bs4 import BeautifulSoup\n",
    "from selenium import webdriver\n",
    "from selenium.webdriver import ActionChains\n",
    "from selenium.webdriver.common.by import By\n",
    "\n",
    "import re\n",
    "import pandas as pd\n",
    "import time\n",
    "import requests"
   ]
  },
  {
   "cell_type": "code",
   "execution_count": 8,
   "metadata": {},
   "outputs": [],
   "source": [
    "url='https://www.kurly.com/categories/525'\n",
    "\n",
    "driver=webdriver.Chrome()\n",
    "driver.get(url)\n",
    "act=ActionChains(driver)\n",
    "html=driver.page_source\n",
    "soup=BeautifulSoup(html,'html.parser')"
   ]
  },
  {
   "cell_type": "code",
   "execution_count": 23,
   "metadata": {},
   "outputs": [
    {
     "data": {
      "text/plain": [
       "'[아임프롬] 피그 부스팅 에센스'"
      ]
     },
     "execution_count": 23,
     "metadata": {},
     "output_type": "execute_result"
    }
   ],
   "source": [
    "soup.select('div > a > div > span.css-1dry2r1.e1c07x488')[0].text"
   ]
  },
  {
   "cell_type": "code",
   "execution_count": 44,
   "metadata": {},
   "outputs": [],
   "source": [
    "url='https://www.kurly.com/categories/525'\n",
    "driver=webdriver.Chrome()\n",
    "driver.get(url)\n",
    "act=ActionChains(driver)\n",
    "\n",
    "vegan_lst=[]\n",
    "\n",
    "for page in range(10):\n",
    "    html=driver.page_source\n",
    "    soup=BeautifulSoup(html,'html.parser')\n",
    "\n",
    "    try:\n",
    "        for i in range(96):\n",
    "            vegan_lst.append(soup.select('div > a > div > span.css-1dry2r1.e1c07x488')[i].text)\n",
    "\n",
    "        driver.find_elements(By.CSS_SELECTOR,'#container > div.css-pzlq5x.ev4ofwi1 > div.css-1d3w5wq.ef36txc6 > div.css-rdz8z7.e82lnfz1 > a:nth-child(7)')[0].click()\n",
    "    except:\n",
    "        break"
   ]
  },
  {
   "cell_type": "code",
   "execution_count": 53,
   "metadata": {},
   "outputs": [],
   "source": [
    "brand_lst=[]\n",
    "product_lst=[]\n",
    "\n",
    "for vegan in vegan_lst:\n",
    "    if len(vegan.split(']'))>1:\n",
    "        brand=vegan.split(']')[0]\n",
    "        brand=brand.replace('[','')\n",
    "        \n",
    "        product=vegan.split(']')[1]\n",
    "        \n",
    "    brand_lst.append(brand.strip())\n",
    "    product_lst.append(product.strip())"
   ]
  },
  {
   "cell_type": "code",
   "execution_count": 57,
   "metadata": {},
   "outputs": [
    {
     "data": {
      "text/html": [
       "<div>\n",
       "<style scoped>\n",
       "    .dataframe tbody tr th:only-of-type {\n",
       "        vertical-align: middle;\n",
       "    }\n",
       "\n",
       "    .dataframe tbody tr th {\n",
       "        vertical-align: top;\n",
       "    }\n",
       "\n",
       "    .dataframe thead th {\n",
       "        text-align: right;\n",
       "    }\n",
       "</style>\n",
       "<table border=\"1\" class=\"dataframe\">\n",
       "  <thead>\n",
       "    <tr style=\"text-align: right;\">\n",
       "      <th></th>\n",
       "      <th>brand</th>\n",
       "      <th>product</th>\n",
       "    </tr>\n",
       "  </thead>\n",
       "  <tbody>\n",
       "    <tr>\n",
       "      <th>0</th>\n",
       "      <td>아임프롬</td>\n",
       "      <td>피그 부스팅 에센스</td>\n",
       "    </tr>\n",
       "    <tr>\n",
       "      <th>1</th>\n",
       "      <td>아로마티카</td>\n",
       "      <td>로즈마리 스칼프 스케일링 샴푸 510ml</td>\n",
       "    </tr>\n",
       "    <tr>\n",
       "      <th>2</th>\n",
       "      <td>플라하반</td>\n",
       "      <td>오트밀 6종</td>\n",
       "    </tr>\n",
       "    <tr>\n",
       "      <th>3</th>\n",
       "      <td>라아부엘라니에베스</td>\n",
       "      <td>스페인 수제 감자칩</td>\n",
       "    </tr>\n",
       "    <tr>\n",
       "      <th>4</th>\n",
       "      <td>팜에이트</td>\n",
       "      <td>친환경 채소믹스 500g</td>\n",
       "    </tr>\n",
       "    <tr>\n",
       "      <th>...</th>\n",
       "      <td>...</td>\n",
       "      <td>...</td>\n",
       "    </tr>\n",
       "    <tr>\n",
       "      <th>416</th>\n",
       "      <td>빌리프xVDL</td>\n",
       "      <td>블라스트 밤 스퀴즈 페인트 3종 (비건 립앤치크)</td>\n",
       "    </tr>\n",
       "    <tr>\n",
       "      <th>417</th>\n",
       "      <td>브라잇벨리</td>\n",
       "      <td>플랜트 함박앤베지</td>\n",
       "    </tr>\n",
       "    <tr>\n",
       "      <th>418</th>\n",
       "      <td>에딧비</td>\n",
       "      <td>오가닉 쑥 크림 75ml</td>\n",
       "    </tr>\n",
       "    <tr>\n",
       "      <th>419</th>\n",
       "      <td>브라잇벨리</td>\n",
       "      <td>플랜트 마파두부밥</td>\n",
       "    </tr>\n",
       "    <tr>\n",
       "      <th>420</th>\n",
       "      <td>디오디너리</td>\n",
       "      <td>아스코빌 테트라이소팔미테이트 솔루션 20% 인 비타민 에프 (톤케어/비타민C유도체)</td>\n",
       "    </tr>\n",
       "  </tbody>\n",
       "</table>\n",
       "<p>319 rows × 2 columns</p>\n",
       "</div>"
      ],
      "text/plain": [
       "         brand                                         product\n",
       "0         아임프롬                                      피그 부스팅 에센스\n",
       "1        아로마티카                          로즈마리 스칼프 스케일링 샴푸 510ml\n",
       "2         플라하반                                          오트밀 6종\n",
       "3    라아부엘라니에베스                                      스페인 수제 감자칩\n",
       "4         팜에이트                                   친환경 채소믹스 500g\n",
       "..         ...                                             ...\n",
       "416    빌리프xVDL                     블라스트 밤 스퀴즈 페인트 3종 (비건 립앤치크)\n",
       "417      브라잇벨리                                       플랜트 함박앤베지\n",
       "418        에딧비                                   오가닉 쑥 크림 75ml\n",
       "419      브라잇벨리                                       플랜트 마파두부밥\n",
       "420      디오디너리  아스코빌 테트라이소팔미테이트 솔루션 20% 인 비타민 에프 (톤케어/비타민C유도체)\n",
       "\n",
       "[319 rows x 2 columns]"
      ]
     },
     "execution_count": 57,
     "metadata": {},
     "output_type": "execute_result"
    }
   ],
   "source": [
    "kurly_vegan=pd.DataFrame({'brand':brand_lst,'product':product_lst})\n",
    "kurly_vegan.drop_duplicates(inplace=True,keep='first')\n",
    "kurly_vegan"
   ]
  },
  {
   "cell_type": "code",
   "execution_count": 58,
   "metadata": {},
   "outputs": [],
   "source": [
    "kurly_vegan.to_csv('./data/kurly_vegan.csv',encoding='utf-8-sig',index=False)"
   ]
  }
 ],
 "metadata": {
  "kernelspec": {
   "display_name": "base",
   "language": "python",
   "name": "python3"
  },
  "language_info": {
   "codemirror_mode": {
    "name": "ipython",
    "version": 3
   },
   "file_extension": ".py",
   "mimetype": "text/x-python",
   "name": "python",
   "nbconvert_exporter": "python",
   "pygments_lexer": "ipython3",
   "version": "3.9.7"
  },
  "orig_nbformat": 4,
  "vscode": {
   "interpreter": {
    "hash": "03489fc23179efc092fdc79729fb3c8c54ada39686063f54d233cd67036aabb7"
   }
  }
 },
 "nbformat": 4,
 "nbformat_minor": 2
}
