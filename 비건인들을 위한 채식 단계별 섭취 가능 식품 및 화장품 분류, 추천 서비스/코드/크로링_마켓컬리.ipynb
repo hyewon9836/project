{
 "cells": [
  {
   "cell_type": "code",
   "execution_count": null,
   "metadata": {},
   "outputs": [],
   "source": [
    "#!pip install selenium"
   ]
  },
  {
   "cell_type": "code",
   "execution_count": 14,
   "metadata": {},
   "outputs": [],
   "source": [
    "from bs4 import BeautifulSoup\n",
    "from selenium import webdriver\n",
    "from selenium.webdriver import ActionChains\n",
    "from selenium.webdriver.common.by import By\n",
    "\n",
    "import re\n",
    "import pandas as pd\n",
    "import time\n",
    "import requests"
   ]
  },
  {
   "cell_type": "code",
   "execution_count": null,
   "metadata": {},
   "outputs": [],
   "source": [
    "product_url=[]\n",
    "\n",
    "url_lst=['https://www.kurly.com/categories/913',\n",
    "         'https://www.kurly.com/categories/913?page=2',\n",
    "         'https://www.kurly.com/categories/913?page=3',\n",
    "         'https://www.kurly.com/categories/913?page=4'\n",
    "         'https://www.kurly.com/categories/913?page=5',\n",
    "         'https://www.kurly.com/categories/913?page=6',\n",
    "         'https://www.kurly.com/categories/913?page=7',\n",
    "         'https://www.kurly.com/categories/913?page=8']\n",
    "\n",
    "for url in url_lst:\n",
    "    driver=webdriver.Chrome()\n",
    "    driver.get(url)\n",
    "    act=ActionChains(driver)\n",
    "\n",
    "    html=driver.page_source\n",
    "    soup=BeautifulSoup(html,'html.parser')\n",
    "\n",
    "    a=soup.select('div.css-11kh0cw.ef36txc5 > a')\n",
    "    for i in range(len(a)):\n",
    "        product_url.append(a[i].attrs['href'])\n",
    "\n",
    "len(product_url)"
   ]
  },
  {
   "cell_type": "code",
   "execution_count": null,
   "metadata": {},
   "outputs": [],
   "source": [
    "# for문 적용\n",
    "item_lst = []\n",
    "alr_lst = []\n",
    "img_lst = []\n",
    "idx_lst = []\n",
    "for idx,product in enumerate(product_url):\n",
    "    url='https://www.kurly.com'+product\n",
    "    driver=webdriver.Chrome()\n",
    "    driver.get(url)\n",
    "    act=ActionChains(driver)\n",
    "    html=driver.page_source\n",
    "    soup=BeautifulSoup(html,'html.parser')\n",
    "    allergy=''\n",
    "    \n",
    "    try:\n",
    "        #브랜드\n",
    "        item = soup.select('div > h1.css-1f2zq3n.ezpe9l11')[0].text\n",
    "        item_lst.append(item)\n",
    "\n",
    "        # 성분이미지추출\n",
    "        details = driver.find_elements(By.ID, 'detail')\n",
    "        detail_img =details[0].find_element(By.TAG_NAME, 'img').get_attribute('src')\n",
    "        img_lst.append(detail_img)\n",
    "        \n",
    "        # 알레르기 정보\n",
    "        allergy = soup.select('dl > dd > p')[8].text\n",
    "        alr_lst.append(allergy)\n",
    "\n",
    "    except:\n",
    "        alr_lst.append(allergy)\n",
    "        idx_lst.append(idx)\n",
    "\n",
    "    driver.close()    "
   ]
  }
 ],
 "metadata": {
  "kernelspec": {
   "display_name": "base",
   "language": "python",
   "name": "python3"
  },
  "language_info": {
   "codemirror_mode": {
    "name": "ipython",
    "version": 3
   },
   "file_extension": ".py",
   "mimetype": "text/x-python",
   "name": "python",
   "nbconvert_exporter": "python",
   "pygments_lexer": "ipython3",
   "version": "3.9.7"
  },
  "orig_nbformat": 4,
  "vscode": {
   "interpreter": {
    "hash": "03489fc23179efc092fdc79729fb3c8c54ada39686063f54d233cd67036aabb7"
   }
  }
 },
 "nbformat": 4,
 "nbformat_minor": 2
}
