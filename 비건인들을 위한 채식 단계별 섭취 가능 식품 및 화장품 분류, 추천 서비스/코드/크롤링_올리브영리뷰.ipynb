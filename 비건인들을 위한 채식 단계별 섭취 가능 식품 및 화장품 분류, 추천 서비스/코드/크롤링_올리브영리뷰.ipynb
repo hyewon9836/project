{
 "cells": [
  {
   "cell_type": "code",
   "execution_count": 1,
   "metadata": {},
   "outputs": [],
   "source": [
    "from bs4 import BeautifulSoup\n",
    "from selenium import webdriver\n",
    "from selenium.webdriver import ActionChains\n",
    "from selenium.webdriver.common.by import By\n",
    "\n",
    "import re\n",
    "import pandas as pd\n",
    "import time\n",
    "import requests"
   ]
  },
  {
   "cell_type": "code",
   "execution_count": 2,
   "metadata": {},
   "outputs": [
    {
     "name": "stdout",
     "output_type": "stream",
     "text": [
      "10\n",
      "20\n",
      "30\n",
      "40\n",
      "50\n",
      "60\n",
      "70\n",
      "90\n",
      "100\n"
     ]
    }
   ],
   "source": [
    "brand=[]\n",
    "product=[]\n",
    "score_lst=[]\n",
    "review_lst=[]\n",
    "for line in range(1,26):    \n",
    "    for i in range(4):\n",
    "        url='https://www.oliveyoung.co.kr/store/main/getBestList.do'\n",
    "        driver=webdriver.Chrome()\n",
    "        driver.get(url)\n",
    "        act=ActionChains(driver)\n",
    "        html=driver.page_source\n",
    "        soup=BeautifulSoup(html,'html.parser')\n",
    "        \n",
    "        # 상세페이지 진입\n",
    "        driver.find_elements(By.CSS_SELECTOR,'#Container > div.best-area > div.TabsConts.on > ul:nth-child('+str(line)+') > li')[i].click()\n",
    "        \n",
    "        # 브랜드, 상품 이름\n",
    "        html=driver.page_source\n",
    "        soup=BeautifulSoup(html,'html.parser')\n",
    "        brand.append(soup.select('div.prd_info >p >a')[0].text)\n",
    "        product.append(soup.select('div.prd_info >p.prd_name')[0].text)\n",
    "        review=[]\n",
    "        score=[]\n",
    "\n",
    "        try:\n",
    "            # 리뷰창 이동\n",
    "            driver.find_elements(By.CSS_SELECTOR,'#reviewInfo')[0].click()\n",
    "            time.sleep(2)\n",
    "\n",
    "            # 최신순으로 보기\n",
    "            driver.find_elements(By.CSS_SELECTOR,'#gdasSort > li:nth-child(3)')[0].click()\n",
    "            time.sleep(1)\n",
    "\n",
    "        # 리뷰 크롤링\n",
    "            for idx in range(10):\n",
    "                html=driver.page_source\n",
    "                soup=BeautifulSoup(html,'html.parser')\n",
    "                time.sleep(1)\n",
    "                score.append(soup.select('span.review_point')[idx+1].text)\n",
    "                review.append(soup.select('div.txt_inner')[idx].text)\n",
    "\n",
    "            # 리뷰창 다음 페이지 이동 및 리뷰 크롤링\n",
    "            for page in range(2,11):\n",
    "                driver.find_elements(By.CSS_SELECTOR,'#gdasContentsArea > div > div.pageing > a:nth-child('+str(page)+')')[0].click()\n",
    "                for idx in range(10):\n",
    "                    html=driver.page_source\n",
    "                    soup=BeautifulSoup(html,'html.parser')\n",
    "                    time.sleep(1)\n",
    "                    score.append(soup.select('span.review_point')[idx+1].text)\n",
    "                    review.append(soup.select('div.txt_inner')[idx].text)\n",
    "        except:\n",
    "            score.append('')\n",
    "            review.append('')\n",
    "            continue\n",
    "        \n",
    "        review_lst.append(review)\n",
    "        score_lst.append(score)\n",
    "\n",
    "        # 진행사항 확인\n",
    "        if len(brand)%10==0:\n",
    "            print(len(brand))\n",
    "            \n",
    "        # 창 닫고 새창열기\n",
    "        driver.close()"
   ]
  },
  {
   "cell_type": "code",
   "execution_count": 4,
   "metadata": {},
   "outputs": [
    {
     "name": "stdout",
     "output_type": "stream",
     "text": [
      "100\n",
      "100\n",
      "92\n",
      "92\n"
     ]
    }
   ],
   "source": [
    "print(len(brand))\n",
    "print(len(product))\n",
    "print(len(score_lst))\n",
    "print(len(review_lst))"
   ]
  },
  {
   "cell_type": "code",
   "execution_count": null,
   "metadata": {},
   "outputs": [],
   "source": [
    "df=pd.DataFrame({'brand':brand,'product':product,'score':score_lst,'review':review_lst})\n",
    "df"
   ]
  },
  {
   "cell_type": "code",
   "execution_count": 134,
   "metadata": {},
   "outputs": [],
   "source": [
    "df.to_csv('./data/olive0_review.csv',encoding='utf-8-sig',index=False)"
   ]
  }
 ],
 "metadata": {
  "kernelspec": {
   "display_name": "base",
   "language": "python",
   "name": "python3"
  },
  "language_info": {
   "codemirror_mode": {
    "name": "ipython",
    "version": 3
   },
   "file_extension": ".py",
   "mimetype": "text/x-python",
   "name": "python",
   "nbconvert_exporter": "python",
   "pygments_lexer": "ipython3",
   "version": "3.9.7"
  },
  "orig_nbformat": 4
 },
 "nbformat": 4,
 "nbformat_minor": 2
}
