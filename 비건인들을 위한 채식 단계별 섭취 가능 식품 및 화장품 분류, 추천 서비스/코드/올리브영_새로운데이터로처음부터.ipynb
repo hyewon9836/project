{
 "cells": [
  {
   "cell_type": "code",
   "execution_count": 1,
   "metadata": {},
   "outputs": [],
   "source": [
    "import pytesseract\n",
    "from PIL import Image\n",
    "from PIL import ImageFile\n",
    "import pandas as pd\n",
    "import re\n",
    "import numpy as np\n",
    "import warnings\n",
    "from sklearn.feature_extraction.text import CountVectorizer\n",
    "from sklearn.metrics.pairwise import cosine_similarity\n",
    "\n",
    "ImageFile.LOAD_TRUNCATED_IMAGES = True\n",
    "pytesseract.pytesseract.tesseract_cmd = R'C:\\Program Files\\Tesseract-OCR\\tesseract'\n",
    "warnings.filterwarnings('ignore')"
   ]
  },
  {
   "attachments": {},
   "cell_type": "markdown",
   "metadata": {},
   "source": [
    "## 기존 정보 및 사전 작업"
   ]
  },
  {
   "attachments": {},
   "cell_type": "markdown",
   "metadata": {},
   "source": [
    "### 기존 데이터"
   ]
  },
  {
   "cell_type": "code",
   "execution_count": 2,
   "metadata": {},
   "outputs": [
    {
     "data": {
      "text/html": [
       "<div>\n",
       "<style scoped>\n",
       "    .dataframe tbody tr th:only-of-type {\n",
       "        vertical-align: middle;\n",
       "    }\n",
       "\n",
       "    .dataframe tbody tr th {\n",
       "        vertical-align: top;\n",
       "    }\n",
       "\n",
       "    .dataframe thead th {\n",
       "        text-align: right;\n",
       "    }\n",
       "</style>\n",
       "<table border=\"1\" class=\"dataframe\">\n",
       "  <thead>\n",
       "    <tr style=\"text-align: right;\">\n",
       "      <th></th>\n",
       "      <th>brand</th>\n",
       "      <th>product</th>\n",
       "      <th>text</th>\n",
       "      <th>cate</th>\n",
       "      <th>animal</th>\n",
       "      <th>allergy</th>\n",
       "      <th>gluten</th>\n",
       "    </tr>\n",
       "  </thead>\n",
       "  <tbody>\n",
       "    <tr>\n",
       "      <th>0</th>\n",
       "      <td>랩시리즈</td>\n",
       "      <td>랩시리즈 올인원 트리트먼트 50ml 1+1 기획세트</td>\n",
       "      <td>사이클로덱스트린,포타슘스테아레이트,포도씨추출물,스쿠알란,옥틸도데실네오펜타노에이트,에...</td>\n",
       "      <td>스킨케어</td>\n",
       "      <td>1</td>\n",
       "      <td>발견사항 없음</td>\n",
       "      <td>발견사항 없음</td>\n",
       "    </tr>\n",
       "    <tr>\n",
       "      <th>1</th>\n",
       "      <td>유세린</td>\n",
       "      <td>유세린 하이알루론 아이크림X나이트크림 기획(아이크림 15ml+나이트크림 50ml+컨...</td>\n",
       "      <td>에칠헥실리세린,부틸렌라이콜디카프릴레이트,이소프로필팔미테이트,하이드로제네이티드코코리세...</td>\n",
       "      <td>스킨케어</td>\n",
       "      <td>1</td>\n",
       "      <td>발견사항 없음</td>\n",
       "      <td>발견사항 없음</td>\n",
       "    </tr>\n",
       "    <tr>\n",
       "      <th>2</th>\n",
       "      <td>아이디얼포맨</td>\n",
       "      <td>아이디얼 포맨 퍼펙트스킨케어 2종세트(미니어처 3종 증정)</td>\n",
       "      <td>페닐알라닌,무화과추출물,홀리바질잎추출물,나이아신아마이드,카프릴릭,다이소듐이디티에이,...</td>\n",
       "      <td>스킨케어</td>\n",
       "      <td>1</td>\n",
       "      <td>부틸페닐메틸프로피오날,리모넨,리날룰</td>\n",
       "      <td>발견사항 없음</td>\n",
       "    </tr>\n",
       "    <tr>\n",
       "      <th>3</th>\n",
       "      <td>다슈</td>\n",
       "      <td>다슈 맨즈 아쿠아 토너/로션 153ml 2종 세트(+토너&amp;로션&amp;클렌징 30ml증정)</td>\n",
       "      <td>개청각추출물,연꽃씨추출물,바실러스,마트리카리아꽃추출물,띠뿌리발효추출물,페닐알라닌,민...</td>\n",
       "      <td>스킨케어</td>\n",
       "      <td>1</td>\n",
       "      <td>부틸페닐메틸프로피오날,리모넨,리날룰</td>\n",
       "      <td>발견사항 없음</td>\n",
       "    </tr>\n",
       "    <tr>\n",
       "      <th>4</th>\n",
       "      <td>달바</td>\n",
       "      <td>달바 화이트 트러플 퍼스트 아로마틱 토너 155ml</td>\n",
       "      <td>네오펜틸글라이콜다이헵타노에이트,하이드록시에틸우레아,돌콩오일,브로멜라인,소듐클로라이드...</td>\n",
       "      <td>스킨케어</td>\n",
       "      <td>1</td>\n",
       "      <td>리날룰,리모넨,헥실신남알</td>\n",
       "      <td>발견사항 없음</td>\n",
       "    </tr>\n",
       "    <tr>\n",
       "      <th>...</th>\n",
       "      <td>...</td>\n",
       "      <td>...</td>\n",
       "      <td>...</td>\n",
       "      <td>...</td>\n",
       "      <td>...</td>\n",
       "      <td>...</td>\n",
       "      <td>...</td>\n",
       "    </tr>\n",
       "    <tr>\n",
       "      <th>3748</th>\n",
       "      <td>데싱디바</td>\n",
       "      <td>데싱디바 매직프레스 베이스 쉴드</td>\n",
       "      <td>토코페롤,스위트아몬드오일,아이소프로필알코올,해바라기씨오일,포스포릭애씨드,실리카,트라...</td>\n",
       "      <td>네일</td>\n",
       "      <td>0</td>\n",
       "      <td>발견사항 없음</td>\n",
       "      <td>발견사항 없음</td>\n",
       "    </tr>\n",
       "    <tr>\n",
       "      <th>3749</th>\n",
       "      <td>엣지유</td>\n",
       "      <td>엣지유 샵케어 탑젤 글로시&amp;매트</td>\n",
       "      <td>유칼립투스잎추출물,하이드록시사이클로헥실페닐케톤,셀룰로오스아세테이트부티레이트,헤마,매...</td>\n",
       "      <td>네일</td>\n",
       "      <td>0</td>\n",
       "      <td>발견사항 없음</td>\n",
       "      <td>발견사항 없음</td>\n",
       "    </tr>\n",
       "    <tr>\n",
       "      <th>3750</th>\n",
       "      <td>데싱디바</td>\n",
       "      <td>데싱디바 리치 세럼</td>\n",
       "      <td>벤질살리실레이트,포도씨오일,미네랄오일,스타이렌코폴리머,부틸렌,에틸렌,부틸페닐메틸프로...</td>\n",
       "      <td>네일</td>\n",
       "      <td>0</td>\n",
       "      <td>벤질살리실레이트,부틸페닐메틸프로피오날,헥실신남알</td>\n",
       "      <td>발견사항 없음</td>\n",
       "    </tr>\n",
       "    <tr>\n",
       "      <th>3751</th>\n",
       "      <td>위드샨</td>\n",
       "      <td>위드샨 에코 네일 리무버 200ml</td>\n",
       "      <td>제라니올,리날룰,프로필렌글라이콜,정제수,라벤더오일,토코페릴아세테이트,오레가노오일,로...</td>\n",
       "      <td>네일</td>\n",
       "      <td>0</td>\n",
       "      <td>제라니올,리날룰,리모넨</td>\n",
       "      <td>발견사항 없음</td>\n",
       "    </tr>\n",
       "    <tr>\n",
       "      <th>3752</th>\n",
       "      <td>위드샨</td>\n",
       "      <td>위드샨 메가샤인탑코트 15ml</td>\n",
       "      <td>아디픽애씨드,에틸아세테이트,트리멜리틱안하이드라이드코폴리머,에탄올,나이트로셀룰로오스,...</td>\n",
       "      <td>네일</td>\n",
       "      <td>0</td>\n",
       "      <td>발견사항 없음</td>\n",
       "      <td>발견사항 없음</td>\n",
       "    </tr>\n",
       "  </tbody>\n",
       "</table>\n",
       "<p>3753 rows × 7 columns</p>\n",
       "</div>"
      ],
      "text/plain": [
       "       brand                                            product  \\\n",
       "0       랩시리즈                       랩시리즈 올인원 트리트먼트 50ml 1+1 기획세트   \n",
       "1        유세린  유세린 하이알루론 아이크림X나이트크림 기획(아이크림 15ml+나이트크림 50ml+컨...   \n",
       "2     아이디얼포맨                   아이디얼 포맨 퍼펙트스킨케어 2종세트(미니어처 3종 증정)   \n",
       "3         다슈     다슈 맨즈 아쿠아 토너/로션 153ml 2종 세트(+토너&로션&클렌징 30ml증정)   \n",
       "4         달바                       달바 화이트 트러플 퍼스트 아로마틱 토너 155ml   \n",
       "...      ...                                                ...   \n",
       "3748    데싱디바                                  데싱디바 매직프레스 베이스 쉴드   \n",
       "3749     엣지유                                  엣지유 샵케어 탑젤 글로시&매트   \n",
       "3750    데싱디바                                         데싱디바 리치 세럼   \n",
       "3751     위드샨                                위드샨 에코 네일 리무버 200ml   \n",
       "3752     위드샨                                   위드샨 메가샤인탑코트 15ml   \n",
       "\n",
       "                                                   text  cate  animal  \\\n",
       "0     사이클로덱스트린,포타슘스테아레이트,포도씨추출물,스쿠알란,옥틸도데실네오펜타노에이트,에...  스킨케어       1   \n",
       "1     에칠헥실리세린,부틸렌라이콜디카프릴레이트,이소프로필팔미테이트,하이드로제네이티드코코리세...  스킨케어       1   \n",
       "2     페닐알라닌,무화과추출물,홀리바질잎추출물,나이아신아마이드,카프릴릭,다이소듐이디티에이,...  스킨케어       1   \n",
       "3     개청각추출물,연꽃씨추출물,바실러스,마트리카리아꽃추출물,띠뿌리발효추출물,페닐알라닌,민...  스킨케어       1   \n",
       "4     네오펜틸글라이콜다이헵타노에이트,하이드록시에틸우레아,돌콩오일,브로멜라인,소듐클로라이드...  스킨케어       1   \n",
       "...                                                 ...   ...     ...   \n",
       "3748  토코페롤,스위트아몬드오일,아이소프로필알코올,해바라기씨오일,포스포릭애씨드,실리카,트라...    네일       0   \n",
       "3749  유칼립투스잎추출물,하이드록시사이클로헥실페닐케톤,셀룰로오스아세테이트부티레이트,헤마,매...    네일       0   \n",
       "3750  벤질살리실레이트,포도씨오일,미네랄오일,스타이렌코폴리머,부틸렌,에틸렌,부틸페닐메틸프로...    네일       0   \n",
       "3751  제라니올,리날룰,프로필렌글라이콜,정제수,라벤더오일,토코페릴아세테이트,오레가노오일,로...    네일       0   \n",
       "3752  아디픽애씨드,에틸아세테이트,트리멜리틱안하이드라이드코폴리머,에탄올,나이트로셀룰로오스,...    네일       0   \n",
       "\n",
       "                         allergy   gluten  \n",
       "0                        발견사항 없음  발견사항 없음  \n",
       "1                        발견사항 없음  발견사항 없음  \n",
       "2            부틸페닐메틸프로피오날,리모넨,리날룰  발견사항 없음  \n",
       "3            부틸페닐메틸프로피오날,리모넨,리날룰  발견사항 없음  \n",
       "4                  리날룰,리모넨,헥실신남알  발견사항 없음  \n",
       "...                          ...      ...  \n",
       "3748                     발견사항 없음  발견사항 없음  \n",
       "3749                     발견사항 없음  발견사항 없음  \n",
       "3750  벤질살리실레이트,부틸페닐메틸프로피오날,헥실신남알  발견사항 없음  \n",
       "3751                제라니올,리날룰,리모넨  발견사항 없음  \n",
       "3752                     발견사항 없음  발견사항 없음  \n",
       "\n",
       "[3753 rows x 7 columns]"
      ]
     },
     "execution_count": 2,
     "metadata": {},
     "output_type": "execute_result"
    }
   ],
   "source": [
    "df=pd.read_csv('./data/olive0_classify_allergy_gluten.csv',encoding='utf-8')\n",
    "df"
   ]
  },
  {
   "attachments": {},
   "cell_type": "markdown",
   "metadata": {},
   "source": [
    "### 분류 기준표"
   ]
  },
  {
   "cell_type": "code",
   "execution_count": 3,
   "metadata": {},
   "outputs": [],
   "source": [
    "with open('./list/check_lst.txt','r') as file:\n",
    "    lst=file.readlines()\n",
    "\n",
    "check_lst=[]\n",
    "for word in lst:\n",
    "    word=word.replace('\\n','')\n",
    "    word=word.replace(' ','')\n",
    "    if len(word)>0:\n",
    "        check_lst.append(word)"
   ]
  },
  {
   "attachments": {},
   "cell_type": "markdown",
   "metadata": {},
   "source": [
    "### 추천시스템 함수"
   ]
  },
  {
   "cell_type": "code",
   "execution_count": 4,
   "metadata": {},
   "outputs": [],
   "source": [
    "def find_sim_text(df,sorted_ind,product_name,top_n,vegan=0,cate=0):\n",
    "\n",
    "    title_product=df[df['product']==product_name]\n",
    "    title_index=title_product.index.values\n",
    "\n",
    "    similar_indexes=sorted_ind[title_index]\n",
    "    similar_indexes=similar_indexes[similar_indexes!=title_index]\n",
    "\n",
    "    similar_indexes=similar_indexes.reshape(-1)\n",
    "    indexes=similar_indexes\n",
    "\n",
    "    # 비건 옵션\n",
    "    if vegan==1:\n",
    "        vegan_indexes=df.loc[df['animal']==0].index.values\n",
    "\n",
    "    # 카테고리 옵션\n",
    "    if cate==1:\n",
    "        category=df.loc[df['product']==product_name,'cate'].values\n",
    "        cate_indexes=df.loc[df['cate']==category[0]].index.values\n",
    "        \n",
    "    # 옵션 적용\n",
    "    option_lst=[]\n",
    "    if vegan==1 and cate==1: # 비건, 카테고리\n",
    "        for idx in similar_indexes:\n",
    "            if idx in vegan_indexes and idx in cate_indexes:\n",
    "                option_lst.append(idx)\n",
    "        indexes=option_lst\n",
    "    \n",
    "    elif vegan==1 and cate==0: # 비건\n",
    "        for idx in similar_indexes:\n",
    "            if idx in vegan_indexes:\n",
    "                option_lst.append(idx)\n",
    "        indexes=option_lst\n",
    "\n",
    "    elif vegan==0 and cate==1: # 카테고리\n",
    "        for idx in similar_indexes:\n",
    "            if idx in cate_indexes:\n",
    "                option_lst.append(idx)\n",
    "        indexes=option_lst\n",
    "        \n",
    "    return df.iloc[indexes][:top_n]"
   ]
  },
  {
   "cell_type": "code",
   "execution_count": 5,
   "metadata": {},
   "outputs": [],
   "source": [
    "df['text']=df['text'].apply(lambda x:x.replace(',',' '))"
   ]
  },
  {
   "attachments": {},
   "cell_type": "markdown",
   "metadata": {},
   "source": [
    "### 알레르기 및 글루텐 정보"
   ]
  },
  {
   "cell_type": "code",
   "execution_count": 6,
   "metadata": {},
   "outputs": [],
   "source": [
    "cosmetic_allergy_lst=['아밀신남알', '벤질알코올', '신나밀알코올', '시트랄', '유제놀', '하이드록시시트로넬알', '이소유제놀', '아밀신나밀알코올', '벤질살리실레이트', '신남알', '쿠마린', '제라니올', '아니스에탄올', '벤질신나메이트', '파네솔', '부틸페닐메틸프로피오날', '리날룰', '벤질벤조에이트', '시트로넬롤', '헥실신남알', '리모넨', '메칠2옥티노에이트', '알파이소메칠이오논', '참나무이끼추출물', '나무이끼추출물']\n",
    "glu=['글루테닌','글리아딘','보리','귀리','밀','강력분','중력분','박력분','밀가루']"
   ]
  },
  {
   "attachments": {},
   "cell_type": "markdown",
   "metadata": {},
   "source": [
    "## 새로운 데이터 입력"
   ]
  },
  {
   "attachments": {},
   "cell_type": "markdown",
   "metadata": {},
   "source": [
    "### 1) 화장품 정보 입력 및 성분 사진 인식"
   ]
  },
  {
   "cell_type": "code",
   "execution_count": 7,
   "metadata": {},
   "outputs": [
    {
     "name": "stdout",
     "output_type": "stream",
     "text": [
      "화장품 정보를 입력하세요\n",
      "1) 화장품 브랜드:\n",
      "=> 닥터지\n",
      "2) 화장품 이름:\n",
      "=> 레드 블레미쉬 모이스처 클렌징 폼\n",
      "3) 화장품 종류:\n",
      "=> 스킨케어\n"
     ]
    }
   ],
   "source": [
    "print('화장품 정보를 입력하세요')\n",
    "brand=[] ; product=[]; category=[]\n",
    "\n",
    "brand.append(input(print('1) 화장품 브랜드:')))\n",
    "print('=>',brand[0])\n",
    "\n",
    "product.append(input(print('2) 화장품 이름:')))\n",
    "print('=>',product[0])\n",
    "\n",
    "category.append(input(print('3) 화장품 종류:')))\n",
    "\n",
    "print('=>',category[0])"
   ]
  },
  {
   "cell_type": "code",
   "execution_count": 8,
   "metadata": {},
   "outputs": [
    {
     "name": "stdout",
     "output_type": "stream",
     "text": [
      "화장품 성분 사진을 불러옵니다.\n"
     ]
    }
   ],
   "source": [
    "print('화장품 성분 사진을 불러옵니다.')"
   ]
  },
  {
   "cell_type": "code",
   "execution_count": 9,
   "metadata": {},
   "outputs": [],
   "source": [
    "img=Image.open('./img/화장품_성분만.jpg')\n",
    "result=pytesseract.image_to_string(img,lang='kor')"
   ]
  },
  {
   "cell_type": "code",
   "execution_count": 10,
   "metadata": {},
   "outputs": [
    {
     "data": {
      "text/plain": [
       "'[전성분] 정제수, 스테아릭애씨드, 글리세린, 라우릭애씨드,\\n포타슴하이드록사이드, 미리스틱애씨드, 글리세릴스테\\n아레이트, 피이지-100스테아레이트, 프로필렌글라이콜,\\n코카미도프로필베타인, 비즈왁스, 소듬클로라이드, 폴리\\n소르베이트20, 디소듬이디티에이, 하이드록시에칠셀룰\\n로오스, 부틸렌글라이콜, 쌀겨추출물, 파파야열매추출물,\\n접시꽃추출물, 알로에베라잎추출물, 왕글낄추출물,\\n은행잎추출물, 레몬추출물, 소듬피씨에이, 페녹시에탄올,\\n에칠핵실글리세린, 향료, 부틸페닐메칠프로피오날, 리날룰,\\n렉실신남알\\n'"
      ]
     },
     "execution_count": 10,
     "metadata": {},
     "output_type": "execute_result"
    }
   ],
   "source": [
    "result"
   ]
  },
  {
   "cell_type": "code",
   "execution_count": 11,
   "metadata": {},
   "outputs": [],
   "source": [
    "start_idx=re.search('전성분',result).end()\n",
    "#end_idx=re.search('피부 자극',result).start()\n",
    "ingredient=result[start_idx:]"
   ]
  },
  {
   "cell_type": "code",
   "execution_count": 12,
   "metadata": {},
   "outputs": [
    {
     "data": {
      "text/plain": [
       "',정제수,스테아릭애씨드,글리세린,라우릭애씨드,포타슴하이드록사이드,미리스틱애씨드,글리세릴스테아레이트,피이지스테아레이트,프로필렌글라이콜,코카미도프로필베타인,비즈왁스,소듬클로라이드,폴리소르베이트,디소듬이디티에이,하이드록시에칠셀룰로오스,부틸렌글라이콜,쌀겨추출물,파파야열매추출물,접시꽃추출물,알로에베라잎추출물,왕글낄추출물,은행잎추출물,레몬추출물,소듬피씨에이,페녹시에탄올,에칠핵실글리세린,향료,부틸페닐메칠프로피오날,리날룰,렉실신남알'"
      ]
     },
     "execution_count": 12,
     "metadata": {},
     "output_type": "execute_result"
    }
   ],
   "source": [
    "ingredient=ingredient.replace('.',',')\n",
    "ingredient=ingredient.replace(' ',',')\n",
    "ingredient=re.sub('[^가-힣,]','',ingredient)\n",
    "ingredient=re.sub(',+',',',ingredient)\n",
    "ingredient"
   ]
  },
  {
   "cell_type": "code",
   "execution_count": 13,
   "metadata": {},
   "outputs": [
    {
     "data": {
      "text/html": [
       "<div>\n",
       "<style scoped>\n",
       "    .dataframe tbody tr th:only-of-type {\n",
       "        vertical-align: middle;\n",
       "    }\n",
       "\n",
       "    .dataframe tbody tr th {\n",
       "        vertical-align: top;\n",
       "    }\n",
       "\n",
       "    .dataframe thead th {\n",
       "        text-align: right;\n",
       "    }\n",
       "</style>\n",
       "<table border=\"1\" class=\"dataframe\">\n",
       "  <thead>\n",
       "    <tr style=\"text-align: right;\">\n",
       "      <th></th>\n",
       "      <th>brand</th>\n",
       "      <th>product</th>\n",
       "      <th>text</th>\n",
       "      <th>cate</th>\n",
       "    </tr>\n",
       "  </thead>\n",
       "  <tbody>\n",
       "    <tr>\n",
       "      <th>0</th>\n",
       "      <td>닥터지</td>\n",
       "      <td>레드 블레미쉬 모이스처 클렌징 폼</td>\n",
       "      <td>,정제수,스테아릭애씨드,글리세린,라우릭애씨드,포타슴하이드록사이드,미리스틱애씨드,글리...</td>\n",
       "      <td>스킨케어</td>\n",
       "    </tr>\n",
       "  </tbody>\n",
       "</table>\n",
       "</div>"
      ],
      "text/plain": [
       "  brand             product  \\\n",
       "0   닥터지  레드 블레미쉬 모이스처 클렌징 폼   \n",
       "\n",
       "                                                text  cate  \n",
       "0  ,정제수,스테아릭애씨드,글리세린,라우릭애씨드,포타슴하이드록사이드,미리스틱애씨드,글리...  스킨케어  "
      ]
     },
     "execution_count": 13,
     "metadata": {},
     "output_type": "execute_result"
    }
   ],
   "source": [
    "input_data=pd.DataFrame({'brand':brand,'product':product,'text':ingredient,'cate':category})\n",
    "input_data"
   ]
  },
  {
   "attachments": {},
   "cell_type": "markdown",
   "metadata": {},
   "source": [
    "### 2) 동물성/식물성 화장품 분류"
   ]
  },
  {
   "cell_type": "code",
   "execution_count": 14,
   "metadata": {},
   "outputs": [
    {
     "name": "stdout",
     "output_type": "stream",
     "text": [
      "[레드 블레미쉬 모이스처 클렌징 폼] 에는 동물성 성분이 포함되어 있어요.\n"
     ]
    }
   ],
   "source": [
    "flag=0\n",
    "input_data['animal']='-'\n",
    "for word in input_data['text'][0].split(','):\n",
    "    if len(word)>0 and word in check_lst:\n",
    "        flag=1\n",
    "        break\n",
    "if flag==1:\n",
    "    print('['+input_data['product'][0]+'] 에는 동물성 성분이 포함되어 있어요.')\n",
    "    input_data['animal'][0]='1'\n",
    "else:\n",
    "    print('['+input_data['product'][0]+'] 에는 동물성 성분이 발견되지 않았어요.')\n",
    "    input_data['animal'][0]='0'"
   ]
  },
  {
   "attachments": {},
   "cell_type": "markdown",
   "metadata": {},
   "source": [
    "### 3) 알레르기 확인"
   ]
  },
  {
   "cell_type": "code",
   "execution_count": 20,
   "metadata": {},
   "outputs": [
    {
     "name": "stdout",
     "output_type": "stream",
     "text": [
      "[레드 블레미쉬 모이스처 클렌징 폼]에는 알레르기 성분 ['리날룰']이 들어있어요.\n"
     ]
    }
   ],
   "source": [
    "allergy_lst=[]\n",
    "for word in input_data['text'][0].split(' '):\n",
    "    if word in cosmetic_allergy_lst:\n",
    "        allergy_lst.append(word)\n",
    "if len(allergy_lst)>0:\n",
    "    print('['+input_data['product'][0]+']에는 알레르기 성분 '+str(allergy_lst)+'이 들어있어요.')\n",
    "else:\n",
    "    print('['+input_data['product'][0]+']에는 알레르기 성분이 발견되지 않았어요')"
   ]
  },
  {
   "attachments": {},
   "cell_type": "markdown",
   "metadata": {},
   "source": [
    "### 4) 글루텐 확인"
   ]
  },
  {
   "cell_type": "code",
   "execution_count": 21,
   "metadata": {},
   "outputs": [
    {
     "name": "stdout",
     "output_type": "stream",
     "text": [
      "[레드 블레미쉬 모이스처 클렌징 폼]에는 글루텐이 포함되어 있지 않습니다.\n"
     ]
    }
   ],
   "source": [
    "flag=0\n",
    "for word in input_data['text'][0].split(' '):\n",
    "    if word in glu:\n",
    "        flag=1\n",
    "        break\n",
    "if flag==1:\n",
    "    print('['+input_data['product'][0]+']에는 글루텐이 포함되어 있습니다.')\n",
    "else:\n",
    "    print('['+input_data['product'][0]+']에는 글루텐이 포함되어 있지 않습니다.')"
   ]
  },
  {
   "attachments": {},
   "cell_type": "markdown",
   "metadata": {},
   "source": [
    "### 5) 추천시스템"
   ]
  },
  {
   "cell_type": "code",
   "execution_count": 22,
   "metadata": {},
   "outputs": [],
   "source": [
    "input_data['text']=input_data['text'].apply(lambda x:x.replace(',',' '))"
   ]
  },
  {
   "cell_type": "code",
   "execution_count": 23,
   "metadata": {},
   "outputs": [
    {
     "name": "stdout",
     "output_type": "stream",
     "text": [
      "카테고리 옵션을 선택하세요\n",
      "1) 같은 카테고리 상품만 궁금해요\n",
      "2) 다른 카테고리 상품도 궁금해요\n",
      "=> 1번 옵션 선택\n",
      "\n",
      "비건 옵션을 선택하세요\n",
      "1) 동물성 성분이 없는 제품만 궁금해요\n",
      "2) 동물성 상관없이 모두 궁금해요\n",
      "=> 1번 옵션 선택\n"
     ]
    }
   ],
   "source": [
    "# 옵션 입력\n",
    "print('카테고리 옵션을 선택하세요')\n",
    "print('1) 같은 카테고리 상품만 궁금해요')\n",
    "print('2) 다른 카테고리 상품도 궁금해요')\n",
    "cate_option=input('1 / 2')\n",
    "print('=> '+cate_option+'번 옵션 선택')\n",
    "\n",
    "if cate_option=='1':\n",
    "    cate_option=1\n",
    "else:\n",
    "    cate_option=0\n",
    "\n",
    "print('\\n비건 옵션을 선택하세요')\n",
    "print('1) 동물성 성분이 없는 제품만 궁금해요')\n",
    "print('2) 동물성 상관없이 모두 궁금해요')\n",
    "vegan_option=input('1 / 2')\n",
    "\n",
    "print('=> '+vegan_option+'번 옵션 선택')\n",
    "if vegan_option=='1':\n",
    "    vegan_option=1\n",
    "else:\n",
    "    vegan_option=0"
   ]
  },
  {
   "cell_type": "code",
   "execution_count": 24,
   "metadata": {},
   "outputs": [
    {
     "name": "stdout",
     "output_type": "stream",
     "text": [
      "입력한 상품과 비슷한 제품 5가지를 보여드려요\n"
     ]
    },
    {
     "data": {
      "text/html": [
       "<div>\n",
       "<style scoped>\n",
       "    .dataframe tbody tr th:only-of-type {\n",
       "        vertical-align: middle;\n",
       "    }\n",
       "\n",
       "    .dataframe tbody tr th {\n",
       "        vertical-align: top;\n",
       "    }\n",
       "\n",
       "    .dataframe thead th {\n",
       "        text-align: right;\n",
       "    }\n",
       "</style>\n",
       "<table border=\"1\" class=\"dataframe\">\n",
       "  <thead>\n",
       "    <tr style=\"text-align: right;\">\n",
       "      <th></th>\n",
       "      <th>brand</th>\n",
       "      <th>product</th>\n",
       "      <th>text</th>\n",
       "      <th>cate</th>\n",
       "      <th>animal</th>\n",
       "      <th>allergy</th>\n",
       "      <th>gluten</th>\n",
       "    </tr>\n",
       "  </thead>\n",
       "  <tbody>\n",
       "    <tr>\n",
       "      <th>1325</th>\n",
       "      <td>참존</td>\n",
       "      <td>참존징코 내츄럴 클렌징폼 더블 기획 (180ml+180ml)</td>\n",
       "      <td>포타슘하이드록사이드 레몬그라스추출물 라우릭애씨드 페퍼민트잎추출물 글리세린 리모넨 리...</td>\n",
       "      <td>스킨케어</td>\n",
       "      <td>0</td>\n",
       "      <td>리모넨,리날룰</td>\n",
       "      <td>발견사항 없음</td>\n",
       "    </tr>\n",
       "    <tr>\n",
       "      <th>1290</th>\n",
       "      <td>라로슈포제</td>\n",
       "      <td>라로슈포제 똘러리앙 퓨리파잉 포밍 크림</td>\n",
       "      <td>미리스틱애씨드 테트라소듐이디티에이 팔미틱애씨드 포타슘하이드록사이드 정제수 라우릭애씨...</td>\n",
       "      <td>스킨케어</td>\n",
       "      <td>0</td>\n",
       "      <td>발견사항 없음</td>\n",
       "      <td>발견사항 없음</td>\n",
       "    </tr>\n",
       "    <tr>\n",
       "      <th>1264</th>\n",
       "      <td>라로슈포제</td>\n",
       "      <td>라로슈포제 똘러리앙 포밍클렌저 더블 기획</td>\n",
       "      <td>미리스틱애씨드 테트라소듐이디티에이 팔미틱애씨드 포타슘하이드록사이드 정제수 라우릭애씨...</td>\n",
       "      <td>스킨케어</td>\n",
       "      <td>0</td>\n",
       "      <td>발견사항 없음</td>\n",
       "      <td>발견사항 없음</td>\n",
       "    </tr>\n",
       "    <tr>\n",
       "      <th>1276</th>\n",
       "      <td>스트라이덱스</td>\n",
       "      <td>스트라이덱스 약알칼리성 바하 폼클렌저 기획 (150ml+15ml)</td>\n",
       "      <td>포타슘하이드록사이드 소듐클로라이드 무화과추출물 미역추출물 에틸멘탄카복사마이드 라우릭...</td>\n",
       "      <td>스킨케어</td>\n",
       "      <td>0</td>\n",
       "      <td>리모넨,리날룰</td>\n",
       "      <td>발견사항 없음</td>\n",
       "    </tr>\n",
       "    <tr>\n",
       "      <th>1262</th>\n",
       "      <td>아크네스</td>\n",
       "      <td>아크네스 클리어&amp;화이트 포밍워시 1+1 기획</td>\n",
       "      <td>시트릭애씨드 팔미틱애씨드 포타슘하이드록사이드 라우릭애씨드 에탄올 글리세린 다이포타슘...</td>\n",
       "      <td>스킨케어</td>\n",
       "      <td>0</td>\n",
       "      <td>리모넨,리날룰</td>\n",
       "      <td>발견사항 없음</td>\n",
       "    </tr>\n",
       "    <tr>\n",
       "      <th>1279</th>\n",
       "      <td>한율</td>\n",
       "      <td>한율 어린쑥 진정 맑은 클렌징폼 기획세트 (폼120g + 수분진정크림15g)</td>\n",
       "      <td>팔미틱애씨드 포타슘하이드록사이드 라우릭애씨드 글리세릴스테아레이트 글리세린 다이소듐이...</td>\n",
       "      <td>스킨케어</td>\n",
       "      <td>0</td>\n",
       "      <td>발견사항 없음</td>\n",
       "      <td>발견사항 없음</td>\n",
       "    </tr>\n",
       "    <tr>\n",
       "      <th>1307</th>\n",
       "      <td>라로슈포제</td>\n",
       "      <td>라로슈포제 똘러리앙 포밍클렌저 125ml 기획</td>\n",
       "      <td>미리스틱애씨드 테트라소듐이디티에이 증정똘러리앙 팔미틱애씨드 포타슘하이드록사이드 정제...</td>\n",
       "      <td>스킨케어</td>\n",
       "      <td>0</td>\n",
       "      <td>발견사항 없음</td>\n",
       "      <td>발견사항 없음</td>\n",
       "    </tr>\n",
       "    <tr>\n",
       "      <th>1336</th>\n",
       "      <td>스킨푸드</td>\n",
       "      <td>스킨푸드 블랙슈가 퍼펙트 버블폼 200ml</td>\n",
       "      <td>마카뿌리추출물 라우릴포스페이트 포타슘하이드록사이드 소듐클로라이드 라우릭애씨드 글리세...</td>\n",
       "      <td>스킨케어</td>\n",
       "      <td>0</td>\n",
       "      <td>리모넨,시트랄</td>\n",
       "      <td>발견사항 없음</td>\n",
       "    </tr>\n",
       "    <tr>\n",
       "      <th>1273</th>\n",
       "      <td>브링그린</td>\n",
       "      <td>브링그린 티트리시카 트러블클렌징폼 더블기획(200ml+200ml)</td>\n",
       "      <td>베타글루칸 팔미틱애씨드 포타슘하이드록사이드 라우릭애씨드 글리세릴스테아레이트 글리세린...</td>\n",
       "      <td>스킨케어</td>\n",
       "      <td>0</td>\n",
       "      <td>발견사항 없음</td>\n",
       "      <td>발견사항 없음</td>\n",
       "    </tr>\n",
       "    <tr>\n",
       "      <th>1304</th>\n",
       "      <td>뉴트로지나</td>\n",
       "      <td>뉴트로지나 딥클린 젠틀 포밍 클렌저 220g+50g 기획</td>\n",
       "      <td>다이소듐이디티에이 미리스틱애씨드 소듐코코일글라이시네이트 코카미도프로필베타인 정제수 ...</td>\n",
       "      <td>스킨케어</td>\n",
       "      <td>0</td>\n",
       "      <td>발견사항 없음</td>\n",
       "      <td>발견사항 없음</td>\n",
       "    </tr>\n",
       "  </tbody>\n",
       "</table>\n",
       "</div>"
      ],
      "text/plain": [
       "       brand                                     product  \\\n",
       "1325      참존           참존징코 내츄럴 클렌징폼 더블 기획 (180ml+180ml)   \n",
       "1290   라로슈포제                       라로슈포제 똘러리앙 퓨리파잉 포밍 크림   \n",
       "1264   라로슈포제                      라로슈포제 똘러리앙 포밍클렌저 더블 기획   \n",
       "1276  스트라이덱스        스트라이덱스 약알칼리성 바하 폼클렌저 기획 (150ml+15ml)   \n",
       "1262    아크네스                    아크네스 클리어&화이트 포밍워시 1+1 기획   \n",
       "1279      한율  한율 어린쑥 진정 맑은 클렌징폼 기획세트 (폼120g + 수분진정크림15g)   \n",
       "1307   라로슈포제                   라로슈포제 똘러리앙 포밍클렌저 125ml 기획   \n",
       "1336    스킨푸드                     스킨푸드 블랙슈가 퍼펙트 버블폼 200ml   \n",
       "1273    브링그린        브링그린 티트리시카 트러블클렌징폼 더블기획(200ml+200ml)   \n",
       "1304   뉴트로지나             뉴트로지나 딥클린 젠틀 포밍 클렌저 220g+50g 기획   \n",
       "\n",
       "                                                   text  cate animal  allergy  \\\n",
       "1325  포타슘하이드록사이드 레몬그라스추출물 라우릭애씨드 페퍼민트잎추출물 글리세린 리모넨 리...  스킨케어      0  리모넨,리날룰   \n",
       "1290  미리스틱애씨드 테트라소듐이디티에이 팔미틱애씨드 포타슘하이드록사이드 정제수 라우릭애씨...  스킨케어      0  발견사항 없음   \n",
       "1264  미리스틱애씨드 테트라소듐이디티에이 팔미틱애씨드 포타슘하이드록사이드 정제수 라우릭애씨...  스킨케어      0  발견사항 없음   \n",
       "1276  포타슘하이드록사이드 소듐클로라이드 무화과추출물 미역추출물 에틸멘탄카복사마이드 라우릭...  스킨케어      0  리모넨,리날룰   \n",
       "1262  시트릭애씨드 팔미틱애씨드 포타슘하이드록사이드 라우릭애씨드 에탄올 글리세린 다이포타슘...  스킨케어      0  리모넨,리날룰   \n",
       "1279  팔미틱애씨드 포타슘하이드록사이드 라우릭애씨드 글리세릴스테아레이트 글리세린 다이소듐이...  스킨케어      0  발견사항 없음   \n",
       "1307  미리스틱애씨드 테트라소듐이디티에이 증정똘러리앙 팔미틱애씨드 포타슘하이드록사이드 정제...  스킨케어      0  발견사항 없음   \n",
       "1336  마카뿌리추출물 라우릴포스페이트 포타슘하이드록사이드 소듐클로라이드 라우릭애씨드 글리세...  스킨케어      0  리모넨,시트랄   \n",
       "1273  베타글루칸 팔미틱애씨드 포타슘하이드록사이드 라우릭애씨드 글리세릴스테아레이트 글리세린...  스킨케어      0  발견사항 없음   \n",
       "1304  다이소듐이디티에이 미리스틱애씨드 소듐코코일글라이시네이트 코카미도프로필베타인 정제수 ...  스킨케어      0  발견사항 없음   \n",
       "\n",
       "       gluten  \n",
       "1325  발견사항 없음  \n",
       "1290  발견사항 없음  \n",
       "1264  발견사항 없음  \n",
       "1276  발견사항 없음  \n",
       "1262  발견사항 없음  \n",
       "1279  발견사항 없음  \n",
       "1307  발견사항 없음  \n",
       "1336  발견사항 없음  \n",
       "1273  발견사항 없음  \n",
       "1304  발견사항 없음  "
      ]
     },
     "execution_count": 24,
     "metadata": {},
     "output_type": "execute_result"
    }
   ],
   "source": [
    "recom_df=pd.concat([input_data,df]).reset_index(drop=True)\n",
    "count_vect=CountVectorizer(min_df=0,ngram_range=(1,2))\n",
    "text_mat=count_vect.fit_transform(recom_df['text'])\n",
    "text_sim=cosine_similarity(text_mat,text_mat)\n",
    "text_sim_sorted_ind=text_sim.argsort()[:,::-1]\n",
    "\n",
    "print('입력한 상품과 비슷한 제품 5가지를 보여드려요')\n",
    "find_sim_text(recom_df,text_sim_sorted_ind,input_data['product'].values[0],10,vegan_option,cate_option)"
   ]
  }
 ],
 "metadata": {
  "kernelspec": {
   "display_name": "base",
   "language": "python",
   "name": "python3"
  },
  "language_info": {
   "codemirror_mode": {
    "name": "ipython",
    "version": 3
   },
   "file_extension": ".py",
   "mimetype": "text/x-python",
   "name": "python",
   "nbconvert_exporter": "python",
   "pygments_lexer": "ipython3",
   "version": "3.9.7"
  },
  "orig_nbformat": 4
 },
 "nbformat": 4,
 "nbformat_minor": 2
}
