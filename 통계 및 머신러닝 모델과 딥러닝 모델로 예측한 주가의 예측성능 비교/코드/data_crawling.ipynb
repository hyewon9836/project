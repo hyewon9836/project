{
 "cells": [
  {
   "cell_type": "markdown",
   "metadata": {},
   "source": [
    "# 라이브러리 및 옵션"
   ]
  },
  {
   "cell_type": "code",
   "execution_count": 1,
   "metadata": {},
   "outputs": [],
   "source": [
    "import requests\n",
    "from bs4 import BeautifulSoup\n",
    "import pandas as pd\n",
    "import numpy as np\n",
    "import datetime\n",
    "from datetime import timedelta"
   ]
  },
  {
   "cell_type": "code",
   "execution_count": 2,
   "metadata": {},
   "outputs": [],
   "source": [
    "# 데이터 분석 기본 라이브러리 관련\n",
    "import os\n",
    "import sys\n",
    "import platform\n",
    "import warnings\n",
    "import numpy as np\n",
    "import pandas as pd\n",
    "from tqdm.notebook import tqdm_notebook\n",
    "\n",
    "# EDA 관련\n",
    "import seaborn as sns\n",
    "import matplotlib as mpl\n",
    "import matplotlib.pyplot as plt\n",
    "import matplotlib.dates as mdates\n",
    "#import missingno as msno\n",
    "\n",
    "# 데이터 전처리 관련\n",
    "import tqdm\n",
    "from sklearn.model_selection import train_test_split\n",
    "from sklearn.preprocessing import LabelEncoder"
   ]
  },
  {
   "cell_type": "code",
   "execution_count": 3,
   "metadata": {},
   "outputs": [
    {
     "name": "stdout",
     "output_type": "stream",
     "text": [
      "현재 사용되는 운영체제: Windows\n"
     ]
    }
   ],
   "source": [
    "warnings.filterwarnings(action='ignore')\n",
    "\n",
    "pd.options.display.max_rows = 1000\n",
    "pd.options.display.max_columns = 200\n",
    "plt.style.use('ggplot')\n",
    "\n",
    "current_os = platform.platform().split(\"-\")[0]\n",
    "if current_os == 'Windows':\n",
    "    print(f'현재 사용되는 운영체제: {current_os}')\n",
    "    plt.rc('font', family='Malgun Gothic') # For Windows\n",
    "    plt.rc(\"axes\",unicode_minus=False)\n",
    "elif current_os == 'Darwin': # macOS\n",
    "    print(f\"본 내용은 Windows 환경에서 분석됐습니다. 다른 OS로 하시게 될 경우 에러가 날 수 있습니다.\")\n",
    "    plt.rc('font', family='AppleGothic') # For Windows"
   ]
  },
  {
   "cell_type": "markdown",
   "metadata": {},
   "source": [
    "# 크롤링\n",
    "\n",
    "- 삼성전자(시총 기준 large cap)\n",
    "- SK하이닉스(시총 기준 large cap)\n",
    "- NAVER(시총 기준 large cap)\n",
    "- 씨젠(코로나 테마)\n",
    "- 우리들휴브레인(코로나)\n",
    "- 현대차(자동차 대표주)\n",
    "- DGB금융지주(은행)\n",
    "- 마스터블루(출판)\n",
    "- 셀트리온\n",
    "- 데일리 블록체인\n",
    "- 소리바다\n",
    "- 한화솔루션\n",
    "- 아모레퍼시픽\n",
    "- CJ대한통운\n",
    "- GS건설"
   ]
  },
  {
   "cell_type": "code",
   "execution_count": 4,
   "metadata": {},
   "outputs": [],
   "source": [
    "startdate = datetime.datetime.strftime(datetime.datetime(year=2000, month=1, day=1), '%Y.%m.%d')"
   ]
  },
  {
   "cell_type": "code",
   "execution_count": 24,
   "metadata": {},
   "outputs": [],
   "source": [
    "codes=['005930','000660','035420','096530','118000','005380','139130','207760','068270','139050','053110','009830','090430','000120','006360']\n",
    "names=['삼성전자','SK하이닉스','NAVER','씨젠','우리들휴브레인','현대차','DGB금융지주','미스터블루','셀트리온','데일리블록체인','소리바다','한화솔루션','아모레퍼시픽','CJ대한통운','GS건설']"
   ]
  },
  {
   "cell_type": "code",
   "execution_count": 25,
   "metadata": {},
   "outputs": [],
   "source": [
    "for code,name in zip(codes,names):\n",
    "    url = 'http://finance.naver.com/item/sise_day.nhn?code={code}'.format(code=code)\n",
    "    request = requests.get(url)\n",
    "    request.encoding = 'utf-8'\n",
    "    #request.status_code\n",
    "\n",
    "    bs=BeautifulSoup(request.text,'html.parser')\n",
    "\n",
    "    navi=bs.find('table',class_='Nnavi')\n",
    "    td=navi.find('td',class_='pgRR')\n",
    "    last_page=td.a.get('href').rsplit('&')[1]\n",
    "    last_page=last_page.split('=')[1]\n",
    "    last_page=int(last_page)\n",
    "\n",
    "    def parse_page(code, page):\n",
    "        try:\n",
    "            url = 'http://finance.naver.com/item/sise_day.nhn?code={code}&page={page}'.format(code=code, page=page)\n",
    "            request=requests.get(url)\n",
    "            bs = BeautifulSoup(request.text, 'html.parser')\n",
    "            df = pd.read_html(str(bs.find(\"table\")),header=0)[0]\n",
    "            df = df.dropna()\n",
    "            return df\n",
    "        except Exception as e:\n",
    "            traceback.print_exc()\n",
    "        return None\n",
    "\n",
    "    df=None\n",
    "    for page in range(1,last_page+1):\n",
    "        data=parse_page(code,page)\n",
    "        data_filtered=data[data['날짜']>startdate]\n",
    "        if df is None:\n",
    "            df = data_filtered\n",
    "        else:\n",
    "            df = pd.concat([df,data_filtered])\n",
    "        if len(data) > len(data_filtered):\n",
    "            break\n",
    "\n",
    "    df=df.sort_values(by=['날짜'],axis=0)\n",
    "    df.to_csv(name+'.csv',index=False,encoding='cp949')"
   ]
  },
  {
   "cell_type": "code",
   "execution_count": null,
   "metadata": {},
   "outputs": [],
   "source": []
  }
 ],
 "metadata": {
  "kernelspec": {
   "display_name": "Python 3",
   "language": "python",
   "name": "python3"
  },
  "language_info": {
   "codemirror_mode": {
    "name": "ipython",
    "version": 3
   },
   "file_extension": ".py",
   "mimetype": "text/x-python",
   "name": "python",
   "nbconvert_exporter": "python",
   "pygments_lexer": "ipython3",
   "version": "3.8.3"
  },
  "toc": {
   "base_numbering": 1,
   "nav_menu": {},
   "number_sections": true,
   "sideBar": true,
   "skip_h1_title": false,
   "title_cell": "Table of Contents",
   "title_sidebar": "Contents",
   "toc_cell": false,
   "toc_position": {},
   "toc_section_display": true,
   "toc_window_display": false
  }
 },
 "nbformat": 4,
 "nbformat_minor": 4
}
