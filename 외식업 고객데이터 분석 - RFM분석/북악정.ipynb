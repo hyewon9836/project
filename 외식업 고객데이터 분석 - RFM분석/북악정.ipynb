{
 "cells": [
  {
   "cell_type": "markdown",
   "metadata": {},
   "source": [
    "## 라이브러리"
   ]
  },
  {
   "cell_type": "code",
   "execution_count": 1,
   "metadata": {},
   "outputs": [],
   "source": [
    "# 데이터 분석 기본 라이브러리 관련\n",
    "import os\n",
    "import sys\n",
    "import warnings\n",
    "from tqdm import tqdm_notebook\n",
    "\n",
    "import numpy as np\n",
    "import pandas as pd\n",
    "\n",
    "# EDA 관련\n",
    "import matplotlib\n",
    "import seaborn as sns\n",
    "import matplotlib as mpl\n",
    "import matplotlib.pyplot as plt\n",
    "\n",
    "# 데이터 전처리 관련\n",
    "from datetime import datetime\n",
    "import datetime as dt\n",
    "from sklearn.model_selection import train_test_split\n",
    "from sklearn.preprocessing import LabelEncoder"
   ]
  },
  {
   "cell_type": "code",
   "execution_count": 2,
   "metadata": {},
   "outputs": [],
   "source": [
    "from mpl_toolkits.mplot3d import Axes3D\n",
    "import matplotlib.pyplot as plt"
   ]
  },
  {
   "cell_type": "code",
   "execution_count": 3,
   "metadata": {},
   "outputs": [],
   "source": [
    "warnings.filterwarnings(action='ignore')\n",
    "pd.set_option('display.max_columns', 100)\n",
    "mpl.rcParams['font.family'] = 'Malgun Gothic'\n",
    "mpl.rcParams['axes.unicode_minus'] = False"
   ]
  },
  {
   "cell_type": "markdown",
   "metadata": {},
   "source": [
    "## 전체적으로 사용되는 함수"
   ]
  },
  {
   "cell_type": "code",
   "execution_count": 4,
   "metadata": {},
   "outputs": [],
   "source": [
    "def MSG(x):\n",
    "    if x['SMS\\n수신여부']=='수신':\n",
    "        return 'Y'\n",
    "    else:\n",
    "        return 'N'\n",
    "    \n",
    "def DateToStr1(x):\n",
    "    return str(x['최종접수일'])\n",
    "\n",
    "def DateToStr2(x):\n",
    "    return str(x['가입일'])\n",
    "\n",
    "def DateToStr3(x):\n",
    "    return str(x['최종방문일'])\n",
    "\n",
    "def StringToStr(x):\n",
    "    return str(x['고객번호'])\n",
    "\n",
    "def NAME(x):\n",
    "    if x['최종방문일_x']>=x['최종방문일_y']:\n",
    "        return x['고객명_x']\n",
    "    else:\n",
    "        return x['고객명_y']\n",
    "    \n",
    "def Recent(x):\n",
    "    if str(x['최종방문일_x'])>str(x['최종방문일_y']):\n",
    "        return x['최종방문일_x']\n",
    "    else:\n",
    "        return x['최종방문일_y']\n",
    "    \n",
    "def StrToDate(x):\n",
    "    return datetime.strptime(x['최종방문일'],'%Y-%m-%d').date()\n",
    "\n",
    "def RECEN(x):\n",
    "    return x['recency']-x['최종방문일']\n",
    "\n",
    "def DateToStr(x):\n",
    "    return str(x['recency'])\n",
    "\n",
    "def StrToNum(x):\n",
    "    return int(x['recency'])"
   ]
  },
  {
   "cell_type": "markdown",
   "metadata": {},
   "source": [
    "--------\n",
    "## 데이터 불러오기"
   ]
  },
  {
   "cell_type": "code",
   "execution_count": 5,
   "metadata": {},
   "outputs": [],
   "source": [
    "new_pos=pd.read_excel('./고객data/꿈꾸는이상(주) 북악신관_고객현황조회_20210316.xlsx')"
   ]
  },
  {
   "cell_type": "code",
   "execution_count": 6,
   "metadata": {},
   "outputs": [],
   "source": [
    "p_pos=pd.read_excel('./고객data/평창동북악정_고객현황조회_20210316.xlsx')"
   ]
  },
  {
   "cell_type": "code",
   "execution_count": 7,
   "metadata": {},
   "outputs": [],
   "source": [
    "res=pd.read_excel('./고객data/(주식회사 평창동 북악정)데이터_20210415.xlsx')"
   ]
  },
  {
   "cell_type": "code",
   "execution_count": 8,
   "metadata": {},
   "outputs": [],
   "source": [
    "new_excel=pd.read_excel('./고객data/2018 04 북신.xlsx')"
   ]
  },
  {
   "cell_type": "code",
   "execution_count": 9,
   "metadata": {},
   "outputs": [],
   "source": [
    "p_excel=pd.read_excel('./고객data/2018 04 북본.xlsx')"
   ]
  },
  {
   "cell_type": "code",
   "execution_count": 10,
   "metadata": {},
   "outputs": [],
   "source": [
    "pur=pd.read_excel('./고객data/고객구매정보_2004_2103.xlsx')"
   ]
  },
  {
   "cell_type": "code",
   "execution_count": 11,
   "metadata": {},
   "outputs": [],
   "source": [
    "msg=pd.read_excel('./고객data/뿌리오지점별고객리스트.xlsx','북악정',skiprows=2)"
   ]
  },
  {
   "cell_type": "code",
   "execution_count": null,
   "metadata": {},
   "outputs": [],
   "source": []
  },
  {
   "cell_type": "markdown",
   "metadata": {},
   "source": [
    "## 1) 포스 데이터"
   ]
  },
  {
   "cell_type": "code",
   "execution_count": 12,
   "metadata": {},
   "outputs": [
    {
     "name": "stdout",
     "output_type": "stream",
     "text": [
      "(2499, 21)\n"
     ]
    }
   ],
   "source": [
    "print(new_pos.shape)"
   ]
  },
  {
   "cell_type": "code",
   "execution_count": null,
   "metadata": {},
   "outputs": [],
   "source": [
    "new_pos.head()"
   ]
  },
  {
   "cell_type": "code",
   "execution_count": 13,
   "metadata": {},
   "outputs": [
    {
     "name": "stdout",
     "output_type": "stream",
     "text": [
      "(10450, 20)\n"
     ]
    }
   ],
   "source": [
    "p_pos.drop('NO',axis=1,inplace=True)\n",
    "print(p_pos.shape)"
   ]
  },
  {
   "cell_type": "code",
   "execution_count": null,
   "metadata": {},
   "outputs": [],
   "source": [
    "p_pos.head()"
   ]
  },
  {
   "cell_type": "markdown",
   "metadata": {},
   "source": [
    "#### 1. 각 열에 결측값 확인"
   ]
  },
  {
   "cell_type": "code",
   "execution_count": 14,
   "metadata": {},
   "outputs": [
    {
     "data": {
      "text/plain": [
       "고객번호            0\n",
       "고객명             0\n",
       "매장명             0\n",
       "등급              0\n",
       "성별              0\n",
       "생년월일         2279\n",
       "전화번호            0\n",
       "핸드폰번호           0\n",
       "구매금액            0\n",
       "구매횟수            0\n",
       "포인트             0\n",
       "가입일             0\n",
       "최종방문일           0\n",
       "우편번호         2440\n",
       "주소           2452\n",
       "상세주소         2454\n",
       "메일주소         2473\n",
       "SMS\\n수신여부       0\n",
       "기념일          2499\n",
       "비고           2499\n",
       "dtype: int64"
      ]
     },
     "execution_count": 14,
     "metadata": {},
     "output_type": "execute_result"
    }
   ],
   "source": [
    "new_pos.drop('NO',axis=1,inplace=True)\n",
    "new_pos.isnull().sum()"
   ]
  },
  {
   "cell_type": "code",
   "execution_count": 15,
   "metadata": {},
   "outputs": [
    {
     "data": {
      "text/plain": [
       "고객번호             0\n",
       "고객명              0\n",
       "매장명              0\n",
       "등급               0\n",
       "성별               0\n",
       "생년월일         10394\n",
       "전화번호           137\n",
       "핸드폰번호            0\n",
       "구매금액             0\n",
       "구매횟수             0\n",
       "포인트              0\n",
       "가입일              0\n",
       "최종방문일            0\n",
       "우편번호         10422\n",
       "주소           10432\n",
       "상세주소         10433\n",
       "메일주소         10444\n",
       "SMS\\n수신여부        0\n",
       "기념일          10450\n",
       "비고           10450\n",
       "dtype: int64"
      ]
     },
     "execution_count": 15,
     "metadata": {},
     "output_type": "execute_result"
    }
   ],
   "source": [
    "p_pos.isnull().sum()"
   ]
  },
  {
   "cell_type": "markdown",
   "metadata": {},
   "source": [
    "-> 생년월일, 전화번호, 우편번호, 주소, 상세주소, 메일주소, 기념일, 비고에 대해서 결측치 존재 ( 대부분의 데이터가 결측임 )\n",
    "\n",
    "#### 2. 정보가 있는 데이터만 가져와서 새로운 데이터 셋 생성"
   ]
  },
  {
   "cell_type": "code",
   "execution_count": 16,
   "metadata": {},
   "outputs": [],
   "source": [
    "new_pos.drop(['생년월일','전화번호','우편번호','주소','상세주소','메일주소','기념일','비고'],axis=1,inplace=True)"
   ]
  },
  {
   "cell_type": "code",
   "execution_count": null,
   "metadata": {},
   "outputs": [],
   "source": [
    "new_pos"
   ]
  },
  {
   "cell_type": "code",
   "execution_count": 17,
   "metadata": {},
   "outputs": [],
   "source": [
    "p_pos.drop(['생년월일','전화번호','우편번호','주소','상세주소','메일주소','기념일','비고'],axis=1,inplace=True)"
   ]
  },
  {
   "cell_type": "code",
   "execution_count": null,
   "metadata": {},
   "outputs": [],
   "source": [
    "p_pos.head()"
   ]
  },
  {
   "cell_type": "markdown",
   "metadata": {},
   "source": [
    "#### 3. easyPOS안의 북악정 고객수 12949명"
   ]
  },
  {
   "cell_type": "code",
   "execution_count": 18,
   "metadata": {},
   "outputs": [],
   "source": [
    "pos=pd.concat([new_pos,p_pos])"
   ]
  },
  {
   "cell_type": "code",
   "execution_count": null,
   "metadata": {},
   "outputs": [],
   "source": [
    "pos"
   ]
  },
  {
   "cell_type": "code",
   "execution_count": 19,
   "metadata": {},
   "outputs": [
    {
     "data": {
      "text/plain": [
       "12949"
      ]
     },
     "execution_count": 19,
     "metadata": {},
     "output_type": "execute_result"
    }
   ],
   "source": [
    "pos['고객번호'].nunique()"
   ]
  },
  {
   "cell_type": "markdown",
   "metadata": {},
   "source": [
    "#### 4. easyPOS안의 고객들의 기존 등급"
   ]
  },
  {
   "cell_type": "code",
   "execution_count": 20,
   "metadata": {},
   "outputs": [
    {
     "data": {
      "text/plain": [
       "array(['일반', 'VIP 블루', 'VIP 퍼플', 'VIP 블랙', 'vip'], dtype=object)"
      ]
     },
     "execution_count": 20,
     "metadata": {},
     "output_type": "execute_result"
    }
   ],
   "source": [
    "pos['등급'].unique()"
   ]
  },
  {
   "cell_type": "code",
   "execution_count": 21,
   "metadata": {},
   "outputs": [
    {
     "data": {
      "text/html": [
       "<div>\n",
       "<style scoped>\n",
       "    .dataframe tbody tr th:only-of-type {\n",
       "        vertical-align: middle;\n",
       "    }\n",
       "\n",
       "    .dataframe tbody tr th {\n",
       "        vertical-align: top;\n",
       "    }\n",
       "\n",
       "    .dataframe thead th {\n",
       "        text-align: right;\n",
       "    }\n",
       "</style>\n",
       "<table border=\"1\" class=\"dataframe\">\n",
       "  <thead>\n",
       "    <tr style=\"text-align: right;\">\n",
       "      <th></th>\n",
       "      <th>index</th>\n",
       "      <th>등급</th>\n",
       "    </tr>\n",
       "  </thead>\n",
       "  <tbody>\n",
       "    <tr>\n",
       "      <th>0</th>\n",
       "      <td>일반</td>\n",
       "      <td>12897</td>\n",
       "    </tr>\n",
       "    <tr>\n",
       "      <th>1</th>\n",
       "      <td>VIP 블루</td>\n",
       "      <td>28</td>\n",
       "    </tr>\n",
       "    <tr>\n",
       "      <th>2</th>\n",
       "      <td>VIP 퍼플</td>\n",
       "      <td>17</td>\n",
       "    </tr>\n",
       "    <tr>\n",
       "      <th>3</th>\n",
       "      <td>VIP 블랙</td>\n",
       "      <td>6</td>\n",
       "    </tr>\n",
       "    <tr>\n",
       "      <th>4</th>\n",
       "      <td>vip</td>\n",
       "      <td>1</td>\n",
       "    </tr>\n",
       "  </tbody>\n",
       "</table>\n",
       "</div>"
      ],
      "text/plain": [
       "    index     등급\n",
       "0      일반  12897\n",
       "1  VIP 블루     28\n",
       "2  VIP 퍼플     17\n",
       "3  VIP 블랙      6\n",
       "4     vip      1"
      ]
     },
     "execution_count": 21,
     "metadata": {},
     "output_type": "execute_result"
    }
   ],
   "source": [
    "a=pos['등급'].value_counts().reset_index()\n",
    "a"
   ]
  },
  {
   "cell_type": "code",
   "execution_count": null,
   "metadata": {},
   "outputs": [],
   "source": [
    "pos[pos['등급']=='VIP 블루']"
   ]
  },
  {
   "cell_type": "code",
   "execution_count": null,
   "metadata": {},
   "outputs": [],
   "source": [
    "pos[pos['등급']=='VIP 블랙']"
   ]
  },
  {
   "cell_type": "code",
   "execution_count": null,
   "metadata": {},
   "outputs": [],
   "source": [
    "pos[pos['등급']=='VIP 퍼플']"
   ]
  },
  {
   "cell_type": "code",
   "execution_count": null,
   "metadata": {},
   "outputs": [],
   "source": [
    "pos[pos['등급']=='vip']"
   ]
  },
  {
   "cell_type": "code",
   "execution_count": 22,
   "metadata": {},
   "outputs": [
    {
     "data": {
      "text/html": [
       "<div>\n",
       "<style scoped>\n",
       "    .dataframe tbody tr th:only-of-type {\n",
       "        vertical-align: middle;\n",
       "    }\n",
       "\n",
       "    .dataframe tbody tr th {\n",
       "        vertical-align: top;\n",
       "    }\n",
       "\n",
       "    .dataframe thead th {\n",
       "        text-align: right;\n",
       "    }\n",
       "</style>\n",
       "<table border=\"1\" class=\"dataframe\">\n",
       "  <thead>\n",
       "    <tr style=\"text-align: right;\">\n",
       "      <th>등급</th>\n",
       "      <th>VIP 블랙</th>\n",
       "      <th>VIP 블루</th>\n",
       "      <th>VIP 퍼플</th>\n",
       "      <th>vip</th>\n",
       "      <th>일반</th>\n",
       "    </tr>\n",
       "    <tr>\n",
       "      <th>성별</th>\n",
       "      <th></th>\n",
       "      <th></th>\n",
       "      <th></th>\n",
       "      <th></th>\n",
       "      <th></th>\n",
       "    </tr>\n",
       "  </thead>\n",
       "  <tbody>\n",
       "    <tr>\n",
       "      <th>남자</th>\n",
       "      <td>1.0</td>\n",
       "      <td>14.0</td>\n",
       "      <td>8.0</td>\n",
       "      <td>0.0</td>\n",
       "      <td>6302.0</td>\n",
       "    </tr>\n",
       "    <tr>\n",
       "      <th>여자</th>\n",
       "      <td>5.0</td>\n",
       "      <td>14.0</td>\n",
       "      <td>9.0</td>\n",
       "      <td>1.0</td>\n",
       "      <td>6595.0</td>\n",
       "    </tr>\n",
       "  </tbody>\n",
       "</table>\n",
       "</div>"
      ],
      "text/plain": [
       "등급  VIP 블랙  VIP 블루  VIP 퍼플  vip      일반\n",
       "성별                                     \n",
       "남자     1.0    14.0     8.0  0.0  6302.0\n",
       "여자     5.0    14.0     9.0  1.0  6595.0"
      ]
     },
     "execution_count": 22,
     "metadata": {},
     "output_type": "execute_result"
    }
   ],
   "source": [
    "pos.groupby(['성별','등급']).size().unstack().fillna(0)"
   ]
  },
  {
   "cell_type": "markdown",
   "metadata": {},
   "source": [
    "#### 5. 달 별 가입한 고객의 수 & 그래프"
   ]
  },
  {
   "cell_type": "code",
   "execution_count": 23,
   "metadata": {},
   "outputs": [
    {
     "data": {
      "text/html": [
       "<div>\n",
       "<style scoped>\n",
       "    .dataframe tbody tr th:only-of-type {\n",
       "        vertical-align: middle;\n",
       "    }\n",
       "\n",
       "    .dataframe tbody tr th {\n",
       "        vertical-align: top;\n",
       "    }\n",
       "\n",
       "    .dataframe thead th {\n",
       "        text-align: right;\n",
       "    }\n",
       "</style>\n",
       "<table border=\"1\" class=\"dataframe\">\n",
       "  <thead>\n",
       "    <tr style=\"text-align: right;\">\n",
       "      <th></th>\n",
       "      <th>가입일</th>\n",
       "    </tr>\n",
       "  </thead>\n",
       "  <tbody>\n",
       "    <tr>\n",
       "      <th>2011-05-31</th>\n",
       "      <td>6</td>\n",
       "    </tr>\n",
       "    <tr>\n",
       "      <th>2011-06-30</th>\n",
       "      <td>142</td>\n",
       "    </tr>\n",
       "    <tr>\n",
       "      <th>2011-07-31</th>\n",
       "      <td>72</td>\n",
       "    </tr>\n",
       "    <tr>\n",
       "      <th>2011-08-31</th>\n",
       "      <td>42</td>\n",
       "    </tr>\n",
       "    <tr>\n",
       "      <th>2011-09-30</th>\n",
       "      <td>40</td>\n",
       "    </tr>\n",
       "    <tr>\n",
       "      <th>...</th>\n",
       "      <td>...</td>\n",
       "    </tr>\n",
       "    <tr>\n",
       "      <th>2020-09-30</th>\n",
       "      <td>53</td>\n",
       "    </tr>\n",
       "    <tr>\n",
       "      <th>2020-10-31</th>\n",
       "      <td>77</td>\n",
       "    </tr>\n",
       "    <tr>\n",
       "      <th>2020-11-30</th>\n",
       "      <td>62</td>\n",
       "    </tr>\n",
       "    <tr>\n",
       "      <th>2020-12-31</th>\n",
       "      <td>50</td>\n",
       "    </tr>\n",
       "    <tr>\n",
       "      <th>2021-01-31</th>\n",
       "      <td>1</td>\n",
       "    </tr>\n",
       "  </tbody>\n",
       "</table>\n",
       "<p>117 rows × 1 columns</p>\n",
       "</div>"
      ],
      "text/plain": [
       "            가입일\n",
       "2011-05-31    6\n",
       "2011-06-30  142\n",
       "2011-07-31   72\n",
       "2011-08-31   42\n",
       "2011-09-30   40\n",
       "...         ...\n",
       "2020-09-30   53\n",
       "2020-10-31   77\n",
       "2020-11-30   62\n",
       "2020-12-31   50\n",
       "2021-01-31    1\n",
       "\n",
       "[117 rows x 1 columns]"
      ]
     },
     "execution_count": 23,
     "metadata": {},
     "output_type": "execute_result"
    }
   ],
   "source": [
    "a=pd.DataFrame(pos['가입일'].value_counts())\n",
    "a=a.resample('1M').sum()\n",
    "a"
   ]
  },
  {
   "cell_type": "code",
   "execution_count": 24,
   "metadata": {},
   "outputs": [
    {
     "data": {
      "text/plain": [
       "Text(0.5, 1.0, '월별 북악정 신규 가입자 수')"
      ]
     },
     "execution_count": 24,
     "metadata": {},
     "output_type": "execute_result"
    },
    {
     "data": {
      "image/png": "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\n",
      "text/plain": [
       "<Figure size 1080x720 with 1 Axes>"
      ]
     },
     "metadata": {
      "needs_background": "light"
     },
     "output_type": "display_data"
    }
   ],
   "source": [
    "plt.figure(figsize=(15,10))\n",
    "plt.plot(a.index,a['가입일'], marker=\"o\", color = \"green\")\n",
    "plt.xlabel('가입시기')\n",
    "plt.ylabel('가입자 수(명)')\n",
    "plt.title('월별 북악정 신규 가입자 수')"
   ]
  },
  {
   "cell_type": "markdown",
   "metadata": {},
   "source": [
    "#### 6. 달 별 최종방문한 고객수 & 그래프"
   ]
  },
  {
   "cell_type": "code",
   "execution_count": 25,
   "metadata": {},
   "outputs": [
    {
     "data": {
      "text/plain": [
       "Text(0.5, 1.0, '월별 북악정 최종 방문자 수')"
      ]
     },
     "execution_count": 25,
     "metadata": {},
     "output_type": "execute_result"
    },
    {
     "data": {
      "image/png": "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
