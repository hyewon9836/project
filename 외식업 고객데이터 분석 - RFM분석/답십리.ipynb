{
 "cells": [
  {
   "cell_type": "markdown",
   "metadata": {},
   "source": [
    "## 라이브러리"
   ]
  },
  {
   "cell_type": "code",
   "execution_count": 3,
   "metadata": {},
   "outputs": [],
   "source": [
    "# 데이터 분석 기본 라이브러리 관련\n",
    "import os\n",
    "import sys\n",
    "import warnings\n",
    "from tqdm import tqdm_notebook\n",
    "\n",
    "import numpy as np\n",
    "import pandas as pd\n",
    "\n",
    "# EDA 관련\n",
    "import matplotlib\n",
    "import seaborn as sns\n",
    "import matplotlib as mpl\n",
    "import matplotlib.pyplot as plt\n",
    "\n",
    "# 데이터 전처리 관련\n",
    "from datetime import datetime\n",
    "import datetime as dt\n",
    "from sklearn.model_selection import train_test_split\n",
    "from sklearn.preprocessing import LabelEncoder"
   ]
  },
  {
   "cell_type": "code",
   "execution_count": 4,
   "metadata": {},
   "outputs": [],
   "source": [
    "from mpl_toolkits.mplot3d import Axes3D\n",
    "import matplotlib.pyplot as plt"
   ]
  },
  {
   "cell_type": "code",
   "execution_count": 5,
   "metadata": {},
   "outputs": [],
   "source": [
    "warnings.filterwarnings(action='ignore')\n",
    "pd.set_option('display.max_columns', 100)\n",
    "mpl.rcParams['font.family'] = 'Malgun Gothic'\n",
    "mpl.rcParams['axes.unicode_minus'] = False"
   ]
  },
  {
   "cell_type": "markdown",
   "metadata": {},
   "source": [
    "## 전체적으로 사용되는 함수"
   ]
  },
  {
   "cell_type": "code",
   "execution_count": 6,
   "metadata": {},
   "outputs": [],
   "source": [
    "def MSG(x):\n",
    "    if x['SMS\\n수신여부']=='수신':\n",
    "        return 'Y'\n",
    "    else:\n",
    "        return 'N'\n",
    "    \n",
    "def DateToStr1(x):\n",
    "    return str(x['최종접수일'])\n",
    "\n",
    "def DateToStr2(x):\n",
    "    return str(x['가입일'])\n",
    "\n",
    "def DateToStr3(x):\n",
    "    return str(x['최종방문일'])\n",
    "\n",
    "def StringToStr(x):\n",
    "    return str(x['고객번호'])"
   ]
  },
  {
   "cell_type": "markdown",
   "metadata": {},
   "source": [
    "---"
   ]
  },
  {
   "cell_type": "markdown",
   "metadata": {},
   "source": [
    "## 데이터 불러오기"
   ]
  },
  {
   "cell_type": "code",
   "execution_count": 7,
   "metadata": {},
   "outputs": [],
   "source": [
    "res=pd.read_excel('./고객data/(갈비명가이상 답십리점)데이터_20210415.xlsx')"
   ]
  },
  {
   "cell_type": "code",
   "execution_count": 8,
   "metadata": {},
   "outputs": [],
   "source": [
    "msg=pd.read_excel('./고객data/뿌리오지점별고객리스트.xlsx','답십리',skiprows=2)"
   ]
  },
  {
   "cell_type": "code",
   "execution_count": 9,
   "metadata": {},
   "outputs": [],
   "source": [
    "pos=pd.read_excel('./고객data/갈비명가이상 답십리점_고객현황조회_20210316.xlsx')"
   ]
  },
  {
   "cell_type": "code",
   "execution_count": 10,
   "metadata": {},
   "outputs": [],
   "source": [
    "pur=pd.read_excel('./고객data/고객구매정보_2004_2103.xlsx')"
   ]
  },
  {
   "cell_type": "code",
   "execution_count": null,
   "metadata": {},
   "outputs": [],
   "source": []
  },
  {
   "cell_type": "markdown",
   "metadata": {},
   "source": [
    "## 1) 포스 데이터"
   ]
  },
  {
   "cell_type": "code",
   "execution_count": null,
   "metadata": {},
   "outputs": [],
   "source": [
    "pos.head()"
   ]
  },
  {
   "cell_type": "markdown",
   "metadata": {},
   "source": [
    "**1, 각 열에 결측값 확인**"
   ]
  },
  {
   "cell_type": "code",
   "execution_count": 11,
   "metadata": {},
   "outputs": [
    {
     "data": {
      "text/plain": [
       "고객번호            0\n",
       "고객명             0\n",
       "매장명             0\n",
       "등급              0\n",
       "성별              0\n",
       "생년월일         8782\n",
       "전화번호            0\n",
       "핸드폰번호           0\n",
       "구매금액            0\n",
       "구매횟수            0\n",
       "포인트             0\n",
       "가입일             0\n",
       "최종방문일           0\n",
       "우편번호         8782\n",
       "주소           8783\n",
       "상세주소         8783\n",
       "메일주소         8783\n",
       "SMS\\n수신여부       0\n",
       "기념일          8783\n",
       "비고           8783\n",
       "dtype: int64"
      ]
     },
     "execution_count": 11,
     "metadata": {},
     "output_type": "execute_result"
    }
   ],
   "source": [
    "pos.drop('NO',axis=1,inplace=True)\n",
    "pos.isnull().sum()"
   ]
  },
  {
   "cell_type": "markdown",
   "metadata": {},
   "source": [
    "-> 생년월일, 전화번호, 우편번호, 주소, 상세주소, 메일주소, 기념일, 비고에 대해서 결측치 존재 ( 대부분의 데이터가 결측임 )"
   ]
  },
  {
   "cell_type": "markdown",
   "metadata": {},
   "source": [
    "**2, 정보가 있는 데이터만 가져와서 새로운 데이터 셋 생성**"
   ]
  },
  {
   "cell_type": "code",
   "execution_count": 12,
   "metadata": {},
   "outputs": [],
   "source": [
    "pos.drop(['생년월일','전화번호','우편번호','주소','상세주소','메일주소','기념일','비고'],axis=1,inplace=True)"
   ]
  },
  {
   "cell_type": "code",
   "execution_count": null,
   "metadata": {},
   "outputs": [],
   "source": [
    "pos"
   ]
  },
  {
   "cell_type": "markdown",
   "metadata": {},
   "source": [
    "**3, easyPOS안의 답십리 고객수 8783명**"
   ]
  },
  {
   "cell_type": "code",
   "execution_count": 13,
   "metadata": {},
   "outputs": [
    {
     "data": {
      "text/plain": [
       "8783"
      ]
     },
     "execution_count": 13,
     "metadata": {},
     "output_type": "execute_result"
    }
   ],
   "source": [
    "pos['고객번호'].nunique()"
   ]
  },
  {
   "cell_type": "markdown",
   "metadata": {},
   "source": [
    "**4, easyPOS안의 모든 고객은 '일반'고객**"
   ]
  },
  {
   "cell_type": "code",
   "execution_count": 14,
   "metadata": {},
   "outputs": [
    {
     "data": {
      "text/plain": [
       "array(['일반'], dtype=object)"
      ]
     },
     "execution_count": 14,
     "metadata": {},
     "output_type": "execute_result"
    }
   ],
   "source": [
    "pos['등급'].unique()"
   ]
  },
  {
   "cell_type": "markdown",
   "metadata": {},
   "source": [
    "**5, 달 별 가입한 고객의 수 & 그래프**"
   ]
  },
  {
   "cell_type": "code",
   "execution_count": 15,
   "metadata": {},
   "outputs": [
    {
     "data": {
      "text/html": [
       "<div>\n",
       "<style scoped>\n",
       "    .dataframe tbody tr th:only-of-type {\n",
       "        vertical-align: middle;\n",
       "    }\n",
       "\n",
       "    .dataframe tbody tr th {\n",
       "        vertical-align: top;\n",
       "    }\n",
       "\n",
       "    .dataframe thead th {\n",
       "        text-align: right;\n",
       "    }\n",
       "</style>\n",
       "<table border=\"1\" class=\"dataframe\">\n",
       "  <thead>\n",
       "    <tr style=\"text-align: right;\">\n",
       "      <th></th>\n",
       "      <th>가입일</th>\n",
       "    </tr>\n",
       "  </thead>\n",
       "  <tbody>\n",
       "    <tr>\n",
       "      <th>2015-02-28</th>\n",
       "      <td>9</td>\n",
       "    </tr>\n",
       "    <tr>\n",
       "      <th>2015-03-31</th>\n",
       "      <td>267</td>\n",
       "    </tr>\n",
       "    <tr>\n",
       "      <th>2015-04-30</th>\n",
       "      <td>73</td>\n",
       "    </tr>\n",
       "    <tr>\n",
       "      <th>2015-05-31</th>\n",
       "      <td>60</td>\n",
       "    </tr>\n",
       "    <tr>\n",
       "      <th>2015-06-30</th>\n",
       "      <td>94</td>\n",
       "    </tr>\n",
       "    <tr>\n",
       "      <th>...</th>\n",
       "      <td>...</td>\n",
       "    </tr>\n",
       "    <tr>\n",
       "      <th>2020-08-31</th>\n",
       "      <td>132</td>\n",
       "    </tr>\n",
       "    <tr>\n",
       "      <th>2020-09-30</th>\n",
       "      <td>69</td>\n",
       "    </tr>\n",
       "    <tr>\n",
       "      <th>2020-10-31</th>\n",
       "      <td>51</td>\n",
       "    </tr>\n",
       "    <tr>\n",
       "      <th>2020-11-30</th>\n",
       "      <td>73</td>\n",
       "    </tr>\n",
       "    <tr>\n",
       "      <th>2020-12-31</th>\n",
       "      <td>71</td>\n",
       "    </tr>\n",
       "  </tbody>\n",
       "</table>\n",
       "<p>71 rows × 1 columns</p>\n",
       "</div>"
      ],
      "text/plain": [
       "            가입일\n",
       "2015-02-28    9\n",
       "2015-03-31  267\n",
       "2015-04-30   73\n",
       "2015-05-31   60\n",
       "2015-06-30   94\n",
       "...         ...\n",
       "2020-08-31  132\n",
       "2020-09-30   69\n",
       "2020-10-31   51\n",
       "2020-11-30   73\n",
       "2020-12-31   71\n",
       "\n",
       "[71 rows x 1 columns]"
      ]
     },
     "execution_count": 15,
     "metadata": {},
     "output_type": "execute_result"
    }
   ],
   "source": [
    "a=pd.DataFrame(pos['가입일'].value_counts())\n",
    "a=a.resample('1M').sum()\n",
    "a"
   ]
  },
  {
   "cell_type": "code",
   "execution_count": 16,
   "metadata": {},
   "outputs": [
    {
     "data": {
      "text/plain": [
       "Text(0.5, 1.0, '월별 답십리점 신규 가입자 수')"
      ]
     },
     "execution_count": 16,
     "metadata": {},
     "output_type": "execute_result"
    },
    {
     "data": {
      "image/png": "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\n",
      "text/plain": [
       "<Figure size 1080x720 with 1 Axes>"
      ]
     },
     "metadata": {
      "needs_background": "light"
     },
     "output_type": "display_data"
    }
   ],
   "source": [
    "plt.figure(figsize=(15,10))\n",
    "plt.plot(a.index,a['가입일'], marker=\"o\", color = \"green\")\n",
    "plt.xlabel('가입시기')\n",
    "plt.ylabel('가입자 수(명)')\n",
    "plt.title('월별 답십리점 신규 가입자 수')"
   ]
  },
  {
   "cell_type": "markdown",
   "metadata": {},
   "source": [
    "**6, 달 별 최종방문한 고객수 & 그래프**"
   ]
  },
  {
   "cell_type": "code",
   "execution_count": 17,
   "metadata": {},
   "outputs": [
    {
     "data": {
      "text/plain": [
       "Text(0.5, 1.0, '월별 답십리점 최종 방문자 수')"
      ]
     },
     "execution_count": 17,
     "metadata": {},
     "output_type": "execute_result"
    },
    {
     "data": {
      "image/png": "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
