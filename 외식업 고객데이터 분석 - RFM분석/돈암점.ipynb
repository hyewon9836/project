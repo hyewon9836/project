{
 "cells": [
  {
   "cell_type": "markdown",
   "metadata": {},
   "source": [
    "## 라이브러리"
   ]
  },
  {
   "cell_type": "code",
   "execution_count": 1,
   "metadata": {},
   "outputs": [],
   "source": [
    "# 데이터 분석 기본 라이브러리 관련\n",
    "import os\n",
    "import sys\n",
    "import warnings\n",
    "from tqdm import tqdm_notebook\n",
    "\n",
    "import numpy as np\n",
    "import pandas as pd\n",
    "\n",
    "# EDA 관련\n",
    "import matplotlib\n",
    "import seaborn as sns\n",
    "import matplotlib as mpl\n",
    "import matplotlib.pyplot as plt\n",
    "\n",
    "# 데이터 전처리 관련\n",
    "from datetime import datetime\n",
    "import datetime as dt\n",
    "from sklearn.model_selection import train_test_split\n",
    "from sklearn.preprocessing import LabelEncoder"
   ]
  },
  {
   "cell_type": "code",
   "execution_count": 2,
   "metadata": {},
   "outputs": [],
   "source": [
    "from mpl_toolkits.mplot3d import Axes3D\n",
    "import matplotlib.pyplot as plt"
   ]
  },
  {
   "cell_type": "code",
   "execution_count": 3,
   "metadata": {},
   "outputs": [],
   "source": [
    "warnings.filterwarnings(action='ignore')\n",
    "pd.set_option('display.max_columns', 100)\n",
    "mpl.rcParams['font.family'] = 'Malgun Gothic'\n",
    "mpl.rcParams['axes.unicode_minus'] = False"
   ]
  },
  {
   "cell_type": "markdown",
   "metadata": {},
   "source": [
    "## 전체적으로 사용되는 함수"
   ]
  },
  {
   "cell_type": "code",
   "execution_count": 4,
   "metadata": {},
   "outputs": [],
   "source": [
    "def MSG(x):\n",
    "    if x['SMS\\n수신여부']=='수신':\n",
    "        return 'Y'\n",
    "    else:\n",
    "        return 'N'\n",
    "    \n",
    "def DateToStr1(x):\n",
    "    return str(x['최종접수일'])\n",
    "\n",
    "def DateToStr2(x):\n",
    "    return str(x['가입일'])\n",
    "\n",
    "def DateToStr3(x):\n",
    "    return str(x['최종방문일▼'])\n",
    "\n",
    "def DateToStr4(x):\n",
    "    return str(x['최종방문일'])\n",
    "\n",
    "def StringToStr(x):\n",
    "    return str(x['고객번호'])\n",
    "\n",
    "def NAME(x):\n",
    "    if x['최종방문일_x']>=x['최종방문일_y']:\n",
    "        return x['고객명_x']\n",
    "    else:\n",
    "        return x['고객명_y']\n",
    "    \n",
    "def Recent(x):\n",
    "    if str(x['최종방문일_x'])>str(x['최종방문일_y']):\n",
    "        return x['최종방문일_x']\n",
    "    else:\n",
    "        return x['최종방문일_y']\n",
    "    \n",
    "def StrToDate(x):\n",
    "    return datetime.strptime(x['최종방문일'],'%Y-%m-%d').date()\n",
    "\n",
    "def RECEN(x):\n",
    "    return x['recency']-x['최종방문일']\n",
    "\n",
    "def DateToStr(x):\n",
    "    return str(x['recency'])\n",
    "\n",
    "def StrToNum(x):\n",
    "    return int(x['recency'])"
   ]
  },
  {
   "cell_type": "markdown",
   "metadata": {},
   "source": [
    "## 데이터 불러오기"
   ]
  },
  {
   "cell_type": "code",
   "execution_count": 5,
   "metadata": {},
   "outputs": [],
   "source": [
    "pos=pd.read_excel('./고객data/갈비명가이상돈암본관_고객현황조회_20210316.xlsx')"
   ]
  },
  {
   "cell_type": "code",
   "execution_count": 6,
   "metadata": {},
   "outputs": [],
   "source": [
    "res=pd.read_excel('./고객data/(갈비명가이상 돈암본관)데이터_20210415.xlsx')"
   ]
  },
  {
   "cell_type": "code",
   "execution_count": 7,
   "metadata": {},
   "outputs": [],
   "source": [
    "excel=pd.read_excel('./고객data/2018 04 돈암점.xlsx')"
   ]
  },
  {
   "cell_type": "code",
   "execution_count": 8,
   "metadata": {},
   "outputs": [],
   "source": [
    "msg=pd.read_excel('./고객data/뿌리오지점별고객리스트.xlsx','돈암본관',skiprows=2)"
   ]
  },
  {
   "cell_type": "code",
   "execution_count": 9,
   "metadata": {},
   "outputs": [],
   "source": [
    "pur=pd.read_excel('./고객data/고객구매정보_2004_2103.xlsx')"
   ]
  },
  {
   "cell_type": "code",
   "execution_count": null,
   "metadata": {},
   "outputs": [],
   "source": []
  },
  {
   "cell_type": "markdown",
   "metadata": {},
   "source": [
    "## 1) 포스데이터"
   ]
  },
  {
   "cell_type": "code",
   "execution_count": 10,
   "metadata": {},
   "outputs": [
    {
     "name": "stdout",
     "output_type": "stream",
     "text": [
      "(11910, 21)\n"
     ]
    }
   ],
   "source": [
    "print(pos.shape)"
   ]
  },
  {
   "cell_type": "code",
   "execution_count": null,
   "metadata": {},
   "outputs": [],
   "source": [
    "pos.head()"
   ]
  },
  {
   "cell_type": "markdown",
   "metadata": {},
   "source": [
    "#### 1. 각 열에 결측값 확인"
   ]
  },
  {
   "cell_type": "code",
   "execution_count": 11,
   "metadata": {},
   "outputs": [
    {
     "data": {
      "text/plain": [
       "고객번호             0\n",
       "고객명              0\n",
       "매장명              0\n",
       "등급               0\n",
       "성별               0\n",
       "생년월일         11406\n",
       "전화번호           220\n",
       "핸드폰번호            0\n",
       "구매금액             0\n",
       "구매횟수             0\n",
       "포인트              0\n",
       "가입일              0\n",
       "최종방문일            0\n",
       "우편번호         11626\n",
       "주소           11688\n",
       "상세주소         11728\n",
       "메일주소         11846\n",
       "SMS\\n수신여부        0\n",
       "기념일          11909\n",
       "비고           11910\n",
       "dtype: int64"
      ]
     },
     "execution_count": 11,
     "metadata": {},
     "output_type": "execute_result"
    }
   ],
   "source": [
    "pos.drop('NO',axis=1,inplace=True)\n",
    "pos.isnull().sum()"
   ]
  },
  {
   "cell_type": "markdown",
   "metadata": {},
   "source": [
    "-> 생년월일, 전화번호, 우편번호, 주소, 상세주소, 메일주소, 기념일, 비고에 대해서 결측치 존재( 대부분의 데이터가 결측임)\n",
    "\n",
    "#### 2. 정보가 있는 데이터만 가져와서 새로운 데이터 셋 생성"
   ]
  },
  {
   "cell_type": "code",
   "execution_count": 12,
   "metadata": {},
   "outputs": [],
   "source": [
    "pos.drop(['생년월일','전화번호','우편번호','주소','상세주소','메일주소','기념일','비고'],axis=1,inplace=True)"
   ]
  },
  {
   "cell_type": "code",
   "execution_count": null,
   "metadata": {},
   "outputs": [],
   "source": [
    "pos.head()"
   ]
  },
  {
   "cell_type": "markdown",
   "metadata": {},
   "source": [
    "#### 3. easyPOS안의 돈암점 고객수 "
   ]
  },
  {
   "cell_type": "code",
   "execution_count": 13,
   "metadata": {},
   "outputs": [
    {
     "data": {
      "text/plain": [
       "11910"
      ]
     },
     "execution_count": 13,
     "metadata": {},
     "output_type": "execute_result"
    }
   ],
   "source": [
    "pos['고객번호'].nunique()"
   ]
  },
  {
   "cell_type": "markdown",
   "metadata": {},
   "source": [
    "#### 4.easyPOS안의 모든 고객은 '일반'고객"
   ]
  },
  {
   "cell_type": "code",
   "execution_count": 14,
   "metadata": {},
   "outputs": [
    {
     "data": {
      "text/plain": [
       "array(['일반'], dtype=object)"
      ]
     },
     "execution_count": 14,
     "metadata": {},
     "output_type": "execute_result"
    }
   ],
   "source": [
    "pos['등급'].unique()"
   ]
  },
  {
   "cell_type": "markdown",
   "metadata": {},
   "source": [
    "#### 5. 달 별 가입한 고객의 수 & 그래프"
   ]
  },
  {
   "cell_type": "code",
   "execution_count": 15,
   "metadata": {},
   "outputs": [
    {
     "data": {
      "text/html": [
       "<div>\n",
       "<style scoped>\n",
       "    .dataframe tbody tr th:only-of-type {\n",
       "        vertical-align: middle;\n",
       "    }\n",
       "\n",
       "    .dataframe tbody tr th {\n",
       "        vertical-align: top;\n",
       "    }\n",
       "\n",
       "    .dataframe thead th {\n",
       "        text-align: right;\n",
       "    }\n",
       "</style>\n",
       "<table border=\"1\" class=\"dataframe\">\n",
       "  <thead>\n",
       "    <tr style=\"text-align: right;\">\n",
       "      <th></th>\n",
       "      <th>가입일</th>\n",
       "    </tr>\n",
       "  </thead>\n",
       "  <tbody>\n",
       "    <tr>\n",
       "      <th>2011-05-31</th>\n",
       "      <td>34</td>\n",
       "    </tr>\n",
       "    <tr>\n",
       "      <th>2011-06-30</th>\n",
       "      <td>18</td>\n",
       "    </tr>\n",
       "    <tr>\n",
       "      <th>2011-07-31</th>\n",
       "      <td>13</td>\n",
       "    </tr>\n",
       "    <tr>\n",
       "      <th>2011-08-31</th>\n",
       "      <td>32</td>\n",
       "    </tr>\n",
       "    <tr>\n",
       "      <th>2011-09-30</th>\n",
       "      <td>14</td>\n",
       "    </tr>\n",
       "    <tr>\n",
       "      <th>...</th>\n",
       "      <td>...</td>\n",
       "    </tr>\n",
       "    <tr>\n",
       "      <th>2020-08-31</th>\n",
       "      <td>135</td>\n",
       "    </tr>\n",
       "    <tr>\n",
       "      <th>2020-09-30</th>\n",
       "      <td>102</td>\n",
       "    </tr>\n",
       "    <tr>\n",
       "      <th>2020-10-31</th>\n",
       "      <td>112</td>\n",
       "    </tr>\n",
       "    <tr>\n",
       "      <th>2020-11-30</th>\n",
       "      <td>99</td>\n",
       "    </tr>\n",
       "    <tr>\n",
       "      <th>2020-12-31</th>\n",
       "      <td>72</td>\n",
       "    </tr>\n",
       "  </tbody>\n",
       "</table>\n",
       "<p>116 rows × 1 columns</p>\n",
       "</div>"
      ],
      "text/plain": [
       "            가입일\n",
       "2011-05-31   34\n",
       "2011-06-30   18\n",
       "2011-07-31   13\n",
       "2011-08-31   32\n",
       "2011-09-30   14\n",
       "...         ...\n",
       "2020-08-31  135\n",
       "2020-09-30  102\n",
       "2020-10-31  112\n",
       "2020-11-30   99\n",
       "2020-12-31   72\n",
       "\n",
       "[116 rows x 1 columns]"
      ]
     },
     "execution_count": 15,
     "metadata": {},
     "output_type": "execute_result"
    }
   ],
   "source": [
    "a=pd.DataFrame(pos['가입일'].value_counts())\n",
    "a=a.resample('1M').sum()\n",
    "a"
   ]
  },
  {
   "cell_type": "code",
   "execution_count": 16,
   "metadata": {},
   "outputs": [
    {
     "data": {
      "text/plain": [
       "Text(0.5, 1.0, '월별 돈암점 신규 가입자 수')"
      ]
     },
     "execution_count": 16,
     "metadata": {},
     "output_type": "execute_result"
    },
    {
     "data": {
      "image/png": "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
