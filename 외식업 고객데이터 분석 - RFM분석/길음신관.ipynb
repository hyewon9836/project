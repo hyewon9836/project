{
 "cells": [
  {
   "cell_type": "markdown",
   "metadata": {},
   "source": [
    "## 라이브러리"
   ]
  },
  {
   "cell_type": "code",
   "execution_count": 2,
   "metadata": {},
   "outputs": [],
   "source": [
    "# 데이터 분석 기본 라이브러리 관련\n",
    "import os\n",
    "import sys\n",
    "import warnings\n",
    "from tqdm import tqdm_notebook\n",
    "\n",
    "import numpy as np\n",
    "import pandas as pd\n",
    "\n",
    "# EDA 관련\n",
    "import matplotlib\n",
    "import seaborn as sns\n",
    "import matplotlib as mpl\n",
    "import matplotlib.pyplot as plt\n",
    "\n",
    "# 데이터 전처리 관련\n",
    "from datetime import datetime\n",
    "import datetime as dt\n",
    "from sklearn.model_selection import train_test_split\n",
    "from sklearn.preprocessing import LabelEncoder"
   ]
  },
  {
   "cell_type": "code",
   "execution_count": 3,
   "metadata": {},
   "outputs": [],
   "source": [
    "from mpl_toolkits.mplot3d import Axes3D\n",
    "import matplotlib.pyplot as plt"
   ]
  },
  {
   "cell_type": "code",
   "execution_count": 4,
   "metadata": {},
   "outputs": [],
   "source": [
    "warnings.filterwarnings(action='ignore')\n",
    "pd.set_option('display.max_columns', 100)\n",
    "mpl.rcParams['font.family'] = 'Malgun Gothic'\n",
    "mpl.rcParams['axes.unicode_minus'] = False"
   ]
  },
  {
   "cell_type": "markdown",
   "metadata": {},
   "source": [
    "## 전체적으로 사용되는 함수"
   ]
  },
  {
   "cell_type": "code",
   "execution_count": 5,
   "metadata": {},
   "outputs": [],
   "source": [
    "def MSG(x):\n",
    "    if x['SMS\\n수신여부']=='수신':\n",
    "        return 'Y'\n",
    "    else:\n",
    "        return 'N'\n",
    "    \n",
    "def DateToStr1(x):\n",
    "    return str(x['최종접수일'])\n",
    "\n",
    "def DateToStr2(x):\n",
    "    return str(x['가입일'])\n",
    "\n",
    "def DateToStr3(x):\n",
    "    return str(x['최종방문일▼'])\n",
    "\n",
    "def DateToStr4(x):\n",
    "    return str(x['최종방문일'])\n",
    "\n",
    "def StringToStr(x):\n",
    "    return str(x['고객번호'])"
   ]
  },
  {
   "cell_type": "markdown",
   "metadata": {},
   "source": [
    "---\n",
    "## 데이터불러오기"
   ]
  },
  {
   "cell_type": "code",
   "execution_count": 36,
   "metadata": {},
   "outputs": [],
   "source": [
    "pos=pd.read_excel('./고객data/꿈꾸는이상(주) 길음신관_고객현황조회_20210316.xlsx')"
   ]
  },
  {
   "cell_type": "code",
   "execution_count": 37,
   "metadata": {},
   "outputs": [],
   "source": [
    "res=pd.read_excel('./고객data/(갈비명가이상 길음신관)데이터_20210415.xlsx')"
   ]
  },
  {
   "cell_type": "code",
   "execution_count": 38,
   "metadata": {},
   "outputs": [],
   "source": [
    "excel=pd.read_excel('./고객data/2018 04 길신.xlsx')"
   ]
  },
  {
   "cell_type": "code",
   "execution_count": 39,
   "metadata": {},
   "outputs": [],
   "source": [
    "msg=pd.read_excel('./고객data/뿌리오지점별고객리스트.xlsx',skiprows=2)"
   ]
  },
  {
   "cell_type": "code",
   "execution_count": 40,
   "metadata": {},
   "outputs": [],
   "source": [
    "pur=pd.read_excel('./고객data/고객구매정보_2004_2103.xlsx')"
   ]
  },
  {
   "cell_type": "markdown",
   "metadata": {},
   "source": [
    "## 1) 포스데이터"
   ]
  },
  {
   "cell_type": "code",
   "execution_count": 41,
   "metadata": {},
   "outputs": [
    {
     "name": "stdout",
     "output_type": "stream",
     "text": [
      "(14519, 21)\n"
     ]
    }
   ],
   "source": [
    "print(pos.shape)"
   ]
  },
  {
   "cell_type": "code",
   "execution_count": null,
   "metadata": {},
   "outputs": [],
   "source": [
    "pos.head()"
   ]
  },
  {
   "cell_type": "markdown",
   "metadata": {},
   "source": [
    "#### 1. 각 열에 결측값 확인"
   ]
  },
  {
   "cell_type": "code",
   "execution_count": 42,
   "metadata": {},
   "outputs": [
    {
     "data": {
      "text/plain": [
       "고객번호             0\n",
       "고객명              0\n",
       "매장명              0\n",
       "등급               0\n",
       "성별               0\n",
       "생년월일         13044\n",
       "전화번호            58\n",
       "핸드폰번호            1\n",
       "구매금액             0\n",
       "구매횟수             0\n",
       "포인트              0\n",
       "가입일              0\n",
       "최종방문일▼           0\n",
       "우편번호         14279\n",
       "주소           14335\n",
       "상세주소         14355\n",
       "메일주소         14457\n",
       "SMS\\n수신여부        0\n",
       "기념일          14518\n",
       "비고           14518\n",
       "dtype: int64"
      ]
     },
     "execution_count": 42,
     "metadata": {},
     "output_type": "execute_result"
    }
   ],
   "source": [
    "pos.drop('NO',axis=1,inplace=True)\n",
    "pos.isnull().sum()"
   ]
  },
  {
   "cell_type": "markdown",
   "metadata": {},
   "source": [
    "-> 생년월일, 전화번호, 우편번호, 주소, 상세주소, 메일주소, 기념일, 비고에 대해서 결측치 존재( 대부분의 데이터가 결측임 )\n",
    "#### 2. 정보가 있는 데이터만 가져와서 새로운 데이터 셋 생성"
   ]
  },
  {
   "cell_type": "code",
   "execution_count": 43,
   "metadata": {},
   "outputs": [],
   "source": [
    "pos.drop(['생년월일','전화번호','우편번호','주소','상세주소','메일주소','기념일','비고'],axis=1,inplace=True)"
   ]
  },
  {
   "cell_type": "code",
   "execution_count": null,
   "metadata": {},
   "outputs": [],
   "source": [
    "pos"
   ]
  },
  {
   "cell_type": "markdown",
   "metadata": {},
   "source": [
    "#### 3. easyPOS안의 길음신관 고객수"
   ]
  },
  {
   "cell_type": "code",
   "execution_count": 44,
   "metadata": {
    "scrolled": true
   },
   "outputs": [
    {
     "data": {
      "text/plain": [
       "14519"
      ]
     },
     "execution_count": 44,
     "metadata": {},
     "output_type": "execute_result"
    }
   ],
   "source": [
    "pos['고객번호'].nunique()"
   ]
  },
  {
   "cell_type": "markdown",
   "metadata": {},
   "source": [
    "#### 4. easyPOS안의 고객들의 기존 등급"
   ]
  },
  {
   "cell_type": "code",
   "execution_count": 45,
   "metadata": {},
   "outputs": [
    {
     "data": {
      "text/plain": [
       "array(['일반', 'VIP 블루', 'VVIP회원', 'VIP 퍼플', '사용안함', 'VIP 블랙'], dtype=object)"
      ]
     },
     "execution_count": 45,
     "metadata": {},
     "output_type": "execute_result"
    }
   ],
   "source": [
    "pos['등급'].unique()"
   ]
  },
  {
   "cell_type": "code",
   "execution_count": 46,
   "metadata": {
    "scrolled": true
   },
   "outputs": [
    {
     "data": {
      "text/html": [
       "<div>\n",
       "<style scoped>\n",
       "    .dataframe tbody tr th:only-of-type {\n",
       "        vertical-align: middle;\n",
       "    }\n",
       "\n",
       "    .dataframe tbody tr th {\n",
       "        vertical-align: top;\n",
       "    }\n",
       "\n",
       "    .dataframe thead th {\n",
       "        text-align: right;\n",
       "    }\n",
       "</style>\n",
       "<table border=\"1\" class=\"dataframe\">\n",
       "  <thead>\n",
       "    <tr style=\"text-align: right;\">\n",
       "      <th></th>\n",
       "      <th>index</th>\n",
       "      <th>등급</th>\n",
       "    </tr>\n",
       "  </thead>\n",
       "  <tbody>\n",
       "    <tr>\n",
       "      <th>0</th>\n",
       "      <td>일반</td>\n",
       "      <td>14474</td>\n",
       "    </tr>\n",
       "    <tr>\n",
       "      <th>1</th>\n",
       "      <td>VIP 블루</td>\n",
       "      <td>23</td>\n",
       "    </tr>\n",
       "    <tr>\n",
       "      <th>2</th>\n",
       "      <td>VIP 퍼플</td>\n",
       "      <td>16</td>\n",
       "    </tr>\n",
       "    <tr>\n",
       "      <th>3</th>\n",
       "      <td>VIP 블랙</td>\n",
       "      <td>4</td>\n",
       "    </tr>\n",
       "    <tr>\n",
       "      <th>4</th>\n",
       "      <td>VVIP회원</td>\n",
       "      <td>1</td>\n",
       "    </tr>\n",
       "    <tr>\n",
       "      <th>5</th>\n",
       "      <td>사용안함</td>\n",
       "      <td>1</td>\n",
       "    </tr>\n",
       "  </tbody>\n",
       "</table>\n",
       "</div>"
      ],
      "text/plain": [
       "    index     등급\n",
       "0      일반  14474\n",
       "1  VIP 블루     23\n",
       "2  VIP 퍼플     16\n",
       "3  VIP 블랙      4\n",
       "4  VVIP회원      1\n",
       "5    사용안함      1"
      ]
     },
     "execution_count": 46,
     "metadata": {},
     "output_type": "execute_result"
    }
   ],
   "source": [
    "a=pos['등급'].value_counts().reset_index()\n",
    "a"
   ]
  },
  {
   "cell_type": "code",
   "execution_count": null,
   "metadata": {},
   "outputs": [],
   "source": [
    "pos[pos['등급']=='VIP 블루']"
   ]
  },
  {
   "cell_type": "code",
   "execution_count": null,
   "metadata": {},
   "outputs": [],
   "source": [
    "pos[pos['등급']=='VIP 퍼플']"
   ]
  },
  {
   "cell_type": "code",
   "execution_count": null,
   "metadata": {},
   "outputs": [],
   "source": [
    "pos[(pos['등급']=='VIP 블랙')|(pos['등급']=='VVIP회원')|(pos['등급']=='사용안함')]"
   ]
  },
  {
   "cell_type": "code",
   "execution_count": 48,
   "metadata": {},
   "outputs": [
    {
     "data": {
      "text/html": [
       "<div>\n",
       "<style scoped>\n",
       "    .dataframe tbody tr th:only-of-type {\n",
       "        vertical-align: middle;\n",
       "    }\n",
       "\n",
       "    .dataframe tbody tr th {\n",
       "        vertical-align: top;\n",
       "    }\n",
       "\n",
       "    .dataframe thead th {\n",
       "        text-align: right;\n",
       "    }\n",
       "</style>\n",
       "<table border=\"1\" class=\"dataframe\">\n",
       "  <thead>\n",
       "    <tr style=\"text-align: right;\">\n",
       "      <th>등급</th>\n",
       "      <th>VIP 블랙</th>\n",
       "      <th>VIP 블루</th>\n",
       "      <th>VIP 퍼플</th>\n",
       "      <th>VVIP회원</th>\n",
       "      <th>사용안함</th>\n",
       "      <th>일반</th>\n",
       "    </tr>\n",
       "    <tr>\n",
       "      <th>성별</th>\n",
       "      <th></th>\n",
       "      <th></th>\n",
       "      <th></th>\n",
       "      <th></th>\n",
       "      <th></th>\n",
       "      <th></th>\n",
       "    </tr>\n",
       "  </thead>\n",
       "  <tbody>\n",
       "    <tr>\n",
       "      <th>남자</th>\n",
       "      <td>3.0</td>\n",
       "      <td>11.0</td>\n",
       "      <td>13.0</td>\n",
       "      <td>1.0</td>\n",
       "      <td>0.0</td>\n",
       "      <td>6386.0</td>\n",
       "    </tr>\n",
       "    <tr>\n",
       "      <th>여자</th>\n",
       "      <td>1.0</td>\n",
       "      <td>12.0</td>\n",
       "      <td>3.0</td>\n",
       "      <td>0.0</td>\n",
       "      <td>1.0</td>\n",
       "      <td>8088.0</td>\n",
       "    </tr>\n",
       "  </tbody>\n",
       "</table>\n",
       "</div>"
      ],
      "text/plain": [
       "등급  VIP 블랙  VIP 블루  VIP 퍼플  VVIP회원  사용안함      일반\n",
       "성별                                              \n",
       "남자     3.0    11.0    13.0     1.0   0.0  6386.0\n",
       "여자     1.0    12.0     3.0     0.0   1.0  8088.0"
      ]
     },
     "execution_count": 48,
     "metadata": {},
     "output_type": "execute_result"
    }
   ],
   "source": [
    "pos.groupby(['성별','등급']).size().unstack().fillna(0)"
   ]
  },
  {
   "cell_type": "markdown",
   "metadata": {},
   "source": [
    "#### 5. 달 별 가입한 고객의 수 & 그래프"
   ]
  },
  {
   "cell_type": "code",
   "execution_count": 49,
   "metadata": {},
   "outputs": [
    {
     "data": {
      "text/html": [
       "<div>\n",
       "<style scoped>\n",
       "    .dataframe tbody tr th:only-of-type {\n",
       "        vertical-align: middle;\n",
       "    }\n",
       "\n",
       "    .dataframe tbody tr th {\n",
       "        vertical-align: top;\n",
       "    }\n",
       "\n",
       "    .dataframe thead th {\n",
       "        text-align: right;\n",
       "    }\n",
       "</style>\n",
       "<table border=\"1\" class=\"dataframe\">\n",
       "  <thead>\n",
       "    <tr style=\"text-align: right;\">\n",
       "      <th></th>\n",
       "      <th>가입일</th>\n",
       "    </tr>\n",
       "  </thead>\n",
       "  <tbody>\n",
       "    <tr>\n",
       "      <th>2011-05-31</th>\n",
       "      <td>197</td>\n",
       "    </tr>\n",
       "    <tr>\n",
       "      <th>2011-06-30</th>\n",
       "      <td>295</td>\n",
       "    </tr>\n",
       "    <tr>\n",
       "      <th>2011-07-31</th>\n",
       "      <td>189</td>\n",
       "    </tr>\n",
       "    <tr>\n",
       "      <th>2011-08-31</th>\n",
       "      <td>192</td>\n",
       "    </tr>\n",
       "    <tr>\n",
       "      <th>2011-09-30</th>\n",
       "      <td>99</td>\n",
       "    </tr>\n",
       "    <tr>\n",
       "      <th>...</th>\n",
       "      <td>...</td>\n",
       "    </tr>\n",
       "    <tr>\n",
       "      <th>2020-08-31</th>\n",
       "      <td>82</td>\n",
       "    </tr>\n",
       "    <tr>\n",
       "      <th>2020-09-30</th>\n",
       "      <td>71</td>\n",
       "    </tr>\n",
       "    <tr>\n",
       "      <th>2020-10-31</th>\n",
       "      <td>83</td>\n",
       "    </tr>\n",
       "    <tr>\n",
       "      <th>2020-11-30</th>\n",
       "      <td>75</td>\n",
       "    </tr>\n",
       "    <tr>\n",
       "      <th>2020-12-31</th>\n",
       "      <td>59</td>\n",
       "    </tr>\n",
       "  </tbody>\n",
       "</table>\n",
       "<p>116 rows × 1 columns</p>\n",
       "</div>"
      ],
      "text/plain": [
       "            가입일\n",
       "2011-05-31  197\n",
       "2011-06-30  295\n",
       "2011-07-31  189\n",
       "2011-08-31  192\n",
       "2011-09-30   99\n",
       "...         ...\n",
       "2020-08-31   82\n",
       "2020-09-30   71\n",
       "2020-10-31   83\n",
       "2020-11-30   75\n",
       "2020-12-31   59\n",
       "\n",
       "[116 rows x 1 columns]"
      ]
     },
     "execution_count": 49,
     "metadata": {},
     "output_type": "execute_result"
    }
   ],
   "source": [
    "a=pd.DataFrame(pos['가입일'].value_counts())\n",
    "a=a.resample('1M').sum()\n",
    "a"
   ]
  },
  {
   "cell_type": "code",
   "execution_count": 50,
   "metadata": {},
   "outputs": [
    {
     "data": {
      "text/plain": [
       "Text(0.5, 1.0, '월별 길음신관 신규 가입자 수')"
      ]
     },
     "execution_count": 50,
     "metadata": {},
     "output_type": "execute_result"
    },
    {
     "data": {
      "image/png": "iVBORw0KGgoAAAANSUhEUgAAA3kAAAJaCAYAAACSv475AAAABHNCSVQICAgIfAhkiAAAAAlwSFlzAAALEgAACxIB0t1+/AAAADh0RVh0U29mdHdhcmUAbWF0cGxvdGxpYiB2ZXJzaW9uMy4yLjIsIGh0dHA6Ly9tYXRwbG90bGliLm9yZy+WH4yJAAAgAElEQVR4nOzde5RkZX0v/O9T96runu6e7rkzMw2CoNiIMihCQHEAr7O8hJwYW5McleHkGI+E17NO4uSNr/G05oh6xnVizstoDBhbfU2iAaLxCKPYoEYd0HFmEJTA9ADDDDNAV1fX/fK8f+x6aqqrq2rvXbWf2rt2fT9ruaSr67JnlNr7u3+/5/cIKSWIiIiIiIjIHwJuHwARERERERE5hyGPiIiIiIjIRxjyiIiIiIiIfIQhj4iIiIiIyEcY8oiIiIiIiHyEIY+IiBwhhNghhFjXxeuvEkJc7OQxNbx/VAgRtPH8y7r8vJAQItLNe9j8vCkhxEaN73+BEGJM1/sTEZFzGPKIiAaYEOJqIcSdQoivCyG+KYT4vLqQF0LcK4SYanj+ow0/3yaEeE31xz8GcKHJ531BCPGLuv8sCyFeXv31awHsaPKaNwghvieE+KEQ4sdCiJ8JIf6nEGKoxWeEhBAPN/nVrQCubHd8Db5m9YlCiPubBKx3Afhww/PiQogDLf6TEkJstnF8jf4QwOubHNsHhBAPVP/e7hRCbK/73VEb7/+nAGyFcCHEnwohbrLzGiIi6l7I7QMgIiJX/S2AHVLK5wBACPFeAH8G4L/ZeI+9QohFABcAuK3dE6WU71P/LISIAngUwJFWzxdCnAtgL4BrpZTHqo8Fq8e4F8ANTV4WgoXzmxDiBQD+qeHhtQD2SSn/u9nrO/lMKWUWTYJs9XjmAVTavV4IcSuAS+oeWg/gVinlbIvnvxnAdQCukFLmqoH8qwAub/H8X1T/cQOAIoDnADwqpby+3XG1cR2ALIz/rYiIqEcY8oiIBttDAHYLIb4PYAjAWwH8fZvnnyWEOFD38xSMCtL9AP7G5mf/BYDbpZT5Ns8ZBfA0gCfUA1LKshDiJ1gZduq9EMCUEGJISplu9cZSyn8HcLEQQgAQUsqKEOKPAKyx84eovv5cAC8B8KSd1zYIAii1e4KU8saGz74FwG/avOQ6GKE1V339vdW21XEp5fNN3v/i6vv+OYAnpZS32fsj1I4rAeBTAH5p/Cg+C+DD7f73ICIi5zDkERENtrcBeB2A3wKQg9Fe+LAQotX54UkpZa0SJYS4DUab5vUAXgFgn5UPFUL8AYCrAFzT7nlSygeEEPsB3C2E+DmMqtAUgE0AbmzxsvcAeADATQCaVrga/DaAywB8CMAIALtB5C0AHgNwM4Dv2HxtvSiAdoF3hWq4fB2Av2rztOMAXlD3mhiM4Lxk8vbrYVTybBFCXArgDTD+//A5KeWt1cf/I4AfCCHuBvCvUsp5u+9NRETWMeQREQ0oIcSXAYzDaBHcBuPCfxeAAoDPtHjZ1rqWPlRf9/Zqheg2C595LoC/BJAA8CaTKh4AQEr5MSHEJwFsr77uaSnlyRbvfxmAl8FY33ePEOJHUsrvm31GnTCAU9V/3iCEuAfAP0sp/7rF500A+HMYYfnDQogPSyk/buPz6g3DXsB8J4B/k1I+W/fY1dUgNy+lfAjA/wbwXSHEOIxq6DsA/A8pZdnkvS8DcBrA/2h4/PrqcJyvSCmfafK6SQDHYLSHptSDUsq/E0J8BcDVsBFkiYioMwx5REQDSkr5LvXPQogvAPgygF8B+DSA9wF4UZPXRNu85fdhVI6aEkKcD+DvANwipfxmk6d8A3UhpyFMNr5X/Y9/LaX8ghDidTBCyVuklGkhxNsA3CmE+JSU8utN3iMOo0UyASAuhNgEYA7AUDUoLcIIcCdaHMO51ef/31LKJ4QQHwBwuxDiM1LKm5s8/ws4sx7vBQD+ve7XL4ARwh4UQvyblPI/tfqzV9/rIhjrJl/b8KtM9bjzACClTAohroIxkGUSwB9LKeuH0vxbk/e+EsBJACNCiJdJKX9e9+sTAI7CuBGwipTyX1sdczXQd1PpJCIiixjyiIgIAH4K4BkAz8NYS4XqP2can9hk+Ee9w60+QEr5CIDLhRC/17CuT9kE4GOohh+1PsyGdQDeJqVcqL7+hBDi1QDijU8UQgzDWHtYhrEOrlD97ByMP/NeAHkp5aoQ1PB5e6SU91Q/rwRgRgixpdmTG4bOHK3/8wkhnpRSvtjKH7L6Z7oVwPVSytMNv/6JlLJxKugQgJdKKf+yydutCLDViaWfhVHxiwL4khDiqrqq3P1SyntbHNcl1eOqtwFGpfhUw+PvlVIebPY+RETUPYY8IqIBJoQYAfCJ6o8XNfz6WgD/E0b4q2kc/lH3Xl+AsaatLSnlV2FMeGx8/Z83eewaAP8f6gavVIUBPC+l/K269/1y9TV/CuALUsrT1WmW2SbHsAzgbdVq3sVSyh83+WyzP8ePq897K4DTUsr7q48/1faFHaoGsP8No+r3OhVmLUjAqPg1C3lvhrF2EUKISQD/COATUspfVx/7BIy1dK82+xAp5QNomBwqhPgQgFyrdlciItKDIY+IaLCF0WKkP4wqzKr9VKthrlmVbSvaT+ZUr78JwP8FoyWwUbP1bN+sr4JV3+MstN7H7vXV362ockkp/7DJczfACLmvafK761q8f6OLYbQw3t/webdZfL0l1RbU2wDcK6Vsu9VCE5e0qJ7Wbw5fBvBxKeV36z7z60KII1LKlFnoJSIi72DIIyIabBEApfqKmAXnwmgVPNrF535WSvkp86e5R1WzvERK+b0OX/qAlPI1jQ+Kus3tq1sqfLfxOVLKlvsYEhGRNzHkERHRS1tUeQDg09X2ykbfFkI0G74xJ6W8xcJnflAI8Y4mj98npfyThsfeJoRorDaGYawZbOXOFsf391LKzzY8tqPNkJffru6nZ+YjQog/bvL4Q1LK37fwet1a/RmDTR4jIqI+J6SUbh8DERHRQGncjLzV5uQ23zMGoCKlbDr5slvVDc4L1QEzVl9zLoCylPJxHcdERETNMeQRERERERH5yKoF9URERERERNS/+nJN3uTkpJyamnL7MIiIiIiIiFzxwAMPnJZSrmv2u74MeVNTUzhwoNWMACIiIiIiIn8TQrTcL5XtmkRERERERD7CkEdEREREROQjDHlEREREREQ+wpBHRERERETkIwx5REREREREPsKQR0RERERE5CMMeURERERERD7CkEdEREREROQjDHlEREREREQ+wpBHRERERETkIwx5REREREREPsKQR0RERERE5CMhXW8shIgA+CcAIwAEgHcCGAbwNwBiAH4kpfyv1ed+DMBV1ePZLaU8ouu4iIiIiIiI/ExbyANQAvC7UsqMEOJdAP4AwJUA3iulPCqE+AchxCsBRABskFK+WgjxEgC3AHijxuMiIiIiIiLyLW3tmlLKipQyU/3xPACHAMSklEerj/0TgFcBuA7AV6uvOQxgra5jIiIiIiIi8juta/KEEP9VCPEbADsAPAjg2bpfPwtgHMB6AKfqHi8JIVYdlxBitxDigBDiwKlTpxp/TURERERERNAc8qSUt0gpzwPw1wA+A2Cs7tfjMMJdsvrPSkVKWWnyXvuklDuklDvWrVun87CJiIiIiIj6lraQJ4QYEUKI6o/HAAQBRIUQW6qPvR3AfgD3Abi++poXA3hS1zERERERERH5nc7BKxcA2CuEyAPIAvhjAJMA/rH62J1Syl8JIR4B8EYhxH0AUgBu1HhMREREREREvqYt5EkpfwbgioaHH4cxbKX+eRUAf6TrOIiIiIiIiAYJN0PXbO7QHKb2TiHw0QCm9k5h7tCc24dEREREREQ+prNdc+DNHZrD7rt2I1M0dpJYSC5g9127AQAz0zNuHhoREREREfkUK3ka7dm/pxbwlEwxgz3797h0RERERERE5HcMeRodSx6z9TgREREREVG3GPI02ja6zdbjRERERERE3WLI02h25yyiweiKxxLhBGZ3zrp0RERERERE5HcMeRrNTM/gxkvObPu3fXQ79u3ax6ErRERERESkDadranbJ5ksAALOvncWHr/ywy0dDRERERER+x0qeZmq6ZraYdflIiIiIiIhoEDDkaaZCXuNWCkRERERERDow5GnGkEdERERERL3EkKdZrV2zxHZNIiIiIiLSjyFPM1byiIiIiIiolxjyNEsX0gAY8oiIiIiIqDcY8jTLlFjJIyIiIiKi3mHI04xr8oiIiLxp7tAcpvZOIfDRAKb2TmHu0Jzbh0RE5Ahuhq4Z1+QRERF5z9yhOey+a3ft/LyQXMDuu3YDAGamZ9w8NCKirrGSpxlDHhERkffs2b9n1bk5U8xgz/49Lh2RfqxcEg0OVvI0q7VrFtmuSURE5BXHksdsPd7vWLkkGiys5GnG6ZpERETes210m63H+90gVi6JBhlDnmZs1yQiIvKe2Z2zSIQTKx5LhBOY3Tnr0hHpNWiVS6JBx5CnmQp3+XIe5UrZ5aMhIiIiwGhR3LdrH4YjwwCAjUMbsW/XPt+2Lg5a5ZJo0DHkaZYpZhAQxl9zrpRz+WiIiIhImZmewVsveCsA4Etv+5JvAx5gVC5jwdiKx/xcuSQadAx5GlVkBdlSFmvjawGwZZOIiMhrlgvLK/7br2amZ3Dzq26u/bx9dLuvK5dEg47TNTVSlbuJ+AROZ04z5BEREXmMGpCWKqRcPhL9rth2BQDg5stuxqdf92mXj4aIdGIlTyN14phMTAIAsiVuo0BEROQlg1LJA85s55Qupl0+EiLSjSFPI1W5Wze0bsXPRERE5A0q8KTy/q/kqZvNvB4h8j+GPI3Ul+hEfGLFz0REROQNqoI3CO2aahkJr0eI/I8hTyP1JaraNfmlSkRE5C1qacUgtWvyeoTI/xjyNGoMeerLlYiIiLyhVsljuyYR+QhDnkas5Llj7tAcpvZOIfDRAKb2TmHu0Jzbh0RERB4kpaydmwehXZOVPKLBwS0UNFKLuRnyemfu0Bx237W79ne9kFzA7rt2AwD3AiIiohWypSwkJIABaddkJY9oYLCSp9Gqdk1uoaDdnv17Vp28MsUM9uzf49IRERGRV9UHu0Go5HHwCtHgYMjTiO2avXcseczW40RENLjU0BVgQCp5bNckGhgMeRqpL9G18bUrfiZ9to1us/U4ERENLhXsosEoB68Qka8w5GmkvkSHI8OIhWL8Uu2B2Z2ziAQjKx5LhBOY3Tnr0hEREZFXqbXzG4Y3DES7Zn3Ik1K6fDREpBNDnkaZYgZBEUQ4EEYinOAWCj0wMz2Dd0+/u/bz9tHt2LdrH4euEBHRKqqSt3F440C1a5ZlGcVK0eWjISKdGPI0ShfSSIQTEEIgEU6wktcjF6y7AADwmes+g6M3HWXAIyKiptSavE3Dm5ApZlCulF0+Ir3U4BWALZtEfseQp1GmmMFQZAgAEA/FkSnxC7UXFnOLAFaezIiIiBrVV/KAM+2bflU/5Zshj8jfGPI0ypQySIQTAMB2zR5SIY9bVhARUTsq1KmQ5/fhK/XXIQx5RP7GkKdRprgy5PELtTeS+SQAVvKIiKg91a5ZC3k+H76SLWURCoQArNw+goj8hyFPo/qQFw/HGfJ6hO2aRERkRWO7pt+Hr2SLWW7rRDQgGPI0YiXPHckcK3lERGQuXUwjEoxgLDYGoH/aNecOzWFq7xQCHw1gau8U5g7NWXpdrpTDRHwCAEMekd+F3D4AP0sX0tgwvAFAdU0e14j1BNfkERGRFcuFZQxHhjESGan97HVzh+aw+67dtZC2kFzA7rt2A4DpNOlsKYuJBEMe0SBgJU+jTDGDobAxXZOVvN5huyYREVmRLqYxFB7CcGQYQH+syduzf8+q64lMMYM9+/eYvjZbzLKSRzQgGPI0WrEmL8Q1eb3CwStERGRFrZIXNSp5/dCueSx5zNbjSrlibIDONXlEg4EhT6PGNXncQkG/cqWMpfwSAPDvm4iI2koX0hiKDPVVu+a20W22HlfUEobJxCQAhjwiv2PI06jZ4BUppctH5W/1rTas5BERUTuqkjcUMZZW9EO75uzO2dq1hZIIJzC7c7bt69Q5ke2aRIOBIU8TKeWqdk0JiXw57/KR+Ztajwcw5BERUXtqTV5ABDAUHuqLds2Z6Rns27UPa6JrAAAbhjZg36595kNXqt0tbNckGgwMeZrkSjlIyBWVPIBfqrqpkBcKhDhdk4iI2lLtmgAwHBnui3ZNwAh677n4PQCAL77li6YBDzjTrjkUGUIsFOP1CJHPMeRpor4866drAlwnppvaI2/90HpW8oiIqK3lwjKGw8ZkzZHoSF+0ayrqOsNqWFPXH7FQjBO/iQYAQ54m6suz1q4Zjq94nPRQlbyNwxsZ8oiIqK108UwlbyQy0jeVPADIlIzrCas3j1UlLx6KM+QRDQCGPE0aQx7bNXtDbZ/AkEdERGbU4BXAaNf0cyVPnRPj4WrIK/F6hMjPGPI0aRXyuE5Mr1olb2gjW2OJiKilQrmAUqVUW1YxEh3pi8ErSqftmqzkEQ0GhjxNWMlzhwp5G4Y3GMNvuGUFERE1oVoz6yt5fdWuaTfkqXbNMEMe0SBgyNMkXUwDwIotFACGPN2SuSSGwkMYjgxDQqJYKbp9SERE5EHpgnGerl+T5+d2zcbBK+rPT0T+xJCnSW26ZmTldE2GPL0Wc4sYi43VQjVbNomIqBl1M1ZV8vpu8Er1esLqMhAOXiEaLAx5mrRck8fQoVUyn8RobBSxUAwAN0QnIqLmVKBTa/JUu2a/tPl3PXiFIY/I1xjyNOEWCu5QlTyGPCIiamdVu2Z0BBVZ6ZvzdFeDV0IMeUR+x5CnCQevuKPWrlkN1ZxmSkREzTQbvFL/uNd1OniFm6ETDQaGPE1WVfJCDB29kMwnMRpluyYREbWn1uTVtlCIjABAXwxfkVLaX5NXzCIcCCMYCDLkEQ0AhjxN0oU0BASiwSgAIBwMIxwI80tVM7ZrEhGRFY2VvJHoyIrHvaxQLqAiKwDsVfJUl0sinEC+nEe5UtZ2jETkLoY8TTLFDIYiQxBC1B6Lh+MMeRpJKZHMrazkcdANERE107gmT4W9ftgQvf5aws7gFdVVVBsGx+4iIt9iyNMkU8zUvkQVtkfolS1lUawUV2yhwEoeERE1s6qS10ftmp2EvPpKngq2vCYh8i+GPE0ypeYhj3fN9FnMLQIA2zWJiMhUuphGQARqyyr6afCKCmcBEbDcsZItZldV8hjyiPyLIU+TZpW8eIjtmjolc0kA4D55RERkKl1IYzgyXFtWodbk9VO75tr4WluVPHVuZMgj8j+GPE3Yrtl79ZU8bqFARETtLBeWa5M1gf5s15yIT9jaJ69+8Er9+xCR/zDkaZIupJu3a3IQiDYq5HELBSIiMpMupmtr04D+bNecTEx2NXiFIY/IvxjyNGElr/eSeaNdk2vyiIjIzHJhuRbsAGOro2gw2lftmpOJSRQrRZQqJdPXNG6hUP8+ROQ/DHmaZIqZFW0gALdQ0K1WyYuNntl8npVTIiJqIl1MrzpPD0eG+66SB1g712WLXJNHNEgY8jRhJa/31OCVsdgYQoEQAiLASh4RETXVWMkDjOEr/bQmT4U8K9cW2RKnaxINEoY8TZqGvBC3UNBpMbeIcCCMeCgOIQRioRhDHhERNZUurFyTBxjDV/op5E3EJ1b83E6zLRTUhvBE5D8MeZo03UKB7ZpaLeYWMRobrY3DjoViDNVERNRUs0pev7ZrWrm2yJVyXJNHNEAY8jSQUiJdbD5dk1+o+iTzSYzFxmo/x0NxVvKIiKipZmvyRqIjfTV4ZSJhVPKs3NBkuybRYGHI06BQLqAiK01DXqlSQrFcdOnI/G0xt4jR6GjtZ7ZrEhFRK+lCfw9eiYVitUqkWVgrV8oolAu1wSvhQBhBEWTII/IxhjwN1Jdm48lDhT62EOrRWMljyCMiombKlTKypezqwSt9tCYvEU7UKnNmYU2dC1W7phCC3UVEPqct5AkhxoQQXxNC3CuEmBdCnC2EeLcQ4qHqY9+te+7HhBA/EEL8UAhxoa5j6hX1pblqTZ7FL2PqzGJucWW7ZjjOQE1ERKvUbsY2G7zSJ+2aiXDCctulOheq6xCAS0iI/C6k8b0TAG6WUh4XQrwJwIcAPAzgz6SUd6gnCSGuBLBBSvlqIcRLANwC4I0aj0u7ViGPPfB6sV2TiIisUC2ZfTt4pbQy5Jntk9dYyQOqIa/E6xEiv9JWyZNSHpdSHq/++DyANICx6j/Xuw7AV6uvOQxgbbP3E0LsFkIcEEIcOHXqlKajdoZZyOMG3Xokc2zXJCIic+misXVAs8ErxUoR+VLejcOyzHYlr8hKHtGg0b4mTwixBUYVby+MyuEnhRD3CSF2V5+yHkB9aisJIVYdl5Ryn5Ryh5Ryx7p163QfdlfUyaPZFgoAK3k6FMtFpItpjMbOVPLioTgDNRERrdKukgfA8+vyamvyLF5XqHZNNXgFMFpVeT1C5F9aQ54Q4s0A/gLADdXK3keklJcBeB2A36muv0sCGK97WUVKWdF5XLqxXbP3lvJLAMBKHhERmVKbgDdbkwfA8y2bHVfyGts1eT1C5Fs6B69cBGCXlPJGKeWz1cfUGsAsgBQACeA+ANdXf/9iAE/qOqZeabWgm9M19VnMLQJgyCMiInOtKnkjUSPkeX34igp50WAUAsL0uoKDV4gGj87BK68HcKUQ4t7qz8cAnBRCvKL6ud+UUj4khHgYwBuFEPfBCH43ajymnmAlr/dUyGscvMJATUREjVqtyVOhr18qeVa3Qmg5eIXXI0S+pS3kSSk/CeCTFp5XAfBHuo7DDdxCofeS+SSAlZW8eCjOSh4REa1i1q7ZF2vyQsY1hpWwxsErRIOHm6FrwEpe79UqeTFuoUBERO2ZDl7pk3ZNwKjOdTJ4JRFiyCPyM4Y8DdQdQm6h0DvJ3OpKngp5Ukq3DouIiDyo3RYKQP+0awI2K3ls1yQaGAx5Gqgvzfo7ZgC3UNCp2eAV9fedL3t7vyMiIuotFeIab8b2Q7tmRVaQK+VWhLxOB6+kC2neCCXyKYY8DdQdtkDDdn9qChZDnvNUyFMnaOBMyGbLJhER1UsX0oiH4ggGgise74fBK6oqZ6eS12rwioTkjVAin2LI06C+jaKemoLFiY/OS+aTWBNds+KEzZBHRETNLBeWV63HA4zzRlAEPb0mr3HdfzxkYU1escmaPM4JIPI1hjwNMqXmIQ9gD7wui7nFFdsnAGfaUrgGkoiI6qWL6VWTNQHjZuxwZNjT7ZqNIc/SmrxSFqFACKHAmaHqDHlE/saQp0G6kG4Z8qxMwSL7kvnkivV4ACt5RETUXLqYXjV0RRmJjni6XbNZyDO7mZktZlesx6t/Pa9JiPyJIU+DVu2aACt5uizmFhnyiIjIklbtmoCxttuPlbz69Xj1r+c1CZE/MeRpYBbyuCbPeYu5xRV75AFnQh7/vomIqF660LxdEzCGr/RTJc/KmrxcKcdKHtGAYcjTIFPMtGwDsfJlTPYlc6vbNdVdS1byiIioXttKXnSkrwavsJJHRM0w5GnAds3eazZ4he2aRETUTNs1eX3Yrpkv51GRlZavyRazq/buZcgj8jeGPA1M2zU57dFRUkoOXiEiIsvaVfL6rV1T/Xe7a4tsafXgFdWuypBH5E8MeRqki62na7KS57zlwjIqsrK6XZNbKBARURPpgkklr4/aNVUbZrtri2yR7ZpEg4YhT4N2lTyuyXPeYm4RANiuSUREpqSUppW8fmvXrH+8GQ5eIRo8DHkacLpmbyXzSQBguyYREZnKlXKQkC2na45ER5Ar5VCqlHp8ZNa0bNdsc23BwStEg4chz2HFchGlSqllGwjbNZ1Xq+Q1bKGgTmgM1UREpKSLaQBo264JwLPr8jLFDAIigEgwAsBaWGs2eEX9zGsSIn9iyHNY4x22RvFwHLlSru0ULLInmWMlj4iIrFHhrV27Zv3zvEZ1CwkhAFgMeU0GrwREgEtIiHyMIc9hZiHPyhQsskdV8hpDXigQQlAEGfKIiKgmXahW8tq0awLw7PCVxiUhKryZDl5pCHmAcU2i/j6IyF8Y8hym2kBMQx5bCB3TavAKYFTzGKiJiEixWsnz6vCVTGllyLM8eCXcPORlSqzkEfkRQ57DrFby2B7hHDV4pXFNHnCmPZaIiAjwx5q8ZiGv1Q3NiqwgX863rOTxeoTInxjyHGa6Js9CWwXZs5hbRDQYXbWoHDAqeQx5RESkmFXy+q1d0+zmsToHNjtHMuQR+RdDnsPUl2WrXn+uyXNeMpdctR5PiYViyJUZ8oiIyGC2Jq9fBq8oZpuhq+uNlu2aDHlEvsSQ5zC2a/beYn6xZciLh+IM1EREVKPCm1m7pmfX5Nms5KkZAGzXJBosDHkOs7KFQv3zqHuLucWm6/EAtmsSEdFKak2e6eCVPmnXVG2YrQa6qXMgK3lEg4Uhz2GqDYSVvN4xbddkyCMioiqzdk31eL+0a5rtd1dr12Qlj2igMOQ5zPI+edxCwTGLucWm2ycAxp1L/l0TEZGyXFhGOBBGJBhp+vuACGA4Muztds3QymuMeLhNyKueAzl4hWiwMOQ5jNM1ey+ZZyWPiIisSRfTLat4ynBkuG8qeUD7sMbBK0SDiSHPYRy80nuLudaDVxjyiIio3nJhueV6PGUkMuLtSl6TkNeqa4WDV4gGE0OewzLFDGKhGAKi+V8tt1BwVr6UR66Ua9muGQvF+HdNREQ16WK65WRNZTgy7MnBK8VyEaVKyVYlr93glaHwEArlAkqVkvMHS0SuYshzWLM7bPU4XdNZyXwSANpuocBKHhERKZYqedERT7ZrtuoW6mbwSv1ziMg/GPIcli6m24a8gAggGowy5DlkMbcIANxCgYiILEkXzNfkebVds1XIa7smz2TwSv37EpF/MOQ5zKySB7AH3knJXPtKHkMeERHVWy4s9227Zkchz2TwSv37EpF/MOQ5zGrI41h/Z6hKXrt2zXw5j4qs9PKwiIjIo9LFtKXBK/3UrpkIJ1q2XJoNXql/XyLyD4Y8h2WKGdM7hO32s8BbV3QAACAASURBVCF7au2abQavAMaAFiIiIivtml7dJ6+TSl67wSvqfdLFtJOHSUQewJDnMLZr9pbZ4BUV8tiySUREQHXwSth88Eq6kPZcF0ing1eCIohQILTqd6zkEfkXQ57D2K7ZW1YGrwDg3zcREQGwthn6SGQEEtJz4afTwSvNqnj17+O1PycRdY8hz2Fm0zUBVvKclMwlERCBlusr1ImNlTwiIiqWiyiUC6Zr8tTvvTZ8pe2avFIWUspVr8kWs03X49W/D69JiPyHIc9hVip57doqyJ7F3CJGo6MtN59nuyYRESlq7ZnZ2vmR6AgAeG74SruQBzQ/17GSRzSYGPIcxjV5vbWYX2zZqgnUtWtyo1ciooGnQpuVwSsAPDd8peWavGqIa3ZtkSvlWMkjGkAMeQ6zMl2z3ahjsieZS7YcugKcGRnNSh4REaULRiXPyhYKQP9V8pqFtWwp23QjdLPXEVF/Y8hzUKlSQqFcYLtmD6l2zVbYrklERIrddk2vrslrbL9U1x3Nhoxli2zXJBpEDHkOUtU5tmv2TjLfvpLHkEdERIqqzFkevOLBds1IMLJqOwSzSl6rds1wMIxQIMRrEiIfYshzkLpDaHULhWZTsMiexVz7NXnq7iW3UCAiItWuaWULBcCb7ZrNrjFUiGsa8tpU8gDeeCbyK4Y8B7XqlW+UCCdQkRUUyoVeHJavLeYWMRZlJY+IiMzZruR5sF2z2TVGu0peu8Er6rUMeUT+w5DnIKshr90ULLKuIitI5VNs1yQiIkv6fguFkv2Q127wCmD8XfB6hMh/GPIcpL4kzdpAuNDZGUv5JUhIbqFARESWWK3khQIhxEIxT67Jaxfymp3r2m2Grl7L6xEi/2HIc5Cddk2A68S6lcwlAYBbKBARkSVW1+QBRhDsl3bNdh1C7TZDBxjyiPyKIc9Blts12yyQJusWc4sA0HYLhWgoCoAhj4iIjEqegGhb2VJGIiNYLnqsXbODNXms5BENJoY8B6k7hFYrefxS7Y4Kee0qeaFACKFAiFVTIiJCupjGUGQIQgjT5/ZTJa/VdYWUEvly3rSSp9YqEpF/MOQ5yHa7JteJdSWZN2/XBIzKKSt5RESULqRNh64oI9GRvlmTpyp1jTc01bmv3eAVVvKI/Ikhz0F2Qx6/VLtTa9dsM3gFME5uDHlERLRcXDYduqKMREa8N12zRcgLBoKIBqOrritU6GO7JtHgYchzELdQ6C0rg1cAhjwiIjKkC2lLQ1cAD7drhppfY8TD8dUhr9oxxMErRIOHIc9BrOT1lpXBK4BxcuOaPCIiWi7YqORFvVnJaxXYmoU1VvKIBhdDnoMyxQwiwQhCgVDb53ELBWcs5haRCCcQDobbPo+VPCIiAqqDVyyuyRsOD3tqTZ6UsmW7JmBcW7Rak2elkieldO5gich1DHkOShfTplU8gFsoOCWZT5q2agIMeUREZFguLFtu1xyJjiCVT3km/OTLeQCtu4WaVvKq7Zpmg1cAbjVE5DcMeQ5qd4etHts1nbGYWzRt1QSMkxsnmRIR9b+5Q3OY2juFwEcDmNo7hblDc7Zeny6kbQ1eKctyLVy5zWxJSDzUZE2exXbN+vcnIn9gyHOQ1ZAXDoaNvdsYPLpitZLHLRSIiPrf3KE57L5rNxaSC5CQWEguYPddu20FveXCsvV2zWoY9MrwFbOQ166SZ9auWf/+ROQPDHkOshryAC507tbcoTnML8zjx0/+2PRuLts1iYj63579e1adNzPFDPbs32P5PdJFG5W86AgAeGb4ipWQ13jzmJU8osHFkOegTDFj+Q5hs7YKskbdzS2UCwBgejc3FopxyA0RUZ87ljxm6/FGFVmxdZ6uVfI8Mnylk0qe1cEr9e9PRP7AkOcg25W8Er9QO2H3bm48zHZNIqJ+t210m63HG6nzhp01eUD/tGu22yfPyuAVhjwif2HIc5DV6ZpA87YKssbu3dxYkO2aRET9bnbn7KpzbCKcwOzOWUuvTxfSAGBruibQR+2aoc72yVOVTYY8In9hyHOQnUpesztuZI3du7lck0dE1P9mpmewb9c+DIeNStxodBT7du3DzPSMpdersGa1kueHdk0OXiEaXAx5DuLgld6wezc3Ho6zakpE5AMz0zN40wvfBAB4+4vebjngAUa3DQDLa/L6rV1TbYZev6+f7sEr3W5pQUT6MOQ5yG7I4zCQzsxMz+Czr/ts7efto9vb3s2NhWIoVoooV8q9OkQiItJEVdaOLh619TpVyfNtu2Y4gYqs1IaSAcbglaAIIhwMt3xf9X4qBFvlxJYWRKQPQ56D7EztYiWvO7vO3wUA+NwbP4ejNx1tezdXLTj3yoa2RETUOVVZsxvy1Jo8q+2a//LrfwEA/Jfv/BdPVKmsDF6pfx5gtGu2G7pS/352r0mc2NKCiPRhyHNIRVaQK+Wsr8njFgpdsdKCoqgTnNMtm2xTISLqPVXJO5Y8hlKlZPl1tUqehZuxc4fm8P5vv7/2sxeqVFYqefXPA4xzZbv1eK1eZ0W3W1oQkV4MeQ4x+/JtxEped9QgFbM7lMCZIOjk8BW2qRARuUNV8sqyjKeWnrL8OtWOaKWS58UqlTqeVuc9df1RvxQkW8qa3gxV72f3mqTbLS2ISC+GPId0EvI4DKRzViaGKeoE5mTI8+IFABHRIEgVUjh77GwA9lo27Wyh4MUqVaaYQTwUR0A0v3RrWskrmlfyhBAd3Xie3TmLoAiuOgarW1oQkV4MeQ6xG/LYrtkdO5W8Wrumg4NuvHgBQEQ0CJYLy7how0UA7IU8O1soeLFKZTbcTVXs6q8tcqWcpWUNnYS8mekZbBreVPt5y8gWW1taEJFeDHkO6aSSV6wUba0noDPsrMlTdzGdrOR58QKAiMjvypUyMsUMLlx3IQSEvUqejS0Uut14XQezkNdqTZ6Vm6GdhLx8KY8T6RO49pxrAQB7X7+XAY/IQxjyHKK+HK2OZq71zrNlsyPq781OJc/JkOfFCwAiIr9T1biJxAQ2j2zG0eRRW6+NhWIIBoKmz1Ubr6sbiWZb9fSC1ZBXf11hpV1TvdZuyHv49MMoVUp410XvQiQYwc+e+pmt1xORXiG3D8AvOqnkqdepvXjIOhXY3FqTp070f/DNP0BZlrFtdBs+vvPjvItJRKSRmqw5HBnG1NiU7TV5Vrc5Aozv+e8//n18+zffxtGbrH+OLp1W8tYl1pm+dych7+DJgwCASzdfios2XIQDTx+w9Xoi0ouVPIeoBd2W1+Q12c+GrLPVrll9jtNV05npGYzGRgEAD+x+gAGPiEgzNVlzJDJiO+QtF5ctd9so47FxPJ973tZrdDFdk9dinzxdlbyDJw4iGozivInzsGPTDhw4fgAVWbH1HkSkD0OeQ7qp5JF9nQxecbKSBwBSSizllwAAi7lFR9+biIhWU5W8kagR8p5IPmF5bXu6kLa8EboyFhtDrpRz/PzRiU4qeToHrxw8eRAvWf8ShAIhXLrlUizll/Doc4/aeg8i0ochzyGdhjwnJz4OEre3UFDvpy4uGPKIiPRrrOSVZRlPLj1p6bXpor12TQAYj48D8MZ3vJcGr0gpcfDkQbx0w0sBADs27wAAHDjOlk0ir2DIc0gnWyjUv47sUeHYrS0UANSqeIA3LgCIiPyusZIHWN9GYbmw3FElD/DGd7zVLRRWbIZeNN8MHbAf8k4sn8DpzGm8dKMR8l687sWIh+IcvkLkIdpCnhBiTAjxNSHEvUKIeSHE2UKI84UQ+4UQPxRC3FL33I8JIX5QffxCXcekU226psW7hGzX7I6ddk0dWygADHlERL2mpmuqSh5gPeSlC+mO1uQBwPNZ99flmYW8cDCMUCC0qpJnpeNlKDxk63pEDV1RlbxQIISXbXoZh68QeYjO6ZoJADdLKY8LId4E4EMAzgHwXinlUSHEPwghXgkgAmCDlPLVQoiXALgFwBs1HpcWHbdrcguFjmSLWYQCIYQC5v8X1tWuyZBHRNRbtXbN6AjWxtfa2iuvk0qeatf0wvAVs5AHrKzISSm1rck7eMIIeWpTesCYsvn5Bz+PUqVk6dxMRHppq+RJKY9LKY9Xf3weQB5ATEp5tPrYPwF4FYDrAHy1+prDANY2ez8hxG4hxAEhxIFTp07pOuyOpYtphAIhhINhS8/ndM3uWD1xAXXtmg4H6vqQl8wlHX1vIiJardauGRlBJBjBljVbrFfyOliT10/tmsDKsJYv5wFYW7tuO+SdPIita7bWQjBgrMvLFDN4+PTDlt+HiPTRviZPCLEFRhXv0wCerfvVswDGAawHUJ/aSkKIVcclpdwnpdwhpdyxbp35ni+9ZuXLtx7bNbtjtQUFAAIigEgwwkoeEVGfS+VTEBC1c6idbRSWC8v2B694pF2zXCkjX85bCnlqTZ66sWl18EqxUkSxXLR0PAdPHqytx1PU8BWuyyPyBq0hTwjxZgB/AeAGAM8BGKv79TiMcJes/rNSkbK/NlqZOzSHv33wb7GUX8LU3inMHZozfQ1DXndypZylE5cSC8UcD3nJ/JnqHUMeEZF+qUIKw5FhCCEAWA95UsqOt1AA3P+OV8HNTiXPzn6ydq5JcqUcHjn9SG09nvLCiRdiJDLCCZtEHqFz8MpFAHZJKW+UUj4rpcwCiFYrewDwdgD7AdwH4Prqa14MwNosZI+YOzSH3XftxnLRWAy+kFzA7rt2mwY9bqHQnWzJ2sQwRUfIU5W84cgwFvMMeUREuqXyKYxER2o/T41O4cmlJ033ysuX8yjLsu3BK9FQFPFQ3PU1eVbX/cdD8TMhz8ZWQ3ZC3kOnHkJZlleFvIAI4JLNl+Bnx1nJI/ICnZW81wO4sjpd814hxJcA3AzgH4UQ9wL4qZTyVwC+BSAihLgPwKcA/DeNx+S4Pfv3rPpSzBQz2LN/T9vXRYNRCAhW8jqULVrb+0eJh+LatlDYumar63d5iYgGQaqQwkikLuRV98p7IvlE29fd/ovbAQB7vrfHcseNMh4fd71d02rI60UlTw1daWzXBIzhKwdPHkShXDB9HyLSS9v4IynlJwF8ssmvXtXwvAqAP9J1HLodSx6z9bgihEA8HGfI61CulLO8Jg/QV8mLBqPYMLyBIY+IqAeWC8srK3l12yicPX5209fMHZrDn/yfP6n9rDpuAGBmesb0M8diY653a9gJeaczpwHY22rIVsg7eRDxUBwvGH/Bqt/t2LwDhXIBh585jJdvernpexGRPtwMvUvbRrfZerxeIpzgFgod8kq75proGozFxjhdk4ioB5pV8oD2e+Xt2b9nVSeHlY4bZTzWp5U8Te2aB08exPSGaQQDwVW/4/AVIu9gyOvS7M7ZVV+6iXACsztnTV8bD8WRKbGS14lOBq/oaNdUIY+VPCIi/RrX5G0d3YqACLQNeZ123Cjj8XHXv+Mtr8mr6xDS0a4ppcQvT/5y1Xo85eyxs7E2vpbDV4g8gCGvSzPTM9i3ax+2j26HgMD20e3Yt2ufpRYQu/vS0BnZovUtFADjxKetkhdlyCMi6gU1XVOJBCPYMrIFR5NHW76mm44bwGjX7JfBK4mQ3kreU6mn8Fz2uZYhTwiBHZt3cPgKkQcw5DlgZnoGR286ispHKjh601FLAQ9gyOuGF7ZQqK/kpQop0+luRETUnVR+ZbsmYL6NwuxrZyEgVjxmteMG6L92zdo+eRoqee2GriiXbr4Uh585zOUoRC5jyHMR1+R1rpM1eU7/XauQNxobrf1MRET6NK7JA8xD3ss3vRwSEmvja2133ABGJW8pv4SKi1v4drImT8fglYMnjZA3vX665XN2bN6BsizjFyd+Yfq5RKQPQ56LWk3XnDs0h6m9Uwh8NGB71POg6GQLBZ2VPMD9zXKJiPysVCkhV8qtWJMHGCHvyaUnUSwXm77u7sfuBgAcuOGA7Y4bwKjkSUhXB2zZWZNXqpRQLBe1tGsePHkQU2NTtZubzVy6+VIA4Lo8Ipcx5LmoWbum2lx9IbkACWl5c/VBkyvlXJ+umcwnMRodrYU8TtgkItJnubAMAE0reRVZwRNLzffKu+exe3DO+Dktt1gwMx4fB+DujTw7lTz1fB3tmu2GriibRzZj4/BGHHiaIY/ITQx5LqrvnVc63Vx9kEgpjXZND+yTx0oeEVFvpPIpAGhayQOab6NQLBdx79F7ce0513b8ueo73s3hKx2FPIcredliFr9+9temIa82fIXbKBC5iiHPRfHQynZNKY3KXTNWRz0PgkK5AMDaOgMlHoo7uoVCvpRHoVxgyCMi6pFUoRryGip5Z48ZFbpmIe+nT/0UqUKqq5A3HvNGJS8ogggHwm2fp8JatpRFtpRFQARMXwMAoUAIkWCkbcg7/MxhVGSl7dAV5dLNl+Lh0w/XgjkR9R5Dnovq2zWX8kt45zfe2fK5Vkc9DwI7LSiK05U8NWSFIY+IqDdUYKjfQgEAzlpzVsu98u5+7G4ICFx99tUdf26tkufihM1MMYNEOAEhRNvnqfNippipTaE2e41iNvFbDV0xq+QBxvAVCYkHn37Q0mcTkfMY8lwyd2gOf//Lv8dz2eew+dObcd7/Og9fP/J1XP+i6zveXN3LnBwmY2dimBILxVCqlBzb5qA+5I1GjQXoDHlERPrUKnkN7ZrhYBhnrTmrZcjbsXkH1sbXdvy5ak2e2+2aZq2awOp2TTs3QxPhBNLFdMvfHzxxEMORYUtrGxcWja6k19z+Gg6QI3IJQ54L1HAVFRSeXn4ap9Kn8Ge/9Wf4h//wD9i3a1+tHcXuqGcvcnqYjJ11BooKhE5V8+pD3proGgAMeUREOtXW5DW0awLNt1FYyi/hJ0/+pKtWTcA77Zq2Q57NtetWKnnT66cREO0vHecOzeFDd3+o9jMHyBG5gyHPBc2Gq0hIfPmXXwZgbK7+gVd8AEERxOMffLyvAx7g/DAZ1a5pa01e9USnI+QFA0Gsia5BMs/pmkREurSq5AHNQ969R+9FWZZxzTnXdPW5w5FhBEXQE+2aZmpr8opZ2/vJtgt5UkpLkzUBDpAj8gqGPBe0GqJS//hQZAhlWa4NGelnVv68dqigZndNXv1ru1Uf8gBjzQYreURE+rSt5I1O4anUUyvOmfc8dg8S4QQu33p5V58rhHD9O77jdk2HKnnHkseQzCctDV1x+pxPRJ1hyHNBqyEq9Y8PhYcAmO9Z0w+s/Hnt6KZdU722Wwx5RES9Vdsnr0UlryIreCJ5Zq+8ux+7G1dtvwrRULTrzx6LjfXFmjx1XqwfvGJVu5BnZ+iK0+d8IuoMQ54LZnfOmg5XGYoYIa/dIuh+MbtzFkERXPFYN8NkOhm8oqp+TlXyVGsmQx4RUW+kCikERKBpF0fjXnlPLj2Jh08/jGvO7q5VUxmPj/dFyFu1Js9ix8vcoTn8+Ikf44dP/HDVoJS5Q3P4/W/+PgDgd//xd03X1lm5xiEi/RjyXDAzPYN9u/Zh++h2CIimw1XUF2S60P8hb2Z6prZwHeh+mEynWygAzrdrjsaMyZqj0VGGPCIijVL5FEYiI023BFATH1XIu+exewAA176gu6ErynhsvK/aNbOlrOV2TTUcTZ1bF5ILuOHOG/DFn38RX/z5F3HDnTfUbmw+sfSE6RAVdY0zEZ8AAGwZ2dL3A+SI+lHI7QMYVDPTM22/8FS7ph8qeceSx3A6exqJcAJBEcTRm4529X6q5dLuFgqAsyEvHAgjGjTagMZiY/jlyV868t5ERLRaqpBatUeectaas4zzSzXk3f3Y3Vg/tB7T66cd+eyx2Jira8p0VvKaDUrJlrJ4753vbXkse/bvaXsNMzM9g0Qogbd//e34l3f+Cy7eeLHpcRCRs1jJ8yjVrumHNXnzC/MAgDec+wakCqmuh8nUBq/YWJOnnqvuVHZrKb+ENdE1tTvKY7ExTtckItIoVUg1XY8HAKFAyNgrL3kUFVnBPY/dg2vOucbyRuBm+qWSFw6EERABW4NXOgmvVl6j9hdklwuROxjyPMpP7ZrzC/MYjY7i6qmrAQDPZp7t6v062UJBRyVPrccDqiEvl0RFVhx5fyIiWkm1a7aitlE4/MxhPJN+puv98eqpwStSSsfe0w6rIU8IURugkivlEAuanydbDUTZProd20e323pNvbHYGAC4uvUE0SBjyPMoP7Vrzi/M48rtV2L90HoAwOnM6a7ezytbKDSGPAlZG/FNRETOalfJA86EvLv//W4A6Hp/vHrj8XEUygXHukHskFJaDnnAmSmZVjdDbzcopZshKirksZJH5A6GPI/yS7vmieUTeOTZR3DVtqswmZgEADyb7bKS55EtFBpDHsCTGRGRLsuFZdNK3lNLT+Hbj34bF0xegLPWnOXYZ6vhYW58xxcrRZRl2VbIqw1esXAztN0wOCuD4lpRf2duTiUlGmQcvOJRtUpen7dr3rdwHwDgqu1X1UKZU5U8N7dQWMovYePwxtrPo1FjyuZibhHb0by9hYiIOpfKm1fyJCS+9/j38IFXfMDRz65vPdw8stnR9zajbvZaDXnxUBzpQtpyJQ9oPwzObFBcKyPREQgI3vwkcgkreR5VW5PX5+2a8wvzGAoP4eWbXn6mkufAmrxIMIKAsP5/3160awKs5BER6ZIqtF+T9+hzj9b++WuHv2a6n5sdbg4RsRvyEuFErXpmZ1mD0wIigNEYtxcicgtDnkfVNkPv80re/LF5XL71coSD4dqeOU60a9qp4gF17ZoOT9dUVMjjhE0iIj1S+dZbKMwdmsNnfvyZ2s+nMqdM93Ozw83Ww05C3nPZ5wDY63jRYTzm7ibyRIOMIc+jQoEQIsFIX6/Jey77HA6dPISrtl8FAIiGohgKDznSrmn37qTTlbxkPslKHhFRjxTLReTL+ZaVvD3796y6iaf2c3OCm5Miuwl5dtau6zAWG+N5kcglDHkelggn+rpd8/5j90NC1kIeAEwmJruv5NlYZ6AIIRANRh0JeYVyAblSjiGPiKhHUgVjcnGrNXmt9m1zagPzfmrXjIfjtWURbrZrAgx5RG5iyPOwofBQX7drzi/MIxqM4hVbXlF7bCIx4Uglr5MWlFgo5kjIU9skqGErADAaOzN4hYiInKW+d1tV8lrt22ZlPzcr1Pd9v7RrqhvEblfyxuPj3CePyCUMeR42FBlCptS/7ZrzC/N45VmvXBHIJhOTjgxe6eTuZDwcd2QLhaX8EgCsqOSFAiEMhYcY8oiINFguLANoXcnrZj83K8LBMIYjw31RyUuEzjzP9UpelJU8Ircw5HlYIpzo20peKp/Cg08/iKu2XbXi8Yn4RNftml1V8srdV/KahTyAbSlERLrU2jVbVPK62c/NKreGiHRSyVPcHrzC8yKRe7hPnocNhYf6dk3ej574EcqyvGI9HmCEvG7bNbNF+2vyAOfaNduFPE7XJCJyXq1ds80+eZ3u52bVWGysbwavKF5o10wX0yiWiwgHw64eC9GgYSXPw4Yi/bsmb35hHqFACJdvvXzF45OJSSzmFlGqlDp+72zJ/hYKgBHydLVrArxjSUSki6rktdpCoRfG4+N90a5ZH+xcb9fkUDIi1zDkedhQeKhvt1CYPzaPSzZdUtvvT5lIGHvlqfHOnehkCwXAONnpruTxREZE5DyzwSu9MBYb67t2TbcreQx5RO5hyPOwft1CIVvM4qdP/XRVqyZgVPIAdDV8xcvtmjyRERE5z2wLhV4Yj7lbybN6c3NFyHO5kufmJvJEg44hz8P6dQuFnzz1ExTKBbx6+6tX/W4iblTyulmXlyvlEAt22K5ZYrsmEVG/8UIlbzzmznYAmWIG0WAUwUDQ0vO9NngFYCWPyA0MeR42FNHfrjl3aA5Te6cQ+GgAU3unMHdoruv3nF+Yh4DAFduuWPW7WiWviwmbnWyGDhhtK05U8pL5JAIisKp1ZjQ6imQuCSll159BROZ0fH+RN6UKKQRF0NXQMhYbQ6qQ6mpNeScyxYzlVk1gZfWO7ZpEg4shz8NUu6au0DB3aA6779qNheQCJCQWkgvYfdfuji+U1AXXR+79CEKBEL71m2+teo5ak9dNu6bbm6Ev5ZewJroGQogVj4/FxlCW5b5ssSXqN05/f5G3LReWMRIdWfW920vjcaP1MJnr7RRluyHPU+2a1b8zbohO1HsMeR42FB5CRVaQL+e1vP+e/XtWVQozxQz27N9j+73qL7gAoFgpNr3g6rZdU0rZ8eCVWNDZkNeIdyyJesfJ7y/yvlQh5WqrJnDmO77X68s6DXkCApFgRNdhWcLzIpF7GPI8TE2m1LUu71jymK3H27F6wZUIJxALxTpu11QhrZNKXjwcd2wLhdHo6KrHeTIj6h0nv7/I+1L5lKtDV4AzQ0R6/R3faciLh+OuVj4Bo5IYDoR5XiRyAUOehw2FjZCna13ettFtth5vx+oFlxCiqw3RVchze7omK3lE7nLy+4u8L1VIubpHHuBe66HtNXnV86PbQ1cA45w/Hh/ndE0iFzDkeZj6Ute1xmt25yzCgfCqz5zdOWv7vexccE0mJjuu5KnpmB21azLkEfnG7M7ZVd8DnX5/kfel8mzXtKpWyXN5PZ7ixcnTHNpEg4Ahz8N0t2vOTM9g59k7az9vH92Ofbv2YWZ6xvZ72bngmkh0X8nrdPBKWZZRLBc7+mylVcgbjRktnF47mRH50cz0DP7y6r+s/dzN9xd5X6rAdk2r6ts1vcBrIY9Dm2hQMOR5mO52TQAYixt3Jn/7Rb+Nozcd7fgCaWZ6Bu94yTsAGIu9211wTSYmO56uqdbUdbSFQjWEdlvNM6vk9XryGtGguvacawEAF2+8uKvvL/I+T1XyPN6u6bVK3njMW+2aHNpEgyLk9gFQa7rbNQHgxPIJAN1tTq4cTx3HuWvPxa//+NdtF3tPxCe6btfstJIHGCGvmzvCLSt5UVbyiHpJfR90syUL9YflwrLrIS8RTrgyRcszZwAAIABJREFURMQPlbzHFx93+zBqOLSJBgUreR6mu10TOBPyTmVOdfU+S/klfO/x7+Et57/FdJrXRHwCz2WfQ0VWbH9ObfBKh2vygDMXhp0oVUpIF9NNQ140FEU8FGfII+oRVdl/Lvucy0dCunmhXdOtISJ2Q140GIWA8MTgFcB77Zoc2kSDgiHPw1S7Zj9U8r7z6HdQrBTxlvPfYvrcycQkKrLS0Ze+uqjrdAsFoLt2zVQ+BQBNQx7gvZMZkZ+pGzbpYhr5kp79RMl9hXIBhXLB9UoeYHzHez3kfeXwVwAA8wvznhgqMh4bx/PZ5yGldPU4lNmdswgFVjaycWgT+RFDnoepSp6uNXm5Ug6LuUWEA2E8m3m2o8qacscjd2AyMYnLt15u+tyJROcbone7hUL9e3RiKb8EwCTk5RnyiHqhft9LL635IWepm2tub6EAGIGllzfyKrKCbClrOeSpoSISRqDywlCRsdgYipViV100TpqZnsFL1r+k9jOHNpFfMeR5WG1NnqZ2zZPLJwEA50+ej7Isd3ziKpaL+Navv4VdL9yFYCBo+vzJxCSAztbRdLuFAtA85Fkdp2wW8kZjo6zkEfVI/b/LfmnZbPVdNMgj31MFI+S53a4JVCt5PRy8cvsvbgcAfPQHH7X0v7sXh4p4cXshNSBtamzK90ObBvm7Y9Bx8IqH6W7XVK2a0+uncfiZwziVPoW18bW23+cHCz9AMp+01KoJGGvyAHQ0fKWbLRRUMKy/+w+cufOpTozqzieAVV/8KuSpISuNxmJjHAJB1CP1lQE/hLxm30Xvu+N9+MZD38C3f/Nt5Mq52uOtvqP8SFXyvNCuOR4fx2PPP9aTz5o7NIf3f/v9tZ+t/O/uxaEi9ZvIbx7Z7NpxKOlCGo8vPo5QIIQTyycgpTSdJdCv7FzfkP+wkudhwUAQ0WBUW7tmfcgDOh++csfDdyAeiuPaF1xr6fmqktdJu2Y3Wyi0quTZufNpqV3TQ3crifys/oaNH0Jes++iXDmHbzz8jVrAU9yuzvSSlyp5vdwOYM/+PataHM3+d/fiUBGvVfJ+dfpXAIBXbHkFcqVc7bzuR16s7FLvMOR5XCKc0NauqUKe6k3vJHRJKXHHI3fg2hdca3nNgFqT1027ZrdbKNSzc+fTNORFGfKIesVvlTy71ZZBGfm+XFgG4I1KnmrX7MUQkU6qcrM7Z1edi90eKuK1kHfkmSMAgGvOvgYA8PTy024ejlZerOxS7zDkedxQZEh7u+aF6y8EAJxK26/k/eLEL/DE0hOWWzUB40QdCoS6G7zi4BYKdu58Wq3keWWKGJGf1Vfy/NAm3eq7KCiar3UelJHvtXZNj1TyyrKsdeq10klVbmZ6Bvt27cP20e0QEJ4YKjIeq7ZremQ40pFTRxAJRnDFtisAnLkW8qNW/1/ZsmZLj4+E3MCQ53FD4SGt7ZqTiUlsGt4EoLNK3h2P3IGACGDXC3dZfo0QApOJyY7W5KmLumgoavu1rbZQuOHlN6x6bqs7n1ZCnpemiBH5Wa6UQzgQRlAEfVHJm905i0gwsuKxRDiB3Zfs9lx1ppHO4Q61dk0PVPLq15fpNrtzFgIr14pZ+d99ZnoGR286ispHKp4YKuK5St6pI7hg8gKcteYsAP4Oec0qu4BxbVksF104IuolhjyPS4QT+ip56RPYOLwR8XAcQ+Ghjtbk/fPD/4zLt16OdUPrbL1uIj7RcSUvGowiIOz/X7ddu2ZIhGoXENvWbGt553MpvwQBUdveotFozBjI4pWTGZGfZUtZxMNxrI2v9UXIm5mewe9d+HsAsKIK8zdv+hvs27UPW0aMu+9r42tdr87UU8MdFpILkJCOj+330hYKvQwsV09dDQmJ8di4Z6pynfBcyHvmCC5cdyE2Dm8E4O+Qpyq76vpn++h2/Ocd/xmPPPsIbv4/N7t8dKQbp2t63FBkSOuaPPUlt25one3QdXTxKA6ePIhbrr3F9md3XMmrXtR1otauWdfilcqn8JXDX8HMRTN49fZX4z13vgff/8Pv45zxc5q+RzKfxEh0pGXIVCezZC7piSliRH6WLWYRD8UxFhvDc7n+D3kAcMG6CwAA6Q+nV3zXzUzP4Hde/DuI/vcoPvjKD3rqQr/dcAcnjtNrg1eA3rQe3rdwHwDgu+/+LnZs3qH983QJB8MYCg/1dOuJVpYLy1hILuCGl9+A8dg4IsEInk75d00eYHx3fOK+T+C8ifPwzd/9JgCjs+nTP/40XrbpZXjPy97j8hGSLm3LIcLwbiHEt4QQ36v7z/8rhDi3Vwc5yIbCetfkqZA3mZi0Xcm785E7AcDWejxlIjHR0RqaXCnX0dAV4Mw6vvpK3lcOfQXLhWXceMmN2Dq6FQDwRPKJlu+xlF9q2aoJeO+OJZGf+a2SBxgXoUERbPo9FwlGMBGf8NxFqe7hDql8CqFACNGg/TZ9p6nv+F4ElvmFeQxHhnHxxou1f5ZuXpk8/dCphwAYswiEENg4vBEn0voqeV7Zo+546jg2D5+58fxX1/wVrjnnGuy+azc2fWqT68dHepj1vN0OIAjgeinla9V/AHwKwJ8IIa7TfoQDbiiiZ02elNIIeUPVSl5ine3BK3c8cgdeNPkinDdxnu3Pn4xPdraFQinb0dAVALW1LvUhb9+D+zC9fhqXnXUZtq6phrwlhjyifqC+D/wU8lL5FEaiIy337do0sknrRWkndI/tTxVSGIm0/jvpJbUmrxff8fPH5nHF1isQCvR/09VYbMwTg1dqIW+dMXBu4/BGbe2autuYrcoWs3g+t3KPwlAghOtfdD0qsoIT6ROuHh/pYxbybpJS3ialXDFFQkr5qJTy/QB+ou/QCNC3hUKqkEKulFtRybMTup7PPo8fHP1BR1U8oFrJyz5rewpltpjtuJInhEAsFKuFvAPHD+DBpx/EjZfcCCFErZLX7u4zQx6Rd+RKOd9V8lKFVNu1ZxuHN3qukqd7bH+qkPJEqybQu3bNZzPP4vAzh3HV9qu0fk6vjMfHPXFePPLMEUSD0dqSjE3Dm7T9++SVPepUiG1cQvKJ+z8BiZXXYNxDz1/ahjwpZduzppQy6ezhUCNd7ZrqX/ramrzEOsvtmnOH5nDe/zoPZVnGbb+4raO7PhPxCZQqJdubkKqLuk7FQ/Ha5MtbD9yKRDiBd130LgDGRclEfILtmkR9Qt308VPIWy4st50iuWl4k+cGRajhDqqd8qw1Zzk6IMTs76SX1Pe/7u/4+4/dDwC+CXleaddUkzWDAWNbEp2VPK/sUXc8dRyA0QVg5Ti4h55/NA15Qoi3CSHuFkKcrPvv7wohXi+E+Gn1P6/s9cEOIl1bKKgvtQ3DGwAYlbxMMWP6War9QA1NOZE+0VF5fzIxCQC2h690064JoFbJW8ov4auHv4p3XPiO2kRMANg6utW0XXM0Otry9wx5RL1T3665lF/yxUhwS5W85ac9txfnzPRMrTryk/f9xNHBMKqF1QuCgSBGo6Pa1+TNL8wjGozi0s2Xav2cXvFKu+aRU0dqewMDxr9PpzOntXx36G5jtkqFvMZKnleOj/RpGvKklN+UUl4L4GD1v38ppbwOwHsAvB3AGwH8Pz07ygGm2jWdPqGvquRVt0Awa9l0qv1gIjEBwP4Gxt0MXgHOhLy5X84hXUzjxh03rvj9ttFtXbVrxkIxRIIRJPMschPpli0ag1cm4sb3iRcuIrtlFmg2DW9CoVzw5I0k9ffv9AWzWfDttbHYGBbzev/+54/N47KzLutoT1gvGo+5366ZyqdwLHmsth4PMK6BJGRHW0iZmd05i6AIrnjMjf0tW4U83W3W5L6W7ZpCiP8AYEP1v9cLIc4HMCKlfFJKebrda8k5Q5EhSMhVe7t1q1m7JmAe8pwq76tKnt3hK+qirlOxUAzZUha3PnArLt548aq7pFvXmFfy2oU8wDttKUR+lyvlapU8AL5o2TRrTVTf2U8ve2tdHnBm4mShXHD0fVP5lGfaNQFjfZnOSl4qn8KDTz/om1ZNwDgvJnNJVGTFtWNoHLoCGDdNAGhZl7fz7J2oyErt/7sBEcCtb76159ufPL38NMKBcO1mmKLarNX355aRLX25DyO11i6o/QWAzwCIA/gcgLcCqB9t5a1eEZ8aChubbju9Lu/E8gmEAqHav9wqdJlN2HSqvK++bOy2a3ZbyYuH4/jREz/CwZMHawNX6m1dsxWLuUUsF5ZXvbYiK0gVUgx5RB5Rv4UC4I+QZ1a1UutqvLYuL1vMIl/OA9AQ8jw0eAUwqlI6q8Y/euJHqMiK70KehLS9Dt9JR04dAYBV7ZqAnn+f/u7nfwcJiZ/d8DN86a1fQkVWVgTMXjmeOo5NI5uaTqedmZ7B5974OQDAPb9/DwOez7QLeU9LKW+XUt4OQC24ygoh1gkhRkxeSw4Zihghz+l1eSeWT2DD0Ibapt6qXdOsZWF25yzCgfCKxzop73dcyetiTd7coTkceeYIjqeOQ0A0HUvdbq88FfwY8oi8IVvMIhaM+SrkWa7keWzCZn3oKVYcbtf0WCVP93f8/MI8QoEQXnXWq7R9Rq+pqaQ6/t6s7kV35JkjiIViOHvs7NpjukJeRVbw+Qc/j9dMvQbnT56PnefsBADc/djdjn6OFcdTx1e1atZT/265GcBJj3ZBTTb8swTwcQD/CmA/gL/SeFxUpfqlnd5GoX4jdMB66JqZnsEbzn0DAEBAYPvo9o7K+6OxUQREwPaavE63UFADY9SdZgmJD37ng6tOBqoi2az9NJkz1tkx5BF5gy8reXmTSt6wNyt59e2LTlbypJS1ffK8Yjymt11z/tg8Ltl0Se0mrx/oGkpmZy+6I6eO4EWTL6pN1gT0tT/f/e934/HFx3HjJca6/80jm3Hhugtxz2P3OPo5Vjy9/HTbkKeuaRjy/KddyLu4OlHzbgB3AahIKX8G4HIAV0opv9eTIxxwOts160PeWGwMQRG0tCH62sRabBnZgspHKjh609GOyvsBEcDa+FrblTy1BscuqwNj2m2Irr4AGfKIvCFbzPpqTV6pUkK2lG3bmrgmugaxUMxza/Lqv/OcDHmFcgH/P3tvHh3JWZ/7P2/vm3rRrtFsGnsWPAt4vBLsQPAWFuMbwCRYNkkgmHBzfmD8IxfIkB+Hm0zuOYEESMi9F4NzCUZAjAFD8A1jMywem8TbeJHHo/FsksaSRqOlJXWr9+7390fpLfVSVV1VXdVd1fN+zvFhpGlJhTSq7u/7PN/nKZQKlrJrmnmPT+fTeHrq6bayagLrQ57Rw7GWMLhX5l6psGoCgNflRcwXM/zQ5GvPfQ3dgW783q7fE99347YbcWTyiOEZC/WYTkyLh0NS8CGvfZEd8iilvZTSmymlN1FKb6CUfnHt/TlKabZ5l3hxY6Zds3zIcxCH6kL0qZUpDIYHG76G7kC3vgoFHcEragNjNnRsAAGRtGuqHfIi3ghP1+RwTKZYKiJfysPv9iPii4CA2H7IY44NJdWKEGLJrrwKu6aB6ZqJXAKA8vek2cT8MazmV02J3X966mnkirm2G/JifnPsmmqf21eyKzi3cg6XdV9W81iju/KmE9P4yYmf4I/f8McV6ag3bbsJmUIGT04+adjXqkcqn8JSZkmVkpfIJpp1WZwmobhXRwjZVufveZmGyZhh1yyWiriweqFiyAOEoUtNjPBUYgqDHY0PeV3+Lk1DXomWkCvmdNk11QbGuJ1ubOjYgMmV2icOruRxONaBnYb7XX44iAMxf8z2Qx4baOrVBbCuPCthll2TvfC0kpLH9svMCF95fOJxEBC8adObDP/crcQsu6ba53YxWbO3NvhkoGPA0N+nf37+n1GkRdx9xd0V73/z1jfD5XA1dS+P7e4q7uR5+U5eu1IvPOXPCCH/HyFkK3sHIcRFCLmJEPIvAPrMvDiOOXbNhfQCirRYM+T1BHvUK3kGDHlqlUNG+Ys6rWjpg9kU2dSQkhf1RZEpZJpuyeBwLibShTQAiIc+nf5Ozc4Aq8HCneoNNAMd1lbyDB3yVA6+zURpYFEbAiLH45OPY1/fPlH5ahdEu6bBg7HaMLhjF9aSNSXSLY1U8oqlIr5+9Ou4YegGXNp5acXfhTwhvHHjG5s75CVVDHk8eKVtURzyKKX/L4AfAPgQIeSbhJB/BvC/AAwC+Mjajh7HRJhd00glr7ojj6FGyVvNrWI5u6x4w1BLl79LU/BKOl/5ok4LrA9mS2RL3cAYua48LUMesB7UwuFwjIfdD5h9u8vfZX8lL6vOmtgf7LdeumbanHRNtd+TZsIGsOr9Mi0hIFLki3n85txv2s6qCQjPmwTEcCVveO8wXt/3erF03O1wSz63H5s7Br/Lj6HYUM3n6A8KQx6ljTeDHTp9CJPLk2LgSjU3bbsJz888rzmPQC+sCF1pJ8/r8sLr9PIhrw2pW4NAKT1GKf1LSukfUUo/SCn9MKX0m5RSLlM0AabkGbmTJzfk9QR66gavsBuGUTt586l51TdWUcnTWYY+vHcY4/eM1w2M2RTehMnlyZrrYjfAiDei+HXMsqVwOJx1mJLHlP1Of6f9hzyVqtVAxwDimTiyBeusx5ut5FnJril3j9cSAiLF0ZmjSOVTbTnkOYgDEV/E8OdFSoVhenjfML76tq8iX8pjT8+emscdmzuG1/W8TqyNKmegYwCpfEqyH1cr9z13H3qDvbht122Sf3/jthtBQfGLs83JLmSv2eodzIe9YfF3jdM+1B3yCCHbCSFBQsi3mnFBnErEnTwD7ZpKSt5iehHFUlH2Y6cSUwBgzE5eoAvZYlb1AFttzzKLzZHNyBQyNdYvNuTVewHGhzwOx3yqD33aYchTa9c0s8BZL6YNeVZU8mR28tSGgMjx+MTjAIDrN1/fwNVZl6gvarhd89WFVzGXmsN1m67D7+/5fbgcLjzw0gM1jzt24ZhsEblRNQpTK1P46as/xQff8EF4nB7Jx1w1eBUi3ggeO90cy+ZMYgYep0dMIJajw9vBlbw2RE2h+V0ABtb+4zQZM4JXZpOzAKSVPAqq+EJpamVtyDNAyevydwGA6j2aRnbytCBXiL6SXUHIE6ro2JGCKX08YZPDMQ/RrtlOSl5WpZJnwa68eDou3tONTJ1UO/g2Ezm7ptoQEClGRkfwuV99DgBwzTeu0bzLZwdivpjhh59PTD4BALh+y/XoDnTj7dvfju+MfqfisHops4SpxFTdIU/v7xPbw9z4pY0o0iJ6Q72yj3U5XPidod/BY2ceM8QeWo/ppFCETghRfFzYG+ZDXhtSL12TANhJKT3VpOvhVOF0OOFz+Qy3awbdwZoXEj3BHgDKhehqpX81qC1gZ1Tv4JiFXFfecna57j4ewJU8DqcZSAWvLGWWFJ0IVkdtXYBZBc6NsJRZQm9QeHFril3TQkqe3D3+4A0Hxd0whlzAVzlsl4/9m9a6y2cX6iVP6wmtOTJ5BN2Bbuzs2gkAuGvfXZhJzuDw2cPiY5SSNYHGhrzyPUzGZ3/xWcVrv3HoRkwsT+B0/LTmr6eVeh15DD7ktSf1lLwDAO5vxoVw5Am4A8baNVfP16h4wPrQpRS+MpWYQsgTUjXs1KMrsKbkqQxfYUpeM+yagHTPDh/yOBxrUH3ow+xIdv6905KuCVhMycvE0RcSArfbvULB5/LB5/LVWA/fuPGNKNKi+Dzhcrhw3zulA77KaXSXzy5EfVHZMnS9oTVPTD6B6zZfJypV79zxTkS8kQrLplKyJrCujOsJM9Lzs7vpkpsAAD8/83PNX08r04lpVYfyfCevPZEd8gghRwHso5Q+Wva+R8v++0K9T04I6SGEHCSE/NXa23cRQl4hhPyKEFL+ef+KEPJrQsiThBDp38KLmKA7aPhOHnsyLqcnICh5SuErRnXkATqUvKqgBbPoCfbA4/RI2jX5kMfhWAOp4BUAtrZssoGmuu6lmt5gLwiIpRI24+m4aUqe2+GW3XFqFVKq1D89/U9wOVx45b++gq++7asolArYP7C/7udqdJfPLijZNfUMSzOJGZyOn8Z1m64T3+dz+fC+3e/DD4//UDw0eWXuFQTcAWyJbpG+Ln8Mbodb16GJnp/d9s7t2BTepKtKQavaOZOYUTXkdXj4Tl47IjvkUUr3AxglhLy17H03l/335yo+/98ByAJgJSZRAJ+hlL6FUnozABBCrgfQRyl9M4CPAKg7PF5sBD1BwysUlJQ8paFramXKkH08QPtOXiMVClpwEAc2hjfW2DXVDnkBdwAuh4sPeRyOiUgFrwDq7ydWJJlLIuQJSSYAluNyuNAT7LGcktcbEIY8oysUrKTiMWK+WIWSl8wlcf/z9+O9l70Xg+FBvGvnuwAAPz7x47qfi+2BV6Nml89OKNk19QxL5ft45dy17y6k8in86PiPAKwla3ZLJ2sCwnN+X6gP51e1/z7p2cMkhOCmbTfhF2d/oclerlXt1FJ5xe2a7Uk9u+ZfA/hDvZ+cUvoBAI+XvSsKoFqrvxnAd9ce/zIA5Qigi5CAO2D4Tl5/UL9d04h9PGB9eV2tktdohYIWNkc267ZrEkLq7h5wOJzGkApeAWyu5OUSqku/+0P9ltnJyxVzSOVTpil5VtrHY8T8sQrr4b+88C9Yzi7jY1d/DIAwuF0xcIWqIe99l72v5n1qdvnsRtQXxWp+VTKYR8+wdGTyCALuAC7vv7zi/W/a/CZsjW4VLZvH5o7J7uMxBkIDug5N1JaxV3PjthuxlFnCczPPqf5aWtVOdn/gO3kXL/XK0CmAk4SQLQCMiAFyAfhbQsgRQsjda+/rBVA+VRQIqT1uIYTcTQh5lhDy7Nyccpdbu2GkXTNbyGIxvSip5HldXnR4OmSHrhItYSYxY5hd0+VwIeaLqd7Ja1aFAiBdiK52yAOEhE2ersnhmIdU8Apg/yFP7UCj90WpGbBhp9PfCZfDZfyQZ0Elr/wgr0RL+Ien/wFXbbgK1268VnzMbTtvw1OvPVX35/Ra4jUE3UFsjmwGAcGWyBbJQm+7ww52pQ5AD95wsMam7Hf5FYelI5NHcO3Ga+F2Vg5ZDuLAnXvvxOGzh/HK3CuYTkzL7uMx+kP9uuzPd+y5A53+TnidXk0/uxu23QAAmqoUtKqdWoLywt4wMoWMocm4nNajpkJhBMAFANONfjFK6ecopdcCuAXA7Wv7d8sAYmUPK1FKSxIfex+l9EpK6ZU9PT2NXoqtMNKueWH1AoDa+gRGT7BHVsmbT80jX8obNuQBQviK1SoUAGHIm1qZqrBSrGRXEPaoG/K4ksfhmEt18Aqzf9t5yEvmkqoHGispecy2GPPH4HF6DH2hmMhaVMkrs2s+evpRvLrwKj5+zccroupv23UbKCj+7cS/yX6e5cwyHh57GH/0hj/CxD0TKH2uhPF7xttuwAOU99WH9w7jvlvvq0gn/dD+D8l+H5Yzy3hp9iXZTsG7Xn8XSrSEz/7iswDkQ1cY/aF+XYcmRyaPYHZ1Fl9759c0/ex6g714Q/8b8POz6sNXtKqdbGhVu5MHgIevtBl1hzxK6VlKaZpS+keNfjFCiGvtj2kACQjq4BEA7137+8sAvNbo12k3gu6gYXZNuSJ0Rk+gR1bJM7Ijj9Ed6LZchQIgWG2KtCi+iKKUYiW7gogvourj+ZDH4ZhLdfAKewFp5yEvkVVv1xwIDWA2OYtS7Zlo02FKXswnDHlGKnlaBt9mUh4i8pWnvoL+UD9u3317xWP29u7F1uhWPHziYdnP84PjP0CmkMFd++4y9XqtAPsdlStEf/eud6NES/jL3/5LbAxvxNn4WdnP9R+v/QdKtITrNl8n+fc7unZgW3QbfjQm7OV95KcfUQwpGQgNYC41p7mC5f7n70fYG8Z7L3uvpo8DgA2hDfjV+K9Uh6gcvOFgzSG3kjVUq5IHoGHLpp4aDI55qFHyjOR/EEJ+DeAJAL+hlL4C4BEAHkLIEQBfBPCpJl+T5TGyQqHekNcd6JZN15xKCEOeUTt5gHD6rlXJa4Zdk52MsYTN1fwqKKhquyYf8jgcc8kUMnA73HA6hJN/p8OJqC9q6yEvmUuqVq36Q/3Il/KW+P/L7nUspfBi2Mlj9/jjc8fxs1M/w0ev/GhNAighBP9l53/B4TOHxaTHar714rewo2sHrh68uhmX3VJiPnm7JgCcXDwJCordPbtx59478bNTP8NsclbysU9MPgEncVbYY8sZGR2pWLmYSkwphpT0h/pRoiXR7aSGpcwSvn/s+3j/nvcj6Amq/jh2fazLT21lxPDeYXzm+s+Ib4e9YUVr6HRiGl6nVxyulTBiyNNbg8ExD9OHPErpryiln177859TSt9MKX0TpfSLa+8rUUo/Sim9nlL6dkrpOeXPePERdBtn16yr5CnYNdmpkJF2TU1K3trJvdfpNezry1FdiM5ufHzI43CsQTqfrlH1O/2dlhh69KIleMVKXXmiXXNNyTM6XVPt96SZxPwxlGgJf/PE38Dj9OAjV3xE8nG37boN2WIWh04dqvm7iaUJ/Hri17hr310VNs92pV690Nj8GABgV/cu3PX6u1CkRXzv5e9JPvbI5BFcPnC57L+NA4cP1Pw7VAop0VOI/t3R7yJdSONP9v+J6o8pv75sMav6+hjstUnIE8Jbtr5F0Ro6kxTqE9T82zJiyLtY+h7tRLOVPI4Ogh7jglfYDYyloFXT7ReGLiFzp5KplSkQENkBUQ9d/i71wSv5NHwuX1OeDFmkNVPyljNCiAof8jgca5AupGtUfdsPeRr2z9h92ApdeaJd02+8XdOqSt7x+eMAgG+/9G24HW7Z3arrNl+HTn+nZMrmt1/6NgDgzn13mnehFkK0a8oUoo/Nj4GAYHvXdlzWcxmuGLgC33rpWzWPyxayeHrqadl9PEB7SImeQ5P7n78fr+97Pa4YuEL1x+i9Psbo7Ch8Lh9uvuRmvHzhZcXHqi1CB9Zf27CuTj1jEilFAAAgAElEQVRcLH2PdkLVkFeWhMlpAaxCQWrw0sr55HkhCcolrYb1BHuQKWQkh8qpxBT6Qn01SVaN0BXowmp+VbRiKpEpZJoSugII6Zgdng7x5qRVyYt4I0jlUzypisMxiXQhXXM/sPuQp2X/jMWiW0nJi/qicDuNs2tSSi3ZkzcyOoIHXnxAfHs1vyprS3M5XHjH9nfgp6/+FIVSQXw/pRQPvPQAfnvLb2NrdGszLrvlKKVrAsCJhRPYHNkspmzete8uHJ05imMXjlU87rmZ55ApZGT38QDtISXioYnKMKPnZ57HczPP4UOXf0jXwbOeyggAGL0wist6LsO+3n04Gz+rmNegZchjv2ONKHl6/z9xzEOtknejqVfBUSToFrzezK7YCOdXpYvQGT0BIblUykJpZEceg3XzqVHz0oVae5ZZEEKwKbKpIbsmAF6jwOGYhJxd065l6JRSsQxdDVpflJpJPB1HwB2Ax+kx1K6ZKWRQpEXLKXlarXa37bwN8UwcRyaOiO97ZvoZnFg4gQ/s+4Cp12ol/C4/3A63ol1zV/cu8e33730/nMQp9t0xWAm60pAnVcmgFFLSF+wDoP7Q5P7n74fX6cXwPn0pqFqvjzF6YRR7e/diT+8eUFAcnzsu+9jpxLSqjjzAGLvmwRsO1hTOt2Pfo52QHPIIIe8ihDxGCHmUEPIogK61Pz9W/r9NvtaLFrbQa8Re3vmk8pAnFqJLhK9MJ6YN3ccD1mPP1bwwyxQyTQldYZR35ekd8rhlk8MxByllv9NnXyWPhTupHWg6vB0IuoOWUfJYqIaRdk0W5241JU+rLe2WS2+B1+mtsGw+8OID8Ll8ulIZ7QohBFFfVDJds0RLNUNeb7AXb9v+NoyMjlSkXh6ZPIIdXTtk106A9UqGLZEtqvrr/G4/It6Iqt+ndD6NkdERvPt17xb7ObXCro8NYV3+rrr9evOpeZxPnsfe3r1iubucZTOZSyKRS2i2azYy5L1rx7sqGrXbte/RTkgOeZTSn1BKb6KU3rz23w2U0psB/C6Ad7G/a+6lXrwwJc+IGoV6Q15PUEHJW5kyfMhjQ6Wa8BUpe5aZbApv0m3X5EMeh2MuUsp+p78T8XTcErUCWmHpi1oGGqt05cUzcdGKZ2S6pvg9sZiSp9WWFvKEcOO2G/HjEz8GpRS5Yg7fffm7uG3nbapredqFmD8m+bw4tTKFVD5VMeQBgmXztZXX8KvxXwEQhsEnJ59U3MdjDO8dxvg946r76wY6BlQNeT88/kMsZZZ0Ba5UX9/kJybhc/nwh6//w7rXxwa6vX17cWnnpfA4PTg2d0zysVo68gCIDoJGevJ+Of5LlFDCLZfcAgAY/egoH/BajKxdkxDyraq3HQC+DuAGsy+KUwmT9I0IX5lNzqI/qELJq0rYzBQyWEgvGNqRBwg7eYA6u2azlbzNkc24sHoB2UKWD3kcjsVgQUzldAW6QEHFoCQ7wQIPtCRJqn1RajbxdKWSZ9QuMvueWE3J02O1u23nbRhfGsfohVH8+8l/x0J6AR94/cVj1WTIhZKVJ2uWc+uOWxHxRkTL5itzryCeiStaNfVS79CEdcDd+aM74SROMXG8EVwOF/b17cPR80frPnZ0dhQAsKd3D1wOF3Z175Id8rR05AGAgzgQ8oQaUvIOnTqEoDsoBgmdXZLvOeQ0B6WdPHESIIS8BcC/A/gZpfQRsy+KU4lRds1kLonV/Kqqnbxqu6bWG4ZaNCl5Ejs4ZsISNl9beU288ak9UeZDHodjLnLBK4A9C9H1qFb9oX5LpGsuZZZEJc8Uu6bFlDytVkAAuHXnrSAg+PHYj/HASw+gN9iLmy+5+AxRcnZNuSHP7/bj9stux0OvPITV3Kq416hGydNKf6hf9tCkvAMOAIq0WLdgXS37+/fj+Znn64brjV4YRae/U7R47u7ZLWvXZMMqSw1VQ9gbbmzIO30IvzP0O+LP8Ez8jO7PxTEGpSHvckLIzwghFwA8AOCTlNIHm3RdnDKMsmvW68gDhF9yt8NdM3SZ0ZEHrL8oU7OTJxWZbiasj2ZyeRIr2RVhaVxlsugvx38JALj9+7dj65e38jJQDsdg5IJXAHsOeWyg0aTkhSyi5JXt5BmZrqlH3WwWWq2A/aF+bIttw39//L/jB8d/gHQ+jX899q9NulrrEPNJ2zVPLJxA2BsWA1DK+cDrP4DV/CoeHnsYT5x7QvxeGo3S75OZHXD7B/ZjObtcV/l6+cLL2Nu7V0zz3N2zG5PLk5K1B3oO5hsZ8k4vnsbp+GnccsktGIoOAQDOxrmS12qUhrwXKKW/C2AAwN0A/pYQ8kdNuSpOBUbZNdUMeYQQdAe6a+yaUytTAGC4XdPj9KDD06HartnMnTy2X3Fu5RxWsiuqdydGRkfw6Z9/Wnx7YnlCNl6bw+HoQzJ4xc5Dng5r4kBoAMvZZaTzjScvN0KNXdOgdE2rBq/oYWR0BJPLk2KNQiKXuCifF6K+qGRPHgtdkaojeNPmN2EoOoRvvfQtHJk4gus3X29KX25/qB/JXFJU1csxswPu8oHLAQBHZ+Qtm5RScchj7OndA0CwsFYznZiG3yWEyagl7A3r3sk7dPoQAOCWS25Bp78THZ4Obte0AEpDXhEAKKVFSum/A3g7gMsIIR9rypVxRIyya7Ihry9Ue1JWTk+wp0bJm0qsDXkGK3mAYNmcT1vPrrkxvBGAUIi+kltRvY934PCBmroLo078OByOALdrrh/YtVLNK5QKSOQSokXdULtm1pp2TT0cOHygZvi9GJ8X2E5etTWxOlmzHAdx4PV9r8ejpx/FuZVz+PmZn5syHCv9PpnZAcd27JSGvInlCSRyCXGwA6CYsDmdmMZAx4CmYbjD06FbyTt0+hCGokO4tPNSEEIwFBviQ54FkB3y1lS88rcppfS/Abj4/AUthtk1m6HkAZBV8nwun/hEbiRdgS5LBq/43X50B7pxbuUcljPLqoc8M0/8OByOgFTwihb7t9XQZddc27dpZcIms96Zka7ZTkoef14QiPliyJfyFQehiWwCU4kp7OqSHvJGRkfws9M/E9+OZ+KmqKBs101qyDt4w0G4HK6K9xnVAedz+bC7Z7fikMdCV/b2rSt5Q9Eh+Fw+yfCVmeSM5gwFvXbNXDGHX5z9BW655BZxqNwW28btmhZAbRm6CKV01owL4cjDlDwjdvKcxCl208nRE6hV8qaTQkeeGRaJ7kC3JSsUgPUahZWseiXPzBM/DocjIFWhwCyDtlbyNFYoAK1V8pj1zox0TatWKOiBPy8IsIPicsvmiYUTAGpDVxgHDh9AppCpeJ8ZKqjS79P797wfIXcIfpdfddiOFvYP7MfRmaOy4StMrStX8pwOJy7ruUxyyJtOTDdtyPvNud8gmUvilktvEd83FBWUvHphMhxzkStD/2NCyF+U/7f2/j+vfh/HfMSdPAPsmr3BXjgdTsXHdQe6a9I1p1amDN/HY3T5u9QFr0ic3JvN5shmcSdP7ZCnJ16bw+Gop1gqIlfM1Rz6uJ1udHg6bDnk6apQWFMeWpmwyZISTUnXzCbgdXpVB15ZGf68ICCVPC2XrMlolgrKhjyp36ffnPsNlrJL+Ma7vqE6bEcL+wf2Yy41J1vLMHphFFsiW2peh8glbE4nprEhpH3IkwpxqcehU4fgcrjw1qG3iu8big4hlU/hwuoFzZ+PYxxySt6LAJ6s+g8AngBwG4Bfr/0vpwkYGbxSz6oJCEpePBOvOI2dShhfhM5Qq+Q1O3gFEJS8c8vahjwWr82u1egTPw7nYidbzAKA5I5up7/TnkNeLgGfy1djCVOiO9ANB3FYSskz2q7ZDlZNQF/tQjvCDgPKh7wT8yfgJE5c0nmJ5Mc0SwXtCnTB5XBJ/j49eOxBeJ1e3LrjVkO/JmP/wH4A8uEroxdGK1Q8xu6e3ZhOTFd8PxPZBJK5pKb6BGB9J0+r+nbo9CG8ceMbK14jDcXWEjb5Xl5LkRzyKKVHKaW/BvAMgCfW/gxK6X8AWKaUPglAf5kGRxMO4oDf5TfErqlqyAsKXXnshRKlFFMrU4Z35DG6/F1Yya4oWnyKpSLypXzTlbxNkU1Yzi5jJjmDsEfdkAcIT+h37rsTfcE+w0/8OBwjYQW/js87bFP3wdIkpQ59ugJdthzykrmkZlui0+FEX7DPUjt5RqdrWrE+QS9aaxfaEdGuWdaVN7Ywhm2xbfA4PZIf0ywV1EEc6Av21Qx5JVrCQ688hLdtf5tphw77+vaBgEgOebliDmPzYxXJmgw2+B27sG7ZZPcDPXbNIi3WBMcpMZucxfPnn8fvXloR48FrFCyC7E4eIeT9AA4BeJgQsr95l8SRIuAOGGLXVDPksYJyFr6ymF5Etpg1Tck7HT8NAPD+tVf2RSbz4zczXRNYPynMFXOqlTwG220s0ZIZl8bhNEx5wS8FtU3dB3sRInXoY2clT89Ao1Tg3AxEu6bPHLtmO+zjcdaRs2vKWTWB5qqg/aH+mkOTJyefxExyBu+77H2Gfz1GyBPCzu6dOHq+dsh7deFVFEqFitAVBkvYLN/L09ORB0B8jaNlL++xM48BEKoTymFKHi9Eby1KvpA/BfDmtT//DwDV//L4NmUTCXqCDdk1S7SE2dVZ1XZNAKKFUixCN2Enb2R0BN99+bsAUPEiE0DFDZy9qGuFXZOhecgL9qBIi1jOLIun3ByOlVAq+LWyyiAqeTJ2zXPL55p9SQ2TyOqzJg50DLRUyRPtmn4TytDbyK7JEWCHAWzIK5aKeHXhVbzt0rcpftzw3uGm3JP6Q/01e3EPHnsQPpcP79zxTlO/9v6B/Xh84vGa94vJmhJK3ubIZgTdwYq9PCOGPDWvFQHgZ6d+hp5Aj9j1xwi4A+gL9nG7ZotRStfMUkpLlNISgAwAEELuALCBEPIBCCXpnCYRdDc25C2mF1EoFbQpeWvhK2Z25B04fKDmBYFUahZT8lph12RoHfKqFVG92NFOx7EHdo11Vzr06fTZU8lL5pL6lLxgf8uDV7xOr3hv9jg9KNESiqViw5+bK3ntR8QnlHOzw4HxpXHkijlFJa+ZDIQGKpTxYqmIh44/hLdvf7vpBw77+/fjtZXXaoLvRi+MwuVwYWf3zpqPcRAHdvfurlDy2P2ABTOphf3/Uxu+UqIlPHr6Udx0yU1wkNpxgnfltR6lIS9JCHkbIeRmAMygmwHwVwCyAP7a7IvjrBNwBxrayVPbkQes7+QxJW9qRRjyzNjJU/siU+nk3kw2dGwQb1567JoAam7YWrCrnY5jD+wa665k32Z2TbtFdydy+gaagY4BXFi9YMhQpYd4Ol7hVGB7VUbs5XElr/3wOD0IuAOiklcvWbPZ9If6Mbs6K/4+PXnuSZxPnsftl91u+tdm4SvPn3++4v2jF0axs2un7M7i7p7dFTt504lpBNwBza9ZtNo1Xzj/AuZSczVWTcZQdIjv5LUYpSHvTwD8NoC9AL4IAJTSH1JK/5X914wL5AgEPcGGdvK0DHmsR48pUEzJM2PIU/siU2kHx0xcDpf4/5udQKqleljWg5KdjsNpFLvGuisFr3T6O1GkRV19T60kmUvqGmj6Q/0o0mJD95lGiGfiogUPENI1ARhi2dQTRsOxPjFfrGbI29lVq1K1gv5QP0q0JP4+NcuqCUC0PFaHr7x84WXJfTzG7p7dmF2dXV+xSQodeVp7jbUOeYdOHQIA3HzJzZJ/PxQdwuTyJAqlgqbr4BiH7JBHKV2klH6GUvp3lFL+E2oxjdo1Z5NCh72aIc/tdCPqi4oK1HRiGt2BbnhdXt1fXw61LzLFk/sm7+SNjI6IPS9/8pM/0aSgGWHXtKudjmMPqus++oJ9qgINWm0hrhe8AtivED2R1Re8wixZrQpfiWdklDwDCtG5XbM9ifqiYmDPiYUT6A50oyvQ1eKrEmC1A+eT5wWr5isP4R3b39GUlNeoL4qh6FDFkJfIJjC+NC65j8eoTtjUU4QOqB/y2P3/L37xF3A73Dh89rDk47bFtqFIi7bckW4XlJQ8EULIJ82+EI4yQU+waXZNYC0ZMr1m10yYV5/AXmQyS6RcahY7uW+mkseskuxEenZ1VpNV0gi7pl3tdBz7MLx3GG/Z+hYAwD/f9s+qBrxWW4jrBa8ANhzydNo1xQLnFoWvxNOVSh4b8hpV8iilbVehwBGI+qIVSp5VrJrA+u/T+eR5HJk8gtnVWbxvt3mpmtXsH9hfMeSxQBWpjjxGdcLmTGJG8z4eAPH+k8jJ7+SV3/8BwZYtd//nXXmtR9WQB+C3TL0KTl0arVA4nzwPv8uv+kVEd6B7PXhlxbwidEB4kbmjawduv+x22e6gVlQoNGqV9Lv9CLqDDdmoDt5wULQ/Mexgp+PYC/bvvDzWXA4rWIiVlH07DnmUUt3WxHLloRUsZZYqlDy30xi75jdf+CZKtIS/eeJveOBUmxHzV9o1d3VZb8ibSc7gwWMPwu/y4x3b39G0r79/YD9Ox09jObMMYH3IU1LyBjsGEfaG8fKFl0EpNVXJ03L/5115rUdyyCOEvIsQ8hgh5FFCyKMAIuzPa/89tvZ+TpNo1K55flXoyFPr0e4J9qwHryTMHfIAoDfYK9oipWhFhYIRVsnuQHdDds079twh7kgCwMbwRtP6gTgXL+zewhLvlLCChVi8H0gc+jDbl52GvGwxi0KpoLsnD0DLEjard/KMCF4ZGR3Bn/3fPxPf5oFT7QWzay6kFjCXmrOkkje1MoUfHP8B3rHjHQh6gk37+ix85YXzLwAQQldCnhC2RLfIfgwhBHt69+DY3DEkcgms5ld1DXk+lw8uh0txyNNy/98U2QQncXIlr4VIDnmU0p9QSm+ilN689t8NZX++mf1dsy/2Yibo1h+8MjI6godeeQhnl86qPhHt9gvDSb6Yx4XVC6Z05JXTF+xTHPJaUaFghFWyJ9jT0JD33MxzOL96HtcMXgMAePKDT/IBj2M47GSW7ckoYQULcb3gFcBeQ14ylwQAXcErLEWvFUpeiZaEHlCD7ZoHDh8QB3kGD5xqH6Jewa55YuEEAOskawLrv08PvvIgLqxeMLUAXYrL+yvDV0YvjGJP7x7JioJyWMKm3o48QBgWw96w4pCn5f7vcriwObKZF6K3ENl/NYSQrxBC/ishRP74gNM0Au4A0oU0SrSk6eOYf5oNSWpPRHuCPZhbnRP3PMzayWP0Bnsxuzor+/etqFAwInmwO9DdkF1z5KUReJwe/PEb/hiA+v4aDkcL7ABJjV3TComcSsErbOCw05DHfq/17p/1h/pbspO3nFkGBUXUFxXfZ0S6phXUYo55xPwxLGeW8crcKwCsNeQBwu/TS7MvIeAO4O3b397Ur90X6sOGjg04ev4oKKUYnR3Fnh75fTzG7p7dWEgv4PkZoX5Bz04eIOzlKe3kab3/86681qJ0NHAtgGkABwgh3yKERBUeyzEZZhdgw45a9O7P9AR6kC/lcXzuOABzitDL6Q32YjG9KJvI1ooKBRYKsyWyBQRENhRGiZ5Aj+7glWKpiO8d+x7evv3t4imZ0s2Xw9GLqOSpsGuy34uIV6gU6fR3Nt1CrHTo43V5EXQH7TXkrf1e602SrC5wbhZM+TU6XdMKajHHPKK+KCgonpl6Bh6nB1ujW1t9SSIjoyOYWJoQ3374xMNNvwYWvjK7OouF9IJifQKDBbM8duYxAPoP5uspeez+73K4AMiH5TF4V15rURryUpTShymldwP4MoDvEUK2Nem6OFUE3cKQp3UvT++JKIv/f3H2RQAw3a7ZG+wFIN8p16oKheG9wxi/Zxylz5VkQ2GU6Anot2v+cvyXOJ88jzv23KG5v4bD0YIYvJKtr+QBwu/FBy//IADgU2/6VNMtxJlCBi6HS3yhUU2nvxML6YWmXlMjNGLXBFqn5LFDAaPtmgdvOAivs7KyhwdOtQ9M+f3Pqf/E9s7tcDqcLb4iAeZ8yhazAIT7Yit2Qff378fY/Bieeu0pAMqhKwyWsGn2kAcI93+fy4ePX/Pxuq+LhqJDmF2dbSgdnqMfVemalNKjAD4C4H8SQprbRs0BsK7kaf1F0Xsiyoq8xSGvCUoeANm9vFbYNY2gO9CNVD6l6wb3ndHvoMPTgXfueKf44o/bNTlGQynVpOQx2BDFUuCaSbqQVjzw6fR32kvJa9CuaSUlz4h0zeG9w7jn2nsAQLeLgmNd2KHAyxdetpRV0wrJwYCg5JVoSRwuleoTGH3BPnT6O/HaymsIeUK6D4zUDHmJbALJXFKVJZTVKIwvjeu6Hk5jKA15L5S/QSmdAPA1AP+PqVfEkYR5oLWGr+g9ERWVvPMvwu1wm15UWm/IyxQyICA1dQJWhw3LWvfyMoUMfnD8B3jPZe+B3+1X1V/D4eghU8iAggJQF7zCYENUK9TldD6teOBjuyGvQbtmf6gfyVxSVASbhZKS10i6JgC8adObAABPf/hpXS4KjnVhSl6Jliw15FllF5QlbP7kxE/QF+wTX0cowRI2Af37eIAw5NU7TGauAVbfosS2mGAA5OErrUF2yKOUfkLifT8C8CVTr4gjiV675vDeYXz4ig8D0HYiyoq8x+bHsKFjQ91kp0apq+QVhBd1aisgrILeQvRHXn0EK9kV3LHnDgDq+ms4HD2U31PUBK8wxCEv14Ihr5BW3M+125DHhjPdSl6LuvLYvxepnbxGe/KYZa76kJJjf8qDeqw05FllF3RjeCO6A93IFrOq9vEYu3sEy2YjQXkdno66rzNYXYsqJY935bUUza/cKaUFMy6Eowyza+qpUdgWFU5S5v/bvOoTUabkFWnR9H08QJ2S18zQFaNg30etSt7I6Aj6gn1469BbAYDbNTmmwexJIU9Im10zxe2aRsF+rxvZyQOa35Un2jXLlDwj0jWB1tTmcJpD+aGAlYY8KyQHA8B3Xv6OePDz1GtPqd4JTOWEe/mvJ36tui6rGjV2TS2p673BXgTcAZ6w2SLMlWc4hsFuPHp2u6YSU/C5fBVPxPUIeULiCarZ+3gAEPFG4HF6ZGsU0nnlF3VWhdkstISvxNNxPHLyEfzBnj8QF9I9Tg88Tg+3a3IMh91TBjsGsZJdUV3T0kq7ZqaQUbRrdvm7sJheBKW0iVelHzF4pYF0TaD5Sl48HYfb4a54YWxEuiYAZAtrSp6LK3ntxmOnHxP//O5/fbdlSu6NSNRulOraq0QuoSr8ZWR0BN879j3xbbV1WdWEvWGs5ldRLBVlHyMqeSrsmoQQbI1u5UNei+BDnk3Qa9cEhCFvsGNQk9WRECIOKGZ35LGv1xvsVbRr2vFEV49d84fHf4hcMVfzxKLmhI3D0QpzB2zo2AAKqkqZo5SKQ95ytgVKXp1Dn05/J/KlvK77ZStI5BJwOVzigKQVUclrcsJmPBNH1BeteG4xyq7Jlbz2ZGR0BPccukd8+9zKuZYkWMrRaKJ2o+gNfzlw+IBocdbycdWw1RCl/d6Z5Ay8Tq9q4YDXKLQOPuTZhEbsmlMrU7osl8xq2AwlD4DikFfv5N6qRHwROIlTk11zZHQEl3Zeiis3XFnx/nolpRyOHkQlb+0eoSZ8ZSW7giItin9uNmxHV45OfycA+xSiJ7IJdHg6dO8cHzp9CADw8Z99XLdNSw/xTLzCegcYk64J8J28dsUqCZZWRW/4i1GhMcwyrnRfn0nOoD/Ur/p+tS22DWfiZ2zjrGgn+JBnExq1a+oZ1JgK1YydPEB5yKu3g2NVHMSB7kC3arvm1MoUfjX+KwzvHa65gXIlj2MGTO1i9wg14StsePK7/K3ZycvXD14B1vcGrU4yn9QdujIyOoKP/PQj4tt6bVp6iKfjNaf5RqVrciWvPbFKgqVV0Rv+YlRojJqQt5nEjCqrJmMoOoRELmGbQ7d2gg95NkGvXZNSKih5Goe8kdERPHnuSQDAvYfubcoLhnpKnl2f7HuC6grRR0ZHsOd/7QEFxdePfr3me97h7eDBKxzDKd/JA9R15bGOvK3Rra1T8urYNQGbKXk6Q1daqYxIKXmGpWuu7eTptbByrIlVEiytit7wF6NCY1QNeckZTTUNrCuP7+U1Hz7k2QRmTdJq11xMLyJbzGpS49jiL3vhMLs625ST4d6AMORJSfr1erGsTHegu65dk33PmYoynZiu+Z5zuybHDKrtmlqUvKHYELLFrPiCvFnUs2/bbchL5pK6Q1daqYxIKXlGpmt6nV7b1eZwlLFKgqVV0Rv+YlRojGolT8uQx2sUWoar1RfAUYeDOBBwBzQreVOJKQDa9uqUTobNXELuDfYiXUhjNb9aY11KF9Loc/WZ9rXNpCfQg5dmX1J8jJrvedgbxun4adOuk3Nxwg6ORCVPxU6eOOStPXmvZFfQ46pf2GsUaoJXAPsMeYlcQrddc3NkMyaWJyTfbzZLmSV5u2aD6Zp2dm9w5GHPZwcOH8Dk8iQ2Rzbj4A0Hedl9GcN7h3V9P/R+XDnssEnuQDlTyCCeiWuza64pebwQvfnwIc9GBNwBzTt5UytrQ54GJa9VJ8OsK282OYtQZ+ULnkwhY8udPEAY8urZNdV8zzs83K7JMZ6a4BU1ds3Uul0TWBvygk0c8trQrsnuf1o5eMPBCucFIOxKmq2MUEqFIc/E4BVen9CeGDGMcMyhnpKnpQi9/HN2+bu4XbMFcLumjQi6g01R8lrlme8LCUqd1F5evaAFK9Md6EY8HUehVJB9jJrveYeX2zU5xsPuKX3BPjiJU5Ndkw15za5RqHc/8Lv98Ll8thnyGrFrVtu0AOC3Nv2W6S+iE7kEirRYo+Q5iANO4jTErmnXez6HY1fqDnkaitDLGYoN8SGvBfAhz0YEPUHNO3lMydMirbfKM89OsqWGPFsrecEeUFDFF5wHbzgIl6NSWK/+noe9YSRzSdVl1RyOGlL5FNwON9xON6K+qCq75kJ6QTydBZpbo1CiJRGRyu0AACAASURBVGSL2bo7up3+TtsMeY3YNYHKbq+799+NI5NHxHu/WTDFN+qL1vydx+lpOF0zW8zy+gQOp8nUq1DQUoReDu/Kaw18yLMReuya04lp9AZ7NSWUGbXAqxWlIa9eL5aVUVOIPrx3GLt7dsPtcMt+z9lJv1JJKYejlVQ+JR7qxPwx1Upep79TPPVtZo0CC3mpd+jT5e/CYsYmQ95aT54RfOq6T6FYKuKLv/miIZ9PDnYYUG3XBIQhjyt5HI79cDlc8Lv8sqshTMnTYtcEhCFvYnkCxVKx4WvkqIfv5NkIvXZNrbI60BrPPBuG5JQ8uz7hs1L5egmbqXwKt+26Dd+//fuSf89O2BLZhPjimsNplNXcKoIeoaJFrZLHhryILwKguUpeupAGgLZR8vLFPLLFbENKXjnbYttw57478bXnvobPXP8Z3bt+9WBKXrVdExD28oyoUOA7eRxO81Hq5J1JzMBJnJp3sLfFtiFXzGE6MY1NkU1GXCZHBVzJsxG67Jo6i9BbgdflRcQbqRnyCqUCCqWCre2aABTDVwqlAs4uncX2zu2yj1ETbczhaCVVKFPyfDHVPXld/q51Ja+JO3np/NqQp3A/GBkdwdNTT+Pxicex9ctbm9LzqRemzOvtyZPiM9d9BplCBn//H39v2Oespp6Sx9M1ORx7EvaGsZKT38nrC/XBQbSND7wrrzXwIc9GBN1BXemadhnygLVC9FTlkMde1Nn1CV+NXXNiaQKFUgGXdl4q+5h60cYcjh5Wc6sIugUlT6tdM+JtnZIndz9gnZPscRPLE03p+dSLOOQZZNcEgJ3dO/H7e34f//TMP4lJqEajpOR5nB7kSo2na9r1ns/h2BlFJU9jETqDd+W1Bj7k2QitPXnZQhZzqTlN9QmtpjfYi9nkbMX7MoUMgPr2LKvSFRDCKZTsmicXTwIAV/I4Tad8Jy/qVRm8khKUPK/LC4/T09whL69s11TqnLQi7NDGKLsm48D1B5DMJfEPT/2DoZ+XwQ4DzNzJ48ErHE7z6fDK1zXNJGY0h64AQlI4AeFKXpPhQ56NCLq12TXZgqztlLwqu2a9k3ur43F6EPFGFO2aJxfWhrwu+SGvfCePwzEKqeAVSqns40u0hHgmLnbRRbyRpgaviIc+MnbNVvV86oX9Phtp1wSAPb178Hu7fg9fePIL2PylzXB83mGodTWeicNJnJIKpNvhbtiumS1wJY/DaQVmKHlelxcbwxv5kNdk+JBnI4IebcEreorQW01fsK9myKv3os4O9ASVC9FPLp5EyBNCX7BP9jHcrskxg9V8ZfBKrpgTD1akWMmuoERL4pCntL9hBvWCV1rV86kXZtc0WskDgCsGrkC6mMa5lXOgoIZaV+PpOKK+KAghNX9nmJLHg1c4nKYjN+Tli3nMrc7pGvIAYS/vTPxMo5fH0QAf8mxEwB1AppBR3ZOmpwi91fQGezGfmq+I2a1nz7ID3YFuRbvmqcVTuLTzUskXTAxu1+SYQYWSt7ZfpRS+wna8mA057A03VcmrF7zSqp5PvbBDGyN38hhfP/r1mvcZZV2NZ+KSHXmAgRUKTq7kcTjNJuyRHvJmV2dBQXUlto+MjuC56efwxOQTlg/Daif4kGcjWDiC2vAVOyp5vcFeUFAspNfDApiSZ2frTk+gRzF45eTiScV9PIDbNTnmUB28AkAxfIXVEoh2TV/EUsErrOdzU1iI6Y76ok3p+dSLGemaDDOtq/FMXHIfDxAqFAwpQ+dKHofTdDq8HZKOIb1F6CwMiznRrB6G1U7wIc9GMEuV2r28qcQUfC6fZPqZVZEqRBftWXa2awbk7Zr5Yh5n48r1CQDgdXrhcri4XZNjKBXBK2vKjFL4SvWQF/aGW1OhoKDsD+8dxuQnJtHl78L7LnufZQc8YP3Qxgy7ppxF1Yieqng6LvvcwsvQORz7EvaGkSvmkC1kK96vtwjdbmFY7QQf8myEZiVvrSNPyQJoNSSHPJtXKADrdk2pQIvxpXEUaVExdAUACCGKC9Ecjh402zXXVPYuv2DXjHibq+Rp2dEdig1ZftHfTLumlHUVAPqD/fjGc9/A1i9v1R3IoqTkGTHkZQtZnq7J4bQAudUQvUqe3cKw2gk+5NkI9mStNnxlamXKVlZNYH3IK69RsHuFAiAEr+SKOUkV7tTiKQBQ7MhjdHikbRQcjh6KpSKyxax4gMSUPC12zWYfPNQLXilnKGr9IS+ZS4KASA5jjcKsq1siW0BAsDmyGX+w+w/wzPQzuPund2NieUJ3IIuSktdoumaJlpAv5W19sMfh2BXZIS85AwKiGBAnhd3CsNoJPuTZCD12TTuFrgDtbdcEpAvR1XTkMcLeMN/J4xgGcwWUVygAynZNFrzCHssqFJRqF4xEi7I/FB3CxNJERZCT1UhkEwh5QqY5Lob3DmP8nnGUPlfCxD0T+O57vyvuPpejxT5FKcVSZsk0uyazifGdPA6n+cglec8kZtAd6Ibb6db0+ewWhtVO8CHPRrDTdjVKHqVUUPJsNuTF/DE4ibNiyGuH4JXuQDcA6UL0kwsn0eHpEAdcJTq8HdyuyTEMNuSVVygA9ZW8iDcCl8MFQDh4KNKiYu2CkWg59NkW24Z8KY/pxLTZl6WbZC5pSuiKEtU1NQy19qlUPoV8KW+aXbMd7vkcjl1RUvL0FKGXOwoAgIDga+/8mqV3pdsFPuTZCHYSomYnL56JI1vM2s6u6SCOmkL0dqhQ6AmuKXkS4SsnF09ie9d2VSf53K7JMRJ2YMTuLS6HCyFPSHEnbzGzKFo1ASFdE0DTahTS+TScxKnqNHkoNgQAlu5mSuQSpoSuKNGofYopvbJ2zQbTNbNFQcnjQx6H03wUhzydHXnMUfCNW78BCoqrB69u+Do59eFDno3QYtdk9Ql6+kxaTW+wFxdS7aXkKdk1Ty2eUmXVBJq//8Rpb6rtmoDwwr2eXZN15AHG9DeOjI6oDgHJFDKqD3yGosKQZ+W9vEQuYUroihKN2qfYIYBsT57DGCWPB69wOM1HKXhFj5JXzlWDVwEAnp1+tqHPw1EHH/JshBa7ph2L0Bk1Sl4b7OTJ2TXzxTzGl8ZVha4Aa0oe38njGAQ7MGL3FkB44V7Prlmu5LEXBHprFFiHktoQkHQhrfpesDmyGQQEZ+PWHfJaYddk9il2Kt/t79bUJSgqeSbZNdlOnp0P9jgcuyI15JVoCeeT57Eh1JhwcFnPZfC7/HzIaxJ8yLMRWuyadixCZ0jZNR3EIe4A2ZGQJwSv01tj1zy7dFaoT1Cp5MmVlHI4epBU8vzKSl71kBfxCnZNvUqe1g6ldCGt+sW/1+XFYHjQ2kpetvl2TUAY9F75s1cAAJ++7tOa9mOYkqdk1zREyePBKxxO02GHTuUHynOrcyjSYsNKnsvhwuUDl+OZ6Wca+jwcdfAhz0Zosmsm7G3XrK5Q8Lv8tur7q4YQgp5gbSH6yYW1ZM06HXkMlq7ZrCRDTntTHbwCCC/clZS8hfSC2JEHlCl5OnfytHYopfNpTfu522LbrD3ktcCuyYh4Iwi4A+LzhVrUKHmNVCi0g0Wfw7ErQXcQBKTi4E5vEboUVw5ciaMzRy2detwu8CHPRvhdfhAQdXbNlSn0BHrgcXqacGXG0hvsxWp+VRxm0wVtL+qsCitEL4d15KlW8jwdoKCquxI5HCWqg1cAwa4pF7xSoiXE03HJ4BW9Sp7WEBAtdk1A2MuzcvBKMpdsiZIHCIdPGzo2aE4frafkNWzXXAte4Tt5HE7zIYTU7P/rLUKX4soNVyKVT+H4/PGGPxdHGT7k2QhChMJctUqeHa2awHpXHlO9MoVMW5zo9gR6aoJXTi6eRNgbFnf26sFUE76XxzECrcErS5klUFDJnTy9Q57WEBAtwSuAMORNJ6ZFdchqJLKtU/IAYW9bq5K3lFkCAREH/GrcDjeKtIgSLem6Jq7kcTitJewNYyVnjpLHw1eaBx/ybEbAHVC3k2fDInRGdSG61pN7qyJp11w8ie2d6uoTgHWvPE/Y5BiBVPBKzB9DMpdEoVSoefxiehEApO2aOoNXWAgIcx1EfVHFEJB0XqOSt1ajMLE0oev6zKRES1jNrzY9eKWcwfCguMOtlngmjogvAgeRfgnBfpZ6LZu8DJ3DaS0d3sqQNyOVvB1dO9Dh6cAzU3wvz2z4kGczgp6garumXYe8vmAfgLIhL68+aMHKdPtr7ZonF06q3scDIJ748/AVjhFIKXlKhehsyCtX8lwOFwLuQEMHD3fsuUMcND965UcVQ0C0BK8Awk4eYM0aBTZkt8quCQhK3nRiWtOebzwTl7VqAutDnl7LJlfyOJzWUmPXTM4g6osa8jvpIA5cseEKPDvDlTyz4UOezQi66w952UIWc6k529s12ZCn1Z5lVXqCPVjJroin1LliDhPLE6r38QBu1+QYCxvyyn+/2It3qSFvIbUAABU9eYDw77KRMvT51LxoEWVfQw6twStiV54FaxTYYU2r7ZrZYhYLaeXveznxdFy2Iw+AWFSvd8jjO3kcTmuRGvKMsGoyrhy4Ei+ef7Gh3V1OffiQZzPU2DWZd9quSl5PUCgOL7drtsOJLitEZ2re2fhZlGhJdUcewO2aHGNZza/C7/JX2O7Yi3ep8BUpJQ8QUhrL9ze0MjY/tv41MouKj9Vq3x7oGIDX6bVk+EoylwTQYiVv7TBQi2UznonLJmsCZXbNkj67JlfyOJzWIhW8YoRVk3HV4FXIFrN4+cLLhn1OTi18yLMZQU+wbvCKnTvyAGGQDXlCYo0Cq1CwO9WF6CcX1+oTNCh53K7JMZJUPlUTesJevEuFrzC1p3rIa1TJO7FwAoBwMFVPydN6P3AQB7ZEt1jSrskU+Zbu5K0dBmoJX4mnzbVr8jJ0Dqe1dHgqO3lnkjOGVnJdueFKADx8xWz4kGcz1Ng12ZO1XZU8YK0QPbW+k9cudk1gPTVUa0ce0HiSIYdTzmp+taIjD1C2azIlr/oFfsQXaejf5Nj8GHwuHy4fuFz8GnLouR8MRYcsOeQxJa+ldk29Sp7CkOd2NGbX5GXoHE5rKVfyKKWCkmegXXMoOoROfycPXzEZPuTZDDVKHus8squSB6wNeWU7ee1wosvsmqxG4dTiKUR90YqkwnqwE3++k8cxAiklr55dM+qLwulwVry/2tqjlbH5Mezo2oHuQHfd3TA99u1tsW2W3slrpV1zIDQAAqJdyVNj19SbrlnkSh6H00rC3jAS2YTQjZqJI1vMGjrkEUJw5YYrefiKyfAhz2ao2cmbWpmC1+lVPGm1OuVDXrtUKEjZNbXUJwAQ96e4XZNjBEp2TcnglfRCjVUTEHby9FYoAIJdc2fXTnT5uxSVPEqpLvv2UHQI8Uxc8v9TK7GCXdPtdKM32KtaycsUMsgWs01J12SKIIfDaS5hbxgUFKu5VUPrE8q5cuBKjM6OIp1PG/p5OevwIc9mqLVrDoYHNQ0PVqM30Nt2FQqd/k4QkHW75uJJTaErgHD61ahqwuEwVnOrFR15gHCQ4Ha4JXfyFtOLkspzI/8ms4UszsTPYFf3LnT6O5HKp2SLy5nCo9muGbNmwqYVgleAta48lUre/UfvBwD8xS/+Alu/vBUjoyM1j2k0XZO5N+z8HMbh2Jny/X8ji9DLuWrwKhRpES/Ovmjo5+Wsw4c8mxF0qwhesXEROqMv1Ie51TmUaKltglecDie6Al2YW51DtpDF5PKkptAVRvVCNIejFykljxCCmD8ma9eUUvLKrT1aOR0/jRItiUoe+zpSsBNfPUoeYL2uPCtUKADC/raaIW9kdASffOyT4tsTyxO4+9/urhn0Gk3XzBayvD6Bw2kh5fv/pil5PHzFdPiQZzMC7gCyxSyKpaLsY6ZWpmy9jwcIds0iLWIxvdg2FQqAYNmcT8/j7JJQn6AldIXBXlBzOI0iFbwCCMEqS1npnrzqjjxAsGtSUFGZ0gKrT2BKHqAw5BXWhrw2UfLY73HLlby1QvR6HDh8oEZlTeVTOHD4QMX7jLBrtss9n8OxIxVDnklK3mDHIPqCfXhmmoevmAUf8mwGe0Emt5dHKW0LJY8Vok+tTKFES22RrgkI4Stzq3PryZp6lDxvR0N2zZHREWz98lY4Pu+osVsp/R2nuTTjZyGl5AFC+IqskueTVvIA6KpRYEPezu6d4pAnV6PAlDytA0DMF0PEG7GckpfMJeF3+WuCbJrNho4NmE/Ni9UFckwuT6p6f6PpmtlilidrcjgtpFrJC7qDhu8OE0Jw1eBVXMkzEVerL4CjDbY/s5pflfyFi2fiyBQybTPkTSxPANBuz7IqPcEejM2PiR15WnfygMbsmiOjI7j73+4WDwmY3Yoh93fDe4d1fT2OPpR+Tkb+LFL5FAKu2iEv5o/VDFrFUhFLmSXp4BVfBIC+ao8TCycw2DGIkCckqoR1lTyN9wNCCIZiQ5YrRE/kEi0NXWEw58d0YlpUPaXYHNks3pOr319Oo+maXMnjcFoLuy8xJc9oqybjyoEr8cirjyCRtca9sN0wVckjhPQQQg4SQv5q7e2dhJDDhJAnCSFfKHvcXxFCfr32/t1mXpPdYUqe3F6e3YvQGWzIYyfE7fKE3+3vxnxqHqcWTyHmi0la3+rRiF3zwOEDNSpwKp/C3f92d8VQUf531VYsjvnI/ZyM/lms5uTtmtXBK0uZJVBQyX+zopKnI2FzbH4Mu7p3AVgvWZerUWBWQT3KvhW78pK5ZMv38QD1hegHbzgIJ6lUHQPuAA7ecLDifQ2XoRf5Th6H00rYPT2RTRhehF7OVYNXgYLi+fPPm/L5L3bMtmv+HYAsAJaD/GUAH6KUvgnAVkLINYSQ6wH0UUrfDOAjAL4g/ak4APDc9HMAgO3/uF3SwtUORehAmZK3tKbktYtdM9iDhdQCTiyc0LWPBzRm15SzW6XyKVkLsNzHcMxDrS2uESilmuyaTF2Tq1AAtCt5lFKcmBfqEwCYFrwCCEPe+NI4KKWaP9YsErlEy/fxAPWF6MN7h9EX6oPf5QcBwZbIFtx363016rJR6ZocDqc1VNs1jd7HY7DwFV6Kbg6mDnmU0g8AeBwACCEuAD5K6fjaX/8AwBsB3Azgu2uPfxlA7SsIDgDBwvW1574GAKCgkslm7aLkdfm7QEBEa1C7POH3BHpQpEU8O/2srn08oDG7ZrWtirElsgVbIls0fQzHPOS+50b+LHLFHIq0WFOhAKwFr2SWKgYipq7JpWsC2oe82dVZLGeXRSUv4A7A4/TI7+TpDF4BhPCVTCGD88nzmj/WLKxiUVKr5BVKBcytzuFj13wMpc+VMH7PuKR92Ih0zXa553M4doQ5DES7pklDXm+wF5sjm3kpukk0M3ilB0D5M/cCgBiAXgBzZe8vEEJqrosQcjch5FlCyLNzc3PVf31RcODwAbEnilFt4WJP0mZJ683C6XCiO9AtKhftspPHCtFXsiu69vGA9U4yPYrEwRsO1ig3zG6l9Hec5tKMnwVTbuWUvCItVqRlMnVNqieP7eRpDV4pD10BhN05pUJ0vcErALAttg2AtWoUkrmkJZS8qC8Kv8tfV8k7Gz+LfCkvDuVyGJGuyYNXOJzW4XV54XF6MJ2YRjKXNG0nDxDUPB6+Yg7NHPKWAETL3o5BGO6W1/7MKFFaW7ZEKb2PUnolpfTKnp4ec6/UoqixcE2tTKEn0CM+ydqZvlBf+yl5wfV/u40oeSVaElUNLQzvHcYXblp3RJfbrYb3DuO+W+9D1Cf8mm4Kb5K0YnHMZ3jvMP73O/63+HbMFzP8Z6E05MX8wi15KbNeo6Bk19Sr5J2YPwEAFUNDp79TdidPb/AKsN6VZ6XwlUQuYYmdPEKIqkL0EwvCz4vZa+UwIl2zXe75HI5dCXvD4u+8WUoeIISvnFo8JZnozGmMpg15lNI0AC8hhPkI3w3gMIAjAN4LAISQywC81qxrshtqLFxTCft35DF6g72itaptdvICZUOezp288oVoPVzefzkA4JE7HqmxWw3vHcbXb/06AOAn7/8JH/BayK07bxX//I4d7zD8Z7GaF8Kb5IJXAFSErzALpVTwSsgTAgHRHLwyNj+GgDuAjeGN4vu6AvJKXiPBK1ujWwEod+U1u0LEKsErgLpC9GrlVQ4j0jV58AqH01oqhjwTlTx2ONj1t128uslgmt2Tdy+AhwghvwLwNKX0OIBHAHgIIUcAfBHAp5p8TbZBysLlc/kqLFzTiWnbh64wWPgK0D52zSOTR8Q/v+fB9+i6mZVHG+uBKRnMvlaNaGuzWHH0xUb5z/fpqacN//z17JoAKk5WF9OLICBiyEo5DuLQFQh0YuEEdnTtgKPMoa+o5DUQvOJ3+9Ef6pe1a7LaionlCdmdZ6NJZK0RvAIIe9z17Jon5k+gN9grqeaWw8vQORz7E/aG8dqKoLuYpeSNjI7gK099BYB81gRHP6YPeZTSX1FKP73252copW+klL6FUvr3a+8rUUo/Sim9nlL6dkrpObOvya4wO92WyBYQEDiJEwFXADdtu0l8zFRiyvb7eIzewPqQ1w5P+COjI/jMzz8jvv3aymu6bmbs5F9v+Mrp+GkQEFHZqMaKtraLEbbfdnn/5Xh14VXDrSyshkUyeEXCrrmQXkDUF5Ut7g57w7qUvOr9rk5fZ/2ePJ3KvlKNQrNqKxiUUsv05AGCkjedmFbc9R1bGKtr1QQaT9fMFniFAofTaspdBmYpeQcOH6hZPeHVTcbRbCWP0yDDe4cxfs84Sp8r4ekPP41UIYXbv3878sU8csUcLqxeaE8lrw3smgcOH0Cq0PiLyEbtmmfiZzAYHpQdnGP+GCLeiKUCKi5GmCrGDnGemTY2YlqVkpepVPKUeh0j3ogmJS+dT2N8abxmaFCyazYSvAIIKrWcQt2M2opyMoUMSrRkHSWvYxDZYlZWRQWkh3Ip2E6e3nRNruRxOK2HvdbwOr2ihd9omn3fvdjgQ56N2T+wH1+/9et4fOJx3HvoXswkZgDYvz6BUT7ktcMTvlE3MyPsmnJWTcZQzHrF0RcbTBV769BbQUAMt2wqBq/4pINXlGx6LPVVLacWT4GC1ip5/k5kChnJ3sZ0IQ0HcYhDhFaGokM4t3JOcldsU2ST5MeYVSHClHjL7OTV6cpbSC1gPjWvSslzOpxwEmdjZeg8XZPDaSlsyBvoGAAhxJSv0Yy6oIsZPuTZnDv33Yl7r70XX33mq9jzP/cAEBSjdvAzt9tOnlE3MyPsmnWHvOgQ38lrMWxg2hTZhF3duwwf8pSCVyK+CAhIhUV0Ib2gOORFfBFNFQosxKN6yFMqRM8UMkIRt84XHEOxIZRoSfJg5T2ve0/N+8ysEGFKvJXsmoCw1y0FC2BQo+QBgmWT7+RxOPZFHPJMTNZUkzXB0Q8f8tqAN/S/AQ7iQDIvdFpdSF1oi8XVdrNrGtV91ohdM51PYzoxjUtilyg+bltsG84undXVxccxBjbkRbwRXD14NZ6eetrQn4eSkucgDoS94Vq7pkRHHkOrkseGhuoqETZIShWip/Pphu4FbN9USqV+dvpZdPm7EPUKVtWN4Y2mVoiwDkKr2DXZLrdcwqZU3YUSHqdHV7pmsVREoVTgQx6H02LKlTyzqM6aICDY2
