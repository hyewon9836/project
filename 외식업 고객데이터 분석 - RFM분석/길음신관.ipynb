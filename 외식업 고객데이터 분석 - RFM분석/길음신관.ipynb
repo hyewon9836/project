{
 "cells": [
  {
   "cell_type": "markdown",
   "metadata": {},
   "source": [
    "## 라이브러리"
   ]
  },
  {
   "cell_type": "code",
   "execution_count": 2,
   "metadata": {},
   "outputs": [],
   "source": [
    "# 데이터 분석 기본 라이브러리 관련\n",
    "import os\n",
    "import sys\n",
    "import warnings\n",
    "from tqdm import tqdm_notebook\n",
    "\n",
    "import numpy as np\n",
    "import pandas as pd\n",
    "\n",
    "# EDA 관련\n",
    "import matplotlib\n",
    "import seaborn as sns\n",
    "import matplotlib as mpl\n",
    "import matplotlib.pyplot as plt\n",
    "\n",
    "# 데이터 전처리 관련\n",
    "from datetime import datetime\n",
    "import datetime as dt\n",
    "from sklearn.model_selection import train_test_split\n",
    "from sklearn.preprocessing import LabelEncoder"
   ]
  },
  {
   "cell_type": "code",
   "execution_count": 3,
   "metadata": {},
   "outputs": [],
   "source": [
    "from mpl_toolkits.mplot3d import Axes3D\n",
    "import matplotlib.pyplot as plt"
   ]
  },
  {
   "cell_type": "code",
   "execution_count": 4,
   "metadata": {},
   "outputs": [],
   "source": [
    "warnings.filterwarnings(action='ignore')\n",
    "pd.set_option('display.max_columns', 100)\n",
    "mpl.rcParams['font.family'] = 'Malgun Gothic'\n",
    "mpl.rcParams['axes.unicode_minus'] = False"
   ]
  },
  {
   "cell_type": "markdown",
   "metadata": {},
   "source": [
    "## 전체적으로 사용되는 함수"
   ]
  },
  {
   "cell_type": "code",
   "execution_count": 5,
   "metadata": {},
   "outputs": [],
   "source": [
    "def MSG(x):\n",
    "    if x['SMS\\n수신여부']=='수신':\n",
    "        return 'Y'\n",
    "    else:\n",
    "        return 'N'\n",
    "    \n",
    "def DateToStr1(x):\n",
    "    return str(x['최종접수일'])\n",
    "\n",
    "def DateToStr2(x):\n",
    "    return str(x['가입일'])\n",
    "\n",
    "def DateToStr3(x):\n",
    "    return str(x['최종방문일▼'])\n",
    "\n",
    "def DateToStr4(x):\n",
    "    return str(x['최종방문일'])\n",
    "\n",
    "def StringToStr(x):\n",
    "    return str(x['고객번호'])"
   ]
  },
  {
   "cell_type": "markdown",
   "metadata": {},
   "source": [
    "---\n",
    "## 데이터불러오기"
   ]
  },
  {
   "cell_type": "code",
   "execution_count": 36,
   "metadata": {},
   "outputs": [],
   "source": [
    "pos=pd.read_excel('./고객data/꿈꾸는이상(주) 길음신관_고객현황조회_20210316.xlsx')"
   ]
  },
  {
   "cell_type": "code",
   "execution_count": 37,
   "metadata": {},
   "outputs": [],
   "source": [
    "res=pd.read_excel('./고객data/(갈비명가이상 길음신관)데이터_20210415.xlsx')"
   ]
  },
  {
   "cell_type": "code",
   "execution_count": 38,
   "metadata": {},
   "outputs": [],
   "source": [
    "excel=pd.read_excel('./고객data/2018 04 길신.xlsx')"
   ]
  },
  {
   "cell_type": "code",
   "execution_count": 39,
   "metadata": {},
   "outputs": [],
   "source": [
    "msg=pd.read_excel('./고객data/뿌리오지점별고객리스트.xlsx',skiprows=2)"
   ]
  },
  {
   "cell_type": "code",
   "execution_count": 40,
   "metadata": {},
   "outputs": [],
   "source": [
    "pur=pd.read_excel('./고객data/고객구매정보_2004_2103.xlsx')"
   ]
  },
  {
   "cell_type": "markdown",
   "metadata": {},
   "source": [
    "## 1) 포스데이터"
   ]
  },
  {
   "cell_type": "code",
   "execution_count": 41,
   "metadata": {},
   "outputs": [
    {
     "name": "stdout",
     "output_type": "stream",
     "text": [
      "(14519, 21)\n"
     ]
    }
   ],
   "source": [
    "print(pos.shape)"
   ]
  },
  {
   "cell_type": "code",
   "execution_count": null,
   "metadata": {},
   "outputs": [],
   "source": [
    "pos.head()"
   ]
  },
  {
   "cell_type": "markdown",
   "metadata": {},
   "source": [
    "#### 1. 각 열에 결측값 확인"
   ]
  },
  {
   "cell_type": "code",
   "execution_count": 42,
   "metadata": {},
   "outputs": [
    {
     "data": {
      "text/plain": [
       "고객번호             0\n",
       "고객명              0\n",
       "매장명              0\n",
       "등급               0\n",
       "성별               0\n",
       "생년월일         13044\n",
       "전화번호            58\n",
       "핸드폰번호            1\n",
       "구매금액             0\n",
       "구매횟수             0\n",
       "포인트              0\n",
       "가입일              0\n",
       "최종방문일▼           0\n",
       "우편번호         14279\n",
       "주소           14335\n",
       "상세주소         14355\n",
       "메일주소         14457\n",
       "SMS\\n수신여부        0\n",
       "기념일          14518\n",
       "비고           14518\n",
       "dtype: int64"
      ]
     },
     "execution_count": 42,
     "metadata": {},
     "output_type": "execute_result"
    }
   ],
   "source": [
    "pos.drop('NO',axis=1,inplace=True)\n",
    "pos.isnull().sum()"
   ]
  },
  {
   "cell_type": "markdown",
   "metadata": {},
   "source": [
    "-> 생년월일, 전화번호, 우편번호, 주소, 상세주소, 메일주소, 기념일, 비고에 대해서 결측치 존재( 대부분의 데이터가 결측임 )\n",
    "#### 2. 정보가 있는 데이터만 가져와서 새로운 데이터 셋 생성"
   ]
  },
  {
   "cell_type": "code",
   "execution_count": 43,
   "metadata": {},
   "outputs": [],
   "source": [
    "pos.drop(['생년월일','전화번호','우편번호','주소','상세주소','메일주소','기념일','비고'],axis=1,inplace=True)"
   ]
  },
  {
   "cell_type": "code",
   "execution_count": null,
   "metadata": {},
   "outputs": [],
   "source": [
    "pos"
   ]
  },
  {
   "cell_type": "markdown",
   "metadata": {},
   "source": [
    "#### 3. easyPOS안의 길음신관 고객수"
   ]
  },
  {
   "cell_type": "code",
   "execution_count": 44,
   "metadata": {
    "scrolled": true
   },
   "outputs": [
    {
     "data": {
      "text/plain": [
       "14519"
      ]
     },
     "execution_count": 44,
     "metadata": {},
     "output_type": "execute_result"
    }
   ],
   "source": [
    "pos['고객번호'].nunique()"
   ]
  },
  {
   "cell_type": "markdown",
   "metadata": {},
   "source": [
    "#### 4. easyPOS안의 고객들의 기존 등급"
   ]
  },
  {
   "cell_type": "code",
   "execution_count": 45,
   "metadata": {},
   "outputs": [
    {
     "data": {
      "text/plain": [
       "array(['일반', 'VIP 블루', 'VVIP회원', 'VIP 퍼플', '사용안함', 'VIP 블랙'], dtype=object)"
      ]
     },
     "execution_count": 45,
     "metadata": {},
     "output_type": "execute_result"
    }
   ],
   "source": [
    "pos['등급'].unique()"
   ]
  },
  {
   "cell_type": "code",
   "execution_count": 46,
   "metadata": {
    "scrolled": true
   },
   "outputs": [
    {
     "data": {
      "text/html": [
       "<div>\n",
       "<style scoped>\n",
       "    .dataframe tbody tr th:only-of-type {\n",
       "        vertical-align: middle;\n",
       "    }\n",
       "\n",
       "    .dataframe tbody tr th {\n",
       "        vertical-align: top;\n",
       "    }\n",
       "\n",
       "    .dataframe thead th {\n",
       "        text-align: right;\n",
       "    }\n",
       "</style>\n",
       "<table border=\"1\" class=\"dataframe\">\n",
       "  <thead>\n",
       "    <tr style=\"text-align: right;\">\n",
       "      <th></th>\n",
       "      <th>index</th>\n",
       "      <th>등급</th>\n",
       "    </tr>\n",
       "  </thead>\n",
       "  <tbody>\n",
       "    <tr>\n",
       "      <th>0</th>\n",
       "      <td>일반</td>\n",
       "      <td>14474</td>\n",
       "    </tr>\n",
       "    <tr>\n",
       "      <th>1</th>\n",
       "      <td>VIP 블루</td>\n",
       "      <td>23</td>\n",
       "    </tr>\n",
       "    <tr>\n",
       "      <th>2</th>\n",
       "      <td>VIP 퍼플</td>\n",
       "      <td>16</td>\n",
       "    </tr>\n",
       "    <tr>\n",
       "      <th>3</th>\n",
       "      <td>VIP 블랙</td>\n",
       "      <td>4</td>\n",
       "    </tr>\n",
       "    <tr>\n",
       "      <th>4</th>\n",
       "      <td>VVIP회원</td>\n",
       "      <td>1</td>\n",
       "    </tr>\n",
       "    <tr>\n",
       "      <th>5</th>\n",
       "      <td>사용안함</td>\n",
       "      <td>1</td>\n",
       "    </tr>\n",
       "  </tbody>\n",
       "</table>\n",
       "</div>"
      ],
      "text/plain": [
       "    index     등급\n",
       "0      일반  14474\n",
       "1  VIP 블루     23\n",
       "2  VIP 퍼플     16\n",
       "3  VIP 블랙      4\n",
       "4  VVIP회원      1\n",
       "5    사용안함      1"
      ]
     },
     "execution_count": 46,
     "metadata": {},
     "output_type": "execute_result"
    }
   ],
   "source": [
    "a=pos['등급'].value_counts().reset_index()\n",
    "a"
   ]
  },
  {
   "cell_type": "code",
   "execution_count": null,
   "metadata": {},
   "outputs": [],
   "source": [
    "pos[pos['등급']=='VIP 블루']"
   ]
  },
  {
   "cell_type": "code",
   "execution_count": null,
   "metadata": {},
   "outputs": [],
   "source": [
    "pos[pos['등급']=='VIP 퍼플']"
   ]
  },
  {
   "cell_type": "code",
   "execution_count": null,
   "metadata": {},
   "outputs": [],
   "source": [
    "pos[(pos['등급']=='VIP 블랙')|(pos['등급']=='VVIP회원')|(pos['등급']=='사용안함')]"
   ]
  },
  {
   "cell_type": "code",
   "execution_count": 48,
   "metadata": {},
   "outputs": [
    {
     "data": {
      "text/html": [
       "<div>\n",
       "<style scoped>\n",
       "    .dataframe tbody tr th:only-of-type {\n",
       "        vertical-align: middle;\n",
       "    }\n",
       "\n",
       "    .dataframe tbody tr th {\n",
       "        vertical-align: top;\n",
       "    }\n",
       "\n",
       "    .dataframe thead th {\n",
       "        text-align: right;\n",
       "    }\n",
       "</style>\n",
       "<table border=\"1\" class=\"dataframe\">\n",
       "  <thead>\n",
       "    <tr style=\"text-align: right;\">\n",
       "      <th>등급</th>\n",
       "      <th>VIP 블랙</th>\n",
       "      <th>VIP 블루</th>\n",
       "      <th>VIP 퍼플</th>\n",
       "      <th>VVIP회원</th>\n",
       "      <th>사용안함</th>\n",
       "      <th>일반</th>\n",
       "    </tr>\n",
       "    <tr>\n",
       "      <th>성별</th>\n",
       "      <th></th>\n",
       "      <th></th>\n",
       "      <th></th>\n",
       "      <th></th>\n",
       "      <th></th>\n",
       "      <th></th>\n",
       "    </tr>\n",
       "  </thead>\n",
       "  <tbody>\n",
       "    <tr>\n",
       "      <th>남자</th>\n",
       "      <td>3.0</td>\n",
       "      <td>11.0</td>\n",
       "      <td>13.0</td>\n",
       "      <td>1.0</td>\n",
       "      <td>0.0</td>\n",
       "      <td>6386.0</td>\n",
       "    </tr>\n",
       "    <tr>\n",
       "      <th>여자</th>\n",
       "      <td>1.0</td>\n",
       "      <td>12.0</td>\n",
       "      <td>3.0</td>\n",
       "      <td>0.0</td>\n",
       "      <td>1.0</td>\n",
       "      <td>8088.0</td>\n",
       "    </tr>\n",
       "  </tbody>\n",
       "</table>\n",
       "</div>"
      ],
      "text/plain": [
       "등급  VIP 블랙  VIP 블루  VIP 퍼플  VVIP회원  사용안함      일반\n",
       "성별                                              \n",
       "남자     3.0    11.0    13.0     1.0   0.0  6386.0\n",
       "여자     1.0    12.0     3.0     0.0   1.0  8088.0"
      ]
     },
     "execution_count": 48,
     "metadata": {},
     "output_type": "execute_result"
    }
   ],
   "source": [
    "pos.groupby(['성별','등급']).size().unstack().fillna(0)"
   ]
  },
  {
   "cell_type": "markdown",
   "metadata": {},
   "source": [
    "#### 5. 달 별 가입한 고객의 수 & 그래프"
   ]
  },
  {
   "cell_type": "code",
   "execution_count": 49,
   "metadata": {},
   "outputs": [
    {
     "data": {
      "text/html": [
       "<div>\n",
       "<style scoped>\n",
       "    .dataframe tbody tr th:only-of-type {\n",
       "        vertical-align: middle;\n",
       "    }\n",
       "\n",
       "    .dataframe tbody tr th {\n",
       "        vertical-align: top;\n",
       "    }\n",
       "\n",
       "    .dataframe thead th {\n",
       "        text-align: right;\n",
       "    }\n",
       "</style>\n",
       "<table border=\"1\" class=\"dataframe\">\n",
       "  <thead>\n",
       "    <tr style=\"text-align: right;\">\n",
       "      <th></th>\n",
       "      <th>가입일</th>\n",
       "    </tr>\n",
       "  </thead>\n",
       "  <tbody>\n",
       "    <tr>\n",
       "      <th>2011-05-31</th>\n",
       "      <td>197</td>\n",
       "    </tr>\n",
       "    <tr>\n",
       "      <th>2011-06-30</th>\n",
       "      <td>295</td>\n",
       "    </tr>\n",
       "    <tr>\n",
       "      <th>2011-07-31</th>\n",
       "      <td>189</td>\n",
       "    </tr>\n",
       "    <tr>\n",
       "      <th>2011-08-31</th>\n",
       "      <td>192</td>\n",
       "    </tr>\n",
       "    <tr>\n",
       "      <th>2011-09-30</th>\n",
       "      <td>99</td>\n",
       "    </tr>\n",
       "    <tr>\n",
       "      <th>...</th>\n",
       "      <td>...</td>\n",
       "    </tr>\n",
       "    <tr>\n",
       "      <th>2020-08-31</th>\n",
       "      <td>82</td>\n",
       "    </tr>\n",
       "    <tr>\n",
       "      <th>2020-09-30</th>\n",
       "      <td>71</td>\n",
       "    </tr>\n",
       "    <tr>\n",
       "      <th>2020-10-31</th>\n",
       "      <td>83</td>\n",
       "    </tr>\n",
       "    <tr>\n",
       "      <th>2020-11-30</th>\n",
       "      <td>75</td>\n",
       "    </tr>\n",
       "    <tr>\n",
       "      <th>2020-12-31</th>\n",
       "      <td>59</td>\n",
       "    </tr>\n",
       "  </tbody>\n",
       "</table>\n",
       "<p>116 rows × 1 columns</p>\n",
       "</div>"
      ],
      "text/plain": [
       "            가입일\n",
       "2011-05-31  197\n",
       "2011-06-30  295\n",
       "2011-07-31  189\n",
       "2011-08-31  192\n",
       "2011-09-30   99\n",
       "...         ...\n",
       "2020-08-31   82\n",
       "2020-09-30   71\n",
       "2020-10-31   83\n",
       "2020-11-30   75\n",
       "2020-12-31   59\n",
       "\n",
       "[116 rows x 1 columns]"
      ]
     },
     "execution_count": 49,
     "metadata": {},
     "output_type": "execute_result"
    }
   ],
   "source": [
    "a=pd.DataFrame(pos['가입일'].value_counts())\n",
    "a=a.resample('1M').sum()\n",
    "a"
   ]
  },
  {
   "cell_type": "code",
   "execution_count": 50,
   "metadata": {},
   "outputs": [
    {
     "data": {
      "text/plain": [
       "Text(0.5, 1.0, '월별 길음신관 신규 가입자 수')"
      ]
     },
     "execution_count": 50,
     "metadata": {},
     "output_type": "execute_result"
    },
    {
     "data": {
      "image/png": "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\n",
      "text/plain": [
       "<Figure size 1080x720 with 1 Axes>"
      ]
     },
     "metadata": {
      "needs_background": "light"
     },
     "output_type": "display_data"
    }
   ],
   "source": [
    "plt.figure(figsize=(15,10))\n",
    "plt.plot(a.index,a['가입일'], marker=\"o\", color = \"green\")\n",
    "plt.xlabel('가입시기')\n",
    "plt.ylabel('가입자 수(명)')\n",
    "plt.title('월별 길음신관 신규 가입자 수')"
   ]
  },
  {
   "cell_type": "markdown",
   "metadata": {},
   "source": [
    "#### 6. 달 별 최종방문한 고객수 & 그래프"
   ]
  },
  {
   "cell_type": "code",
   "execution_count": 51,
   "metadata": {},
   "outputs": [
    {
     "data": {
      "text/plain": [
       "Text(0.5, 1.0, '월별 길음신관 최종 방문자 수')"
      ]
     },
     "execution_count": 51,
     "metadata": {},
     "output_type": "execute_result"
    },
    {
     "data": {
      "image/png": "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\n",
      "text/plain": [
       "<Figure size 1080x720 with 1 Axes>"
      ]
     },
     "metadata": {
      "needs_background": "light"
     },
     "output_type": "display_data"
    }
   ],
   "source": [
    "a=pd.DataFrame(pos['최종방문일▼'].value_counts())\n",
    "a=a.resample('1M').sum()\n",
    "plt.figure(figsize=(15,10))\n",
    "plt.plot(a.index,a['최종방문일▼'], marker=\"o\", color = \"red\")\n",
    "plt.xlabel('최종 방문 시기')\n",
    "plt.ylabel('방문자수(명)')\n",
    "plt.title('월별 길음신관 최종 방문자 수')"
   ]
  },
  {
   "cell_type": "markdown",
   "metadata": {},
   "source": [
    "#### 다른 데이터 셋과 merge하기 위한 작업"
   ]
  },
  {
   "cell_type": "code",
   "execution_count": 52,
   "metadata": {},
   "outputs": [],
   "source": [
    "pos['문자수신여부']=pos.apply(MSG,axis=1)\n",
    "pos.drop('SMS\\n수신여부',axis=1,inplace=True)"
   ]
  },
  {
   "cell_type": "code",
   "execution_count": 53,
   "metadata": {},
   "outputs": [],
   "source": [
    "pos['연락처']=pos['핸드폰번호'].str.replace(\"-\",\"\")\n",
    "pos.drop('핸드폰번호',axis=1,inplace=True)"
   ]
  },
  {
   "cell_type": "code",
   "execution_count": 54,
   "metadata": {},
   "outputs": [],
   "source": [
    "pos['고객번호']=pos.apply(StringToStr,axis=1)\n",
    "pos['고객번호']=pos['고객번호'].str.pad(width=8,side='left',fillchar='0')"
   ]
  },
  {
   "cell_type": "code",
   "execution_count": 55,
   "metadata": {},
   "outputs": [],
   "source": [
    "pos['최종방문일▼']=pos.apply(DateToStr3,axis=1)"
   ]
  },
  {
   "cell_type": "code",
   "execution_count": 56,
   "metadata": {},
   "outputs": [],
   "source": [
    "pos.rename(columns={'최종방문일▼':'최종방문일'},inplace=True)"
   ]
  },
  {
   "cell_type": "markdown",
   "metadata": {},
   "source": [
    "#### 7. pos에 대한 최종 데이터 셋\n",
    "- 정보가 없는 변수 제거 : 생년월일, 우편번호, 주소, 상세주소, 메일주소, 기념일 ,비고\n",
    "- 변형 이유 : 다른 데이터 셋과 형태를 동일하게 만들기 위함\n",
    "- 변형한 변수\\\n",
    "최종방문일▼ => 최종방문일\n",
    "연락처(000-0000-0000 => 00000000000)\\\n",
    "SMS\\n수신여부(미수신, 수신) => 문자수신여부(N,Y)"
   ]
  },
  {
   "cell_type": "code",
   "execution_count": null,
   "metadata": {},
   "outputs": [],
   "source": [
    "pos.head()"
   ]
  },
  {
   "cell_type": "markdown",
   "metadata": {},
   "source": [
    "## 예약고객"
   ]
  },
  {
   "cell_type": "code",
   "execution_count": null,
   "metadata": {},
   "outputs": [],
   "source": [
    "res.head()"
   ]
  },
  {
   "cell_type": "markdown",
   "metadata": {},
   "source": [
    "#### 1. 총 3792명의 길음신관 예약고객"
   ]
  },
  {
   "cell_type": "code",
   "execution_count": 57,
   "metadata": {},
   "outputs": [
    {
     "data": {
      "text/plain": [
       "(3792, 18)"
      ]
     },
     "execution_count": 57,
     "metadata": {},
     "output_type": "execute_result"
    }
   ],
   "source": [
    "res.shape"
   ]
  },
  {
   "cell_type": "markdown",
   "metadata": {},
   "source": [
    "#### 2. 총 예약횟수 = 예약완료 + 취소 + 노쇼\n",
    "- 모든 데이터가 이를 만족함 (오류X)"
   ]
  },
  {
   "cell_type": "code",
   "execution_count": 58,
   "metadata": {},
   "outputs": [
    {
     "data": {
      "text/plain": [
       "(3792, 18)"
      ]
     },
     "execution_count": 58,
     "metadata": {},
     "output_type": "execute_result"
    }
   ],
   "source": [
    "res[res['총 예약횟수'] == (res['예약완료']+ res['취소'] + res['노쇼'])].shape"
   ]
  },
  {
   "cell_type": "markdown",
   "metadata": {},
   "source": [
    "#### 3. 별칭은 통일되는 정보가 없음\n",
    "- 별칭에 이름이 적혀있는 정보가 있음 -> 고객명 수정\n",
    "- 나머지는 변수에서 제외"
   ]
  },
  {
   "cell_type": "code",
   "execution_count": 59,
   "metadata": {
    "scrolled": true
   },
   "outputs": [
    {
     "data": {
      "text/plain": [
       "array(['-', '미역국', '길음복지관', '안희광'], dtype=object)"
      ]
     },
     "execution_count": 59,
     "metadata": {},
     "output_type": "execute_result"
    }
   ],
   "source": [
    "res['별칭'].unique()"
   ]
  },
  {
   "cell_type": "code",
   "execution_count": null,
   "metadata": {},
   "outputs": [],
   "source": [
    "res[res['별칭']!='-']"
   ]
  },
  {
   "cell_type": "markdown",
   "metadata": {},
   "source": [
    "#### 4. 예약시 특징에 대한 정보가 채워져 있음\n",
    "- 예약시마다 달라지는 개인적인 내용이기 때문에 변수에서 제외"
   ]
  },
  {
   "cell_type": "code",
   "execution_count": 60,
   "metadata": {},
   "outputs": [
    {
     "data": {
      "text/plain": [
       "array(['-', '미역국', '갈비탕', '증명서', '탕', '생일상요청(환갑}', '왕본이지만 단독으로.....',\n",
       "       '가족관계증명서', '이상', '배영순님에약자', '이상정식', '청난회', '전화드림', '가족관계증명서, 회갑연',\n",
       "       '가족관계증명서 확인', '증명서확인', '돌잔치 증명서'], dtype=object)"
      ]
     },
     "execution_count": 60,
     "metadata": {},
     "output_type": "execute_result"
    }
   ],
   "source": [
    "res['고객메모'].unique()"
   ]
  },
  {
   "cell_type": "markdown",
   "metadata": {},
   "source": [
    "#### 5. 고객그룹은 -, test로 이루어져 있음\n",
    "- 고객그룹이 test인 고객정보"
   ]
  },
  {
   "cell_type": "code",
   "execution_count": 61,
   "metadata": {},
   "outputs": [
    {
     "data": {
      "text/plain": [
       "array(['-', 'test'], dtype=object)"
      ]
     },
     "execution_count": 61,
     "metadata": {},
     "output_type": "execute_result"
    }
   ],
   "source": [
    "res['고객그룹'].unique()"
   ]
  },
  {
   "cell_type": "code",
   "execution_count": null,
   "metadata": {},
   "outputs": [],
   "source": [
    "res[res['고객그룹']=='test']"
   ]
  },
  {
   "cell_type": "markdown",
   "metadata": {},
   "source": [
    "#### 6. 메뉴 이용 금액에 대한 정보가 완전치 못함\n",
    "- 변수에서 제외"
   ]
  },
  {
   "cell_type": "code",
   "execution_count": 62,
   "metadata": {
    "scrolled": true
   },
   "outputs": [
    {
     "data": {
      "text/plain": [
       "array([     0, 248000,  81000], dtype=int64)"
      ]
     },
     "execution_count": 62,
     "metadata": {},
     "output_type": "execute_result"
    }
   ],
   "source": [
    "res['메뉴이용금액'].unique()"
   ]
  },
  {
   "cell_type": "code",
   "execution_count": null,
   "metadata": {},
   "outputs": [],
   "source": [
    "res[res['메뉴이용금액']!=0]"
   ]
  },
  {
   "cell_type": "markdown",
   "metadata": {},
   "source": [
    "#### 7. 노쇼레벨별 차이점을 명확히 하기 어려움\n",
    "- 변수에서 제외"
   ]
  },
  {
   "cell_type": "code",
   "execution_count": 63,
   "metadata": {
    "scrolled": false
   },
   "outputs": [
    {
     "data": {
      "text/plain": [
       "array([0, 3, 1, 2], dtype=int64)"
      ]
     },
     "execution_count": 63,
     "metadata": {},
     "output_type": "execute_result"
    }
   ],
   "source": [
    "res['노쇼레벨'].unique()"
   ]
  },
  {
   "cell_type": "code",
   "execution_count": null,
   "metadata": {},
   "outputs": [],
   "source": [
    "res[res['노쇼레벨']==0]"
   ]
  },
  {
   "cell_type": "code",
   "execution_count": null,
   "metadata": {},
   "outputs": [],
   "source": [
    "res[res['노쇼레벨']==1]"
   ]
  },
  {
   "cell_type": "code",
   "execution_count": null,
   "metadata": {},
   "outputs": [],
   "source": [
    "res[res['노쇼레벨']==2]"
   ]
  },
  {
   "cell_type": "code",
   "execution_count": null,
   "metadata": {},
   "outputs": [],
   "source": [
    "res[res['노쇼레벨']==3]"
   ]
  },
  {
   "cell_type": "markdown",
   "metadata": {},
   "source": [
    "#### 8. 정보가 불충분한 고객번호, 별칭, 고객메모, 고객그룹, 메뉴이용금액, 수신거부일, 노쇼레벨을 변수에서 제거"
   ]
  },
  {
   "cell_type": "code",
   "execution_count": 64,
   "metadata": {},
   "outputs": [],
   "source": [
    "res.drop(['고객번호','별칭','고객메모','고객그룹','메뉴이용금액','수신거부일','노쇼레벨'],axis=1,inplace=True)"
   ]
  },
  {
   "cell_type": "code",
   "execution_count": null,
   "metadata": {},
   "outputs": [],
   "source": [
    "res.head()"
   ]
  },
  {
   "cell_type": "markdown",
   "metadata": {},
   "source": [
    "#### 다른 데이터 셋과 merge하기 위한 작업"
   ]
  },
  {
   "cell_type": "code",
   "execution_count": 65,
   "metadata": {},
   "outputs": [],
   "source": [
    "res.replace('-',np.nan,inplace=True)"
   ]
  },
  {
   "cell_type": "code",
   "execution_count": null,
   "metadata": {},
   "outputs": [],
   "source": [
    "res.head()"
   ]
  },
  {
   "cell_type": "code",
   "execution_count": 66,
   "metadata": {},
   "outputs": [],
   "source": [
    "res['0']=0\n",
    "cols=['0','휴대전화번호']\n",
    "res['휴대전화번호']=res[cols].apply(lambda row:\"\".join(row.values.astype(str)),axis=1)\n",
    "res.drop('0',axis=1,inplace=True)"
   ]
  },
  {
   "cell_type": "code",
   "execution_count": null,
   "metadata": {},
   "outputs": [],
   "source": [
    "res.head()"
   ]
  },
  {
   "cell_type": "code",
   "execution_count": 67,
   "metadata": {},
   "outputs": [],
   "source": [
    "res['최종접수일']=res.apply(DateToStr1,axis=1)\n",
    "res['가입일']=res.apply(DateToStr2,axis=1)\n",
    "res['최종방문일']=res.apply(DateToStr4,axis=1)\n",
    "res['최종접수일']=res['최종접수일'].str[:10]\n",
    "res['가입일']=res['가입일'].str[:10]\n",
    "res.rename(columns={'휴대전화번호':'연락처'},inplace=True)"
   ]
  },
  {
   "cell_type": "markdown",
   "metadata": {},
   "source": [
    "#### 9. 최종 예약 고객 데이터\n",
    "- 정보가 없는 변수 제거 : 고객번호, 별칭, 고객메모, 고객그룹, 메뉴이용금액, 수신거부일, 노쇼레벨\n",
    "- 변형이유 : 다른 데이터 셋과 형태를 동일하게 만들기 위해\n",
    "- 변형한 변수 : \\\n",
    "연락처(0000000000 => 00000000000)"
   ]
  },
  {
   "cell_type": "code",
   "execution_count": null,
   "metadata": {},
   "outputs": [],
   "source": [
    "res.head()"
   ]
  },
  {
   "cell_type": "markdown",
   "metadata": {},
   "source": [
    "## 3) 엑셀고객"
   ]
  },
  {
   "cell_type": "code",
   "execution_count": null,
   "metadata": {},
   "outputs": [],
   "source": [
    "excel"
   ]
  },
  {
   "cell_type": "markdown",
   "metadata": {},
   "source": [
    "#### 다른 데이터 셋과 merge하기 위한 작업"
   ]
  },
  {
   "cell_type": "code",
   "execution_count": 68,
   "metadata": {},
   "outputs": [],
   "source": [
    "excel['0']=0\n",
    "cols=['0','연락처']\n",
    "excel['연락처']=excel[cols].apply(lambda row:\"\".join(row.values.astype(str)),axis=1)\n",
    "excel.drop('0',axis=1,inplace=True)"
   ]
  },
  {
   "cell_type": "code",
   "execution_count": null,
   "metadata": {},
   "outputs": [],
   "source": [
    "excel.head()"
   ]
  },
  {
   "cell_type": "code",
   "execution_count": 69,
   "metadata": {},
   "outputs": [
    {
     "data": {
      "text/plain": [
       "11    341\n",
       "10      2\n",
       "Name: 연락처, dtype: int64"
      ]
     },
     "execution_count": 69,
     "metadata": {},
     "output_type": "execute_result"
    }
   ],
   "source": [
    "excel.연락처.apply(lambda x: len(x)).value_counts()"
   ]
  },
  {
   "cell_type": "markdown",
   "metadata": {},
   "source": [
    "#### 이상하게 입력된 전화번호 삭제"
   ]
  },
  {
   "cell_type": "code",
   "execution_count": null,
   "metadata": {},
   "outputs": [],
   "source": [
    "excel[excel.연락처.apply(lambda x: len(x))==10]"
   ]
  },
  {
   "cell_type": "code",
   "execution_count": 70,
   "metadata": {},
   "outputs": [],
   "source": [
    "excel=excel[excel.연락처.apply(lambda x: len(x))==11]"
   ]
  },
  {
   "cell_type": "markdown",
   "metadata": {},
   "source": [
    "#### 엑셀 길음신관 데이터 고객 341명"
   ]
  },
  {
   "cell_type": "code",
   "execution_count": null,
   "metadata": {},
   "outputs": [],
   "source": [
    "excel"
   ]
  },
  {
   "cell_type": "code",
   "execution_count": 71,
   "metadata": {},
   "outputs": [
    {
     "data": {
      "text/plain": [
       "341"
      ]
     },
     "execution_count": 71,
     "metadata": {},
     "output_type": "execute_result"
    }
   ],
   "source": [
    "excel['연락처'].nunique()"
   ]
  },
  {
   "cell_type": "markdown",
   "metadata": {},
   "source": [
    "## 뿌리오 문자"
   ]
  },
  {
   "cell_type": "code",
   "execution_count": null,
   "metadata": {},
   "outputs": [],
   "source": [
    "msg.head()"
   ]
  },
  {
   "cell_type": "markdown",
   "metadata": {},
   "source": [
    "#### 뿌리오 길음신관 고객수 19445명"
   ]
  },
  {
   "cell_type": "code",
   "execution_count": 72,
   "metadata": {},
   "outputs": [
    {
     "data": {
      "text/plain": [
       "(19445, 3)"
      ]
     },
     "execution_count": 72,
     "metadata": {},
     "output_type": "execute_result"
    }
   ],
   "source": [
    "msg.shape"
   ]
  },
  {
   "cell_type": "markdown",
   "metadata": {},
   "source": [
    "#### 다른 데이터 셋과 합치기 위해\n",
    "- 성함 -> 고객명\n",
    "- 전화번호 -> 연락처"
   ]
  },
  {
   "cell_type": "code",
   "execution_count": 73,
   "metadata": {},
   "outputs": [],
   "source": [
    "msg.drop('No.',axis=1,inplace=True)\n",
    "msg.rename(columns={'성함':'고객명','전화번호':'연락처'},inplace=True)\n",
    "msg['연락처']=msg['연락처'].str.replace('-','')"
   ]
  },
  {
   "cell_type": "code",
   "execution_count": null,
   "metadata": {},
   "outputs": [],
   "source": [
    "msg.head()"
   ]
  },
  {
   "cell_type": "code",
   "execution_count": 74,
   "metadata": {},
   "outputs": [
    {
     "data": {
      "text/plain": [
       "11    19290\n",
       "10      155\n",
       "Name: 연락처, dtype: int64"
      ]
     },
     "execution_count": 74,
     "metadata": {},
     "output_type": "execute_result"
    }
   ],
   "source": [
    "msg.연락처.apply(lambda x: len(x)).value_counts()"
   ]
  },
  {
   "cell_type": "code",
   "execution_count": null,
   "metadata": {},
   "outputs": [],
   "source": [
    "msg[msg.연락처.apply(lambda x: len(x))==10]"
   ]
  },
  {
   "cell_type": "markdown",
   "metadata": {},
   "source": [
    "- 10자리 연락처 -> 과거에 사용되었던 연락처\n",
    "- 11자리 연락처만 최종 데이터 셋으로 선정"
   ]
  },
  {
   "cell_type": "code",
   "execution_count": 75,
   "metadata": {},
   "outputs": [],
   "source": [
    "msg=msg[msg.연락처.apply(lambda x: len(x))==11]"
   ]
  },
  {
   "cell_type": "markdown",
   "metadata": {},
   "source": [
    "---\n",
    "## 연락처 처리 \n",
    "#### 1) 엑셀데이터(excel) + 뿌리오 데이터(msg)"
   ]
  },
  {
   "cell_type": "code",
   "execution_count": 76,
   "metadata": {},
   "outputs": [],
   "source": [
    "phone=pd.merge(excel,msg,how='outer',on='연락처')"
   ]
  },
  {
   "cell_type": "code",
   "execution_count": null,
   "metadata": {},
   "outputs": [],
   "source": [
    "phone"
   ]
  },
  {
   "cell_type": "code",
   "execution_count": 77,
   "metadata": {},
   "outputs": [
    {
     "name": "stdout",
     "output_type": "stream",
     "text": [
      "(50, 3)\n"
     ]
    }
   ],
   "source": [
    "notsame=phone[(phone['고객명_x'].isnull()==0)&(phone['고객명_y'].isnull()==0)&(phone['고객명_x']!=phone['고객명_y'])]\n",
    "print(notsame.shape)"
   ]
  },
  {
   "cell_type": "code",
   "execution_count": null,
   "metadata": {},
   "outputs": [],
   "source": [
    "notsame.head()"
   ]
  },
  {
   "cell_type": "code",
   "execution_count": 78,
   "metadata": {},
   "outputs": [],
   "source": [
    "cols=['고객명_x','고객명_y']\n",
    "notsame['고객명']=notsame[cols].apply(lambda row:' / '.join(row.values.astype(str)),axis=1)\n",
    "notsame.drop(['고객명_x','고객명_y'],axis=1,inplace=True)"
   ]
  },
  {
   "cell_type": "code",
   "execution_count": 79,
   "metadata": {},
   "outputs": [],
   "source": [
    "same=phone[(phone['고객명_x'].isnull()==0)&(phone['고객명_y'].isnull()==0)&(phone['고객명_x']==phone['고객명_y'])]\n",
    "same.drop('고객명_x',axis=1,inplace=True)\n",
    "same.rename(columns={'고객명_y':'고객명'},inplace=True)"
   ]
  },
  {
   "cell_type": "code",
   "execution_count": null,
   "metadata": {},
   "outputs": [],
   "source": [
    "same.head()"
   ]
  },
  {
   "cell_type": "code",
   "execution_count": 80,
   "metadata": {},
   "outputs": [
    {
     "name": "stdout",
     "output_type": "stream",
     "text": [
      "(19393, 3)\n"
     ]
    }
   ],
   "source": [
    "one=phone[(phone['고객명_x'].isnull()!=0)|(phone['고객명_y'].isnull()!=0)]\n",
    "print(one.shape)"
   ]
  },
  {
   "cell_type": "code",
   "execution_count": null,
   "metadata": {},
   "outputs": [],
   "source": [
    "one.head()"
   ]
  },
  {
   "cell_type": "code",
   "execution_count": 81,
   "metadata": {},
   "outputs": [],
   "source": [
    "one_x=one[one['고객명_y'].isnull()]\n",
    "one_x.drop('고객명_y',axis=1,inplace=True)\n",
    "one_x.rename(columns={'고객명_x':'고객명'},inplace=True)\n",
    "\n",
    "one_y=one[one['고객명_x'].isnull()]\n",
    "one_y.drop('고객명_x',axis=1,inplace=True)\n",
    "one_y.rename(columns={'고객명_y':'고객명'},inplace=True)"
   ]
  },
  {
   "cell_type": "code",
   "execution_count": 82,
   "metadata": {},
   "outputs": [
    {
     "name": "stdout",
     "output_type": "stream",
     "text": [
      "(19512, 2)\n"
     ]
    }
   ],
   "source": [
    "phone=pd.concat([notsame,same,one_x,one_y])\n",
    "print(phone.shape)"
   ]
  },
  {
   "cell_type": "code",
   "execution_count": null,
   "metadata": {},
   "outputs": [],
   "source": [
    "phone.head()"
   ]
  },
  {
   "cell_type": "markdown",
   "metadata": {},
   "source": [
    "#### easyPOS 데이터(pos)\n",
    "- 총 14519개의 연락처 중 14047개만 11자리 연락처\n",
    "- 11자리 연락처만 최종 데이터 셋으로 선정"
   ]
  },
  {
   "cell_type": "code",
   "execution_count": 83,
   "metadata": {},
   "outputs": [
    {
     "name": "stdout",
     "output_type": "stream",
     "text": [
      "(14519, 3)\n"
     ]
    }
   ],
   "source": [
    "pos_phone=pos[['고객명','연락처','최종방문일']]\n",
    "print(pos_phone.shape)"
   ]
  },
  {
   "cell_type": "code",
   "execution_count": null,
   "metadata": {},
   "outputs": [],
   "source": [
    "pos_phone.head()"
   ]
  },
  {
   "cell_type": "code",
   "execution_count": null,
   "metadata": {},
   "outputs": [],
   "source": [
    "pos_phone[pos_phone['연락처'].isnull()!=0]"
   ]
  },
  {
   "cell_type": "code",
   "execution_count": 84,
   "metadata": {},
   "outputs": [],
   "source": [
    "pos_phone['연락처'].fillna('0',inplace=True)"
   ]
  },
  {
   "cell_type": "code",
   "execution_count": 85,
   "metadata": {},
   "outputs": [
    {
     "data": {
      "text/plain": [
       "11    14047\n",
       "10      238\n",
       "3       217\n",
       "9         7\n",
       "7         7\n",
       "1         1\n",
       "5         1\n",
       "6         1\n",
       "Name: 연락처, dtype: int64"
      ]
     },
     "execution_count": 85,
     "metadata": {},
     "output_type": "execute_result"
    }
   ],
   "source": [
    "pos_phone.연락처.apply(lambda x: len(x)).value_counts()"
   ]
  },
  {
   "cell_type": "code",
   "execution_count": 86,
   "metadata": {},
   "outputs": [],
   "source": [
    "pos_phone=pos_phone[pos_phone.연락처.apply(lambda x: len(x))==11]"
   ]
  },
  {
   "cell_type": "markdown",
   "metadata": {},
   "source": [
    "#### 3) 예약데이터(res)\n",
    "- 총 3792개의 연락처 중 3714개만 11자리 연락처\n",
    "- 11자리 연락처만 최종 데이터 셋으로 선정"
   ]
  },
  {
   "cell_type": "code",
   "execution_count": 87,
   "metadata": {},
   "outputs": [
    {
     "name": "stdout",
     "output_type": "stream",
     "text": [
      "(3792, 3)\n"
     ]
    }
   ],
   "source": [
    "res_phone=res[['고객명','연락처','최종방문일']]\n",
    "print(res_phone.shape)"
   ]
  },
  {
   "cell_type": "code",
   "execution_count": null,
   "metadata": {},
   "outputs": [],
   "source": [
    "res_phone.head()"
   ]
  },
  {
   "cell_type": "code",
   "execution_count": 88,
   "metadata": {},
   "outputs": [
    {
     "data": {
      "text/plain": [
       "11    3714\n",
       "10      41\n",
       "9       32\n",
       "12       3\n",
       "8        1\n",
       "14       1\n",
       "Name: 연락처, dtype: int64"
      ]
     },
     "execution_count": 88,
     "metadata": {},
     "output_type": "execute_result"
    }
   ],
   "source": [
    "res_phone.연락처.apply(lambda x: len(x)).value_counts()"
   ]
  },
  {
   "cell_type": "code",
   "execution_count": 89,
   "metadata": {},
   "outputs": [],
   "source": [
    "res_phone=res_phone[res_phone.연락처.apply(lambda x: len(x))==11]"
   ]
  },
  {
   "cell_type": "markdown",
   "metadata": {},
   "source": [
    "#### 최종 데이터 합치기 위한 작업"
   ]
  },
  {
   "cell_type": "code",
   "execution_count": 90,
   "metadata": {},
   "outputs": [],
   "source": [
    "rp_phone=pd.merge(res_phone,pos_phone,how='outer',on='연락처')"
   ]
  },
  {
   "cell_type": "code",
   "execution_count": null,
   "metadata": {},
   "outputs": [],
   "source": [
    "rp_phone"
   ]
  },
  {
   "cell_type": "code",
   "execution_count": 91,
   "metadata": {},
   "outputs": [
    {
     "data": {
      "text/plain": [
       "16990"
      ]
     },
     "execution_count": 91,
     "metadata": {},
     "output_type": "execute_result"
    }
   ],
   "source": [
    "rp_phone['연락처'].nunique()"
   ]
  },
  {
   "cell_type": "code",
   "execution_count": 92,
   "metadata": {},
   "outputs": [],
   "source": [
    "rp_phone['최종방문일_x'].fillna('2020-0-0',inplace=True)\n",
    "rp_phone['최종방문일_y'].fillna('2020-0-0',inplace=True)"
   ]
  },
  {
   "cell_type": "code",
   "execution_count": 93,
   "metadata": {},
   "outputs": [],
   "source": [
    "same=rp_phone[(rp_phone['고객명_x']==rp_phone['고객명_y'])]\n",
    "same.drop(['고객명_x','최종방문일_x','최종방문일_y'],axis=1,inplace=True)\n",
    "same.rename(columns={'고객명_y':'고객명'},inplace=True)"
   ]
  },
  {
   "cell_type": "code",
   "execution_count": null,
   "metadata": {},
   "outputs": [],
   "source": [
    "same"
   ]
  },
  {
   "cell_type": "code",
   "execution_count": 94,
   "metadata": {},
   "outputs": [],
   "source": [
    "notsame=rp_phone[rp_phone['고객명_x']!=rp_phone['고객명_y']]"
   ]
  },
  {
   "cell_type": "code",
   "execution_count": null,
   "metadata": {},
   "outputs": [],
   "source": [
    "notsame"
   ]
  },
  {
   "cell_type": "code",
   "execution_count": 95,
   "metadata": {},
   "outputs": [],
   "source": [
    "def NAME(x):\n",
    "    if x['최종방문일_x']>=x['최종방문일_y']:\n",
    "        return x['고객명_x']\n",
    "    else:\n",
    "        return x['고객명_y']\n",
    "    \n",
    "notsame['고객명']=notsame.apply(NAME,axis=1)"
   ]
  },
  {
   "cell_type": "code",
   "execution_count": 96,
   "metadata": {},
   "outputs": [],
   "source": [
    "notsame.drop(['고객명_x','최종방문일_x','고객명_y','최종방문일_y'],axis=1,inplace=True)"
   ]
  },
  {
   "cell_type": "code",
   "execution_count": null,
   "metadata": {},
   "outputs": [],
   "source": [
    "notsame"
   ]
  },
  {
   "cell_type": "markdown",
   "metadata": {},
   "source": [
    "#### 엑셀데이터 + 뿌리오데이터 + 포스데이터 + 예약데이터"
   ]
  },
  {
   "cell_type": "code",
   "execution_count": 97,
   "metadata": {},
   "outputs": [],
   "source": [
    "phone=pd.concat([same,notsame,phone])"
   ]
  },
  {
   "cell_type": "code",
   "execution_count": null,
   "metadata": {},
   "outputs": [],
   "source": [
    "phone"
   ]
  },
  {
   "cell_type": "code",
   "execution_count": 98,
   "metadata": {},
   "outputs": [],
   "source": [
    "name_null=phone[phone['고객명'].isnull()]\n",
    "name_null.drop_duplicates(['연락처'],inplace=True)"
   ]
  },
  {
   "cell_type": "code",
   "execution_count": 99,
   "metadata": {},
   "outputs": [],
   "source": [
    "name_not_null=phone[phone['고객명'].isnull()==0]"
   ]
  },
  {
   "cell_type": "code",
   "execution_count": null,
   "metadata": {},
   "outputs": [],
   "source": [
    "name_not_null"
   ]
  },
  {
   "cell_type": "code",
   "execution_count": 100,
   "metadata": {},
   "outputs": [
    {
     "data": {
      "text/plain": [
       "24928"
      ]
     },
     "execution_count": 100,
     "metadata": {},
     "output_type": "execute_result"
    }
   ],
   "source": [
    "name_not_null['연락처'].nunique()"
   ]
  },
  {
   "cell_type": "code",
   "execution_count": 101,
   "metadata": {},
   "outputs": [],
   "source": [
    "name_not_null.drop_duplicates(['연락처'],inplace=True)"
   ]
  },
  {
   "cell_type": "code",
   "execution_count": 102,
   "metadata": {},
   "outputs": [],
   "source": [
    "phone=pd.concat([name_null,name_not_null],axis=0)\n",
    "phone=phone.sort_values(by=['연락처','고객명'],ascending=[False,False])"
   ]
  },
  {
   "cell_type": "code",
   "execution_count": null,
   "metadata": {},
   "outputs": [],
   "source": [
    "phone"
   ]
  },
  {
   "cell_type": "code",
   "execution_count": 103,
   "metadata": {},
   "outputs": [],
   "source": [
    "phone.drop_duplicates(['연락처'],inplace=True)"
   ]
  },
  {
   "cell_type": "code",
   "execution_count": null,
   "metadata": {},
   "outputs": [],
   "source": [
    "phone"
   ]
  },
  {
   "cell_type": "code",
   "execution_count": 180,
   "metadata": {},
   "outputs": [
    {
     "data": {
      "text/plain": [
       "28868"
      ]
     },
     "execution_count": 180,
     "metadata": {},
     "output_type": "execute_result"
    }
   ],
   "source": [
    "phone['연락처'].nunique()"
   ]
  },
  {
   "cell_type": "code",
   "execution_count": 181,
   "metadata": {},
   "outputs": [],
   "source": [
    "phone.to_excel('./길음신관방문명단.xlsx',index=False,encoding='cp949')"
   ]
  },
  {
   "cell_type": "markdown",
   "metadata": {},
   "source": [
    "## 포스데이터 + 고객구매정보데이터"
   ]
  },
  {
   "cell_type": "code",
   "execution_count": null,
   "metadata": {},
   "outputs": [],
   "source": [
    "pur.head()"
   ]
  },
  {
   "cell_type": "code",
   "execution_count": 104,
   "metadata": {},
   "outputs": [
    {
     "data": {
      "text/plain": [
       "(25829, 14)"
      ]
     },
     "execution_count": 104,
     "metadata": {},
     "output_type": "execute_result"
    }
   ],
   "source": [
    "pur.drop('Unnamed: 0',axis=1,inplace=True)\n",
    "pur.shape"
   ]
  },
  {
   "cell_type": "code",
   "execution_count": 105,
   "metadata": {},
   "outputs": [],
   "source": [
    "pur['고객번호']=pur.apply(StringToStr,axis=1)\n",
    "pur['고객번호']=pur['고객번호'].str.pad(width=8,side='left',fillchar='0')"
   ]
  },
  {
   "cell_type": "code",
   "execution_count": null,
   "metadata": {},
   "outputs": [],
   "source": [
    "pur.head()"
   ]
  },
  {
   "cell_type": "code",
   "execution_count": 106,
   "metadata": {},
   "outputs": [
    {
     "data": {
      "text/plain": [
       "(14519, 25)"
      ]
     },
     "execution_count": 106,
     "metadata": {},
     "output_type": "execute_result"
    }
   ],
   "source": [
    "pos_pur=pd.merge(pos,pur,left_on='고객번호',right_on='고객번호',how='left')\n",
    "pos_pur.shape"
   ]
  },
  {
   "cell_type": "code",
   "execution_count": null,
   "metadata": {},
   "outputs": [],
   "source": [
    "pos_pur.head()"
   ]
  },
  {
   "cell_type": "code",
   "execution_count": 107,
   "metadata": {},
   "outputs": [
    {
     "name": "stdout",
     "output_type": "stream",
     "text": [
      "(4463, 25)\n"
     ]
    }
   ],
   "source": [
    "PP=pos_pur[pos_pur['최종방문일_x']>='2020-04-01']\n",
    "print(PP.shape)"
   ]
  },
  {
   "cell_type": "code",
   "execution_count": null,
   "metadata": {},
   "outputs": [],
   "source": [
    "PP.head()"
   ]
  },
  {
   "cell_type": "code",
   "execution_count": 108,
   "metadata": {},
   "outputs": [
    {
     "data": {
      "text/plain": [
       "고객번호        0\n",
       "고객명_x       0\n",
       "매장명         0\n",
       "등급          0\n",
       "성별          0\n",
       "구매금액        0\n",
       "구매횟수        0\n",
       "포인트         0\n",
       "가입일         0\n",
       "최종방문일_x     0\n",
       "문자수신여부      0\n",
       "연락처         0\n",
       "고객명_y      87\n",
       "누적방문회수     87\n",
       "최종방문일_y    87\n",
       "기간방문회수     87\n",
       "기간방문일수     87\n",
       "매출수량       87\n",
       "총매출액       87\n",
       "순매출액       87\n",
       "할인금액       87\n",
       "현금금액       87\n",
       "카드금액       87\n",
       "기타금액       87\n",
       "카드번호       87\n",
       "dtype: int64"
      ]
     },
     "execution_count": 108,
     "metadata": {},
     "output_type": "execute_result"
    }
   ],
   "source": [
    "PP.isnull().sum()"
   ]
  },
  {
   "cell_type": "code",
   "execution_count": null,
   "metadata": {},
   "outputs": [],
   "source": [
    "PP[(PP['고객명_x']!=PP['고객명_y'])&(PP['고객명_y'].isnull()==0)]"
   ]
  },
  {
   "cell_type": "markdown",
   "metadata": {},
   "source": [
    "- 방문일자가 더 최근일 거 기준으로 고객명 교체"
   ]
  },
  {
   "cell_type": "code",
   "execution_count": 109,
   "metadata": {},
   "outputs": [],
   "source": [
    "pos.loc[(pos['연락처']=='010'),'연락처']=np.nan\n",
    "PP.loc[(PP['고객명_x']=='최광수'),'고객명_x']='이질남'\n",
    "PP.loc[(PP['고객명_x']=='강원'),'고객명_y']='강승원'\n",
    "PP.drop('고객명_y',axis=1,inplace=True)\n",
    "PP.rename(columns={'고객명_x':'고객명'},inplace=True)"
   ]
  },
  {
   "cell_type": "code",
   "execution_count": null,
   "metadata": {},
   "outputs": [],
   "source": [
    "PP.head()"
   ]
  },
  {
   "cell_type": "code",
   "execution_count": 110,
   "metadata": {},
   "outputs": [],
   "source": [
    "def Recent(x):\n",
    "    if str(x['최종방문일_x'])>str(x['최종방문일_y']):\n",
    "        return x['최종방문일_x']\n",
    "    else:\n",
    "        return x['최종방문일_y']\n",
    "\n",
    "PP['최종방문일']=PP.apply(Recent,axis=1)\n",
    "PP.drop(['최종방문일_x','최종방문일_y'],axis=1,inplace=True)"
   ]
  },
  {
   "cell_type": "code",
   "execution_count": 111,
   "metadata": {},
   "outputs": [],
   "source": [
    "PP['최종방문일']=PP['최종방문일'].str[:10]"
   ]
  },
  {
   "cell_type": "code",
   "execution_count": null,
   "metadata": {},
   "outputs": [],
   "source": [
    "PP.head()"
   ]
  },
  {
   "cell_type": "code",
   "execution_count": null,
   "metadata": {},
   "outputs": [],
   "source": [
    "PP.to_excel('./길음신관1년방문고객.xlsx',index=False, encoding='cp949')"
   ]
  },
  {
   "cell_type": "markdown",
   "metadata": {},
   "source": [
    "## 고객 등급 나누기 ( 고객 데이터 군집화 )\n",
    "**설명**\n",
    "- RFM(Recency, Frequency, Monetary)기법과 K-means를 통하여 고객을 등급화\n",
    "- 최근(Recency)에 얼마나 자주(Frequency)구매했는가, 그 구매의 규모(Monetary)는 얼마인가를 기준으로 고객의 가치 분류\n",
    "- Recency : 고객 별로 구매날짜 속성 중 가장 최근 항목. 구매날짜를 기준으로 정렬한 후 가장 오래된 날짜를 기준으로 각 고객의 구매 날짜와의 차를 계산 **-> 최종방문일**\n",
    "- Frequency: 고객 별로 중복되지 않는 주문번호를 count한 값 **-> 구매횟수**\n",
    "- Monetary : 고객 별로 주문번호를 중복 제거한 후 최종 결제 금액을 합한 값 **-> 구매내역**"
   ]
  },
  {
   "cell_type": "code",
   "execution_count": null,
   "metadata": {},
   "outputs": [],
   "source": [
    "pos.head()"
   ]
  },
  {
   "cell_type": "code",
   "execution_count": 112,
   "metadata": {},
   "outputs": [],
   "source": [
    "DF=pos[['고객번호','최종방문일','구매횟수','구매금액']]\n",
    "DF.set_index('고객번호',inplace=True)\n",
    "DF.rename(columns={'구매횟수':'frequency','구매금액':'monetary'},inplace=True)\n",
    "DF.sort_values(ascending=False,by='최종방문일',inplace=True) #최종방문일을 시간 순서대로 오름차순\n",
    "DF['최종방문일']=DF['최종방문일'].str[:10]"
   ]
  },
  {
   "cell_type": "code",
   "execution_count": 113,
   "metadata": {},
   "outputs": [],
   "source": [
    "def StrToDate(x):\n",
    "    return datetime.strptime(x['최종방문일'],'%Y-%m-%d').date()\n",
    "\n",
    "def RECEN(x):\n",
    "    return x['recency']-x['최종방문일']\n",
    "\n",
    "def DateToStr(x):\n",
    "    return str(x['recency'])\n",
    "\n",
    "def StrToNum(x):\n",
    "    return int(x['recency'])"
   ]
  },
  {
   "cell_type": "code",
   "execution_count": 114,
   "metadata": {},
   "outputs": [],
   "source": [
    "DF['최종방문일']=DF.apply(StrToDate,axis=1)\n",
    "DF['recency']=DF['최종방문일'].iloc[0]\n",
    "DF['recency']=DF.apply(RECEN,axis=1)\n",
    "DF['recency']=DF.apply(DateToStr,axis=1)"
   ]
  },
  {
   "cell_type": "code",
   "execution_count": null,
   "metadata": {},
   "outputs": [],
   "source": [
    "DF"
   ]
  },
  {
   "cell_type": "code",
   "execution_count": 115,
   "metadata": {},
   "outputs": [],
   "source": [
    "DF['recency']=DF['recency'].str.pad(width=18,side='left',fillchar='0')\n",
    "DF['recency']=DF['recency'].str[:4]\n",
    "DF['recency']=DF.apply(StrToNum,axis=1)"
   ]
  },
  {
   "cell_type": "code",
   "execution_count": null,
   "metadata": {},
   "outputs": [],
   "source": [
    "DF"
   ]
  },
  {
   "cell_type": "code",
   "execution_count": 116,
   "metadata": {
    "scrolled": true
   },
   "outputs": [
    {
     "name": "stdout",
     "output_type": "stream",
     "text": [
      "<class 'pandas.core.frame.DataFrame'>\n",
      "Index: 14519 entries, 00106417 to 00024120\n",
      "Data columns (total 4 columns):\n",
      " #   Column     Non-Null Count  Dtype \n",
      "---  ------     --------------  ----- \n",
      " 0   최종방문일      14519 non-null  object\n",
      " 1   frequency  14519 non-null  int64 \n",
      " 2   monetary   14519 non-null  int64 \n",
      " 3   recency    14519 non-null  int64 \n",
      "dtypes: int64(3), object(1)\n",
      "memory usage: 567.1+ KB\n"
     ]
    }
   ],
   "source": [
    "DF.info()"
   ]
  },
  {
   "cell_type": "code",
   "execution_count": 117,
   "metadata": {},
   "outputs": [
    {
     "data": {
      "text/html": [
       "<div>\n",
       "<style scoped>\n",
       "    .dataframe tbody tr th:only-of-type {\n",
       "        vertical-align: middle;\n",
       "    }\n",
       "\n",
       "    .dataframe tbody tr th {\n",
       "        vertical-align: top;\n",
       "    }\n",
       "\n",
       "    .dataframe thead th {\n",
       "        text-align: right;\n",
       "    }\n",
       "</style>\n",
       "<table border=\"1\" class=\"dataframe\">\n",
       "  <thead>\n",
       "    <tr style=\"text-align: right;\">\n",
       "      <th></th>\n",
       "      <th>recency</th>\n",
       "      <th>frequency</th>\n",
       "      <th>monetary</th>\n",
       "    </tr>\n",
       "  </thead>\n",
       "  <tbody>\n",
       "    <tr>\n",
       "      <th>count</th>\n",
       "      <td>14519.000000</td>\n",
       "      <td>14519.000000</td>\n",
       "      <td>1.451900e+04</td>\n",
       "    </tr>\n",
       "    <tr>\n",
       "      <th>mean</th>\n",
       "      <td>575.770990</td>\n",
       "      <td>9.636821</td>\n",
       "      <td>7.951630e+05</td>\n",
       "    </tr>\n",
       "    <tr>\n",
       "      <th>std</th>\n",
       "      <td>406.438025</td>\n",
       "      <td>14.346493</td>\n",
       "      <td>1.278444e+06</td>\n",
       "    </tr>\n",
       "    <tr>\n",
       "      <th>min</th>\n",
       "      <td>0.000000</td>\n",
       "      <td>0.000000</td>\n",
       "      <td>0.000000e+00</td>\n",
       "    </tr>\n",
       "    <tr>\n",
       "      <th>25%</th>\n",
       "      <td>214.000000</td>\n",
       "      <td>1.000000</td>\n",
       "      <td>1.315000e+05</td>\n",
       "    </tr>\n",
       "    <tr>\n",
       "      <th>50%</th>\n",
       "      <td>514.000000</td>\n",
       "      <td>4.000000</td>\n",
       "      <td>3.500000e+05</td>\n",
       "    </tr>\n",
       "    <tr>\n",
       "      <th>75%</th>\n",
       "      <td>900.000000</td>\n",
       "      <td>12.000000</td>\n",
       "      <td>9.282000e+05</td>\n",
       "    </tr>\n",
       "    <tr>\n",
       "      <th>max</th>\n",
       "      <td>1460.000000</td>\n",
       "      <td>236.000000</td>\n",
       "      <td>3.005350e+07</td>\n",
       "    </tr>\n",
       "  </tbody>\n",
       "</table>\n",
       "</div>"
      ],
      "text/plain": [
       "            recency     frequency      monetary\n",
       "count  14519.000000  14519.000000  1.451900e+04\n",
       "mean     575.770990      9.636821  7.951630e+05\n",
       "std      406.438025     14.346493  1.278444e+06\n",
       "min        0.000000      0.000000  0.000000e+00\n",
       "25%      214.000000      1.000000  1.315000e+05\n",
       "50%      514.000000      4.000000  3.500000e+05\n",
       "75%      900.000000     12.000000  9.282000e+05\n",
       "max     1460.000000    236.000000  3.005350e+07"
      ]
     },
     "execution_count": 117,
     "metadata": {},
     "output_type": "execute_result"
    }
   ],
   "source": [
    "DF[['recency','frequency','monetary']].describe()"
   ]
  },
  {
   "cell_type": "markdown",
   "metadata": {},
   "source": [
    "#### 분포도 확인"
   ]
  },
  {
   "cell_type": "code",
   "execution_count": 118,
   "metadata": {},
   "outputs": [
    {
     "data": {
      "text/plain": [
       "(array([1.3795e+04, 5.7000e+02, 1.0600e+02, 3.2000e+01, 1.0000e+01,\n",
       "        4.0000e+00, 1.0000e+00, 0.0000e+00, 0.0000e+00, 1.0000e+00]),\n",
       " array([       0.,  3005350.,  6010700.,  9016050., 12021400., 15026750.,\n",
       "        18032100., 21037450., 24042800., 27048150., 30053500.]),\n",
       " <a list of 10 Patch objects>)"
      ]
     },
     "execution_count": 118,
     "metadata": {},
     "output_type": "execute_result"
    },
    {
     "data": {
      "image/png": "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\n",
      "text/plain": [
       "<Figure size 864x288 with 3 Axes>"
      ]
     },
     "metadata": {
      "needs_background": "light"
     },
     "output_type": "display_data"
    }
   ],
   "source": [
    "fig, (ax1, ax2, ax3) = plt.subplots(figsize=(12,4), nrows=1, ncols=3)\n",
    "ax1.set_title('Recency Histogram')\n",
    "ax1.hist(DF['recency'])\n",
    "\n",
    "ax2.set_title('Frequency Histogram')\n",
    "ax2.hist(DF['frequency'])\n",
    "\n",
    "ax3.set_title('Monetary Histogram')\n",
    "ax3.hist(DF['monetary'])"
   ]
  },
  {
   "cell_type": "markdown",
   "metadata": {},
   "source": [
    "- 히스토그램을 살펴보면, frequency와 monetary가 매우 skewed된 분포를 가지고 있음\n",
    "- 군집화가 한쪽에 집중 될 가능성 多"
   ]
  },
  {
   "cell_type": "code",
   "execution_count": 119,
   "metadata": {},
   "outputs": [
    {
     "data": {
      "image/png": "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\n",
      "text/plain": [
       "<Figure size 432x288 with 1 Axes>"
      ]
     },
     "metadata": {
      "needs_background": "light"
     },
     "output_type": "display_data"
    }
   ],
   "source": [
    "fig = plt.figure()\n",
    "ax = fig.add_subplot(111, projection='3d')\n",
    "\n",
    "x = DF['frequency']\n",
    "y = DF['recency']\n",
    "z = DF['monetary']\n",
    "\n",
    "ax.scatter(x, y, z, marker='o')\n",
    "\n",
    "ax.set_xlabel('F')\n",
    "ax.set_ylabel('R')\n",
    "ax.set_zlabel('M')\n",
    "\n",
    "plt.show()"
   ]
  },
  {
   "cell_type": "code",
   "execution_count": 120,
   "metadata": {},
   "outputs": [
    {
     "data": {
      "image/png": "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
