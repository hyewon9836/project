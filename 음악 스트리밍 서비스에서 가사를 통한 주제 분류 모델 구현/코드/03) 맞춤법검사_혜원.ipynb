{
 "cells": [
  {
   "cell_type": "code",
   "execution_count": 1,
   "metadata": {},
   "outputs": [],
   "source": [
    "import pandas as pd\n",
    "import numpy as np\n",
    "import matplotlib.pyplot as plt\n",
    "import seaborn as sns\n",
    "import re\n",
    "\n",
    "%matplotlib inline\n",
    "\n",
    "from wordcloud import WordCloud\n",
    "from konlpy.tag import Okt\n",
    "from hanspell import spell_checker"
   ]
  },
  {
   "cell_type": "code",
   "execution_count": 2,
   "metadata": {},
   "outputs": [],
   "source": [
    "from soynlp.normalizer import *\n",
    "import urllib.request\n",
    "from soyspacing.countbase import CountSpace,RuleDict\n",
    "import soyspacing"
   ]
  },
  {
   "attachments": {},
   "cell_type": "markdown",
   "metadata": {},
   "source": [
    "## 데이터 불러오기"
   ]
  },
  {
   "cell_type": "code",
   "execution_count": 3,
   "metadata": {},
   "outputs": [
    {
     "data": {
      "text/html": [
       "<div>\n",
       "<style scoped>\n",
       "    .dataframe tbody tr th:only-of-type {\n",
       "        vertical-align: middle;\n",
       "    }\n",
       "\n",
       "    .dataframe tbody tr th {\n",
       "        vertical-align: top;\n",
       "    }\n",
       "\n",
       "    .dataframe thead th {\n",
       "        text-align: right;\n",
       "    }\n",
       "</style>\n",
       "<table border=\"1\" class=\"dataframe\">\n",
       "  <thead>\n",
       "    <tr style=\"text-align: right;\">\n",
       "      <th></th>\n",
       "      <th>Lyrics</th>\n",
       "      <th>label</th>\n",
       "    </tr>\n",
       "  </thead>\n",
       "  <tbody>\n",
       "    <tr>\n",
       "      <th>0</th>\n",
       "      <td>아침에 일어나 너에게 짧은 인사를 보낸다 아무리 멀리 떨어져 있어도 나는 널 생각하...</td>\n",
       "      <td>0</td>\n",
       "    </tr>\n",
       "    <tr>\n",
       "      <th>1</th>\n",
       "      <td>라라랄라 라라랄라 워어 워어 너가 맛있었다고 했던 살구빛 샐러드 맛있어서 또 먹고 ...</td>\n",
       "      <td>0</td>\n",
       "    </tr>\n",
       "    <tr>\n",
       "      <th>2</th>\n",
       "      <td>자꾸 마주치는 네 눈빛에 아기 아기왠지 어색해 대체 왜 이래고개를 숙여봐도너의 발끝...</td>\n",
       "      <td>0</td>\n",
       "    </tr>\n",
       "    <tr>\n",
       "      <th>3</th>\n",
       "      <td>어깨동무까진 괜찮아그치만 손 잡는 건 조금 위험해잘 자란 메세진 괜찮아그래도 자냐는...</td>\n",
       "      <td>0</td>\n",
       "    </tr>\n",
       "    <tr>\n",
       "      <th>4</th>\n",
       "      <td>햇살이 가득그댈 향한 가벼운 발걸음콧노래 부르며쇼윈도에 비친내 모습을 한번 점검해시...</td>\n",
       "      <td>0</td>\n",
       "    </tr>\n",
       "    <tr>\n",
       "      <th>...</th>\n",
       "      <td>...</td>\n",
       "      <td>...</td>\n",
       "    </tr>\n",
       "    <tr>\n",
       "      <th>741</th>\n",
       "      <td>반쯤 미쳐가는 나망가져 나의 삶넌 내게서 나를 지워가고또 나를 부셔버려라추락한 나를...</td>\n",
       "      <td>3</td>\n",
       "    </tr>\n",
       "    <tr>\n",
       "      <th>742</th>\n",
       "      <td>무궁화 꽃이 피었습니다우리 빼고 모두 다 멈춰지담이 꽃이 피었습니다현아 빼고 모두 ...</td>\n",
       "      <td>3</td>\n",
       "    </tr>\n",
       "    <tr>\n",
       "      <th>743</th>\n",
       "      <td>아예 아예 아예 아예 아예 아예 아예 아예 아예 아예 왜 이렇게 감을 못 잡는거야 ...</td>\n",
       "      <td>3</td>\n",
       "    </tr>\n",
       "    <tr>\n",
       "      <th>744</th>\n",
       "      <td>난 나쁜 기집애 나난 나쁜 기집애 난 나쁜 기집애 내 모든 나쁜 여자가있는 곳난 나...</td>\n",
       "      <td>3</td>\n",
       "    </tr>\n",
       "    <tr>\n",
       "      <th>745</th>\n",
       "      <td>궁금해서 잠이 안 와그때 왜 그랬어구차해도 묻고 싶어그때 난 뭐였어나나나나 나나 나...</td>\n",
       "      <td>3</td>\n",
       "    </tr>\n",
       "  </tbody>\n",
       "</table>\n",
       "<p>746 rows × 2 columns</p>\n",
       "</div>"
      ],
      "text/plain": [
       "                                                Lyrics  label\n",
       "0    아침에 일어나 너에게 짧은 인사를 보낸다 아무리 멀리 떨어져 있어도 나는 널 생각하...      0\n",
       "1    라라랄라 라라랄라 워어 워어 너가 맛있었다고 했던 살구빛 샐러드 맛있어서 또 먹고 ...      0\n",
       "2    자꾸 마주치는 네 눈빛에 아기 아기왠지 어색해 대체 왜 이래고개를 숙여봐도너의 발끝...      0\n",
       "3    어깨동무까진 괜찮아그치만 손 잡는 건 조금 위험해잘 자란 메세진 괜찮아그래도 자냐는...      0\n",
       "4    햇살이 가득그댈 향한 가벼운 발걸음콧노래 부르며쇼윈도에 비친내 모습을 한번 점검해시...      0\n",
       "..                                                 ...    ...\n",
       "741  반쯤 미쳐가는 나망가져 나의 삶넌 내게서 나를 지워가고또 나를 부셔버려라추락한 나를...      3\n",
       "742  무궁화 꽃이 피었습니다우리 빼고 모두 다 멈춰지담이 꽃이 피었습니다현아 빼고 모두 ...      3\n",
       "743  아예 아예 아예 아예 아예 아예 아예 아예 아예 아예 왜 이렇게 감을 못 잡는거야 ...      3\n",
       "744  난 나쁜 기집애 나난 나쁜 기집애 난 나쁜 기집애 내 모든 나쁜 여자가있는 곳난 나...      3\n",
       "745  궁금해서 잠이 안 와그때 왜 그랬어구차해도 묻고 싶어그때 난 뭐였어나나나나 나나 나...      3\n",
       "\n",
       "[746 rows x 2 columns]"
      ]
     },
     "execution_count": 3,
     "metadata": {},
     "output_type": "execute_result"
    }
   ],
   "source": [
    "data=pd.read_csv('./data/Lyrics_trans.csv',encoding='utf-8')\n",
    "data"
   ]
  },
  {
   "attachments": {},
   "cell_type": "markdown",
   "metadata": {},
   "source": [
    "normalizer"
   ]
  },
  {
   "cell_type": "code",
   "execution_count": 4,
   "metadata": {},
   "outputs": [
    {
     "data": {
      "text/plain": [
       "746"
      ]
     },
     "execution_count": 4,
     "metadata": {},
     "output_type": "execute_result"
    }
   ],
   "source": [
    "lyrics=[]\n",
    "for lyric in data['Lyrics']:\n",
    "    lyrics.append(repeat_normalize(lyric,num_repeats=1))\n",
    "len(lyrics)"
   ]
  },
  {
   "attachments": {},
   "cell_type": "markdown",
   "metadata": {},
   "source": [
    "띄어쓰기1차 - soynlp사용"
   ]
  },
  {
   "cell_type": "code",
   "execution_count": 5,
   "metadata": {},
   "outputs": [
    {
     "name": "stdout",
     "output_type": "stream",
     "text": [
      "all tags length = 1909391 --> 1671744, (num_doc = 30090))"
     ]
    }
   ],
   "source": [
    "urllib.request.urlretrieve(\"https://raw.githubusercontent.com/lovit/soynlp/master/tutorials/2016-10-20.txt\", filename=\"2016-10-20.txt\")\n",
    "model=CountSpace()\n",
    "model.train('./2016-10-20.txt')"
   ]
  },
  {
   "cell_type": "code",
   "execution_count": 6,
   "metadata": {},
   "outputs": [
    {
     "data": {
      "text/plain": [
       "746"
      ]
     },
     "execution_count": 6,
     "metadata": {},
     "output_type": "execute_result"
    }
   ],
   "source": [
    "result=[]\n",
    "for lyric in lyrics:\n",
    "    sub,tags=model.correct(lyric,verbose=False,force_abs_threshold=0.3,nonspace_threshold=-0.3,space_threshold=0.3,min_count=10)\n",
    "    result.append(sub)\n",
    "len(result)"
   ]
  },
  {
   "attachments": {},
   "cell_type": "markdown",
   "metadata": {},
   "source": [
    "띄어쓰기2차 - hanspell사용"
   ]
  },
  {
   "cell_type": "code",
   "execution_count": 7,
   "metadata": {},
   "outputs": [
    {
     "name": "stdout",
     "output_type": "stream",
     "text": [
      "100\n",
      "200\n",
      "300\n",
      "400\n",
      "500\n",
      "600\n",
      "700\n"
     ]
    }
   ],
   "source": [
    "lyrics=[]\n",
    "cnt=0\n",
    "error=0\n",
    "for i,lyric in enumerate(result):\n",
    "    try:\n",
    "        if len(lyric)>500:\n",
    "            sub=''\n",
    "            spelled_sent = spell_checker.check(lyric[:500])\n",
    "            spelled_sent=spelled_sent.as_dict()\n",
    "            sub+=spelled_sent['checked']\n",
    "            \n",
    "            spelled_sent = spell_checker.check(lyric[500:])\n",
    "            spelled_sent=spelled_sent.as_dict()\n",
    "            sub+=spelled_sent['checked']\n",
    "            \n",
    "            lyrics.append(sub)\n",
    "\n",
    "        else:\n",
    "            spelled_sent=spell_checker.check(lyric)\n",
    "            spelled_sent=spelled_sent.as_dict()\n",
    "            lyrics.append(spelled_sent['checked'])\n",
    "    except:\n",
    "        lyrics.append(lyric)\n",
    "        error+=1\n",
    "    cnt+=1\n",
    "    if cnt%100==0:\n",
    "        print(cnt)"
   ]
  },
  {
   "cell_type": "code",
   "execution_count": 8,
   "metadata": {},
   "outputs": [
    {
     "name": "stdout",
     "output_type": "stream",
     "text": [
      "0\n",
      "746\n"
     ]
    }
   ],
   "source": [
    "print(error)\n",
    "print(len(lyrics))"
   ]
  },
  {
   "attachments": {},
   "cell_type": "markdown",
   "metadata": {},
   "source": [
    "normalizer 한번 더 적용"
   ]
  },
  {
   "cell_type": "code",
   "execution_count": 9,
   "metadata": {},
   "outputs": [
    {
     "data": {
      "text/plain": [
       "746"
      ]
     },
     "execution_count": 9,
     "metadata": {},
     "output_type": "execute_result"
    }
   ],
   "source": [
    "result=[]\n",
    "for lyric in lyrics:\n",
    "    result.append(repeat_normalize(lyric,num_repeats=1))\n",
    "len(result)"
   ]
  },
  {
   "cell_type": "code",
   "execution_count": 10,
   "metadata": {},
   "outputs": [
    {
     "data": {
      "text/html": [
       "<div>\n",
       "<style scoped>\n",
       "    .dataframe tbody tr th:only-of-type {\n",
       "        vertical-align: middle;\n",
       "    }\n",
       "\n",
       "    .dataframe tbody tr th {\n",
       "        vertical-align: top;\n",
       "    }\n",
       "\n",
       "    .dataframe thead th {\n",
       "        text-align: right;\n",
       "    }\n",
       "</style>\n",
       "<table border=\"1\" class=\"dataframe\">\n",
       "  <thead>\n",
       "    <tr style=\"text-align: right;\">\n",
       "      <th></th>\n",
       "      <th>Lyrics</th>\n",
       "      <th>label</th>\n",
       "    </tr>\n",
       "  </thead>\n",
       "  <tbody>\n",
       "    <tr>\n",
       "      <th>0</th>\n",
       "      <td>아침에 일어나 너에게 짧은 인사를 보낸다 아무리 멀리 떨어져 있어도 나는 널 생각하...</td>\n",
       "      <td>0</td>\n",
       "    </tr>\n",
       "    <tr>\n",
       "      <th>1</th>\n",
       "      <td>라라랄라 라라랄라 이어 이어 네가 맛있었다 고 했던 살구빛 샐러드 맛있어서 또 먹고...</td>\n",
       "      <td>0</td>\n",
       "    </tr>\n",
       "    <tr>\n",
       "      <th>2</th>\n",
       "      <td>자꾸 마주치는 네 눈빛에 아기 아기 왠지 어색해 대체 왜 이래 고개를 숙여봐도 너의...</td>\n",
       "      <td>0</td>\n",
       "    </tr>\n",
       "    <tr>\n",
       "      <th>3</th>\n",
       "      <td>어깨동무까진 괜찮아 그 치마 손잡는 건 조금 위험해 잘 자란 메세 진 괜찮아그래도 ...</td>\n",
       "      <td>0</td>\n",
       "    </tr>\n",
       "    <tr>\n",
       "      <th>4</th>\n",
       "      <td>햇살이 가득 그댈 향한 가벼운 발걸음 콧노래 부르며 쇼윈도에 비친 내 모습을 한번 ...</td>\n",
       "      <td>0</td>\n",
       "    </tr>\n",
       "    <tr>\n",
       "      <th>...</th>\n",
       "      <td>...</td>\n",
       "      <td>...</td>\n",
       "    </tr>\n",
       "    <tr>\n",
       "      <th>741</th>\n",
       "      <td>반쯤 미쳐가는 다 망가져 나의 삶넌 내게서 나를 지워가고 또 나를 부숴버려라 추락한...</td>\n",
       "      <td>3</td>\n",
       "    </tr>\n",
       "    <tr>\n",
       "      <th>742</th>\n",
       "      <td>무궁화 꽃이 피었습니다 우리 빼고 모두 다 멈춰지담 이 꽃이 피었습니다 현아 빼고 ...</td>\n",
       "      <td>3</td>\n",
       "    </tr>\n",
       "    <tr>\n",
       "      <th>743</th>\n",
       "      <td>아예 아예 아예 아예 아예 아예 아예 아예 아예 아예 왜 이렇게 감을 못 잡는 거야...</td>\n",
       "      <td>3</td>\n",
       "    </tr>\n",
       "    <tr>\n",
       "      <th>744</th>\n",
       "      <td>난 나쁜 계집애 나난 나쁜 계집애 난 나쁜 계집애 내 모든 나쁜 여자가 있는 고난 ...</td>\n",
       "      <td>3</td>\n",
       "    </tr>\n",
       "    <tr>\n",
       "      <th>745</th>\n",
       "      <td>궁금해서 잠이 안 와 그때 왜 그랬어 구차해도 묻고 싶어 그때 난 뭐였어나 나나 나...</td>\n",
       "      <td>3</td>\n",
       "    </tr>\n",
       "  </tbody>\n",
       "</table>\n",
       "<p>746 rows × 2 columns</p>\n",
       "</div>"
      ],
      "text/plain": [
       "                                                Lyrics  label\n",
       "0    아침에 일어나 너에게 짧은 인사를 보낸다 아무리 멀리 떨어져 있어도 나는 널 생각하...      0\n",
       "1    라라랄라 라라랄라 이어 이어 네가 맛있었다 고 했던 살구빛 샐러드 맛있어서 또 먹고...      0\n",
       "2    자꾸 마주치는 네 눈빛에 아기 아기 왠지 어색해 대체 왜 이래 고개를 숙여봐도 너의...      0\n",
       "3    어깨동무까진 괜찮아 그 치마 손잡는 건 조금 위험해 잘 자란 메세 진 괜찮아그래도 ...      0\n",
       "4    햇살이 가득 그댈 향한 가벼운 발걸음 콧노래 부르며 쇼윈도에 비친 내 모습을 한번 ...      0\n",
       "..                                                 ...    ...\n",
       "741  반쯤 미쳐가는 다 망가져 나의 삶넌 내게서 나를 지워가고 또 나를 부숴버려라 추락한...      3\n",
       "742  무궁화 꽃이 피었습니다 우리 빼고 모두 다 멈춰지담 이 꽃이 피었습니다 현아 빼고 ...      3\n",
       "743  아예 아예 아예 아예 아예 아예 아예 아예 아예 아예 왜 이렇게 감을 못 잡는 거야...      3\n",
       "744  난 나쁜 계집애 나난 나쁜 계집애 난 나쁜 계집애 내 모든 나쁜 여자가 있는 고난 ...      3\n",
       "745  궁금해서 잠이 안 와 그때 왜 그랬어 구차해도 묻고 싶어 그때 난 뭐였어나 나나 나...      3\n",
       "\n",
       "[746 rows x 2 columns]"
      ]
     },
     "execution_count": 10,
     "metadata": {},
     "output_type": "execute_result"
    }
   ],
   "source": [
    "data['Lyrics']=result\n",
    "data"
   ]
  },
  {
   "cell_type": "code",
   "execution_count": 11,
   "metadata": {},
   "outputs": [],
   "source": [
    "data.to_csv('./data/Lyrics_check.csv',encoding='utf-8-sig',index=False)"
   ]
  },
  {
   "cell_type": "code",
   "execution_count": null,
   "metadata": {},
   "outputs": [],
   "source": []
  }
 ],
 "metadata": {
  "kernelspec": {
   "display_name": "base",
   "language": "python",
   "name": "python3"
  },
  "language_info": {
   "codemirror_mode": {
    "name": "ipython",
    "version": 3
   },
   "file_extension": ".py",
   "mimetype": "text/x-python",
   "name": "python",
   "nbconvert_exporter": "python",
   "pygments_lexer": "ipython3",
   "version": "3.9.7"
  },
  "orig_nbformat": 4,
  "vscode": {
   "interpreter": {
    "hash": "03489fc23179efc092fdc79729fb3c8c54ada39686063f54d233cd67036aabb7"
   }
  }
 },
 "nbformat": 4,
 "nbformat_minor": 2
}
